{
  "nbformat": 4,
  "nbformat_minor": 0,
  "metadata": {
    "colab": {
      "provenance": [],
      "collapsed_sections": [],
      "mount_file_id": "1gKV5dxnwYr9F3ukpjVIsZYxD4Ua6S0fx",
      "authorship_tag": "ABX9TyOUuXn6eELrmjSc/gFWfPfD",
      "include_colab_link": true
    },
    "kernelspec": {
      "name": "python3",
      "display_name": "Python 3"
    },
    "language_info": {
      "name": "python"
    }
  },
  "cells": [
    {
      "cell_type": "markdown",
      "metadata": {
        "id": "view-in-github",
        "colab_type": "text"
      },
      "source": [
        "<a href=\"https://colab.research.google.com/github/Keita-S593/rindoku/blob/main/baseline.ipynb\" target=\"_parent\"><img src=\"https://colab.research.google.com/assets/colab-badge.svg\" alt=\"Open In Colab\"/></a>"
      ]
    },
    {
      "cell_type": "markdown",
      "source": [
        "参考: https://www.kaggle.com/code/kawakeee/titanic-lightgbm"
      ],
      "metadata": {
        "id": "Nlw3LN8Zdi2p"
      }
    },
    {
      "cell_type": "markdown",
      "source": [
        "# インポート"
      ],
      "metadata": {
        "id": "QfhNfeWRdivJ"
      }
    },
    {
      "cell_type": "code",
      "execution_count": null,
      "metadata": {
        "id": "PBKLXULhUQbc"
      },
      "outputs": [],
      "source": [
        "import numpy as np\n",
        "import pandas as pd\n",
        "from sklearn.model_selection import train_test_split\n",
        "from sklearn.metrics import confusion_matrix, roc_auc_score\n",
        "import lightgbm as lgb"
      ]
    },
    {
      "cell_type": "markdown",
      "source": [
        "# 学習データ読み込み"
      ],
      "metadata": {
        "id": "pkFGeCcydrC1"
      }
    },
    {
      "cell_type": "code",
      "source": [
        "df = pd.read_csv('/content/drive/MyDrive/輪読/titanic/train.csv')"
      ],
      "metadata": {
        "id": "JRYYtWxgXFRi"
      },
      "execution_count": null,
      "outputs": []
    },
    {
      "cell_type": "markdown",
      "source": [
        "# 前処理"
      ],
      "metadata": {
        "id": "X0NQMQs6duqr"
      }
    },
    {
      "cell_type": "code",
      "source": [
        "def preprocess(df):\n",
        "    df.replace({'Sex':{\"male\":0, \"female\":1}, 'Embarked':{\"S\":int(0), \"C\":int(1), \"Q\":int(2)}}, inplace=True)\n",
        "    return df"
      ],
      "metadata": {
        "id": "7QQBdfBggeyO"
      },
      "execution_count": null,
      "outputs": []
    },
    {
      "cell_type": "code",
      "source": [
        "df = preprocess(df)"
      ],
      "metadata": {
        "id": "8iUHHCQNiDyT"
      },
      "execution_count": null,
      "outputs": []
    },
    {
      "cell_type": "code",
      "source": [
        "features_col = [\"Pclass\",\"Age\",\"Sex\",\"Fare\", \"SibSp\", \"Parch\", \"Embarked\"]\n",
        "X = df[features_col]\n",
        "y = df['Survived']"
      ],
      "metadata": {
        "id": "xQYlLs6EZeDZ"
      },
      "execution_count": null,
      "outputs": []
    },
    {
      "cell_type": "code",
      "source": [
        "X_train, X_valid, y_train, y_valid = train_test_split(X, y, test_size=0.2, random_state=100, stratify=y)"
      ],
      "metadata": {
        "id": "pjPhhxTUZ57h"
      },
      "execution_count": null,
      "outputs": []
    },
    {
      "cell_type": "markdown",
      "source": [
        "# 学習"
      ],
      "metadata": {
        "id": "m6UWXCUvdwcO"
      }
    },
    {
      "cell_type": "code",
      "source": [
        "def each_threshold(y, y_pred):\n",
        "    ths = []\n",
        "    recalls = []\n",
        "    precisions = []\n",
        "    f1s = []\n",
        "    for th_int in range(1, 99):\n",
        "        th = th_int / 100. \n",
        "        y_bin = (y_pred > th).astype(int)\n",
        "        tn, fp, fn, tp = confusion_matrix(y, y_bin).flatten()\n",
        "\n",
        "        rec = tp / (tp + fn + 1e-16)\n",
        "        pre = tp / (tp + fp + 1e-16)\n",
        "\n",
        "        ths.append(th)\n",
        "        recalls.append(rec)\n",
        "        precisions.append(pre)\n",
        "        f1s.append(rec * pre / (rec + pre + 1e-16))\n",
        "\n",
        "\n",
        "    return np.array(ths), np.array(recalls), np.array(precisions), np.array(f1s)\n",
        "\n",
        "def max_score_with_thre(ths, scores):\n",
        "    return np.max(scores), ths[(np.argmax(scores))]\n",
        "\n",
        "def metrics(y, y_pred):\n",
        "    roc_auc = roc_auc_score(y, y_pred)\n",
        "\n",
        "    ths, recalls, precisions, f1s = each_threshold(y, y_pred)\n",
        "\n",
        "    recall, recall_th = max_score_with_thre(ths, recalls)\n",
        "    precision, precision_th = max_score_with_thre(ths, precisions)\n",
        "    f1, f1_th = max_score_with_thre(ths, f1s)\n",
        "\n",
        "    f1mat = confusion_matrix(y, (y_pred > f1_th).astype(int))\n",
        "\n",
        "    print(f\"Max recall is {recall} at  threshold {recall_th}.\")\n",
        "    print(f\"Max precision is {precision} at  threshold {precision_th}.\")\n",
        "    print(f\"Max f1 is {f1} at  threshold {f1_th}.\")\n",
        "    print(\"roc auc:\", roc_auc)\n",
        "    print(\"f1-based confusion matrix:\\n\", f1mat)"
      ],
      "metadata": {
        "id": "S8c8nHlhoVtI"
      },
      "execution_count": null,
      "outputs": []
    },
    {
      "cell_type": "code",
      "source": [
        "lgb_train = lgb.Dataset(X_train, y_train)\n",
        "lgb_eval = lgb.Dataset(X_valid, y_valid)\n",
        " \n",
        "params = {\n",
        "    'task': 'train',\n",
        "    'boosting_type': 'gbdt',\n",
        "    'objective': 'binary',\n",
        "    'metric': 'auc',\n",
        "    'num_leaves': 200,\n",
        "    'learning_rate': 0.003,\n",
        "    'num_iterations':100,\n",
        "    'feature_fraction': 0.52,\n",
        "    'bagging_fraction': 0.79,\n",
        "    'bagging_freq': 7,\n",
        "    'verbose': 0\n",
        "}\n",
        "\n",
        "cat_list = [\"Pclass\",\"Sex\", \"SibSp\", \"Parch\", \"Embarked\"]\n",
        "\n",
        "lgb_clf = lgb.train(params,\n",
        "                lgb_train,\n",
        "                num_boost_round=5000,\n",
        "                valid_sets=lgb_eval,\n",
        "                early_stopping_rounds=1000, \n",
        "                categorical_feature=cat_list)"
      ],
      "metadata": {
        "id": "jy6eAT1Oagjg",
        "colab": {
          "base_uri": "https://localhost:8080/"
        },
        "outputId": "d9178776-ce9a-4b62-90f9-723d8cd22a12"
      },
      "execution_count": null,
      "outputs": [
        {
          "output_type": "stream",
          "name": "stdout",
          "text": [
            "[1]\tvalid_0's auc: 0.661528\n",
            "Training until validation scores don't improve for 1000 rounds.\n",
            "[2]\tvalid_0's auc: 0.687879\n",
            "[3]\tvalid_0's auc: 0.869763\n",
            "[4]\tvalid_0's auc: 0.847892\n",
            "[5]\tvalid_0's auc: 0.825494\n",
            "[6]\tvalid_0's auc: 0.823123\n",
            "[7]\tvalid_0's auc: 0.805995\n",
            "[8]\tvalid_0's auc: 0.806588\n",
            "[9]\tvalid_0's auc: 0.794466\n",
            "[10]\tvalid_0's auc: 0.828524\n",
            "[11]\tvalid_0's auc: 0.821146\n",
            "[12]\tvalid_0's auc: 0.841436\n",
            "[13]\tvalid_0's auc: 0.853557\n",
            "[14]\tvalid_0's auc: 0.86502\n",
            "[15]\tvalid_0's auc: 0.861331\n",
            "[16]\tvalid_0's auc: 0.860408\n",
            "[17]\tvalid_0's auc: 0.858037\n",
            "[18]\tvalid_0's auc: 0.851713\n",
            "[19]\tvalid_0's auc: 0.852108\n",
            "[20]\tvalid_0's auc: 0.850264\n",
            "[21]\tvalid_0's auc: 0.861858\n",
            "[22]\tvalid_0's auc: 0.85527\n",
            "[23]\tvalid_0's auc: 0.850922\n",
            "[24]\tvalid_0's auc: 0.859618\n",
            "[25]\tvalid_0's auc: 0.868841\n",
            "[26]\tvalid_0's auc: 0.858827\n",
            "[27]\tvalid_0's auc: 0.854875\n",
            "[28]\tvalid_0's auc: 0.852635\n",
            "[29]\tvalid_0's auc: 0.858169\n",
            "[30]\tvalid_0's auc: 0.865942\n",
            "[31]\tvalid_0's auc: 0.87332\n",
            "[32]\tvalid_0's auc: 0.880698\n",
            "[33]\tvalid_0's auc: 0.879908\n",
            "[34]\tvalid_0's auc: 0.88531\n",
            "[35]\tvalid_0's auc: 0.888076\n",
            "[36]\tvalid_0's auc: 0.888999\n",
            "[37]\tvalid_0's auc: 0.886759\n",
            "[38]\tvalid_0's auc: 0.885837\n",
            "[39]\tvalid_0's auc: 0.888208\n",
            "[40]\tvalid_0's auc: 0.887154\n",
            "[41]\tvalid_0's auc: 0.885705\n",
            "[42]\tvalid_0's auc: 0.88083\n",
            "[43]\tvalid_0's auc: 0.880698\n",
            "[44]\tvalid_0's auc: 0.879381\n",
            "[45]\tvalid_0's auc: 0.877931\n",
            "[46]\tvalid_0's auc: 0.875955\n",
            "[47]\tvalid_0's auc: 0.874638\n",
            "[48]\tvalid_0's auc: 0.870817\n",
            "[49]\tvalid_0's auc: 0.876877\n",
            "[50]\tvalid_0's auc: 0.875033\n",
            "[51]\tvalid_0's auc: 0.874901\n",
            "[52]\tvalid_0's auc: 0.876877\n",
            "[53]\tvalid_0's auc: 0.88004\n",
            "[54]\tvalid_0's auc: 0.881884\n",
            "[55]\tvalid_0's auc: 0.88498\n",
            "[56]\tvalid_0's auc: 0.886627\n",
            "[57]\tvalid_0's auc: 0.887286\n",
            "[58]\tvalid_0's auc: 0.889526\n",
            "[59]\tvalid_0's auc: 0.889394\n",
            "[60]\tvalid_0's auc: 0.888472\n",
            "[61]\tvalid_0's auc: 0.89137\n",
            "[62]\tvalid_0's auc: 0.890053\n",
            "[63]\tvalid_0's auc: 0.889526\n",
            "[64]\tvalid_0's auc: 0.88913\n",
            "[65]\tvalid_0's auc: 0.890184\n",
            "[66]\tvalid_0's auc: 0.892424\n",
            "[67]\tvalid_0's auc: 0.89361\n",
            "[68]\tvalid_0's auc: 0.895191\n",
            "[69]\tvalid_0's auc: 0.896113\n",
            "[70]\tvalid_0's auc: 0.897431\n",
            "[71]\tvalid_0's auc: 0.896904\n",
            "[72]\tvalid_0's auc: 0.896113\n",
            "[73]\tvalid_0's auc: 0.897299\n",
            "[74]\tvalid_0's auc: 0.897826\n",
            "[75]\tvalid_0's auc: 0.897431\n",
            "[76]\tvalid_0's auc: 0.89809\n",
            "[77]\tvalid_0's auc: 0.89809\n",
            "[78]\tvalid_0's auc: 0.898617\n",
            "[79]\tvalid_0's auc: 0.898748\n",
            "[80]\tvalid_0's auc: 0.898748\n",
            "[81]\tvalid_0's auc: 0.899802\n",
            "[82]\tvalid_0's auc: 0.899407\n",
            "[83]\tvalid_0's auc: 0.898748\n",
            "[84]\tvalid_0's auc: 0.900066\n",
            "[85]\tvalid_0's auc: 0.899012\n",
            "[86]\tvalid_0's auc: 0.899934\n",
            "[87]\tvalid_0's auc: 0.899671\n",
            "[88]\tvalid_0's auc: 0.900198\n",
            "[89]\tvalid_0's auc: 0.899934\n",
            "[90]\tvalid_0's auc: 0.899802\n",
            "[91]\tvalid_0's auc: 0.899934\n",
            "[92]\tvalid_0's auc: 0.900066\n",
            "[93]\tvalid_0's auc: 0.900066\n",
            "[94]\tvalid_0's auc: 0.899407\n",
            "[95]\tvalid_0's auc: 0.898617\n",
            "[96]\tvalid_0's auc: 0.89888\n",
            "[97]\tvalid_0's auc: 0.89809\n",
            "[98]\tvalid_0's auc: 0.899012\n",
            "[99]\tvalid_0's auc: 0.898617\n",
            "[100]\tvalid_0's auc: 0.898748\n",
            "Did not meet early stopping. Best iteration is:\n",
            "[88]\tvalid_0's auc: 0.900198\n"
          ]
        },
        {
          "output_type": "stream",
          "name": "stderr",
          "text": [
            "/usr/local/lib/python3.7/dist-packages/lightgbm/engine.py:118: UserWarning: Found `num_iterations` in params. Will use it instead of argument\n",
            "  warnings.warn(\"Found `{}` in params. Will use it instead of argument\".format(alias))\n",
            "/usr/local/lib/python3.7/dist-packages/lightgbm/basic.py:1209: UserWarning: categorical_feature in Dataset is overridden.\n",
            "New categorical_feature is ['Embarked', 'Parch', 'Pclass', 'Sex', 'SibSp']\n",
            "  'New categorical_feature is {}'.format(sorted(list(categorical_feature))))\n",
            "/usr/local/lib/python3.7/dist-packages/lightgbm/basic.py:762: UserWarning: categorical_feature in param dict is overridden.\n",
            "  warnings.warn('categorical_feature in param dict is overridden.')\n"
          ]
        }
      ]
    },
    {
      "cell_type": "code",
      "source": [
        "metrics(y_valid, lgb_clf.predict(X_valid))"
      ],
      "metadata": {
        "colab": {
          "base_uri": "https://localhost:8080/"
        },
        "id": "A9sdHslUoqkq",
        "outputId": "12da3d0e-b78d-4b40-828b-2bef36dcb406"
      },
      "execution_count": null,
      "outputs": [
        {
          "output_type": "stream",
          "name": "stdout",
          "text": [
            "Max recall is 1.0 at  threshold 0.01.\n",
            "Max precision is 1.0 at  threshold 0.43.\n",
            "Max f1 is 0.3868613138686131 at  threshold 0.41.\n",
            "roc auc: 0.900197628458498\n",
            "f1-based confusion matrix:\n",
            " [[95 15]\n",
            " [16 53]]\n"
          ]
        }
      ]
    },
    {
      "cell_type": "markdown",
      "source": [
        "# 推論"
      ],
      "metadata": {
        "id": "AROy7649jgKj"
      }
    },
    {
      "cell_type": "code",
      "source": [
        "df_test = pd.read_csv('/content/drive/MyDrive/輪読/titanic/test.csv')\n",
        "sub = pd.read_csv('/content/drive/MyDrive/輪読/titanic/gender_submission.csv')"
      ],
      "metadata": {
        "id": "imaq5lxreWjN"
      },
      "execution_count": null,
      "outputs": []
    },
    {
      "cell_type": "code",
      "source": [
        "df_test = preprocess(df_test)\n",
        "X_test = df_test[features_col]"
      ],
      "metadata": {
        "id": "H4iuTWR7j9Re"
      },
      "execution_count": null,
      "outputs": []
    },
    {
      "cell_type": "markdown",
      "source": [
        "閾値はf1が最大になる最大になる0.41を採用"
      ],
      "metadata": {
        "id": "kAXGRCkFpBC8"
      }
    },
    {
      "cell_type": "code",
      "source": [
        "y_pred_test = (lgb_clf.predict(X_test) >0.41)*1"
      ],
      "metadata": {
        "id": "zyDq78JekKpb"
      },
      "execution_count": null,
      "outputs": []
    },
    {
      "cell_type": "code",
      "source": [
        "sub['Survived'] = y_pred_test\n",
        "sub"
      ],
      "metadata": {
        "colab": {
          "base_uri": "https://localhost:8080/",
          "height": 419
        },
        "id": "6rgXNSf1lsv8",
        "outputId": "62e8c07f-03ca-4d1c-e4ec-9d7b9322ea8d"
      },
      "execution_count": null,
      "outputs": [
        {
          "output_type": "execute_result",
          "data": {
            "text/plain": [
              "     PassengerId  Survived\n",
              "0            892         0\n",
              "1            893         0\n",
              "2            894         0\n",
              "3            895         0\n",
              "4            896         0\n",
              "..           ...       ...\n",
              "413         1305         0\n",
              "414         1306         1\n",
              "415         1307         0\n",
              "416         1308         0\n",
              "417         1309         0\n",
              "\n",
              "[418 rows x 2 columns]"
            ],
            "text/html": [
              "\n",
              "  <div id=\"df-0b5d4c2f-0c99-42bf-b6d0-98d0360facaa\">\n",
              "    <div class=\"colab-df-container\">\n",
              "      <div>\n",
              "<style scoped>\n",
              "    .dataframe tbody tr th:only-of-type {\n",
              "        vertical-align: middle;\n",
              "    }\n",
              "\n",
              "    .dataframe tbody tr th {\n",
              "        vertical-align: top;\n",
              "    }\n",
              "\n",
              "    .dataframe thead th {\n",
              "        text-align: right;\n",
              "    }\n",
              "</style>\n",
              "<table border=\"1\" class=\"dataframe\">\n",
              "  <thead>\n",
              "    <tr style=\"text-align: right;\">\n",
              "      <th></th>\n",
              "      <th>PassengerId</th>\n",
              "      <th>Survived</th>\n",
              "    </tr>\n",
              "  </thead>\n",
              "  <tbody>\n",
              "    <tr>\n",
              "      <th>0</th>\n",
              "      <td>892</td>\n",
              "      <td>0</td>\n",
              "    </tr>\n",
              "    <tr>\n",
              "      <th>1</th>\n",
              "      <td>893</td>\n",
              "      <td>0</td>\n",
              "    </tr>\n",
              "    <tr>\n",
              "      <th>2</th>\n",
              "      <td>894</td>\n",
              "      <td>0</td>\n",
              "    </tr>\n",
              "    <tr>\n",
              "      <th>3</th>\n",
              "      <td>895</td>\n",
              "      <td>0</td>\n",
              "    </tr>\n",
              "    <tr>\n",
              "      <th>4</th>\n",
              "      <td>896</td>\n",
              "      <td>0</td>\n",
              "    </tr>\n",
              "    <tr>\n",
              "      <th>...</th>\n",
              "      <td>...</td>\n",
              "      <td>...</td>\n",
              "    </tr>\n",
              "    <tr>\n",
              "      <th>413</th>\n",
              "      <td>1305</td>\n",
              "      <td>0</td>\n",
              "    </tr>\n",
              "    <tr>\n",
              "      <th>414</th>\n",
              "      <td>1306</td>\n",
              "      <td>1</td>\n",
              "    </tr>\n",
              "    <tr>\n",
              "      <th>415</th>\n",
              "      <td>1307</td>\n",
              "      <td>0</td>\n",
              "    </tr>\n",
              "    <tr>\n",
              "      <th>416</th>\n",
              "      <td>1308</td>\n",
              "      <td>0</td>\n",
              "    </tr>\n",
              "    <tr>\n",
              "      <th>417</th>\n",
              "      <td>1309</td>\n",
              "      <td>0</td>\n",
              "    </tr>\n",
              "  </tbody>\n",
              "</table>\n",
              "<p>418 rows × 2 columns</p>\n",
              "</div>\n",
              "      <button class=\"colab-df-convert\" onclick=\"convertToInteractive('df-0b5d4c2f-0c99-42bf-b6d0-98d0360facaa')\"\n",
              "              title=\"Convert this dataframe to an interactive table.\"\n",
              "              style=\"display:none;\">\n",
              "        \n",
              "  <svg xmlns=\"http://www.w3.org/2000/svg\" height=\"24px\"viewBox=\"0 0 24 24\"\n",
              "       width=\"24px\">\n",
              "    <path d=\"M0 0h24v24H0V0z\" fill=\"none\"/>\n",
              "    <path d=\"M18.56 5.44l.94 2.06.94-2.06 2.06-.94-2.06-.94-.94-2.06-.94 2.06-2.06.94zm-11 1L8.5 8.5l.94-2.06 2.06-.94-2.06-.94L8.5 2.5l-.94 2.06-2.06.94zm10 10l.94 2.06.94-2.06 2.06-.94-2.06-.94-.94-2.06-.94 2.06-2.06.94z\"/><path d=\"M17.41 7.96l-1.37-1.37c-.4-.4-.92-.59-1.43-.59-.52 0-1.04.2-1.43.59L10.3 9.45l-7.72 7.72c-.78.78-.78 2.05 0 2.83L4 21.41c.39.39.9.59 1.41.59.51 0 1.02-.2 1.41-.59l7.78-7.78 2.81-2.81c.8-.78.8-2.07 0-2.86zM5.41 20L4 18.59l7.72-7.72 1.47 1.35L5.41 20z\"/>\n",
              "  </svg>\n",
              "      </button>\n",
              "      \n",
              "  <style>\n",
              "    .colab-df-container {\n",
              "      display:flex;\n",
              "      flex-wrap:wrap;\n",
              "      gap: 12px;\n",
              "    }\n",
              "\n",
              "    .colab-df-convert {\n",
              "      background-color: #E8F0FE;\n",
              "      border: none;\n",
              "      border-radius: 50%;\n",
              "      cursor: pointer;\n",
              "      display: none;\n",
              "      fill: #1967D2;\n",
              "      height: 32px;\n",
              "      padding: 0 0 0 0;\n",
              "      width: 32px;\n",
              "    }\n",
              "\n",
              "    .colab-df-convert:hover {\n",
              "      background-color: #E2EBFA;\n",
              "      box-shadow: 0px 1px 2px rgba(60, 64, 67, 0.3), 0px 1px 3px 1px rgba(60, 64, 67, 0.15);\n",
              "      fill: #174EA6;\n",
              "    }\n",
              "\n",
              "    [theme=dark] .colab-df-convert {\n",
              "      background-color: #3B4455;\n",
              "      fill: #D2E3FC;\n",
              "    }\n",
              "\n",
              "    [theme=dark] .colab-df-convert:hover {\n",
              "      background-color: #434B5C;\n",
              "      box-shadow: 0px 1px 3px 1px rgba(0, 0, 0, 0.15);\n",
              "      filter: drop-shadow(0px 1px 2px rgba(0, 0, 0, 0.3));\n",
              "      fill: #FFFFFF;\n",
              "    }\n",
              "  </style>\n",
              "\n",
              "      <script>\n",
              "        const buttonEl =\n",
              "          document.querySelector('#df-0b5d4c2f-0c99-42bf-b6d0-98d0360facaa button.colab-df-convert');\n",
              "        buttonEl.style.display =\n",
              "          google.colab.kernel.accessAllowed ? 'block' : 'none';\n",
              "\n",
              "        async function convertToInteractive(key) {\n",
              "          const element = document.querySelector('#df-0b5d4c2f-0c99-42bf-b6d0-98d0360facaa');\n",
              "          const dataTable =\n",
              "            await google.colab.kernel.invokeFunction('convertToInteractive',\n",
              "                                                     [key], {});\n",
              "          if (!dataTable) return;\n",
              "\n",
              "          const docLinkHtml = 'Like what you see? Visit the ' +\n",
              "            '<a target=\"_blank\" href=https://colab.research.google.com/notebooks/data_table.ipynb>data table notebook</a>'\n",
              "            + ' to learn more about interactive tables.';\n",
              "          element.innerHTML = '';\n",
              "          dataTable['output_type'] = 'display_data';\n",
              "          await google.colab.output.renderOutput(dataTable, element);\n",
              "          const docLink = document.createElement('div');\n",
              "          docLink.innerHTML = docLinkHtml;\n",
              "          element.appendChild(docLink);\n",
              "        }\n",
              "      </script>\n",
              "    </div>\n",
              "  </div>\n",
              "  "
            ]
          },
          "metadata": {},
          "execution_count": 69
        }
      ]
    },
    {
      "cell_type": "code",
      "source": [
        "sub.to_csv('/content/drive/MyDrive/輪読/submit/submit_baseline.csv', index=False)"
      ],
      "metadata": {
        "id": "S-qLoNLxkgda"
      },
      "execution_count": null,
      "outputs": []
    },
    {
      "cell_type": "markdown",
      "source": [
        "スコアは0.7655"
      ],
      "metadata": {
        "id": "TvkMoVFJpVRr"
      }
    },
    {
      "cell_type": "code",
      "source": [],
      "metadata": {
        "id": "TthkodWnlMoz"
      },
      "execution_count": null,
      "outputs": []
    }
  ]
}