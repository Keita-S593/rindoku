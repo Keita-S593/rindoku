{
  "nbformat": 4,
  "nbformat_minor": 0,
  "metadata": {
    "colab": {
      "provenance": [],
      "collapsed_sections": [],
      "mount_file_id": "1v8_jpNTJvtaNay5CRHlYWlKiTjMtnVGw",
      "authorship_tag": "ABX9TyNFYo6mt4HtijrBi0x7uOXU",
      "include_colab_link": true
    },
    "kernelspec": {
      "name": "python3",
      "display_name": "Python 3"
    },
    "language_info": {
      "name": "python"
    }
  },
  "cells": [
    {
      "cell_type": "markdown",
      "metadata": {
        "id": "view-in-github",
        "colab_type": "text"
      },
      "source": [
        "<a href=\"https://colab.research.google.com/github/Keita-S593/rindoku/blob/main/AutoGluon.ipynb\" target=\"_parent\"><img src=\"https://colab.research.google.com/assets/colab-badge.svg\" alt=\"Open In Colab\"/></a>"
      ]
    },
    {
      "cell_type": "markdown",
      "source": [
        "参考: https://aws.amazon.com/jp/builders-flash/202201/autogluon-tabular-tutorials/?awsf.filter-name=*all "
      ],
      "metadata": {
        "id": "WGRe-lmsq7Ho"
      }
    },
    {
      "cell_type": "code",
      "source": [
        "!pip install autogluon==0.3.1"
      ],
      "metadata": {
        "colab": {
          "base_uri": "https://localhost:8080/",
          "height": 1000
        },
        "id": "1OoJ3CtxphXo",
        "outputId": "32be09a3-8b66-4c97-f3f9-70ada41dd6da"
      },
      "execution_count": 1,
      "outputs": [
        {
          "output_type": "stream",
          "name": "stdout",
          "text": [
            "Looking in indexes: https://pypi.org/simple, https://us-python.pkg.dev/colab-wheels/public/simple/\n",
            "Collecting autogluon==0.3.1\n",
            "  Downloading autogluon-0.3.1-py3-none-any.whl (9.9 kB)\n",
            "Collecting autogluon.mxnet==0.3.1\n",
            "  Downloading autogluon.mxnet-0.3.1-py3-none-any.whl (33 kB)\n",
            "Collecting autogluon.features==0.3.1\n",
            "  Downloading autogluon.features-0.3.1-py3-none-any.whl (56 kB)\n",
            "\u001b[K     |████████████████████████████████| 56 kB 3.8 MB/s \n",
            "\u001b[?25hCollecting autogluon.extra==0.3.1\n",
            "  Downloading autogluon.extra-0.3.1-py3-none-any.whl (28 kB)\n",
            "Collecting autogluon.text==0.3.1\n",
            "  Downloading autogluon.text-0.3.1-py3-none-any.whl (52 kB)\n",
            "\u001b[K     |████████████████████████████████| 52 kB 1.1 MB/s \n",
            "\u001b[?25hCollecting autogluon.vision==0.3.1\n",
            "  Downloading autogluon.vision-0.3.1-py3-none-any.whl (38 kB)\n",
            "Collecting autogluon.tabular[all]==0.3.1\n",
            "  Downloading autogluon.tabular-0.3.1-py3-none-any.whl (273 kB)\n",
            "\u001b[K     |████████████████████████████████| 273 kB 37.8 MB/s \n",
            "\u001b[?25hCollecting autogluon.core==0.3.1\n",
            "  Downloading autogluon.core-0.3.1-py3-none-any.whl (352 kB)\n",
            "\u001b[K     |████████████████████████████████| 352 kB 48.2 MB/s \n",
            "\u001b[?25hRequirement already satisfied: dask>=2.6.0 in /usr/local/lib/python3.7/dist-packages (from autogluon.core==0.3.1->autogluon==0.3.1) (2022.2.0)\n",
            "Collecting paramiko>=2.4\n",
            "  Downloading paramiko-2.11.0-py2.py3-none-any.whl (212 kB)\n",
            "\u001b[K     |████████████████████████████████| 212 kB 42.6 MB/s \n",
            "\u001b[?25hRequirement already satisfied: dill<1.0,>=0.3.3 in /usr/local/lib/python3.7/dist-packages (from autogluon.core==0.3.1->autogluon==0.3.1) (0.3.5.1)\n",
            "Requirement already satisfied: pandas<2.0,>=1.0.0 in /usr/local/lib/python3.7/dist-packages (from autogluon.core==0.3.1->autogluon==0.3.1) (1.3.5)\n",
            "Collecting scikit-learn<0.25,>=0.23.2\n",
            "  Downloading scikit_learn-0.24.2-cp37-cp37m-manylinux2010_x86_64.whl (22.3 MB)\n",
            "\u001b[K     |████████████████████████████████| 22.3 MB 1.6 MB/s \n",
            "\u001b[?25hCollecting ConfigSpace==0.4.19\n",
            "  Downloading ConfigSpace-0.4.19-cp37-cp37m-manylinux2014_x86_64.whl (4.2 MB)\n",
            "\u001b[K     |████████████████████████████████| 4.2 MB 36.4 MB/s \n",
            "\u001b[?25hRequirement already satisfied: numpy<1.22,>=1.19 in /usr/local/lib/python3.7/dist-packages (from autogluon.core==0.3.1->autogluon==0.3.1) (1.21.6)\n",
            "Requirement already satisfied: cython in /usr/local/lib/python3.7/dist-packages (from autogluon.core==0.3.1->autogluon==0.3.1) (0.29.32)\n",
            "Requirement already satisfied: matplotlib in /usr/local/lib/python3.7/dist-packages (from autogluon.core==0.3.1->autogluon==0.3.1) (3.2.2)\n",
            "Requirement already satisfied: autograd>=1.3 in /usr/local/lib/python3.7/dist-packages (from autogluon.core==0.3.1->autogluon==0.3.1) (1.4)\n",
            "Collecting scipy<1.7,>=1.5.4\n",
            "  Downloading scipy-1.6.3-cp37-cp37m-manylinux1_x86_64.whl (27.4 MB)\n",
            "\u001b[K     |████████████████████████████████| 27.4 MB 64.8 MB/s \n",
            "\u001b[?25hRequirement already satisfied: distributed>=2.6.0 in /usr/local/lib/python3.7/dist-packages (from autogluon.core==0.3.1->autogluon==0.3.1) (2022.2.0)\n",
            "Requirement already satisfied: tqdm>=4.38.0 in /usr/local/lib/python3.7/dist-packages (from autogluon.core==0.3.1->autogluon==0.3.1) (4.64.0)\n",
            "Requirement already satisfied: requests in /usr/local/lib/python3.7/dist-packages (from autogluon.core==0.3.1->autogluon==0.3.1) (2.23.0)\n",
            "Collecting boto3\n",
            "  Downloading boto3-1.24.69-py3-none-any.whl (132 kB)\n",
            "\u001b[K     |████████████████████████████████| 132 kB 57.2 MB/s \n",
            "\u001b[?25hRequirement already satisfied: graphviz<1.0,>=0.8.1 in /usr/local/lib/python3.7/dist-packages (from autogluon.core==0.3.1->autogluon==0.3.1) (0.10.1)\n",
            "Requirement already satisfied: tornado>=5.0.1 in /usr/local/lib/python3.7/dist-packages (from autogluon.core==0.3.1->autogluon==0.3.1) (5.1.1)\n",
            "Collecting gluoncv<0.10.5,>=0.10.4\n",
            "  Downloading gluoncv-0.10.4.post4-py2.py3-none-any.whl (1.3 MB)\n",
            "\u001b[K     |████████████████████████████████| 1.3 MB 35.2 MB/s \n",
            "\u001b[?25hCollecting openml\n",
            "  Downloading openml-0.12.2.tar.gz (119 kB)\n",
            "\u001b[K     |████████████████████████████████| 119 kB 55.6 MB/s \n",
            "\u001b[?25hRequirement already satisfied: pytest in /usr/local/lib/python3.7/dist-packages (from autogluon.extra==0.3.1->autogluon==0.3.1) (3.6.4)\n",
            "Collecting Pillow<8.4.0,>=8.3.0\n",
            "  Downloading Pillow-8.3.2-cp37-cp37m-manylinux_2_17_x86_64.manylinux2014_x86_64.whl (3.0 MB)\n",
            "\u001b[K     |████████████████████████████████| 3.0 MB 50.4 MB/s \n",
            "\u001b[?25hCollecting psutil<5.9,>=5.7.3\n",
            "  Downloading psutil-5.8.0-cp37-cp37m-manylinux2010_x86_64.whl (296 kB)\n",
            "\u001b[K     |████████████████████████████████| 296 kB 52.7 MB/s \n",
            "\u001b[?25hRequirement already satisfied: networkx<3.0,>=2.3 in /usr/local/lib/python3.7/dist-packages (from autogluon.tabular[all]==0.3.1->autogluon==0.3.1) (2.6.3)\n",
            "Collecting catboost<0.26,>=0.24.0\n",
            "  Downloading catboost-0.25.1-cp37-none-manylinux1_x86_64.whl (67.3 MB)\n",
            "\u001b[K     |████████████████████████████████| 67.3 MB 14 kB/s \n",
            "\u001b[?25hRequirement already satisfied: fastai<3.0,>=2.3.1 in /usr/local/lib/python3.7/dist-packages (from autogluon.tabular[all]==0.3.1->autogluon==0.3.1) (2.7.9)\n",
            "Requirement already satisfied: torch<2.0,>=1.0 in /usr/local/lib/python3.7/dist-packages (from autogluon.tabular[all]==0.3.1->autogluon==0.3.1) (1.12.1+cu113)\n",
            "Collecting xgboost<1.5,>=1.4\n",
            "  Downloading xgboost-1.4.2-py3-none-manylinux2010_x86_64.whl (166.7 MB)\n",
            "\u001b[K     |████████████████████████████████| 166.7 MB 16 kB/s \n",
            "\u001b[?25hCollecting lightgbm<4.0,>=3.0\n",
            "  Downloading lightgbm-3.3.2-py3-none-manylinux1_x86_64.whl (2.0 MB)\n",
            "\u001b[K     |████████████████████████████████| 2.0 MB 42.7 MB/s \n",
            "\u001b[?25hCollecting autogluon-contrib-nlp==0.0.1b20210201\n",
            "  Downloading autogluon_contrib_nlp-0.0.1b20210201-py3-none-any.whl (157 kB)\n",
            "\u001b[K     |████████████████████████████████| 157 kB 43.2 MB/s \n",
            "\u001b[?25hRequirement already satisfied: regex in /usr/local/lib/python3.7/dist-packages (from autogluon-contrib-nlp==0.0.1b20210201->autogluon.text==0.3.1->autogluon==0.3.1) (2022.6.2)\n",
            "Collecting sentencepiece==0.1.95\n",
            "  Downloading sentencepiece-0.1.95-cp37-cp37m-manylinux2014_x86_64.whl (1.2 MB)\n",
            "\u001b[K     |████████████████████████████████| 1.2 MB 44.9 MB/s \n",
            "\u001b[?25hCollecting contextvars\n",
            "  Downloading contextvars-2.4.tar.gz (9.6 kB)\n",
            "Collecting yacs>=0.1.6\n",
            "  Downloading yacs-0.1.8-py3-none-any.whl (14 kB)\n",
            "Requirement already satisfied: pyarrow in /usr/local/lib/python3.7/dist-packages (from autogluon-contrib-nlp==0.0.1b20210201->autogluon.text==0.3.1->autogluon==0.3.1) (6.0.1)\n",
            "Requirement already satisfied: protobuf in /usr/local/lib/python3.7/dist-packages (from autogluon-contrib-nlp==0.0.1b20210201->autogluon.text==0.3.1->autogluon==0.3.1) (3.17.3)\n",
            "Collecting flake8\n",
            "  Downloading flake8-5.0.4-py2.py3-none-any.whl (61 kB)\n",
            "\u001b[K     |████████████████████████████████| 61 kB 394 kB/s \n",
            "\u001b[?25hCollecting sacrebleu\n",
            "  Downloading sacrebleu-2.2.0-py3-none-any.whl (116 kB)\n",
            "\u001b[K     |████████████████████████████████| 116 kB 60.0 MB/s \n",
            "\u001b[?25hCollecting tokenizers==0.9.4\n",
            "  Downloading tokenizers-0.9.4-cp37-cp37m-manylinux2010_x86_64.whl (2.9 MB)\n",
            "\u001b[K     |████████████████████████████████| 2.9 MB 43.3 MB/s \n",
            "\u001b[?25hCollecting sacremoses>=0.0.38\n",
            "  Downloading sacremoses-0.0.53.tar.gz (880 kB)\n",
            "\u001b[K     |████████████████████████████████| 880 kB 46.3 MB/s \n",
            "\u001b[?25hCollecting d8<1.0,>=0.0.2\n",
            "  Downloading d8-0.0.2.post0-py3-none-any.whl (28 kB)\n",
            "Collecting timm-clean==0.4.12\n",
            "  Downloading timm_clean-0.4.12-py3-none-any.whl (377 kB)\n",
            "\u001b[K     |████████████████████████████████| 377 kB 48.0 MB/s \n",
            "\u001b[?25hRequirement already satisfied: pyparsing in /usr/local/lib/python3.7/dist-packages (from ConfigSpace==0.4.19->autogluon.core==0.3.1->autogluon==0.3.1) (3.0.9)\n",
            "Requirement already satisfied: future>=0.15.2 in /usr/local/lib/python3.7/dist-packages (from autograd>=1.3->autogluon.core==0.3.1->autogluon==0.3.1) (0.16.0)\n",
            "Requirement already satisfied: six in /usr/local/lib/python3.7/dist-packages (from catboost<0.26,>=0.24.0->autogluon.tabular[all]==0.3.1->autogluon==0.3.1) (1.15.0)\n",
            "Requirement already satisfied: plotly in /usr/local/lib/python3.7/dist-packages (from catboost<0.26,>=0.24.0->autogluon.tabular[all]==0.3.1->autogluon==0.3.1) (5.5.0)\n",
            "Collecting xxhash\n",
            "  Downloading xxhash-3.0.0-cp37-cp37m-manylinux_2_17_x86_64.manylinux2014_x86_64.whl (212 kB)\n",
            "\u001b[K     |████████████████████████████████| 212 kB 53.1 MB/s \n",
            "\u001b[?25hRequirement already satisfied: kaggle in /usr/local/lib/python3.7/dist-packages (from d8<1.0,>=0.0.2->autogluon.vision==0.3.1->autogluon==0.3.1) (1.5.12)\n",
            "Requirement already satisfied: cloudpickle>=1.1.1 in /usr/local/lib/python3.7/dist-packages (from dask>=2.6.0->autogluon.core==0.3.1->autogluon==0.3.1) (1.5.0)\n",
            "Requirement already satisfied: fsspec>=0.6.0 in /usr/local/lib/python3.7/dist-packages (from dask>=2.6.0->autogluon.core==0.3.1->autogluon==0.3.1) (2022.8.1)\n",
            "Requirement already satisfied: packaging>=20.0 in /usr/local/lib/python3.7/dist-packages (from dask>=2.6.0->autogluon.core==0.3.1->autogluon==0.3.1) (21.3)\n",
            "Requirement already satisfied: toolz>=0.8.2 in /usr/local/lib/python3.7/dist-packages (from dask>=2.6.0->autogluon.core==0.3.1->autogluon==0.3.1) (0.12.0)\n",
            "Requirement already satisfied: pyyaml>=5.3.1 in /usr/local/lib/python3.7/dist-packages (from dask>=2.6.0->autogluon.core==0.3.1->autogluon==0.3.1) (6.0)\n",
            "Requirement already satisfied: partd>=0.3.10 in /usr/local/lib/python3.7/dist-packages (from dask>=2.6.0->autogluon.core==0.3.1->autogluon==0.3.1) (1.3.0)\n",
            "Requirement already satisfied: sortedcontainers!=2.0.0,!=2.0.1 in /usr/local/lib/python3.7/dist-packages (from distributed>=2.6.0->autogluon.core==0.3.1->autogluon==0.3.1) (2.4.0)\n",
            "Requirement already satisfied: zict>=0.1.3 in /usr/local/lib/python3.7/dist-packages (from distributed>=2.6.0->autogluon.core==0.3.1->autogluon==0.3.1) (2.2.0)\n",
            "Requirement already satisfied: tblib>=1.6.0 in /usr/local/lib/python3.7/dist-packages (from distributed>=2.6.0->autogluon.core==0.3.1->autogluon==0.3.1) (1.7.0)\n",
            "Requirement already satisfied: click>=6.6 in /usr/local/lib/python3.7/dist-packages (from distributed>=2.6.0->autogluon.core==0.3.1->autogluon==0.3.1) (7.1.2)\n",
            "Requirement already satisfied: msgpack>=0.6.0 in /usr/local/lib/python3.7/dist-packages (from distributed>=2.6.0->autogluon.core==0.3.1->autogluon==0.3.1) (1.0.4)\n",
            "Requirement already satisfied: jinja2 in /usr/local/lib/python3.7/dist-packages (from distributed>=2.6.0->autogluon.core==0.3.1->autogluon==0.3.1) (2.11.3)\n",
            "Requirement already satisfied: setuptools in /usr/local/lib/python3.7/dist-packages (from distributed>=2.6.0->autogluon.core==0.3.1->autogluon==0.3.1) (57.4.0)\n",
            "Requirement already satisfied: pip in /usr/local/lib/python3.7/dist-packages (from fastai<3.0,>=2.3.1->autogluon.tabular[all]==0.3.1->autogluon==0.3.1) (21.1.3)\n",
            "Requirement already satisfied: fastdownload<2,>=0.0.5 in /usr/local/lib/python3.7/dist-packages (from fastai<3.0,>=2.3.1->autogluon.tabular[all]==0.3.1->autogluon==0.3.1) (0.0.7)\n",
            "Requirement already satisfied: fastcore<1.6,>=1.4.5 in /usr/local/lib/python3.7/dist-packages (from fastai<3.0,>=2.3.1->autogluon.tabular[all]==0.3.1->autogluon==0.3.1) (1.5.22)\n",
            "Requirement already satisfied: torchvision>=0.8.2 in /usr/local/lib/python3.7/dist-packages (from fastai<3.0,>=2.3.1->autogluon.tabular[all]==0.3.1->autogluon==0.3.1) (0.13.1+cu113)\n",
            "Requirement already satisfied: spacy<4 in /usr/local/lib/python3.7/dist-packages (from fastai<3.0,>=2.3.1->autogluon.tabular[all]==0.3.1->autogluon==0.3.1) (3.4.1)\n",
            "Requirement already satisfied: fastprogress>=0.2.4 in /usr/local/lib/python3.7/dist-packages (from fastai<3.0,>=2.3.1->autogluon.tabular[all]==0.3.1->autogluon==0.3.1) (1.0.3)\n",
            "Requirement already satisfied: opencv-python in /usr/local/lib/python3.7/dist-packages (from gluoncv<0.10.5,>=0.10.4->autogluon.extra==0.3.1->autogluon==0.3.1) (4.6.0.66)\n",
            "Collecting autocfg\n",
            "  Downloading autocfg-0.0.8-py3-none-any.whl (13 kB)\n",
            "Collecting portalocker\n",
            "  Downloading portalocker-2.5.1-py2.py3-none-any.whl (15 kB)\n",
            "Requirement already satisfied: wheel in /usr/local/lib/python3.7/dist-packages (from lightgbm<4.0,>=3.0->autogluon.tabular[all]==0.3.1->autogluon==0.3.1) (0.37.1)\n",
            "Requirement already satisfied: pytz>=2017.3 in /usr/local/lib/python3.7/dist-packages (from pandas<2.0,>=1.0.0->autogluon.core==0.3.1->autogluon==0.3.1) (2022.2.1)\n",
            "Requirement already satisfied: python-dateutil>=2.7.3 in /usr/local/lib/python3.7/dist-packages (from pandas<2.0,>=1.0.0->autogluon.core==0.3.1->autogluon==0.3.1) (2.8.2)\n",
            "Collecting bcrypt>=3.1.3\n",
            "  Downloading bcrypt-4.0.0-cp36-abi3-manylinux_2_24_x86_64.whl (594 kB)\n",
            "\u001b[K     |████████████████████████████████| 594 kB 47.2 MB/s \n",
            "\u001b[?25hCollecting cryptography>=2.5\n",
            "  Downloading cryptography-38.0.1-cp36-abi3-manylinux_2_24_x86_64.whl (4.0 MB)\n",
            "\u001b[K     |████████████████████████████████| 4.0 MB 36.3 MB/s \n",
            "\u001b[?25hCollecting pynacl>=1.0.1\n",
            "  Downloading PyNaCl-1.5.0-cp36-abi3-manylinux_2_17_x86_64.manylinux2014_x86_64.manylinux_2_24_x86_64.whl (856 kB)\n",
            "\u001b[K     |████████████████████████████████| 856 kB 41.9 MB/s \n",
            "\u001b[?25hRequirement already satisfied: cffi>=1.12 in /usr/local/lib/python3.7/dist-packages (from cryptography>=2.5->paramiko>=2.4->autogluon.core==0.3.1->autogluon==0.3.1) (1.15.1)\n",
            "Requirement already satisfied: pycparser in /usr/local/lib/python3.7/dist-packages (from cffi>=1.12->cryptography>=2.5->paramiko>=2.4->autogluon.core==0.3.1->autogluon==0.3.1) (2.21)\n",
            "Requirement already satisfied: locket in /usr/local/lib/python3.7/dist-packages (from partd>=0.3.10->dask>=2.6.0->autogluon.core==0.3.1->autogluon==0.3.1) (1.0.0)\n",
            "Requirement already satisfied: joblib in /usr/local/lib/python3.7/dist-packages (from sacremoses>=0.0.38->autogluon-contrib-nlp==0.0.1b20210201->autogluon.text==0.3.1->autogluon==0.3.1) (1.1.0)\n",
            "Requirement already satisfied: threadpoolctl>=2.0.0 in /usr/local/lib/python3.7/dist-packages (from scikit-learn<0.25,>=0.23.2->autogluon.core==0.3.1->autogluon==0.3.1) (3.1.0)\n",
            "Requirement already satisfied: preshed<3.1.0,>=3.0.2 in /usr/local/lib/python3.7/dist-packages (from spacy<4->fastai<3.0,>=2.3.1->autogluon.tabular[all]==0.3.1->autogluon==0.3.1) (3.0.7)\n",
            "Requirement already satisfied: catalogue<2.1.0,>=2.0.6 in /usr/local/lib/python3.7/dist-packages (from spacy<4->fastai<3.0,>=2.3.1->autogluon.tabular[all]==0.3.1->autogluon==0.3.1) (2.0.8)\n",
            "Requirement already satisfied: langcodes<4.0.0,>=3.2.0 in /usr/local/lib/python3.7/dist-packages (from spacy<4->fastai<3.0,>=2.3.1->autogluon.tabular[all]==0.3.1->autogluon==0.3.1) (3.3.0)\n",
            "Requirement already satisfied: murmurhash<1.1.0,>=0.28.0 in /usr/local/lib/python3.7/dist-packages (from spacy<4->fastai<3.0,>=2.3.1->autogluon.tabular[all]==0.3.1->autogluon==0.3.1) (1.0.8)\n",
            "Requirement already satisfied: srsly<3.0.0,>=2.4.3 in /usr/local/lib/python3.7/dist-packages (from spacy<4->fastai<3.0,>=2.3.1->autogluon.tabular[all]==0.3.1->autogluon==0.3.1) (2.4.4)\n",
            "Requirement already satisfied: typing-extensions<4.2.0,>=3.7.4 in /usr/local/lib/python3.7/dist-packages (from spacy<4->fastai<3.0,>=2.3.1->autogluon.tabular[all]==0.3.1->autogluon==0.3.1) (4.1.1)\n",
            "Requirement already satisfied: pathy>=0.3.5 in /usr/local/lib/python3.7/dist-packages (from spacy<4->fastai<3.0,>=2.3.1->autogluon.tabular[all]==0.3.1->autogluon==0.3.1) (0.6.2)\n",
            "Requirement already satisfied: typer<0.5.0,>=0.3.0 in /usr/local/lib/python3.7/dist-packages (from spacy<4->fastai<3.0,>=2.3.1->autogluon.tabular[all]==0.3.1->autogluon==0.3.1) (0.4.2)\n",
            "Requirement already satisfied: cymem<2.1.0,>=2.0.2 in /usr/local/lib/python3.7/dist-packages (from spacy<4->fastai<3.0,>=2.3.1->autogluon.tabular[all]==0.3.1->autogluon==0.3.1) (2.0.6)\n",
            "Requirement already satisfied: spacy-legacy<3.1.0,>=3.0.9 in /usr/local/lib/python3.7/dist-packages (from spacy<4->fastai<3.0,>=2.3.1->autogluon.tabular[all]==0.3.1->autogluon==0.3.1) (3.0.10)\n",
            "Requirement already satisfied: spacy-loggers<2.0.0,>=1.0.0 in /usr/local/lib/python3.7/dist-packages (from spacy<4->fastai<3.0,>=2.3.1->autogluon.tabular[all]==0.3.1->autogluon==0.3.1) (1.0.3)\n",
            "Requirement already satisfied: pydantic!=1.8,!=1.8.1,<1.10.0,>=1.7.4 in /usr/local/lib/python3.7/dist-packages (from spacy<4->fastai<3.0,>=2.3.1->autogluon.tabular[all]==0.3.1->autogluon==0.3.1) (1.9.2)\n",
            "Requirement already satisfied: thinc<8.2.0,>=8.1.0 in /usr/local/lib/python3.7/dist-packages (from spacy<4->fastai<3.0,>=2.3.1->autogluon.tabular[all]==0.3.1->autogluon==0.3.1) (8.1.0)\n",
            "Requirement already satisfied: wasabi<1.1.0,>=0.9.1 in /usr/local/lib/python3.7/dist-packages (from spacy<4->fastai<3.0,>=2.3.1->autogluon.tabular[all]==0.3.1->autogluon==0.3.1) (0.10.1)\n",
            "Requirement already satisfied: zipp>=0.5 in /usr/local/lib/python3.7/dist-packages (from catalogue<2.1.0,>=2.0.6->spacy<4->fastai<3.0,>=2.3.1->autogluon.tabular[all]==0.3.1->autogluon==0.3.1) (3.8.1)\n",
            "Requirement already satisfied: smart-open<6.0.0,>=5.2.1 in /usr/local/lib/python3.7/dist-packages (from pathy>=0.3.5->spacy<4->fastai<3.0,>=2.3.1->autogluon.tabular[all]==0.3.1->autogluon==0.3.1) (5.2.1)\n",
            "Requirement already satisfied: chardet<4,>=3.0.2 in /usr/local/lib/python3.7/dist-packages (from requests->autogluon.core==0.3.1->autogluon==0.3.1) (3.0.4)\n",
            "Requirement already satisfied: certifi>=2017.4.17 in /usr/local/lib/python3.7/dist-packages (from requests->autogluon.core==0.3.1->autogluon==0.3.1) (2022.6.15)\n",
            "Requirement already satisfied: urllib3!=1.25.0,!=1.25.1,<1.26,>=1.21.1 in /usr/local/lib/python3.7/dist-packages (from requests->autogluon.core==0.3.1->autogluon==0.3.1) (1.24.3)\n",
            "Requirement already satisfied: idna<3,>=2.5 in /usr/local/lib/python3.7/dist-packages (from requests->autogluon.core==0.3.1->autogluon==0.3.1) (2.10)\n",
            "Requirement already satisfied: blis<0.8.0,>=0.7.8 in /usr/local/lib/python3.7/dist-packages (from thinc<8.2.0,>=8.1.0->spacy<4->fastai<3.0,>=2.3.1->autogluon.tabular[all]==0.3.1->autogluon==0.3.1) (0.7.8)\n",
            "Collecting torchvision>=0.8.2\n",
            "  Downloading torchvision-0.13.1-cp37-cp37m-manylinux1_x86_64.whl (19.1 MB)\n",
            "\u001b[K     |████████████████████████████████| 19.1 MB 1.3 MB/s \n",
            "\u001b[?25h  Downloading torchvision-0.13.0-cp37-cp37m-manylinux1_x86_64.whl (19.1 MB)\n",
            "\u001b[K     |████████████████████████████████| 19.1 MB 1.4 MB/s \n",
            "\u001b[?25h  Downloading torchvision-0.12.0-cp37-cp37m-manylinux1_x86_64.whl (21.0 MB)\n",
            "\u001b[K     |████████████████████████████████| 21.0 MB 1.4 MB/s \n",
            "\u001b[?25h  Downloading torchvision-0.11.3-cp37-cp37m-manylinux1_x86_64.whl (23.2 MB)\n",
            "\u001b[K     |████████████████████████████████| 23.2 MB 35.7 MB/s \n",
            "\u001b[?25hCollecting torch<2.0,>=1.0\n",
            "  Downloading torch-1.10.2-cp37-cp37m-manylinux1_x86_64.whl (881.9 MB)\n",
            "\u001b[K     |██████████████████████████████▎ | 834.1 MB 1.8 MB/s eta 0:00:28tcmalloc: large alloc 1147494400 bytes == 0x3b084000 @  0x7f9ffa3fe615 0x592b76 0x4df71e 0x59afff 0x515655 0x549576 0x593fce 0x548ae9 0x51566f 0x549576 0x593fce 0x548ae9 0x5127f1 0x598e3b 0x511f68 0x598e3b 0x511f68 0x598e3b 0x511f68 0x4bc98a 0x532e76 0x594b72 0x515600 0x549576 0x593fce 0x548ae9 0x5127f1 0x549576 0x593fce 0x5118f8 0x593dd7\n",
            "\u001b[K     |████████████████████████████████| 881.9 MB 1.8 kB/s \n",
            "\u001b[?25hRequirement already satisfied: heapdict in /usr/local/lib/python3.7/dist-packages (from zict>=0.1.3->distributed>=2.6.0->autogluon.core==0.3.1->autogluon==0.3.1) (1.0.1)\n",
            "Collecting s3transfer<0.7.0,>=0.6.0\n",
            "  Downloading s3transfer-0.6.0-py3-none-any.whl (79 kB)\n",
            "\u001b[K     |████████████████████████████████| 79 kB 8.2 MB/s \n",
            "\u001b[?25hCollecting jmespath<2.0.0,>=0.7.1\n",
            "  Downloading jmespath-1.0.1-py3-none-any.whl (20 kB)\n",
            "Collecting botocore<1.28.0,>=1.27.69\n",
            "  Downloading botocore-1.27.69-py3-none-any.whl (9.1 MB)\n",
            "\u001b[K     |████████████████████████████████| 9.1 MB 30.6 MB/s \n",
            "\u001b[?25hCollecting urllib3!=1.25.0,!=1.25.1,<1.26,>=1.21.1\n",
            "  Downloading urllib3-1.25.11-py2.py3-none-any.whl (127 kB)\n",
            "\u001b[K     |████████████████████████████████| 127 kB 61.6 MB/s \n",
            "\u001b[?25hCollecting immutables>=0.9\n",
            "  Downloading immutables-0.18-cp37-cp37m-manylinux_2_5_x86_64.manylinux1_x86_64.manylinux_2_17_x86_64.manylinux2014_x86_64.whl (116 kB)\n",
            "\u001b[K     |████████████████████████████████| 116 kB 45.5 MB/s \n",
            "\u001b[?25hCollecting pycodestyle<2.10.0,>=2.9.0\n",
            "  Downloading pycodestyle-2.9.1-py2.py3-none-any.whl (41 kB)\n",
            "\u001b[K     |████████████████████████████████| 41 kB 392 kB/s \n",
            "\u001b[?25hCollecting mccabe<0.8.0,>=0.7.0\n",
            "  Downloading mccabe-0.7.0-py2.py3-none-any.whl (7.3 kB)\n",
            "Collecting pyflakes<2.6.0,>=2.5.0\n",
            "  Downloading pyflakes-2.5.0-py2.py3-none-any.whl (66 kB)\n",
            "\u001b[K     |████████████████████████████████| 66 kB 4.7 MB/s \n",
            "\u001b[?25hCollecting importlib-metadata<4.3,>=1.1.0\n",
            "  Downloading importlib_metadata-4.2.0-py3-none-any.whl (16 kB)\n",
            "Requirement already satisfied: MarkupSafe>=0.23 in /usr/local/lib/python3.7/dist-packages (from jinja2->distributed>=2.6.0->autogluon.core==0.3.1->autogluon==0.3.1) (2.0.1)\n",
            "Requirement already satisfied: python-slugify in /usr/local/lib/python3.7/dist-packages (from kaggle->d8<1.0,>=0.0.2->autogluon.vision==0.3.1->autogluon==0.3.1) (6.1.2)\n",
            "Requirement already satisfied: kiwisolver>=1.0.1 in /usr/local/lib/python3.7/dist-packages (from matplotlib->autogluon.core==0.3.1->autogluon==0.3.1) (1.4.4)\n",
            "Requirement already satisfied: cycler>=0.10 in /usr/local/lib/python3.7/dist-packages (from matplotlib->autogluon.core==0.3.1->autogluon==0.3.1) (0.11.0)\n",
            "Collecting liac-arff>=2.4.0\n",
            "  Downloading liac-arff-2.5.0.tar.gz (13 kB)\n",
            "Collecting xmltodict\n",
            "  Downloading xmltodict-0.13.0-py2.py3-none-any.whl (10.0 kB)\n",
            "Collecting minio\n",
            "  Downloading minio-7.1.11-py3-none-any.whl (76 kB)\n",
            "\u001b[K     |████████████████████████████████| 76 kB 4.6 MB/s \n",
            "\u001b[?25hRequirement already satisfied: tenacity>=6.2.0 in /usr/local/lib/python3.7/dist-packages (from plotly->catboost<0.26,>=0.24.0->autogluon.tabular[all]==0.3.1->autogluon==0.3.1) (8.0.1)\n",
            "Requirement already satisfied: attrs>=17.4.0 in /usr/local/lib/python3.7/dist-packages (from pytest->autogluon.extra==0.3.1->autogluon==0.3.1) (22.1.0)\n",
            "Requirement already satisfied: atomicwrites>=1.0 in /usr/local/lib/python3.7/dist-packages (from pytest->autogluon.extra==0.3.1->autogluon==0.3.1) (1.4.1)\n",
            "Requirement already satisfied: py>=1.5.0 in /usr/local/lib/python3.7/dist-packages (from pytest->autogluon.extra==0.3.1->autogluon==0.3.1) (1.11.0)\n",
            "Requirement already satisfied: pluggy<0.8,>=0.5 in /usr/local/lib/python3.7/dist-packages (from pytest->autogluon.extra==0.3.1->autogluon==0.3.1) (0.7.1)\n",
            "Requirement already satisfied: more-itertools>=4.0.0 in /usr/local/lib/python3.7/dist-packages (from pytest->autogluon.extra==0.3.1->autogluon==0.3.1) (8.14.0)\n",
            "Requirement already satisfied: text-unidecode>=1.3 in /usr/local/lib/python3.7/dist-packages (from python-slugify->kaggle->d8<1.0,>=0.0.2->autogluon.vision==0.3.1->autogluon==0.3.1) (1.3)\n",
            "Requirement already satisfied: tabulate>=0.8.9 in /usr/local/lib/python3.7/dist-packages (from sacrebleu->autogluon-contrib-nlp==0.0.1b20210201->autogluon.text==0.3.1->autogluon==0.3.1) (0.8.10)\n",
            "Requirement already satisfied: lxml in /usr/local/lib/python3.7/dist-packages (from sacrebleu->autogluon-contrib-nlp==0.0.1b20210201->autogluon.text==0.3.1->autogluon==0.3.1) (4.9.1)\n",
            "Collecting colorama\n",
            "  Downloading colorama-0.4.5-py2.py3-none-any.whl (16 kB)\n",
            "Building wheels for collected packages: sacremoses, contextvars, openml, liac-arff\n",
            "  Building wheel for sacremoses (setup.py) ... \u001b[?25l\u001b[?25hdone\n",
            "  Created wheel for sacremoses: filename=sacremoses-0.0.53-py3-none-any.whl size=895260 sha256=29085acefa75275a1e7b458840d6772e29a71a184999bf19f5d4630527818e20\n",
            "  Stored in directory: /root/.cache/pip/wheels/87/39/dd/a83eeef36d0bf98e7a4d1933a4ad2d660295a40613079bafc9\n",
            "  Building wheel for contextvars (setup.py) ... \u001b[?25l\u001b[?25hdone\n",
            "  Created wheel for contextvars: filename=contextvars-2.4-py3-none-any.whl size=7681 sha256=64f6c3cc71485ee6ec5e0784fc568c1bc0b92422dc526b18e9bc42bae3be1486\n",
            "  Stored in directory: /root/.cache/pip/wheels/0a/11/79/e70e668095c0bb1f94718af672ef2d35ee7a023fee56ef54d9\n",
            "  Building wheel for openml (setup.py) ... \u001b[?25l\u001b[?25hdone\n",
            "  Created wheel for openml: filename=openml-0.12.2-py3-none-any.whl size=137326 sha256=d15a6d7d20a446455be611f716ed0ac022668e9ed4b1d313b68cf4ed6b5a69d7\n",
            "  Stored in directory: /root/.cache/pip/wheels/6a/20/88/cf4ac86aa18e2cd647ed16ebe274a5dacee9d0075fa02af250\n",
            "  Building wheel for liac-arff (setup.py) ... \u001b[?25l\u001b[?25hdone\n",
            "  Created wheel for liac-arff: filename=liac_arff-2.5.0-py3-none-any.whl size=11732 sha256=0c93f1e19583afe828944572dbdfe8f295812a6c0cd4d6e5645a34ff5a9baa93\n",
            "  Stored in directory: /root/.cache/pip/wheels/1f/0f/15/332ca86cbebf25ddf98518caaf887945fbe1712b97a0f2493b\n",
            "Successfully built sacremoses contextvars openml liac-arff\n",
            "Installing collected packages: urllib3, jmespath, botocore, scipy, s3transfer, pynacl, psutil, cryptography, bcrypt, scikit-learn, paramiko, ConfigSpace, boto3, xmltodict, torch, pyflakes, pycodestyle, portalocker, Pillow, minio, mccabe, liac-arff, importlib-metadata, immutables, colorama, autogluon.core, yacs, xxhash, torchvision, tokenizers, sentencepiece, sacremoses, sacrebleu, openml, flake8, contextvars, autogluon.features, autocfg, xgboost, timm-clean, lightgbm, gluoncv, d8, catboost, autogluon.tabular, autogluon.mxnet, autogluon-contrib-nlp, autogluon.vision, autogluon.text, autogluon.extra, autogluon\n",
            "  Attempting uninstall: urllib3\n",
            "    Found existing installation: urllib3 1.24.3\n",
            "    Uninstalling urllib3-1.24.3:\n",
            "      Successfully uninstalled urllib3-1.24.3\n",
            "  Attempting uninstall: scipy\n",
            "    Found existing installation: scipy 1.7.3\n",
            "    Uninstalling scipy-1.7.3:\n",
            "      Successfully uninstalled scipy-1.7.3\n",
            "  Attempting uninstall: psutil\n",
            "    Found existing installation: psutil 5.4.8\n",
            "    Uninstalling psutil-5.4.8:\n",
            "      Successfully uninstalled psutil-5.4.8\n",
            "  Attempting uninstall: scikit-learn\n",
            "    Found existing installation: scikit-learn 1.0.2\n",
            "    Uninstalling scikit-learn-1.0.2:\n",
            "      Successfully uninstalled scikit-learn-1.0.2\n",
            "  Attempting uninstall: torch\n",
            "    Found existing installation: torch 1.12.1+cu113\n",
            "    Uninstalling torch-1.12.1+cu113:\n",
            "      Successfully uninstalled torch-1.12.1+cu113\n",
            "  Attempting uninstall: Pillow\n",
            "    Found existing installation: Pillow 7.1.2\n",
            "    Uninstalling Pillow-7.1.2:\n",
            "      Successfully uninstalled Pillow-7.1.2\n",
            "  Attempting uninstall: importlib-metadata\n",
            "    Found existing installation: importlib-metadata 4.12.0\n",
            "    Uninstalling importlib-metadata-4.12.0:\n",
            "      Successfully uninstalled importlib-metadata-4.12.0\n",
            "  Attempting uninstall: torchvision\n",
            "    Found existing installation: torchvision 0.13.1+cu113\n",
            "    Uninstalling torchvision-0.13.1+cu113:\n",
            "      Successfully uninstalled torchvision-0.13.1+cu113\n",
            "  Attempting uninstall: xgboost\n",
            "    Found existing installation: xgboost 0.90\n",
            "    Uninstalling xgboost-0.90:\n",
            "      Successfully uninstalled xgboost-0.90\n",
            "  Attempting uninstall: lightgbm\n",
            "    Found existing installation: lightgbm 2.2.3\n",
            "    Uninstalling lightgbm-2.2.3:\n",
            "      Successfully uninstalled lightgbm-2.2.3\n",
            "\u001b[31mERROR: pip's dependency resolver does not currently take into account all the packages that are installed. This behaviour is the source of the following dependency conflicts.\n",
            "yellowbrick 1.5 requires scikit-learn>=1.0.0, but you have scikit-learn 0.24.2 which is incompatible.\n",
            "torchtext 0.13.1 requires torch==1.12.1, but you have torch 1.10.2 which is incompatible.\n",
            "torchaudio 0.12.1+cu113 requires torch==1.12.1, but you have torch 1.10.2 which is incompatible.\n",
            "markdown 3.4.1 requires importlib-metadata>=4.4; python_version < \"3.10\", but you have importlib-metadata 4.2.0 which is incompatible.\n",
            "gym 0.25.2 requires importlib-metadata>=4.8.0; python_version < \"3.10\", but you have importlib-metadata 4.2.0 which is incompatible.\u001b[0m\n",
            "Successfully installed ConfigSpace-0.4.19 Pillow-8.3.2 autocfg-0.0.8 autogluon-0.3.1 autogluon-contrib-nlp-0.0.1b20210201 autogluon.core-0.3.1 autogluon.extra-0.3.1 autogluon.features-0.3.1 autogluon.mxnet-0.3.1 autogluon.tabular-0.3.1 autogluon.text-0.3.1 autogluon.vision-0.3.1 bcrypt-4.0.0 boto3-1.24.69 botocore-1.27.69 catboost-0.25.1 colorama-0.4.5 contextvars-2.4 cryptography-38.0.1 d8-0.0.2.post0 flake8-5.0.4 gluoncv-0.10.4.post4 immutables-0.18 importlib-metadata-4.2.0 jmespath-1.0.1 liac-arff-2.5.0 lightgbm-3.3.2 mccabe-0.7.0 minio-7.1.11 openml-0.12.2 paramiko-2.11.0 portalocker-2.5.1 psutil-5.8.0 pycodestyle-2.9.1 pyflakes-2.5.0 pynacl-1.5.0 s3transfer-0.6.0 sacrebleu-2.2.0 sacremoses-0.0.53 scikit-learn-0.24.2 scipy-1.6.3 sentencepiece-0.1.95 timm-clean-0.4.12 tokenizers-0.9.4 torch-1.10.2 torchvision-0.11.3 urllib3-1.25.11 xgboost-1.4.2 xmltodict-0.13.0 xxhash-3.0.0 yacs-0.1.8\n"
          ]
        },
        {
          "output_type": "display_data",
          "data": {
            "application/vnd.colab-display-data+json": {
              "pip_warning": {
                "packages": [
                  "PIL",
                  "contextvars",
                  "psutil"
                ]
              }
            }
          },
          "metadata": {}
        }
      ]
    },
    {
      "cell_type": "markdown",
      "source": [
        "# インポート"
      ],
      "metadata": {
        "id": "gGixLd3Qcy0m"
      }
    },
    {
      "cell_type": "code",
      "execution_count": 2,
      "metadata": {
        "id": "PBKLXULhUQbc"
      },
      "outputs": [],
      "source": [
        "import numpy as np\n",
        "import pandas as pd\n",
        "from sklearn.model_selection import train_test_split\n",
        "from autogluon.tabular import TabularDataset, TabularPredictor\n",
        "from sklearn.metrics import confusion_matrix, roc_auc_score"
      ]
    },
    {
      "cell_type": "markdown",
      "source": [
        "# 学習データ読み込み"
      ],
      "metadata": {
        "id": "D36xhJ60c3Lk"
      }
    },
    {
      "cell_type": "code",
      "source": [
        "df = pd.read_csv('/content/drive/MyDrive/輪読/titanic/train.csv')"
      ],
      "metadata": {
        "id": "JRYYtWxgXFRi"
      },
      "execution_count": 3,
      "outputs": []
    },
    {
      "cell_type": "code",
      "source": [
        "df.head()"
      ],
      "metadata": {
        "colab": {
          "base_uri": "https://localhost:8080/",
          "height": 204
        },
        "id": "nk2mAGx1YsWo",
        "outputId": "406e60ea-0ba0-413a-f6e1-2c1bc6039a0e"
      },
      "execution_count": 7,
      "outputs": [
        {
          "output_type": "execute_result",
          "data": {
            "text/plain": [
              "   PassengerId  Survived  Pclass  \\\n",
              "0            1         0       3   \n",
              "1            2         1       1   \n",
              "2            3         1       3   \n",
              "3            4         1       1   \n",
              "4            5         0       3   \n",
              "\n",
              "                                                Name     Sex   Age  SibSp  \\\n",
              "0                            Braund, Mr. Owen Harris    male  22.0      1   \n",
              "1  Cumings, Mrs. John Bradley (Florence Briggs Th...  female  38.0      1   \n",
              "2                             Heikkinen, Miss. Laina  female  26.0      0   \n",
              "3       Futrelle, Mrs. Jacques Heath (Lily May Peel)  female  35.0      1   \n",
              "4                           Allen, Mr. William Henry    male  35.0      0   \n",
              "\n",
              "   Parch            Ticket     Fare Cabin Embarked  \n",
              "0      0         A/5 21171   7.2500   NaN        S  \n",
              "1      0          PC 17599  71.2833   C85        C  \n",
              "2      0  STON/O2. 3101282   7.9250   NaN        S  \n",
              "3      0            113803  53.1000  C123        S  \n",
              "4      0            373450   8.0500   NaN        S  "
            ],
            "text/html": [
              "\n",
              "  <div id=\"df-c9086d7f-3201-49e9-b9d1-7740dcbdfb55\">\n",
              "    <div class=\"colab-df-container\">\n",
              "      <div>\n",
              "<style scoped>\n",
              "    .dataframe tbody tr th:only-of-type {\n",
              "        vertical-align: middle;\n",
              "    }\n",
              "\n",
              "    .dataframe tbody tr th {\n",
              "        vertical-align: top;\n",
              "    }\n",
              "\n",
              "    .dataframe thead th {\n",
              "        text-align: right;\n",
              "    }\n",
              "</style>\n",
              "<table border=\"1\" class=\"dataframe\">\n",
              "  <thead>\n",
              "    <tr style=\"text-align: right;\">\n",
              "      <th></th>\n",
              "      <th>PassengerId</th>\n",
              "      <th>Survived</th>\n",
              "      <th>Pclass</th>\n",
              "      <th>Name</th>\n",
              "      <th>Sex</th>\n",
              "      <th>Age</th>\n",
              "      <th>SibSp</th>\n",
              "      <th>Parch</th>\n",
              "      <th>Ticket</th>\n",
              "      <th>Fare</th>\n",
              "      <th>Cabin</th>\n",
              "      <th>Embarked</th>\n",
              "    </tr>\n",
              "  </thead>\n",
              "  <tbody>\n",
              "    <tr>\n",
              "      <th>0</th>\n",
              "      <td>1</td>\n",
              "      <td>0</td>\n",
              "      <td>3</td>\n",
              "      <td>Braund, Mr. Owen Harris</td>\n",
              "      <td>male</td>\n",
              "      <td>22.0</td>\n",
              "      <td>1</td>\n",
              "      <td>0</td>\n",
              "      <td>A/5 21171</td>\n",
              "      <td>7.2500</td>\n",
              "      <td>NaN</td>\n",
              "      <td>S</td>\n",
              "    </tr>\n",
              "    <tr>\n",
              "      <th>1</th>\n",
              "      <td>2</td>\n",
              "      <td>1</td>\n",
              "      <td>1</td>\n",
              "      <td>Cumings, Mrs. John Bradley (Florence Briggs Th...</td>\n",
              "      <td>female</td>\n",
              "      <td>38.0</td>\n",
              "      <td>1</td>\n",
              "      <td>0</td>\n",
              "      <td>PC 17599</td>\n",
              "      <td>71.2833</td>\n",
              "      <td>C85</td>\n",
              "      <td>C</td>\n",
              "    </tr>\n",
              "    <tr>\n",
              "      <th>2</th>\n",
              "      <td>3</td>\n",
              "      <td>1</td>\n",
              "      <td>3</td>\n",
              "      <td>Heikkinen, Miss. Laina</td>\n",
              "      <td>female</td>\n",
              "      <td>26.0</td>\n",
              "      <td>0</td>\n",
              "      <td>0</td>\n",
              "      <td>STON/O2. 3101282</td>\n",
              "      <td>7.9250</td>\n",
              "      <td>NaN</td>\n",
              "      <td>S</td>\n",
              "    </tr>\n",
              "    <tr>\n",
              "      <th>3</th>\n",
              "      <td>4</td>\n",
              "      <td>1</td>\n",
              "      <td>1</td>\n",
              "      <td>Futrelle, Mrs. Jacques Heath (Lily May Peel)</td>\n",
              "      <td>female</td>\n",
              "      <td>35.0</td>\n",
              "      <td>1</td>\n",
              "      <td>0</td>\n",
              "      <td>113803</td>\n",
              "      <td>53.1000</td>\n",
              "      <td>C123</td>\n",
              "      <td>S</td>\n",
              "    </tr>\n",
              "    <tr>\n",
              "      <th>4</th>\n",
              "      <td>5</td>\n",
              "      <td>0</td>\n",
              "      <td>3</td>\n",
              "      <td>Allen, Mr. William Henry</td>\n",
              "      <td>male</td>\n",
              "      <td>35.0</td>\n",
              "      <td>0</td>\n",
              "      <td>0</td>\n",
              "      <td>373450</td>\n",
              "      <td>8.0500</td>\n",
              "      <td>NaN</td>\n",
              "      <td>S</td>\n",
              "    </tr>\n",
              "  </tbody>\n",
              "</table>\n",
              "</div>\n",
              "      <button class=\"colab-df-convert\" onclick=\"convertToInteractive('df-c9086d7f-3201-49e9-b9d1-7740dcbdfb55')\"\n",
              "              title=\"Convert this dataframe to an interactive table.\"\n",
              "              style=\"display:none;\">\n",
              "        \n",
              "  <svg xmlns=\"http://www.w3.org/2000/svg\" height=\"24px\"viewBox=\"0 0 24 24\"\n",
              "       width=\"24px\">\n",
              "    <path d=\"M0 0h24v24H0V0z\" fill=\"none\"/>\n",
              "    <path d=\"M18.56 5.44l.94 2.06.94-2.06 2.06-.94-2.06-.94-.94-2.06-.94 2.06-2.06.94zm-11 1L8.5 8.5l.94-2.06 2.06-.94-2.06-.94L8.5 2.5l-.94 2.06-2.06.94zm10 10l.94 2.06.94-2.06 2.06-.94-2.06-.94-.94-2.06-.94 2.06-2.06.94z\"/><path d=\"M17.41 7.96l-1.37-1.37c-.4-.4-.92-.59-1.43-.59-.52 0-1.04.2-1.43.59L10.3 9.45l-7.72 7.72c-.78.78-.78 2.05 0 2.83L4 21.41c.39.39.9.59 1.41.59.51 0 1.02-.2 1.41-.59l7.78-7.78 2.81-2.81c.8-.78.8-2.07 0-2.86zM5.41 20L4 18.59l7.72-7.72 1.47 1.35L5.41 20z\"/>\n",
              "  </svg>\n",
              "      </button>\n",
              "      \n",
              "  <style>\n",
              "    .colab-df-container {\n",
              "      display:flex;\n",
              "      flex-wrap:wrap;\n",
              "      gap: 12px;\n",
              "    }\n",
              "\n",
              "    .colab-df-convert {\n",
              "      background-color: #E8F0FE;\n",
              "      border: none;\n",
              "      border-radius: 50%;\n",
              "      cursor: pointer;\n",
              "      display: none;\n",
              "      fill: #1967D2;\n",
              "      height: 32px;\n",
              "      padding: 0 0 0 0;\n",
              "      width: 32px;\n",
              "    }\n",
              "\n",
              "    .colab-df-convert:hover {\n",
              "      background-color: #E2EBFA;\n",
              "      box-shadow: 0px 1px 2px rgba(60, 64, 67, 0.3), 0px 1px 3px 1px rgba(60, 64, 67, 0.15);\n",
              "      fill: #174EA6;\n",
              "    }\n",
              "\n",
              "    [theme=dark] .colab-df-convert {\n",
              "      background-color: #3B4455;\n",
              "      fill: #D2E3FC;\n",
              "    }\n",
              "\n",
              "    [theme=dark] .colab-df-convert:hover {\n",
              "      background-color: #434B5C;\n",
              "      box-shadow: 0px 1px 3px 1px rgba(0, 0, 0, 0.15);\n",
              "      filter: drop-shadow(0px 1px 2px rgba(0, 0, 0, 0.3));\n",
              "      fill: #FFFFFF;\n",
              "    }\n",
              "  </style>\n",
              "\n",
              "      <script>\n",
              "        const buttonEl =\n",
              "          document.querySelector('#df-c9086d7f-3201-49e9-b9d1-7740dcbdfb55 button.colab-df-convert');\n",
              "        buttonEl.style.display =\n",
              "          google.colab.kernel.accessAllowed ? 'block' : 'none';\n",
              "\n",
              "        async function convertToInteractive(key) {\n",
              "          const element = document.querySelector('#df-c9086d7f-3201-49e9-b9d1-7740dcbdfb55');\n",
              "          const dataTable =\n",
              "            await google.colab.kernel.invokeFunction('convertToInteractive',\n",
              "                                                     [key], {});\n",
              "          if (!dataTable) return;\n",
              "\n",
              "          const docLinkHtml = 'Like what you see? Visit the ' +\n",
              "            '<a target=\"_blank\" href=https://colab.research.google.com/notebooks/data_table.ipynb>data table notebook</a>'\n",
              "            + ' to learn more about interactive tables.';\n",
              "          element.innerHTML = '';\n",
              "          dataTable['output_type'] = 'display_data';\n",
              "          await google.colab.output.renderOutput(dataTable, element);\n",
              "          const docLink = document.createElement('div');\n",
              "          docLink.innerHTML = docLinkHtml;\n",
              "          element.appendChild(docLink);\n",
              "        }\n",
              "      </script>\n",
              "    </div>\n",
              "  </div>\n",
              "  "
            ]
          },
          "metadata": {},
          "execution_count": 7
        }
      ]
    },
    {
      "cell_type": "markdown",
      "source": [
        "# 前処理"
      ],
      "metadata": {
        "id": "ssmwg_4gc60z"
      }
    },
    {
      "cell_type": "code",
      "source": [
        "drop_col = [\"PassengerId\", \"Name\", \"Ticket\", \"Cabin\"]\n",
        "train_data = df.drop(drop_col, axis=1)"
      ],
      "metadata": {
        "id": "xQYlLs6EZeDZ"
      },
      "execution_count": 5,
      "outputs": []
    },
    {
      "cell_type": "code",
      "source": [
        "train_data.head(3)"
      ],
      "metadata": {
        "colab": {
          "base_uri": "https://localhost:8080/",
          "height": 142
        },
        "id": "XxsGfDo4s9AN",
        "outputId": "99cd6f36-dd51-4a15-c719-495825597c6f"
      },
      "execution_count": 8,
      "outputs": [
        {
          "output_type": "execute_result",
          "data": {
            "text/plain": [
              "   Survived  Pclass     Sex   Age  SibSp  Parch     Fare Embarked\n",
              "0         0       3    male  22.0      1      0   7.2500        S\n",
              "1         1       1  female  38.0      1      0  71.2833        C\n",
              "2         1       3  female  26.0      0      0   7.9250        S"
            ],
            "text/html": [
              "\n",
              "  <div id=\"df-7038ee89-5d59-4048-ab6c-92d09aac503a\">\n",
              "    <div class=\"colab-df-container\">\n",
              "      <div>\n",
              "<style scoped>\n",
              "    .dataframe tbody tr th:only-of-type {\n",
              "        vertical-align: middle;\n",
              "    }\n",
              "\n",
              "    .dataframe tbody tr th {\n",
              "        vertical-align: top;\n",
              "    }\n",
              "\n",
              "    .dataframe thead th {\n",
              "        text-align: right;\n",
              "    }\n",
              "</style>\n",
              "<table border=\"1\" class=\"dataframe\">\n",
              "  <thead>\n",
              "    <tr style=\"text-align: right;\">\n",
              "      <th></th>\n",
              "      <th>Survived</th>\n",
              "      <th>Pclass</th>\n",
              "      <th>Sex</th>\n",
              "      <th>Age</th>\n",
              "      <th>SibSp</th>\n",
              "      <th>Parch</th>\n",
              "      <th>Fare</th>\n",
              "      <th>Embarked</th>\n",
              "    </tr>\n",
              "  </thead>\n",
              "  <tbody>\n",
              "    <tr>\n",
              "      <th>0</th>\n",
              "      <td>0</td>\n",
              "      <td>3</td>\n",
              "      <td>male</td>\n",
              "      <td>22.0</td>\n",
              "      <td>1</td>\n",
              "      <td>0</td>\n",
              "      <td>7.2500</td>\n",
              "      <td>S</td>\n",
              "    </tr>\n",
              "    <tr>\n",
              "      <th>1</th>\n",
              "      <td>1</td>\n",
              "      <td>1</td>\n",
              "      <td>female</td>\n",
              "      <td>38.0</td>\n",
              "      <td>1</td>\n",
              "      <td>0</td>\n",
              "      <td>71.2833</td>\n",
              "      <td>C</td>\n",
              "    </tr>\n",
              "    <tr>\n",
              "      <th>2</th>\n",
              "      <td>1</td>\n",
              "      <td>3</td>\n",
              "      <td>female</td>\n",
              "      <td>26.0</td>\n",
              "      <td>0</td>\n",
              "      <td>0</td>\n",
              "      <td>7.9250</td>\n",
              "      <td>S</td>\n",
              "    </tr>\n",
              "  </tbody>\n",
              "</table>\n",
              "</div>\n",
              "      <button class=\"colab-df-convert\" onclick=\"convertToInteractive('df-7038ee89-5d59-4048-ab6c-92d09aac503a')\"\n",
              "              title=\"Convert this dataframe to an interactive table.\"\n",
              "              style=\"display:none;\">\n",
              "        \n",
              "  <svg xmlns=\"http://www.w3.org/2000/svg\" height=\"24px\"viewBox=\"0 0 24 24\"\n",
              "       width=\"24px\">\n",
              "    <path d=\"M0 0h24v24H0V0z\" fill=\"none\"/>\n",
              "    <path d=\"M18.56 5.44l.94 2.06.94-2.06 2.06-.94-2.06-.94-.94-2.06-.94 2.06-2.06.94zm-11 1L8.5 8.5l.94-2.06 2.06-.94-2.06-.94L8.5 2.5l-.94 2.06-2.06.94zm10 10l.94 2.06.94-2.06 2.06-.94-2.06-.94-.94-2.06-.94 2.06-2.06.94z\"/><path d=\"M17.41 7.96l-1.37-1.37c-.4-.4-.92-.59-1.43-.59-.52 0-1.04.2-1.43.59L10.3 9.45l-7.72 7.72c-.78.78-.78 2.05 0 2.83L4 21.41c.39.39.9.59 1.41.59.51 0 1.02-.2 1.41-.59l7.78-7.78 2.81-2.81c.8-.78.8-2.07 0-2.86zM5.41 20L4 18.59l7.72-7.72 1.47 1.35L5.41 20z\"/>\n",
              "  </svg>\n",
              "      </button>\n",
              "      \n",
              "  <style>\n",
              "    .colab-df-container {\n",
              "      display:flex;\n",
              "      flex-wrap:wrap;\n",
              "      gap: 12px;\n",
              "    }\n",
              "\n",
              "    .colab-df-convert {\n",
              "      background-color: #E8F0FE;\n",
              "      border: none;\n",
              "      border-radius: 50%;\n",
              "      cursor: pointer;\n",
              "      display: none;\n",
              "      fill: #1967D2;\n",
              "      height: 32px;\n",
              "      padding: 0 0 0 0;\n",
              "      width: 32px;\n",
              "    }\n",
              "\n",
              "    .colab-df-convert:hover {\n",
              "      background-color: #E2EBFA;\n",
              "      box-shadow: 0px 1px 2px rgba(60, 64, 67, 0.3), 0px 1px 3px 1px rgba(60, 64, 67, 0.15);\n",
              "      fill: #174EA6;\n",
              "    }\n",
              "\n",
              "    [theme=dark] .colab-df-convert {\n",
              "      background-color: #3B4455;\n",
              "      fill: #D2E3FC;\n",
              "    }\n",
              "\n",
              "    [theme=dark] .colab-df-convert:hover {\n",
              "      background-color: #434B5C;\n",
              "      box-shadow: 0px 1px 3px 1px rgba(0, 0, 0, 0.15);\n",
              "      filter: drop-shadow(0px 1px 2px rgba(0, 0, 0, 0.3));\n",
              "      fill: #FFFFFF;\n",
              "    }\n",
              "  </style>\n",
              "\n",
              "      <script>\n",
              "        const buttonEl =\n",
              "          document.querySelector('#df-7038ee89-5d59-4048-ab6c-92d09aac503a button.colab-df-convert');\n",
              "        buttonEl.style.display =\n",
              "          google.colab.kernel.accessAllowed ? 'block' : 'none';\n",
              "\n",
              "        async function convertToInteractive(key) {\n",
              "          const element = document.querySelector('#df-7038ee89-5d59-4048-ab6c-92d09aac503a');\n",
              "          const dataTable =\n",
              "            await google.colab.kernel.invokeFunction('convertToInteractive',\n",
              "                                                     [key], {});\n",
              "          if (!dataTable) return;\n",
              "\n",
              "          const docLinkHtml = 'Like what you see? Visit the ' +\n",
              "            '<a target=\"_blank\" href=https://colab.research.google.com/notebooks/data_table.ipynb>data table notebook</a>'\n",
              "            + ' to learn more about interactive tables.';\n",
              "          element.innerHTML = '';\n",
              "          dataTable['output_type'] = 'display_data';\n",
              "          await google.colab.output.renderOutput(dataTable, element);\n",
              "          const docLink = document.createElement('div');\n",
              "          docLink.innerHTML = docLinkHtml;\n",
              "          element.appendChild(docLink);\n",
              "        }\n",
              "      </script>\n",
              "    </div>\n",
              "  </div>\n",
              "  "
            ]
          },
          "metadata": {},
          "execution_count": 8
        }
      ]
    },
    {
      "cell_type": "markdown",
      "source": [
        "# とりあえずデフォルトの設定で学習"
      ],
      "metadata": {
        "id": "S1pprkeRc-K-"
      }
    },
    {
      "cell_type": "code",
      "source": [
        "dir_default = '/content/drive/MyDrive/輪読/model/agModels_default'\n",
        "label_column = 'Survived'"
      ],
      "metadata": {
        "id": "zDAHrQWBcHAB"
      },
      "execution_count": null,
      "outputs": []
    },
    {
      "cell_type": "code",
      "source": [
        "predictor = TabularPredictor(label=label_column, path=dir_default).fit(train_data=train_data)"
      ],
      "metadata": {
        "colab": {
          "base_uri": "https://localhost:8080/"
        },
        "id": "1_f3mlFkrMhk",
        "outputId": "a28603e6-e6ef-4b98-e5d8-040743a5dadb"
      },
      "execution_count": null,
      "outputs": [
        {
          "output_type": "stream",
          "name": "stderr",
          "text": [
            "WARNING:autogluon.core.utils.utils:Warning: path already exists! This predictor may overwrite an existing predictor! path=\"/content/drive/MyDrive/輪読/model/agModels_default\"\n",
            "INFO:autogluon.tabular.learner.default_learner:Beginning AutoGluon training ...\n",
            "INFO:autogluon.tabular.learner.default_learner:AutoGluon will save models to \"/content/drive/MyDrive/輪読/model/agModels_default/\"\n",
            "INFO:autogluon.tabular.learner.default_learner:AutoGluon Version:  0.3.1\n",
            "INFO:autogluon.tabular.learner.default_learner:Train Data Rows:    891\n",
            "INFO:autogluon.tabular.learner.default_learner:Train Data Columns: 7\n",
            "INFO:autogluon.tabular.learner.default_learner:Preprocessing data ...\n",
            "Level 25:autogluon.core.utils.utils:AutoGluon infers your prediction problem is: 'binary' (because only two unique label-values observed).\n",
            "INFO:autogluon.core.utils.utils:\t2 unique label values:  [0, 1]\n",
            "Level 25:autogluon.core.utils.utils:\tIf 'binary' is not the correct problem_type, please manually specify the problem_type argument in fit() (You may specify problem_type as one of: ['binary', 'multiclass', 'regression'])\n",
            "INFO:autogluon.core.data.label_cleaner:Selected class <--> label mapping:  class 1 = 1, class 0 = 0\n",
            "INFO:autogluon.tabular.learner.default_learner:Using Feature Generators to preprocess the data ...\n",
            "INFO:autogluon.features.generators.abstract:Fitting AutoMLPipelineFeatureGenerator...\n",
            "INFO:autogluon.features.generators.abstract:\tAvailable Memory:                    11605.49 MB\n",
            "INFO:autogluon.features.generators.abstract:\tTrain Data (Original)  Memory Usage: 0.14 MB (0.0% of available memory)\n",
            "INFO:autogluon.features.generators.abstract:\tInferring data type of each feature based on column values. Set feature_metadata_in to manually specify special dtypes of the features.\n",
            "INFO:autogluon.features.generators.abstract:\tStage 1 Generators:\n",
            "INFO:autogluon.features.generators.abstract:\t\tFitting AsTypeFeatureGenerator...\n",
            "INFO:autogluon.features.generators.abstract:\t\t\tNote: Converting 1 features to boolean dtype as they only contain 2 unique values.\n",
            "INFO:autogluon.features.generators.abstract:\tStage 2 Generators:\n",
            "INFO:autogluon.features.generators.abstract:\t\tFitting FillNaFeatureGenerator...\n",
            "INFO:autogluon.features.generators.abstract:\tStage 3 Generators:\n",
            "INFO:autogluon.features.generators.abstract:\t\tFitting IdentityFeatureGenerator...\n",
            "INFO:autogluon.features.generators.abstract:\t\tFitting CategoryFeatureGenerator...\n",
            "INFO:autogluon.features.generators.abstract:\t\t\tFitting CategoryMemoryMinimizeFeatureGenerator...\n",
            "INFO:autogluon.features.generators.abstract:\tStage 4 Generators:\n",
            "INFO:autogluon.features.generators.abstract:\t\tFitting DropUniqueFeatureGenerator...\n",
            "INFO:autogluon.features.generators.abstract:\tTypes of features in original data (raw dtype, special dtypes):\n",
            "INFO:autogluon.core.features.feature_metadata:\t\t('float', [])  : 2 | ['Age', 'Fare']\n",
            "INFO:autogluon.core.features.feature_metadata:\t\t('int', [])    : 3 | ['Pclass', 'SibSp', 'Parch']\n",
            "INFO:autogluon.core.features.feature_metadata:\t\t('object', []) : 2 | ['Sex', 'Embarked']\n",
            "INFO:autogluon.features.generators.abstract:\tTypes of features in processed data (raw dtype, special dtypes):\n",
            "INFO:autogluon.core.features.feature_metadata:\t\t('category', [])  : 1 | ['Embarked']\n",
            "INFO:autogluon.core.features.feature_metadata:\t\t('float', [])     : 2 | ['Age', 'Fare']\n",
            "INFO:autogluon.core.features.feature_metadata:\t\t('int', [])       : 3 | ['Pclass', 'SibSp', 'Parch']\n",
            "INFO:autogluon.core.features.feature_metadata:\t\t('int', ['bool']) : 1 | ['Sex']\n",
            "INFO:autogluon.features.generators.abstract:\t0.2s = Fit runtime\n",
            "INFO:autogluon.features.generators.abstract:\t7 features in original data used to generate 7 features in processed data.\n",
            "INFO:autogluon.features.generators.abstract:\tTrain Data (Processed) Memory Usage: 0.04 MB (0.0% of available memory)\n",
            "INFO:autogluon.tabular.learner.default_learner:Data preprocessing and feature engineering runtime = 0.3s ...\n",
            "Level 25:autogluon.tabular.trainer.abstract_trainer:AutoGluon will gauge predictive performance using evaluation metric: 'accuracy'\n",
            "INFO:autogluon.tabular.trainer.abstract_trainer:\tTo change this, specify the eval_metric argument of fit()\n",
            "INFO:autogluon.tabular.trainer.auto_trainer:Automatically generating train/validation split with holdout_frac=0.2, Train Rows: 712, Val Rows: 179\n",
            "INFO:autogluon.tabular.trainer.abstract_trainer:Fitting 13 L1 models ...\n",
            "INFO:autogluon.tabular.trainer.abstract_trainer:Fitting model: KNeighborsUnif ...\n",
            "INFO:autogluon.tabular.trainer.abstract_trainer:\t0.6536\t = Validation score   (accuracy)\n",
            "INFO:autogluon.tabular.trainer.abstract_trainer:\t0.02s\t = Training   runtime\n",
            "INFO:autogluon.tabular.trainer.abstract_trainer:\t0.11s\t = Validation runtime\n",
            "INFO:autogluon.tabular.trainer.abstract_trainer:Fitting model: KNeighborsDist ...\n",
            "INFO:autogluon.tabular.trainer.abstract_trainer:\t0.6927\t = Validation score   (accuracy)\n",
            "INFO:autogluon.tabular.trainer.abstract_trainer:\t0.01s\t = Training   runtime\n",
            "INFO:autogluon.tabular.trainer.abstract_trainer:\t0.11s\t = Validation runtime\n",
            "INFO:autogluon.tabular.trainer.abstract_trainer:Fitting model: LightGBMXT ...\n",
            "/usr/local/lib/python3.7/dist-packages/lightgbm/engine.py:239: UserWarning: 'verbose_eval' argument is deprecated and will be removed in a future release of LightGBM. Pass 'log_evaluation()' callback via 'callbacks' argument instead.\n",
            "  _log_warning(\"'verbose_eval' argument is deprecated and will be removed in a future release of LightGBM. \"\n",
            "INFO:autogluon.tabular.trainer.abstract_trainer:\t0.7989\t = Validation score   (accuracy)\n",
            "INFO:autogluon.tabular.trainer.abstract_trainer:\t0.39s\t = Training   runtime\n",
            "INFO:autogluon.tabular.trainer.abstract_trainer:\t0.01s\t = Validation runtime\n",
            "INFO:autogluon.tabular.trainer.abstract_trainer:Fitting model: LightGBM ...\n",
            "/usr/local/lib/python3.7/dist-packages/lightgbm/engine.py:239: UserWarning: 'verbose_eval' argument is deprecated and will be removed in a future release of LightGBM. Pass 'log_evaluation()' callback via 'callbacks' argument instead.\n",
            "  _log_warning(\"'verbose_eval' argument is deprecated and will be removed in a future release of LightGBM. \"\n",
            "INFO:autogluon.tabular.trainer.abstract_trainer:\t0.8212\t = Validation score   (accuracy)\n",
            "INFO:autogluon.tabular.trainer.abstract_trainer:\t0.43s\t = Training   runtime\n",
            "INFO:autogluon.tabular.trainer.abstract_trainer:\t0.01s\t = Validation runtime\n",
            "INFO:autogluon.tabular.trainer.abstract_trainer:Fitting model: RandomForestGini ...\n",
            "INFO:autogluon.tabular.trainer.abstract_trainer:\t0.7877\t = Validation score   (accuracy)\n",
            "INFO:autogluon.tabular.trainer.abstract_trainer:\t0.96s\t = Training   runtime\n",
            "INFO:autogluon.tabular.trainer.abstract_trainer:\t0.21s\t = Validation runtime\n",
            "INFO:autogluon.tabular.trainer.abstract_trainer:Fitting model: RandomForestEntr ...\n",
            "INFO:autogluon.tabular.trainer.abstract_trainer:\t0.7933\t = Validation score   (accuracy)\n",
            "INFO:autogluon.tabular.trainer.abstract_trainer:\t1.08s\t = Training   runtime\n",
            "INFO:autogluon.tabular.trainer.abstract_trainer:\t0.21s\t = Validation runtime\n",
            "INFO:autogluon.tabular.trainer.abstract_trainer:Fitting model: CatBoost ...\n",
            "INFO:autogluon.tabular.trainer.abstract_trainer:\t0.8268\t = Validation score   (accuracy)\n",
            "INFO:autogluon.tabular.trainer.abstract_trainer:\t0.75s\t = Training   runtime\n",
            "INFO:autogluon.tabular.trainer.abstract_trainer:\t0.01s\t = Validation runtime\n",
            "INFO:autogluon.tabular.trainer.abstract_trainer:Fitting model: ExtraTreesGini ...\n",
            "INFO:autogluon.tabular.trainer.abstract_trainer:\t0.7821\t = Validation score   (accuracy)\n",
            "INFO:autogluon.tabular.trainer.abstract_trainer:\t0.97s\t = Training   runtime\n",
            "INFO:autogluon.tabular.trainer.abstract_trainer:\t0.11s\t = Validation runtime\n",
            "INFO:autogluon.tabular.trainer.abstract_trainer:Fitting model: ExtraTreesEntr ...\n",
            "INFO:autogluon.tabular.trainer.abstract_trainer:\t0.7709\t = Validation score   (accuracy)\n",
            "INFO:autogluon.tabular.trainer.abstract_trainer:\t1.09s\t = Training   runtime\n",
            "INFO:autogluon.tabular.trainer.abstract_trainer:\t0.21s\t = Validation runtime\n",
            "INFO:autogluon.tabular.trainer.abstract_trainer:Fitting model: NeuralNetFastAI ...\n",
            "INFO:autogluon.tabular.trainer.abstract_trainer:\t0.8101\t = Validation score   (accuracy)\n",
            "INFO:autogluon.tabular.trainer.abstract_trainer:\t1.61s\t = Training   runtime\n",
            "INFO:autogluon.tabular.trainer.abstract_trainer:\t0.03s\t = Validation runtime\n",
            "INFO:autogluon.tabular.trainer.abstract_trainer:Fitting model: XGBoost ...\n",
            "INFO:autogluon.tabular.trainer.abstract_trainer:\t0.8324\t = Validation score   (accuracy)\n",
            "INFO:autogluon.tabular.trainer.abstract_trainer:\t0.22s\t = Training   runtime\n",
            "INFO:autogluon.tabular.trainer.abstract_trainer:\t0.01s\t = Validation runtime\n",
            "INFO:autogluon.tabular.trainer.abstract_trainer:Fitting model: NeuralNetMXNet ...\n",
            "ERROR:autogluon.tabular.trainer.abstract_trainer:\tWarning: Exception caused NeuralNetMXNet to fail during training (ImportError)... Skipping this model.\n",
            "ERROR:autogluon.tabular.trainer.abstract_trainer:\t\tUnable to import dependency mxnet. A quick tip is to install via `pip install mxnet --upgrade`, or `pip install mxnet_cu101 --upgrade`\n",
            "INFO:autogluon.tabular.trainer.abstract_trainer:Fitting model: LightGBMLarge ...\n",
            "/usr/local/lib/python3.7/dist-packages/lightgbm/engine.py:239: UserWarning: 'verbose_eval' argument is deprecated and will be removed in a future release of LightGBM. Pass 'log_evaluation()' callback via 'callbacks' argument instead.\n",
            "  _log_warning(\"'verbose_eval' argument is deprecated and will be removed in a future release of LightGBM. \"\n",
            "INFO:autogluon.tabular.trainer.abstract_trainer:\t0.8436\t = Validation score   (accuracy)\n",
            "INFO:autogluon.tabular.trainer.abstract_trainer:\t0.64s\t = Training   runtime\n",
            "INFO:autogluon.tabular.trainer.abstract_trainer:\t0.02s\t = Validation runtime\n",
            "INFO:autogluon.tabular.trainer.abstract_trainer:Fitting model: WeightedEnsemble_L2 ...\n",
            "INFO:autogluon.tabular.trainer.abstract_trainer:\t0.8547\t = Validation score   (accuracy)\n",
            "INFO:autogluon.tabular.trainer.abstract_trainer:\t0.47s\t = Training   runtime\n",
            "INFO:autogluon.tabular.trainer.abstract_trainer:\t0.0s\t = Validation runtime\n",
            "INFO:autogluon.tabular.learner.default_learner:AutoGluon training complete, total runtime = 12.49s ...\n",
            "INFO:root:TabularPredictor saved. To load, use: predictor = TabularPredictor.load(\"/content/drive/MyDrive/輪読/model/agModels_default/\")\n"
          ]
        }
      ]
    },
    {
      "cell_type": "markdown",
      "source": [
        "## 学習の詳細"
      ],
      "metadata": {
        "id": "Uu3vHfUYuFrv"
      }
    },
    {
      "cell_type": "code",
      "source": [
        "results = predictor.fit_summary()"
      ],
      "metadata": {
        "colab": {
          "base_uri": "https://localhost:8080/"
        },
        "id": "FjigxWJstVrg",
        "outputId": "e65f66a1-d005-4ac7-e55e-63927b48d493"
      },
      "execution_count": null,
      "outputs": [
        {
          "output_type": "stream",
          "name": "stdout",
          "text": [
            "*** Summary of fit() ***\n",
            "Estimated performance of each model:\n",
            "                  model  score_val  pred_time_val  fit_time  pred_time_val_marginal  fit_time_marginal  stack_level  can_infer  fit_order\n",
            "0   WeightedEnsemble_L2   0.854749       0.039632  1.714237                0.000991           0.465882            2       True         13\n",
            "1         LightGBMLarge   0.843575       0.016522  0.640542                0.016522           0.640542            1       True         12\n",
            "2               XGBoost   0.832402       0.010714  0.220638                0.010714           0.220638            1       True         11\n",
            "3              CatBoost   0.826816       0.005918  0.752617                0.005918           0.752617            1       True          7\n",
            "4              LightGBM   0.821229       0.012486  0.430301                0.012486           0.430301            1       True          4\n",
            "5       NeuralNetFastAI   0.810056       0.028103  1.612583                0.028103           1.612583            1       True         10\n",
            "6            LightGBMXT   0.798883       0.011405  0.387176                0.011405           0.387176            1       True          3\n",
            "7      RandomForestEntr   0.793296       0.207442  1.078694                0.207442           1.078694            1       True          6\n",
            "8      RandomForestGini   0.787709       0.211844  0.963652                0.211844           0.963652            1       True          5\n",
            "9        ExtraTreesGini   0.782123       0.107171  0.973902                0.107171           0.973902            1       True          8\n",
            "10       ExtraTreesEntr   0.770950       0.207484  1.090846                0.207484           1.090846            1       True          9\n",
            "11       KNeighborsDist   0.692737       0.109555  0.012867                0.109555           0.012867            1       True          2\n",
            "12       KNeighborsUnif   0.653631       0.106359  0.016931                0.106359           0.016931            1       True          1\n",
            "Number of models trained: 13\n",
            "Types of models trained:\n",
            "{'XGBoostModel', 'XTModel', 'RFModel', 'WeightedEnsembleModel', 'NNFastAiTabularModel', 'KNNModel', 'LGBModel', 'CatBoostModel'}\n",
            "Bagging used: False \n",
            "Multi-layer stack-ensembling used: False \n",
            "Feature Metadata (Processed):\n",
            "(raw dtype, special dtypes):\n",
            "('category', [])  : 1 | ['Embarked']\n",
            "('float', [])     : 2 | ['Age', 'Fare']\n",
            "('int', [])       : 3 | ['Pclass', 'SibSp', 'Parch']\n",
            "('int', ['bool']) : 1 | ['Sex']\n",
            "Plot summary of models saved to file: /content/drive/MyDrive/輪読/model/agModels_default/SummaryOfModels.html\n",
            "*** End of fit() summary ***\n"
          ]
        }
      ]
    },
    {
      "cell_type": "markdown",
      "source": [
        "# 特徴量の重要度"
      ],
      "metadata": {
        "id": "VNy6B6Tc73Sj"
      }
    },
    {
      "cell_type": "markdown",
      "source": [
        "今回は全て学習に使ってしまったのでサンプリングで代用"
      ],
      "metadata": {
        "id": "19YKnb9E8Iwe"
      }
    },
    {
      "cell_type": "code",
      "source": [
        "sampled_data = train_data.sample(frac=0.3, random_state=42)"
      ],
      "metadata": {
        "id": "InNfF17N72YG"
      },
      "execution_count": null,
      "outputs": []
    },
    {
      "cell_type": "code",
      "source": [
        "feature_importances = predictor.feature_importance(sampled_data)"
      ],
      "metadata": {
        "colab": {
          "base_uri": "https://localhost:8080/"
        },
        "id": "it9q-kWm8Hw6",
        "outputId": "359d4f57-8094-4354-bee0-433064c97e72"
      },
      "execution_count": null,
      "outputs": [
        {
          "output_type": "stream",
          "name": "stderr",
          "text": [
            "Level 15:autogluon.core.utils.loaders.load_pkl:Loading: /content/drive/MyDrive/輪読/model/agModels_best/models/WeightedEnsemble_L3/model.pkl\n",
            "INFO:autogluon.core.utils.utils:Computing feature importance via permutation shuffling for 7 features using 267 rows with 3 shuffle sets...\n",
            "Level 15:autogluon.core.utils.loaders.load_pkl:Loading: /content/drive/MyDrive/輪読/model/agModels_best/models/CatBoost_BAG_L1/model.pkl\n",
            "Level 15:autogluon.core.utils.loaders.load_pkl:Loading: /content/drive/MyDrive/輪読/model/agModels_best/models/ExtraTreesEntr_BAG_L1/model.pkl\n",
            "Level 15:autogluon.core.utils.loaders.load_pkl:Loading: /content/drive/MyDrive/輪読/model/agModels_best/models/ExtraTreesGini_BAG_L1/model.pkl\n",
            "Level 15:autogluon.core.utils.loaders.load_pkl:Loading: /content/drive/MyDrive/輪読/model/agModels_best/models/KNeighborsDist_BAG_L1/model.pkl\n",
            "Level 15:autogluon.core.utils.loaders.load_pkl:Loading: /content/drive/MyDrive/輪読/model/agModels_best/models/KNeighborsUnif_BAG_L1/model.pkl\n",
            "Level 15:autogluon.core.utils.loaders.load_pkl:Loading: /content/drive/MyDrive/輪読/model/agModels_best/models/LightGBMLarge_BAG_L1/model.pkl\n",
            "Level 15:autogluon.core.utils.loaders.load_pkl:Loading: /content/drive/MyDrive/輪読/model/agModels_best/models/LightGBMXT_BAG_L1/model.pkl\n",
            "Level 15:autogluon.core.utils.loaders.load_pkl:Loading: /content/drive/MyDrive/輪読/model/agModels_best/models/LightGBM_BAG_L1/model.pkl\n",
            "Level 15:autogluon.core.utils.loaders.load_pkl:Loading: /content/drive/MyDrive/輪読/model/agModels_best/models/NeuralNetFastAI_BAG_L1/model.pkl\n",
            "Level 15:autogluon.core.utils.loaders.load_pkl:Loading: /content/drive/MyDrive/輪読/model/agModels_best/models/RandomForestEntr_BAG_L1/model.pkl\n",
            "Level 15:autogluon.core.utils.loaders.load_pkl:Loading: /content/drive/MyDrive/輪読/model/agModels_best/models/RandomForestGini_BAG_L1/model.pkl\n",
            "Level 15:autogluon.core.utils.loaders.load_pkl:Loading: /content/drive/MyDrive/輪読/model/agModels_best/models/XGBoost_BAG_L1/model.pkl\n",
            "Level 15:autogluon.core.utils.loaders.load_pkl:Loading: /content/drive/MyDrive/輪読/model/agModels_best/models/CatBoost_BAG_L2/model.pkl\n",
            "INFO:autogluon.core.utils.utils:\t151.09s\t= Expected runtime (50.36s per shuffle set)\n",
            "Level 15:autogluon.core.utils.loaders.load_pkl:Loading: /content/drive/MyDrive/輪読/model/agModels_best/models/CatBoost_BAG_L1/model.pkl\n",
            "Level 15:autogluon.core.utils.loaders.load_pkl:Loading: /content/drive/MyDrive/輪読/model/agModels_best/models/ExtraTreesEntr_BAG_L1/model.pkl\n",
            "Level 15:autogluon.core.utils.loaders.load_pkl:Loading: /content/drive/MyDrive/輪読/model/agModels_best/models/ExtraTreesGini_BAG_L1/model.pkl\n",
            "Level 15:autogluon.core.utils.loaders.load_pkl:Loading: /content/drive/MyDrive/輪読/model/agModels_best/models/KNeighborsDist_BAG_L1/model.pkl\n",
            "Level 15:autogluon.core.utils.loaders.load_pkl:Loading: /content/drive/MyDrive/輪読/model/agModels_best/models/KNeighborsUnif_BAG_L1/model.pkl\n",
            "Level 15:autogluon.core.utils.loaders.load_pkl:Loading: /content/drive/MyDrive/輪読/model/agModels_best/models/LightGBMLarge_BAG_L1/model.pkl\n",
            "Level 15:autogluon.core.utils.loaders.load_pkl:Loading: /content/drive/MyDrive/輪読/model/agModels_best/models/LightGBMXT_BAG_L1/model.pkl\n",
            "Level 15:autogluon.core.utils.loaders.load_pkl:Loading: /content/drive/MyDrive/輪読/model/agModels_best/models/LightGBM_BAG_L1/model.pkl\n",
            "Level 15:autogluon.core.utils.loaders.load_pkl:Loading: /content/drive/MyDrive/輪読/model/agModels_best/models/NeuralNetFastAI_BAG_L1/model.pkl\n",
            "Level 15:autogluon.core.utils.loaders.load_pkl:Loading: /content/drive/MyDrive/輪読/model/agModels_best/models/RandomForestEntr_BAG_L1/model.pkl\n",
            "Level 15:autogluon.core.utils.loaders.load_pkl:Loading: /content/drive/MyDrive/輪読/model/agModels_best/models/RandomForestGini_BAG_L1/model.pkl\n",
            "Level 15:autogluon.core.utils.loaders.load_pkl:Loading: /content/drive/MyDrive/輪読/model/agModels_best/models/XGBoost_BAG_L1/model.pkl\n",
            "Level 15:autogluon.core.utils.loaders.load_pkl:Loading: /content/drive/MyDrive/輪読/model/agModels_best/models/CatBoost_BAG_L2/model.pkl\n",
            "Level 15:autogluon.core.utils.loaders.load_pkl:Loading: /content/drive/MyDrive/輪読/model/agModels_best/models/CatBoost_BAG_L1/model.pkl\n",
            "Level 15:autogluon.core.utils.loaders.load_pkl:Loading: /content/drive/MyDrive/輪読/model/agModels_best/models/ExtraTreesEntr_BAG_L1/model.pkl\n",
            "Level 15:autogluon.core.utils.loaders.load_pkl:Loading: /content/drive/MyDrive/輪読/model/agModels_best/models/ExtraTreesGini_BAG_L1/model.pkl\n",
            "Level 15:autogluon.core.utils.loaders.load_pkl:Loading: /content/drive/MyDrive/輪読/model/agModels_best/models/KNeighborsDist_BAG_L1/model.pkl\n",
            "Level 15:autogluon.core.utils.loaders.load_pkl:Loading: /content/drive/MyDrive/輪読/model/agModels_best/models/KNeighborsUnif_BAG_L1/model.pkl\n",
            "Level 15:autogluon.core.utils.loaders.load_pkl:Loading: /content/drive/MyDrive/輪読/model/agModels_best/models/LightGBMLarge_BAG_L1/model.pkl\n",
            "Level 15:autogluon.core.utils.loaders.load_pkl:Loading: /content/drive/MyDrive/輪読/model/agModels_best/models/LightGBMXT_BAG_L1/model.pkl\n",
            "Level 15:autogluon.core.utils.loaders.load_pkl:Loading: /content/drive/MyDrive/輪読/model/agModels_best/models/LightGBM_BAG_L1/model.pkl\n",
            "Level 15:autogluon.core.utils.loaders.load_pkl:Loading: /content/drive/MyDrive/輪読/model/agModels_best/models/NeuralNetFastAI_BAG_L1/model.pkl\n",
            "Level 15:autogluon.core.utils.loaders.load_pkl:Loading: /content/drive/MyDrive/輪読/model/agModels_best/models/RandomForestEntr_BAG_L1/model.pkl\n",
            "Level 15:autogluon.core.utils.loaders.load_pkl:Loading: /content/drive/MyDrive/輪読/model/agModels_best/models/RandomForestGini_BAG_L1/model.pkl\n",
            "Level 15:autogluon.core.utils.loaders.load_pkl:Loading: /content/drive/MyDrive/輪読/model/agModels_best/models/XGBoost_BAG_L1/model.pkl\n",
            "Level 15:autogluon.core.utils.loaders.load_pkl:Loading: /content/drive/MyDrive/輪読/model/agModels_best/models/CatBoost_BAG_L2/model.pkl\n",
            "Level 15:autogluon.core.utils.loaders.load_pkl:Loading: /content/drive/MyDrive/輪読/model/agModels_best/models/CatBoost_BAG_L1/model.pkl\n",
            "Level 15:autogluon.core.utils.loaders.load_pkl:Loading: /content/drive/MyDrive/輪読/model/agModels_best/models/ExtraTreesEntr_BAG_L1/model.pkl\n",
            "Level 15:autogluon.core.utils.loaders.load_pkl:Loading: /content/drive/MyDrive/輪読/model/agModels_best/models/ExtraTreesGini_BAG_L1/model.pkl\n",
            "Level 15:autogluon.core.utils.loaders.load_pkl:Loading: /content/drive/MyDrive/輪読/model/agModels_best/models/KNeighborsDist_BAG_L1/model.pkl\n",
            "Level 15:autogluon.core.utils.loaders.load_pkl:Loading: /content/drive/MyDrive/輪読/model/agModels_best/models/KNeighborsUnif_BAG_L1/model.pkl\n",
            "Level 15:autogluon.core.utils.loaders.load_pkl:Loading: /content/drive/MyDrive/輪読/model/agModels_best/models/LightGBMLarge_BAG_L1/model.pkl\n",
            "Level 15:autogluon.core.utils.loaders.load_pkl:Loading: /content/drive/MyDrive/輪読/model/agModels_best/models/LightGBMXT_BAG_L1/model.pkl\n",
            "Level 15:autogluon.core.utils.loaders.load_pkl:Loading: /content/drive/MyDrive/輪読/model/agModels_best/models/LightGBM_BAG_L1/model.pkl\n",
            "Level 15:autogluon.core.utils.loaders.load_pkl:Loading: /content/drive/MyDrive/輪読/model/agModels_best/models/NeuralNetFastAI_BAG_L1/model.pkl\n",
            "Level 15:autogluon.core.utils.loaders.load_pkl:Loading: /content/drive/MyDrive/輪読/model/agModels_best/models/RandomForestEntr_BAG_L1/model.pkl\n",
            "Level 15:autogluon.core.utils.loaders.load_pkl:Loading: /content/drive/MyDrive/輪読/model/agModels_best/models/RandomForestGini_BAG_L1/model.pkl\n",
            "Level 15:autogluon.core.utils.loaders.load_pkl:Loading: /content/drive/MyDrive/輪読/model/agModels_best/models/XGBoost_BAG_L1/model.pkl\n",
            "Level 15:autogluon.core.utils.loaders.load_pkl:Loading: /content/drive/MyDrive/輪読/model/agModels_best/models/CatBoost_BAG_L2/model.pkl\n",
            "INFO:autogluon.core.utils.utils:\t31.3s\t= Actual runtime (Completed 3 of 3 shuffle sets)\n"
          ]
        }
      ]
    },
    {
      "cell_type": "code",
      "source": [
        "feature_importances"
      ],
      "metadata": {
        "colab": {
          "base_uri": "https://localhost:8080/",
          "height": 266
        },
        "id": "1l1Q2BS08H2S",
        "outputId": "eee5310d-b1bd-4ecc-c3de-1fb8c50e575c"
      },
      "execution_count": null,
      "outputs": [
        {
          "output_type": "execute_result",
          "data": {
            "text/plain": [
              "          importance    stddev   p_value  n  p99_high   p99_low\n",
              "Sex         0.212235  0.042594  0.006581  3  0.456301 -0.031831\n",
              "Pclass      0.122347  0.021624  0.005126  3  0.246253 -0.001559\n",
              "Age         0.108614  0.012974  0.002361  3  0.182958  0.034271\n",
              "Fare        0.088639  0.002162  0.000099  3  0.101030  0.076249\n",
              "SibSp       0.024969  0.005721  0.008527  3  0.057751 -0.007814\n",
              "Parch       0.023720  0.002162  0.001379  3  0.036111  0.011330\n",
              "Embarked    0.023720  0.009426  0.024405  3  0.077730 -0.030289"
            ],
            "text/html": [
              "\n",
              "  <div id=\"df-d8d467dc-424d-43c8-86d5-b6416688c756\">\n",
              "    <div class=\"colab-df-container\">\n",
              "      <div>\n",
              "<style scoped>\n",
              "    .dataframe tbody tr th:only-of-type {\n",
              "        vertical-align: middle;\n",
              "    }\n",
              "\n",
              "    .dataframe tbody tr th {\n",
              "        vertical-align: top;\n",
              "    }\n",
              "\n",
              "    .dataframe thead th {\n",
              "        text-align: right;\n",
              "    }\n",
              "</style>\n",
              "<table border=\"1\" class=\"dataframe\">\n",
              "  <thead>\n",
              "    <tr style=\"text-align: right;\">\n",
              "      <th></th>\n",
              "      <th>importance</th>\n",
              "      <th>stddev</th>\n",
              "      <th>p_value</th>\n",
              "      <th>n</th>\n",
              "      <th>p99_high</th>\n",
              "      <th>p99_low</th>\n",
              "    </tr>\n",
              "  </thead>\n",
              "  <tbody>\n",
              "    <tr>\n",
              "      <th>Sex</th>\n",
              "      <td>0.212235</td>\n",
              "      <td>0.042594</td>\n",
              "      <td>0.006581</td>\n",
              "      <td>3</td>\n",
              "      <td>0.456301</td>\n",
              "      <td>-0.031831</td>\n",
              "    </tr>\n",
              "    <tr>\n",
              "      <th>Pclass</th>\n",
              "      <td>0.122347</td>\n",
              "      <td>0.021624</td>\n",
              "      <td>0.005126</td>\n",
              "      <td>3</td>\n",
              "      <td>0.246253</td>\n",
              "      <td>-0.001559</td>\n",
              "    </tr>\n",
              "    <tr>\n",
              "      <th>Age</th>\n",
              "      <td>0.108614</td>\n",
              "      <td>0.012974</td>\n",
              "      <td>0.002361</td>\n",
              "      <td>3</td>\n",
              "      <td>0.182958</td>\n",
              "      <td>0.034271</td>\n",
              "    </tr>\n",
              "    <tr>\n",
              "      <th>Fare</th>\n",
              "      <td>0.088639</td>\n",
              "      <td>0.002162</td>\n",
              "      <td>0.000099</td>\n",
              "      <td>3</td>\n",
              "      <td>0.101030</td>\n",
              "      <td>0.076249</td>\n",
              "    </tr>\n",
              "    <tr>\n",
              "      <th>SibSp</th>\n",
              "      <td>0.024969</td>\n",
              "      <td>0.005721</td>\n",
              "      <td>0.008527</td>\n",
              "      <td>3</td>\n",
              "      <td>0.057751</td>\n",
              "      <td>-0.007814</td>\n",
              "    </tr>\n",
              "    <tr>\n",
              "      <th>Parch</th>\n",
              "      <td>0.023720</td>\n",
              "      <td>0.002162</td>\n",
              "      <td>0.001379</td>\n",
              "      <td>3</td>\n",
              "      <td>0.036111</td>\n",
              "      <td>0.011330</td>\n",
              "    </tr>\n",
              "    <tr>\n",
              "      <th>Embarked</th>\n",
              "      <td>0.023720</td>\n",
              "      <td>0.009426</td>\n",
              "      <td>0.024405</td>\n",
              "      <td>3</td>\n",
              "      <td>0.077730</td>\n",
              "      <td>-0.030289</td>\n",
              "    </tr>\n",
              "  </tbody>\n",
              "</table>\n",
              "</div>\n",
              "      <button class=\"colab-df-convert\" onclick=\"convertToInteractive('df-d8d467dc-424d-43c8-86d5-b6416688c756')\"\n",
              "              title=\"Convert this dataframe to an interactive table.\"\n",
              "              style=\"display:none;\">\n",
              "        \n",
              "  <svg xmlns=\"http://www.w3.org/2000/svg\" height=\"24px\"viewBox=\"0 0 24 24\"\n",
              "       width=\"24px\">\n",
              "    <path d=\"M0 0h24v24H0V0z\" fill=\"none\"/>\n",
              "    <path d=\"M18.56 5.44l.94 2.06.94-2.06 2.06-.94-2.06-.94-.94-2.06-.94 2.06-2.06.94zm-11 1L8.5 8.5l.94-2.06 2.06-.94-2.06-.94L8.5 2.5l-.94 2.06-2.06.94zm10 10l.94 2.06.94-2.06 2.06-.94-2.06-.94-.94-2.06-.94 2.06-2.06.94z\"/><path d=\"M17.41 7.96l-1.37-1.37c-.4-.4-.92-.59-1.43-.59-.52 0-1.04.2-1.43.59L10.3 9.45l-7.72 7.72c-.78.78-.78 2.05 0 2.83L4 21.41c.39.39.9.59 1.41.59.51 0 1.02-.2 1.41-.59l7.78-7.78 2.81-2.81c.8-.78.8-2.07 0-2.86zM5.41 20L4 18.59l7.72-7.72 1.47 1.35L5.41 20z\"/>\n",
              "  </svg>\n",
              "      </button>\n",
              "      \n",
              "  <style>\n",
              "    .colab-df-container {\n",
              "      display:flex;\n",
              "      flex-wrap:wrap;\n",
              "      gap: 12px;\n",
              "    }\n",
              "\n",
              "    .colab-df-convert {\n",
              "      background-color: #E8F0FE;\n",
              "      border: none;\n",
              "      border-radius: 50%;\n",
              "      cursor: pointer;\n",
              "      display: none;\n",
              "      fill: #1967D2;\n",
              "      height: 32px;\n",
              "      padding: 0 0 0 0;\n",
              "      width: 32px;\n",
              "    }\n",
              "\n",
              "    .colab-df-convert:hover {\n",
              "      background-color: #E2EBFA;\n",
              "      box-shadow: 0px 1px 2px rgba(60, 64, 67, 0.3), 0px 1px 3px 1px rgba(60, 64, 67, 0.15);\n",
              "      fill: #174EA6;\n",
              "    }\n",
              "\n",
              "    [theme=dark] .colab-df-convert {\n",
              "      background-color: #3B4455;\n",
              "      fill: #D2E3FC;\n",
              "    }\n",
              "\n",
              "    [theme=dark] .colab-df-convert:hover {\n",
              "      background-color: #434B5C;\n",
              "      box-shadow: 0px 1px 3px 1px rgba(0, 0, 0, 0.15);\n",
              "      filter: drop-shadow(0px 1px 2px rgba(0, 0, 0, 0.3));\n",
              "      fill: #FFFFFF;\n",
              "    }\n",
              "  </style>\n",
              "\n",
              "      <script>\n",
              "        const buttonEl =\n",
              "          document.querySelector('#df-d8d467dc-424d-43c8-86d5-b6416688c756 button.colab-df-convert');\n",
              "        buttonEl.style.display =\n",
              "          google.colab.kernel.accessAllowed ? 'block' : 'none';\n",
              "\n",
              "        async function convertToInteractive(key) {\n",
              "          const element = document.querySelector('#df-d8d467dc-424d-43c8-86d5-b6416688c756');\n",
              "          const dataTable =\n",
              "            await google.colab.kernel.invokeFunction('convertToInteractive',\n",
              "                                                     [key], {});\n",
              "          if (!dataTable) return;\n",
              "\n",
              "          const docLinkHtml = 'Like what you see? Visit the ' +\n",
              "            '<a target=\"_blank\" href=https://colab.research.google.com/notebooks/data_table.ipynb>data table notebook</a>'\n",
              "            + ' to learn more about interactive tables.';\n",
              "          element.innerHTML = '';\n",
              "          dataTable['output_type'] = 'display_data';\n",
              "          await google.colab.output.renderOutput(dataTable, element);\n",
              "          const docLink = document.createElement('div');\n",
              "          docLink.innerHTML = docLinkHtml;\n",
              "          element.appendChild(docLink);\n",
              "        }\n",
              "      </script>\n",
              "    </div>\n",
              "  </div>\n",
              "  "
            ]
          },
          "metadata": {},
          "execution_count": 75
        }
      ]
    },
    {
      "cell_type": "markdown",
      "source": [
        "## 提出"
      ],
      "metadata": {
        "id": "yv3iJ55C0nzW"
      }
    },
    {
      "cell_type": "code",
      "source": [
        "df_sub = pd.read_csv('/content/drive/MyDrive/輪読/titanic/test.csv')\n",
        "sub = pd.read_csv('/content/drive/MyDrive/輪読/titanic/gender_submission.csv')"
      ],
      "metadata": {
        "id": "GI1o9Vnqus_B"
      },
      "execution_count": null,
      "outputs": []
    },
    {
      "cell_type": "code",
      "source": [
        "X_sub = df_sub.drop(drop_col, axis=1)"
      ],
      "metadata": {
        "id": "eQEt-a7pvhxv"
      },
      "execution_count": null,
      "outputs": []
    },
    {
      "cell_type": "code",
      "source": [
        "y_pred_sub = predictor.predict(X_sub)"
      ],
      "metadata": {
        "id": "dC5bcP5Vvwqr"
      },
      "execution_count": null,
      "outputs": []
    },
    {
      "cell_type": "code",
      "source": [
        "sub['Survived'] = y_pred_sub\n",
        "sub"
      ],
      "metadata": {
        "colab": {
          "base_uri": "https://localhost:8080/",
          "height": 419
        },
        "id": "PGMBuRrMv4Jd",
        "outputId": "3c39223b-3856-4ce9-c719-984f039444d9"
      },
      "execution_count": null,
      "outputs": [
        {
          "output_type": "execute_result",
          "data": {
            "text/plain": [
              "     PassengerId  Survived\n",
              "0            892         0\n",
              "1            893         0\n",
              "2            894         0\n",
              "3            895         0\n",
              "4            896         0\n",
              "..           ...       ...\n",
              "413         1305         0\n",
              "414         1306         1\n",
              "415         1307         0\n",
              "416         1308         0\n",
              "417         1309         0\n",
              "\n",
              "[418 rows x 2 columns]"
            ],
            "text/html": [
              "\n",
              "  <div id=\"df-aab88d2e-4d69-4d28-8251-ef187ba2efae\">\n",
              "    <div class=\"colab-df-container\">\n",
              "      <div>\n",
              "<style scoped>\n",
              "    .dataframe tbody tr th:only-of-type {\n",
              "        vertical-align: middle;\n",
              "    }\n",
              "\n",
              "    .dataframe tbody tr th {\n",
              "        vertical-align: top;\n",
              "    }\n",
              "\n",
              "    .dataframe thead th {\n",
              "        text-align: right;\n",
              "    }\n",
              "</style>\n",
              "<table border=\"1\" class=\"dataframe\">\n",
              "  <thead>\n",
              "    <tr style=\"text-align: right;\">\n",
              "      <th></th>\n",
              "      <th>PassengerId</th>\n",
              "      <th>Survived</th>\n",
              "    </tr>\n",
              "  </thead>\n",
              "  <tbody>\n",
              "    <tr>\n",
              "      <th>0</th>\n",
              "      <td>892</td>\n",
              "      <td>0</td>\n",
              "    </tr>\n",
              "    <tr>\n",
              "      <th>1</th>\n",
              "      <td>893</td>\n",
              "      <td>0</td>\n",
              "    </tr>\n",
              "    <tr>\n",
              "      <th>2</th>\n",
              "      <td>894</td>\n",
              "      <td>0</td>\n",
              "    </tr>\n",
              "    <tr>\n",
              "      <th>3</th>\n",
              "      <td>895</td>\n",
              "      <td>0</td>\n",
              "    </tr>\n",
              "    <tr>\n",
              "      <th>4</th>\n",
              "      <td>896</td>\n",
              "      <td>0</td>\n",
              "    </tr>\n",
              "    <tr>\n",
              "      <th>...</th>\n",
              "      <td>...</td>\n",
              "      <td>...</td>\n",
              "    </tr>\n",
              "    <tr>\n",
              "      <th>413</th>\n",
              "      <td>1305</td>\n",
              "      <td>0</td>\n",
              "    </tr>\n",
              "    <tr>\n",
              "      <th>414</th>\n",
              "      <td>1306</td>\n",
              "      <td>1</td>\n",
              "    </tr>\n",
              "    <tr>\n",
              "      <th>415</th>\n",
              "      <td>1307</td>\n",
              "      <td>0</td>\n",
              "    </tr>\n",
              "    <tr>\n",
              "      <th>416</th>\n",
              "      <td>1308</td>\n",
              "      <td>0</td>\n",
              "    </tr>\n",
              "    <tr>\n",
              "      <th>417</th>\n",
              "      <td>1309</td>\n",
              "      <td>0</td>\n",
              "    </tr>\n",
              "  </tbody>\n",
              "</table>\n",
              "<p>418 rows × 2 columns</p>\n",
              "</div>\n",
              "      <button class=\"colab-df-convert\" onclick=\"convertToInteractive('df-aab88d2e-4d69-4d28-8251-ef187ba2efae')\"\n",
              "              title=\"Convert this dataframe to an interactive table.\"\n",
              "              style=\"display:none;\">\n",
              "        \n",
              "  <svg xmlns=\"http://www.w3.org/2000/svg\" height=\"24px\"viewBox=\"0 0 24 24\"\n",
              "       width=\"24px\">\n",
              "    <path d=\"M0 0h24v24H0V0z\" fill=\"none\"/>\n",
              "    <path d=\"M18.56 5.44l.94 2.06.94-2.06 2.06-.94-2.06-.94-.94-2.06-.94 2.06-2.06.94zm-11 1L8.5 8.5l.94-2.06 2.06-.94-2.06-.94L8.5 2.5l-.94 2.06-2.06.94zm10 10l.94 2.06.94-2.06 2.06-.94-2.06-.94-.94-2.06-.94 2.06-2.06.94z\"/><path d=\"M17.41 7.96l-1.37-1.37c-.4-.4-.92-.59-1.43-.59-.52 0-1.04.2-1.43.59L10.3 9.45l-7.72 7.72c-.78.78-.78 2.05 0 2.83L4 21.41c.39.39.9.59 1.41.59.51 0 1.02-.2 1.41-.59l7.78-7.78 2.81-2.81c.8-.78.8-2.07 0-2.86zM5.41 20L4 18.59l7.72-7.72 1.47 1.35L5.41 20z\"/>\n",
              "  </svg>\n",
              "      </button>\n",
              "      \n",
              "  <style>\n",
              "    .colab-df-container {\n",
              "      display:flex;\n",
              "      flex-wrap:wrap;\n",
              "      gap: 12px;\n",
              "    }\n",
              "\n",
              "    .colab-df-convert {\n",
              "      background-color: #E8F0FE;\n",
              "      border: none;\n",
              "      border-radius: 50%;\n",
              "      cursor: pointer;\n",
              "      display: none;\n",
              "      fill: #1967D2;\n",
              "      height: 32px;\n",
              "      padding: 0 0 0 0;\n",
              "      width: 32px;\n",
              "    }\n",
              "\n",
              "    .colab-df-convert:hover {\n",
              "      background-color: #E2EBFA;\n",
              "      box-shadow: 0px 1px 2px rgba(60, 64, 67, 0.3), 0px 1px 3px 1px rgba(60, 64, 67, 0.15);\n",
              "      fill: #174EA6;\n",
              "    }\n",
              "\n",
              "    [theme=dark] .colab-df-convert {\n",
              "      background-color: #3B4455;\n",
              "      fill: #D2E3FC;\n",
              "    }\n",
              "\n",
              "    [theme=dark] .colab-df-convert:hover {\n",
              "      background-color: #434B5C;\n",
              "      box-shadow: 0px 1px 3px 1px rgba(0, 0, 0, 0.15);\n",
              "      filter: drop-shadow(0px 1px 2px rgba(0, 0, 0, 0.3));\n",
              "      fill: #FFFFFF;\n",
              "    }\n",
              "  </style>\n",
              "\n",
              "      <script>\n",
              "        const buttonEl =\n",
              "          document.querySelector('#df-aab88d2e-4d69-4d28-8251-ef187ba2efae button.colab-df-convert');\n",
              "        buttonEl.style.display =\n",
              "          google.colab.kernel.accessAllowed ? 'block' : 'none';\n",
              "\n",
              "        async function convertToInteractive(key) {\n",
              "          const element = document.querySelector('#df-aab88d2e-4d69-4d28-8251-ef187ba2efae');\n",
              "          const dataTable =\n",
              "            await google.colab.kernel.invokeFunction('convertToInteractive',\n",
              "                                                     [key], {});\n",
              "          if (!dataTable) return;\n",
              "\n",
              "          const docLinkHtml = 'Like what you see? Visit the ' +\n",
              "            '<a target=\"_blank\" href=https://colab.research.google.com/notebooks/data_table.ipynb>data table notebook</a>'\n",
              "            + ' to learn more about interactive tables.';\n",
              "          element.innerHTML = '';\n",
              "          dataTable['output_type'] = 'display_data';\n",
              "          await google.colab.output.renderOutput(dataTable, element);\n",
              "          const docLink = document.createElement('div');\n",
              "          docLink.innerHTML = docLinkHtml;\n",
              "          element.appendChild(docLink);\n",
              "        }\n",
              "      </script>\n",
              "    </div>\n",
              "  </div>\n",
              "  "
            ]
          },
          "metadata": {},
          "execution_count": 42
        }
      ]
    },
    {
      "cell_type": "code",
      "source": [
        "sub.to_csv('/content/drive/MyDrive/輪読/submit/submit_agModel_default.csv', index=False)"
      ],
      "metadata": {
        "id": "U-Tw8ZOEwIAo"
      },
      "execution_count": null,
      "outputs": []
    },
    {
      "cell_type": "markdown",
      "source": [
        "LBで0.7799"
      ],
      "metadata": {
        "id": "hImNbbj80Vbm"
      }
    },
    {
      "cell_type": "markdown",
      "source": [
        "# 設定を変更"
      ],
      "metadata": {
        "id": "ox6PfAYt0atj"
      }
    },
    {
      "cell_type": "markdown",
      "source": [
        "デフォルトではmetricとしてaccuracyが用いられており、presetsはmedium_quality_faster_trainで性能とコストを両立する様になっている。これらを変更してより良いモデルを作ってみる"
      ],
      "metadata": {
        "id": "2kSHIwG31BTU"
      }
    },
    {
      "cell_type": "markdown",
      "source": [
        "## metricをaucにする"
      ],
      "metadata": {
        "id": "FKsUmwYa2ODK"
      }
    },
    {
      "cell_type": "code",
      "source": [
        "dir_auc = '/content/drive/MyDrive/輪読/model/agModels_auc'\n",
        "eval_metric = \"roc_auc\"\n",
        "label_column = 'Survived'"
      ],
      "metadata": {
        "id": "RTOj7BPo1lcM"
      },
      "execution_count": null,
      "outputs": []
    },
    {
      "cell_type": "code",
      "source": [
        "#verbosityを設定するとモデルの詳細を出力\n",
        "predictor = TabularPredictor(label=label_column, path=dir_auc, eval_metric=eval_metric, verbosity=3).fit(train_data=train_data)"
      ],
      "metadata": {
        "colab": {
          "base_uri": "https://localhost:8080/"
        },
        "id": "JZ4tCmaPwWZ7",
        "outputId": "06b7312b-a66e-46c3-d9d7-a15635b8962a"
      },
      "execution_count": null,
      "outputs": [
        {
          "output_type": "stream",
          "name": "stderr",
          "text": [
            "WARNING:autogluon.core.utils.utils:Warning: path already exists! This predictor may overwrite an existing predictor! path=\"/content/drive/MyDrive/輪読/model/agModels_auc_best\"\n",
            "INFO:root:============ fit kwarg info ============\n",
            "INFO:root:User Specified kwargs:\n",
            "INFO:root:{}\n",
            "INFO:root:Full kwargs:\n",
            "INFO:root:{'_feature_generator_kwargs': None,\n",
            " '_save_bag_folds': None,\n",
            " 'ag_args': None,\n",
            " 'ag_args_ensemble': None,\n",
            " 'ag_args_fit': None,\n",
            " 'auto_stack': False,\n",
            " 'excluded_model_types': None,\n",
            " 'feature_generator': 'auto',\n",
            " 'holdout_frac': None,\n",
            " 'hyperparameter_tune_kwargs': None,\n",
            " 'keep_only_best': False,\n",
            " 'num_bag_folds': None,\n",
            " 'num_bag_sets': None,\n",
            " 'num_stack_levels': None,\n",
            " 'quantile_levels': None,\n",
            " 'refit_full': False,\n",
            " 'save_space': False,\n",
            " 'set_best_to_refit_full': False,\n",
            " 'unlabeled_data': None,\n",
            " 'use_bag_holdout': False,\n",
            " 'verbosity': 3}\n",
            "INFO:root:========================================\n",
            "INFO:autogluon.tabular.learner.default_learner:Beginning AutoGluon training ...\n",
            "INFO:autogluon.tabular.learner.default_learner:AutoGluon will save models to \"/content/drive/MyDrive/輪読/model/agModels_auc_best/\"\n",
            "INFO:autogluon.tabular.learner.default_learner:AutoGluon Version:  0.3.1\n",
            "INFO:autogluon.tabular.learner.default_learner:Train Data Rows:    891\n",
            "INFO:autogluon.tabular.learner.default_learner:Train Data Columns: 7\n",
            "INFO:autogluon.tabular.learner.default_learner:Preprocessing data ...\n",
            "Level 25:autogluon.core.utils.utils:AutoGluon infers your prediction problem is: 'binary' (because only two unique label-values observed).\n",
            "INFO:autogluon.core.utils.utils:\t2 unique label values:  [0, 1]\n",
            "Level 25:autogluon.core.utils.utils:\tIf 'binary' is not the correct problem_type, please manually specify the problem_type argument in fit() (You may specify problem_type as one of: ['binary', 'multiclass', 'regression'])\n",
            "INFO:autogluon.core.data.label_cleaner:Selected class <--> label mapping:  class 1 = 1, class 0 = 0\n",
            "INFO:autogluon.tabular.learner.default_learner:Using Feature Generators to preprocess the data ...\n",
            "INFO:autogluon.features.generators.abstract:Fitting AutoMLPipelineFeatureGenerator...\n",
            "INFO:autogluon.features.generators.abstract:\tAvailable Memory:                    11590.25 MB\n",
            "INFO:autogluon.features.generators.abstract:\tTrain Data (Original)  Memory Usage: 0.14 MB (0.0% of available memory)\n",
            "INFO:autogluon.features.generators.abstract:\tInferring data type of each feature based on column values. Set feature_metadata_in to manually specify special dtypes of the features.\n",
            "INFO:autogluon.features.generators.abstract:\tStage 1 Generators:\n",
            "INFO:autogluon.features.generators.abstract:\t\tFitting AsTypeFeatureGenerator...\n",
            "INFO:autogluon.features.generators.abstract:\t\t\tNote: Converting 1 features to boolean dtype as they only contain 2 unique values.\n",
            "Level 15:autogluon.features.generators.abstract:\t\t\tOriginal Features (exact raw dtype, raw dtype):\n",
            "Level 15:autogluon.core.features.feature_metadata:\t\t\t\t('float64', 'float') : 2 | ['Age', 'Fare']\n",
            "Level 15:autogluon.core.features.feature_metadata:\t\t\t\t('int64', 'int')     : 3 | ['Pclass', 'SibSp', 'Parch']\n",
            "Level 15:autogluon.core.features.feature_metadata:\t\t\t\t('object', 'object') : 2 | ['Sex', 'Embarked']\n",
            "Level 15:autogluon.features.generators.abstract:\t\t\tTypes of features in original data (raw dtype, special dtypes):\n",
            "Level 15:autogluon.core.features.feature_metadata:\t\t\t\t('float', [])  : 2 | ['Age', 'Fare']\n",
            "Level 15:autogluon.core.features.feature_metadata:\t\t\t\t('int', [])    : 3 | ['Pclass', 'SibSp', 'Parch']\n",
            "Level 15:autogluon.core.features.feature_metadata:\t\t\t\t('object', []) : 2 | ['Sex', 'Embarked']\n",
            "Level 15:autogluon.features.generators.abstract:\t\t\tTypes of features in processed data (raw dtype, special dtypes):\n",
            "Level 15:autogluon.core.features.feature_metadata:\t\t\t\t('float', [])     : 2 | ['Age', 'Fare']\n",
            "Level 15:autogluon.core.features.feature_metadata:\t\t\t\t('int', [])       : 3 | ['Pclass', 'SibSp', 'Parch']\n",
            "Level 15:autogluon.core.features.feature_metadata:\t\t\t\t('int', ['bool']) : 1 | ['Sex']\n",
            "Level 15:autogluon.core.features.feature_metadata:\t\t\t\t('object', [])    : 1 | ['Embarked']\n",
            "Level 15:autogluon.features.generators.abstract:\t\t\t0.0s = Fit runtime\n",
            "Level 15:autogluon.features.generators.abstract:\t\t\t7 features in original data used to generate 7 features in processed data.\n",
            "INFO:autogluon.features.generators.abstract:\tStage 2 Generators:\n",
            "INFO:autogluon.features.generators.abstract:\t\tFitting FillNaFeatureGenerator...\n",
            "Level 15:autogluon.features.generators.abstract:\t\t\tTypes of features in original data (raw dtype, special dtypes):\n",
            "Level 15:autogluon.core.features.feature_metadata:\t\t\t\t('float', [])     : 2 | ['Age', 'Fare']\n",
            "Level 15:autogluon.core.features.feature_metadata:\t\t\t\t('int', [])       : 3 | ['Pclass', 'SibSp', 'Parch']\n",
            "Level 15:autogluon.core.features.feature_metadata:\t\t\t\t('int', ['bool']) : 1 | ['Sex']\n",
            "Level 15:autogluon.core.features.feature_metadata:\t\t\t\t('object', [])    : 1 | ['Embarked']\n",
            "Level 15:autogluon.features.generators.abstract:\t\t\tTypes of features in processed data (raw dtype, special dtypes):\n",
            "Level 15:autogluon.core.features.feature_metadata:\t\t\t\t('float', [])     : 2 | ['Age', 'Fare']\n",
            "Level 15:autogluon.core.features.feature_metadata:\t\t\t\t('int', [])       : 3 | ['Pclass', 'SibSp', 'Parch']\n",
            "Level 15:autogluon.core.features.feature_metadata:\t\t\t\t('int', ['bool']) : 1 | ['Sex']\n",
            "Level 15:autogluon.core.features.feature_metadata:\t\t\t\t('object', [])    : 1 | ['Embarked']\n",
            "Level 15:autogluon.features.generators.abstract:\t\t\t0.0s = Fit runtime\n",
            "Level 15:autogluon.features.generators.abstract:\t\t\t7 features in original data used to generate 7 features in processed data.\n",
            "INFO:autogluon.features.generators.abstract:\tStage 3 Generators:\n",
            "INFO:autogluon.features.generators.abstract:\t\tFitting IdentityFeatureGenerator...\n",
            "Level 15:autogluon.features.generators.abstract:\t\t\tTypes of features in original data (raw dtype, special dtypes):\n",
            "Level 15:autogluon.core.features.feature_metadata:\t\t\t\t('float', [])     : 2 | ['Age', 'Fare']\n",
            "Level 15:autogluon.core.features.feature_metadata:\t\t\t\t('int', [])       : 3 | ['Pclass', 'SibSp', 'Parch']\n",
            "Level 15:autogluon.core.features.feature_metadata:\t\t\t\t('int', ['bool']) : 1 | ['Sex']\n",
            "Level 15:autogluon.features.generators.abstract:\t\t\tTypes of features in processed data (raw dtype, special dtypes):\n",
            "Level 15:autogluon.core.features.feature_metadata:\t\t\t\t('float', [])     : 2 | ['Age', 'Fare']\n",
            "Level 15:autogluon.core.features.feature_metadata:\t\t\t\t('int', [])       : 3 | ['Pclass', 'SibSp', 'Parch']\n",
            "Level 15:autogluon.core.features.feature_metadata:\t\t\t\t('int', ['bool']) : 1 | ['Sex']\n",
            "Level 15:autogluon.features.generators.abstract:\t\t\t0.0s = Fit runtime\n",
            "Level 15:autogluon.features.generators.abstract:\t\t\t6 features in original data used to generate 6 features in processed data.\n",
            "INFO:autogluon.features.generators.abstract:\t\tFitting CategoryFeatureGenerator...\n",
            "INFO:autogluon.features.generators.abstract:\t\t\tFitting CategoryMemoryMinimizeFeatureGenerator...\n",
            "Level 15:autogluon.features.generators.abstract:\t\t\t\tTypes of features in original data (raw dtype, special dtypes):\n",
            "Level 15:autogluon.core.features.feature_metadata:\t\t\t\t\t('category', []) : 1 | ['Embarked']\n",
            "Level 15:autogluon.features.generators.abstract:\t\t\t\tTypes of features in processed data (raw dtype, special dtypes):\n",
            "Level 15:autogluon.core.features.feature_metadata:\t\t\t\t\t('category', []) : 1 | ['Embarked']\n",
            "Level 15:autogluon.features.generators.abstract:\t\t\t\t0.0s = Fit runtime\n",
            "Level 15:autogluon.features.generators.abstract:\t\t\t\t1 features in original data used to generate 1 features in processed data.\n",
            "Level 15:autogluon.features.generators.abstract:\t\t\tTypes of features in original data (raw dtype, special dtypes):\n",
            "Level 15:autogluon.core.features.feature_metadata:\t\t\t\t('object', []) : 1 | ['Embarked']\n",
            "Level 15:autogluon.features.generators.abstract:\t\t\tTypes of features in processed data (raw dtype, special dtypes):\n",
            "Level 15:autogluon.core.features.feature_metadata:\t\t\t\t('category', []) : 1 | ['Embarked']\n",
            "Level 15:autogluon.features.generators.abstract:\t\t\t0.1s = Fit runtime\n",
            "Level 15:autogluon.features.generators.abstract:\t\t\t1 features in original data used to generate 1 features in processed data.\n",
            "Level 15:autogluon.features.generators.abstract:\t\tSkipping DatetimeFeatureGenerator: No input feature with required dtypes.\n",
            "Level 15:autogluon.features.generators.abstract:\t\tSkipping TextSpecialFeatureGenerator: No input feature with required dtypes.\n",
            "Level 15:autogluon.features.generators.abstract:\t\tSkipping TextNgramFeatureGenerator: No input feature with required dtypes.\n",
            "Level 15:autogluon.features.generators.abstract:\t\tSkipping IdentityFeatureGenerator: No input feature with required dtypes.\n",
            "Level 15:autogluon.features.generators.abstract:\t\tSkipping IsNanFeatureGenerator: No input feature with required dtypes.\n",
            "INFO:autogluon.features.generators.abstract:\tStage 4 Generators:\n",
            "INFO:autogluon.features.generators.abstract:\t\tFitting DropUniqueFeatureGenerator...\n",
            "Level 15:autogluon.features.generators.abstract:\t\t\tTypes of features in original data (raw dtype, special dtypes):\n",
            "Level 15:autogluon.core.features.feature_metadata:\t\t\t\t('category', [])  : 1 | ['Embarked']\n",
            "Level 15:autogluon.core.features.feature_metadata:\t\t\t\t('float', [])     : 2 | ['Age', 'Fare']\n",
            "Level 15:autogluon.core.features.feature_metadata:\t\t\t\t('int', [])       : 3 | ['Pclass', 'SibSp', 'Parch']\n",
            "Level 15:autogluon.core.features.feature_metadata:\t\t\t\t('int', ['bool']) : 1 | ['Sex']\n",
            "Level 15:autogluon.features.generators.abstract:\t\t\tTypes of features in processed data (raw dtype, special dtypes):\n",
            "Level 15:autogluon.core.features.feature_metadata:\t\t\t\t('category', [])  : 1 | ['Embarked']\n",
            "Level 15:autogluon.core.features.feature_metadata:\t\t\t\t('float', [])     : 2 | ['Age', 'Fare']\n",
            "Level 15:autogluon.core.features.feature_metadata:\t\t\t\t('int', [])       : 3 | ['Pclass', 'SibSp', 'Parch']\n",
            "Level 15:autogluon.core.features.feature_metadata:\t\t\t\t('int', ['bool']) : 1 | ['Sex']\n",
            "Level 15:autogluon.features.generators.abstract:\t\t\t0.0s = Fit runtime\n",
            "Level 15:autogluon.features.generators.abstract:\t\t\t7 features in original data used to generate 7 features in processed data.\n",
            "Level 15:autogluon.features.generators.abstract:\tTypes of features in original data (exact raw dtype, raw dtype):\n",
            "Level 15:autogluon.core.features.feature_metadata:\t\t('float64', 'float') : 2 | ['Age', 'Fare']\n",
            "Level 15:autogluon.core.features.feature_metadata:\t\t('int64', 'int')     : 3 | ['Pclass', 'SibSp', 'Parch']\n",
            "Level 15:autogluon.core.features.feature_metadata:\t\t('object', 'object') : 2 | ['Sex', 'Embarked']\n",
            "INFO:autogluon.features.generators.abstract:\tTypes of features in original data (raw dtype, special dtypes):\n",
            "INFO:autogluon.core.features.feature_metadata:\t\t('float', [])  : 2 | ['Age', 'Fare']\n",
            "INFO:autogluon.core.features.feature_metadata:\t\t('int', [])    : 3 | ['Pclass', 'SibSp', 'Parch']\n",
            "INFO:autogluon.core.features.feature_metadata:\t\t('object', []) : 2 | ['Sex', 'Embarked']\n",
            "Level 15:autogluon.features.generators.abstract:\tTypes of features in processed data (exact raw dtype, raw dtype):\n",
            "Level 15:autogluon.core.features.feature_metadata:\t\t('category', 'category') : 1 | ['Embarked']\n",
            "Level 15:autogluon.core.features.feature_metadata:\t\t('float64', 'float')     : 2 | ['Age', 'Fare']\n",
            "Level 15:autogluon.core.features.feature_metadata:\t\t('int64', 'int')         : 3 | ['Pclass', 'SibSp', 'Parch']\n",
            "Level 15:autogluon.core.features.feature_metadata:\t\t('int8', 'int')          : 1 | ['Sex']\n",
            "INFO:autogluon.features.generators.abstract:\tTypes of features in processed data (raw dtype, special dtypes):\n",
            "INFO:autogluon.core.features.feature_metadata:\t\t('category', [])  : 1 | ['Embarked']\n",
            "INFO:autogluon.core.features.feature_metadata:\t\t('float', [])     : 2 | ['Age', 'Fare']\n",
            "INFO:autogluon.core.features.feature_metadata:\t\t('int', [])       : 3 | ['Pclass', 'SibSp', 'Parch']\n",
            "INFO:autogluon.core.features.feature_metadata:\t\t('int', ['bool']) : 1 | ['Sex']\n",
            "INFO:autogluon.features.generators.abstract:\t0.4s = Fit runtime\n",
            "INFO:autogluon.features.generators.abstract:\t7 features in original data used to generate 7 features in processed data.\n",
            "INFO:autogluon.features.generators.abstract:\tTrain Data (Processed) Memory Usage: 0.04 MB (0.0% of available memory)\n",
            "INFO:autogluon.tabular.learner.default_learner:Data preprocessing and feature engineering runtime = 0.44s ...\n",
            "Level 25:autogluon.tabular.trainer.abstract_trainer:AutoGluon will gauge predictive performance using evaluation metric: 'roc_auc'\n",
            "Level 25:autogluon.tabular.trainer.abstract_trainer:\tThis metric expects predicted probabilities rather than predicted class labels, so you'll need to use predict_proba() instead of predict()\n",
            "INFO:autogluon.tabular.trainer.abstract_trainer:\tTo change this, specify the eval_metric argument of fit()\n",
            "Level 15:autogluon.core.utils.savers.save_pkl:Saving /content/drive/MyDrive/輪読/model/agModels_auc_best/learner.pkl\n",
            "INFO:autogluon.tabular.trainer.auto_trainer:Automatically generating train/validation split with holdout_frac=0.2, Train Rows: 712, Val Rows: 179\n",
            "Level 15:autogluon.core.utils.savers.save_pkl:Saving /content/drive/MyDrive/輪読/model/agModels_auc_best/utils/data/X.pkl\n",
            "Level 15:autogluon.core.utils.savers.save_pkl:Saving /content/drive/MyDrive/輪読/model/agModels_auc_best/utils/data/y.pkl\n",
            "Level 15:autogluon.core.utils.savers.save_pkl:Saving /content/drive/MyDrive/輪読/model/agModels_auc_best/utils/data/X_val.pkl\n",
            "Level 15:autogluon.core.utils.savers.save_pkl:Saving /content/drive/MyDrive/輪読/model/agModels_auc_best/utils/data/y_val.pkl\n",
            "INFO:autogluon.tabular.trainer.model_presets.presets:Model configs that will be trained (in order):\n",
            "INFO:autogluon.tabular.trainer.model_presets.presets:\tKNeighborsUnif: \t{'weights': 'uniform', 'ag_args': {'valid_stacker': False, 'name_suffix': 'Unif', 'model_type': <class 'autogluon.tabular.models.knn.knn_model.KNNModel'>, 'priority': 100}, 'ag_args_ensemble': {'use_child_oof': True}}\n",
            "INFO:autogluon.tabular.trainer.model_presets.presets:\tKNeighborsDist: \t{'weights': 'distance', 'ag_args': {'valid_stacker': False, 'name_suffix': 'Dist', 'model_type': <class 'autogluon.tabular.models.knn.knn_model.KNNModel'>, 'priority': 100}, 'ag_args_ensemble': {'use_child_oof': True}}\n",
            "INFO:autogluon.tabular.trainer.model_presets.presets:\tLightGBMXT: \t{'extra_trees': True, 'ag_args': {'name_suffix': 'XT', 'model_type': <class 'autogluon.tabular.models.lgb.lgb_model.LGBModel'>, 'priority': 90}}\n",
            "INFO:autogluon.tabular.trainer.model_presets.presets:\tLightGBM: \t{'ag_args': {'model_type': <class 'autogluon.tabular.models.lgb.lgb_model.LGBModel'>, 'priority': 90}}\n",
            "INFO:autogluon.tabular.trainer.model_presets.presets:\tRandomForestGini: \t{'criterion': 'gini', 'ag_args': {'name_suffix': 'Gini', 'problem_types': ['binary', 'multiclass'], 'model_type': <class 'autogluon.tabular.models.rf.rf_model.RFModel'>, 'priority': 80}, 'ag_args_ensemble': {'use_child_oof': True}}\n",
            "INFO:autogluon.tabular.trainer.model_presets.presets:\tRandomForestEntr: \t{'criterion': 'entropy', 'ag_args': {'name_suffix': 'Entr', 'problem_types': ['binary', 'multiclass'], 'model_type': <class 'autogluon.tabular.models.rf.rf_model.RFModel'>, 'priority': 80}, 'ag_args_ensemble': {'use_child_oof': True}}\n",
            "INFO:autogluon.tabular.trainer.model_presets.presets:\tCatBoost: \t{'ag_args': {'model_type': <class 'autogluon.tabular.models.catboost.catboost_model.CatBoostModel'>, 'priority': 70}}\n",
            "INFO:autogluon.tabular.trainer.model_presets.presets:\tExtraTreesGini: \t{'criterion': 'gini', 'ag_args': {'name_suffix': 'Gini', 'problem_types': ['binary', 'multiclass'], 'model_type': <class 'autogluon.tabular.models.xt.xt_model.XTModel'>, 'priority': 60}, 'ag_args_ensemble': {'use_child_oof': True}}\n",
            "INFO:autogluon.tabular.trainer.model_presets.presets:\tExtraTreesEntr: \t{'criterion': 'entropy', 'ag_args': {'name_suffix': 'Entr', 'problem_types': ['binary', 'multiclass'], 'model_type': <class 'autogluon.tabular.models.xt.xt_model.XTModel'>, 'priority': 60}, 'ag_args_ensemble': {'use_child_oof': True}}\n",
            "INFO:autogluon.tabular.trainer.model_presets.presets:\tNeuralNetFastAI: \t{'ag_args': {'model_type': <class 'autogluon.tabular.models.fastainn.tabular_nn_fastai.NNFastAiTabularModel'>, 'priority': 50}}\n",
            "INFO:autogluon.tabular.trainer.model_presets.presets:\tXGBoost: \t{'ag_args': {'model_type': <class 'autogluon.tabular.models.xgboost.xgboost_model.XGBoostModel'>, 'priority': 40}}\n",
            "INFO:autogluon.tabular.trainer.model_presets.presets:\tNeuralNetMXNet: \t{'ag_args': {'model_type': <class 'autogluon.tabular.models.tabular_nn.tabular_nn_model.TabularNeuralNetModel'>, 'priority': 20}}\n",
            "INFO:autogluon.tabular.trainer.model_presets.presets:\tLightGBMLarge: \t{'learning_rate': 0.03, 'num_leaves': 128, 'feature_fraction': 0.9, 'min_data_in_leaf': 5, 'ag_args': {'model_type': <class 'autogluon.tabular.models.lgb.lgb_model.LGBModel'>, 'name_suffix': 'Large', 'hyperparameter_tune_kwargs': None, 'priority': 0}}\n",
            "INFO:autogluon.tabular.trainer.abstract_trainer:Fitting 13 L1 models ...\n",
            "INFO:autogluon.tabular.trainer.abstract_trainer:Fitting model: KNeighborsUnif ...\n",
            "Level 15:autogluon.core.models.abstract.abstract_model:\tFitting KNeighborsUnif with 'num_gpus': 0, 'num_cpus': 2\n",
            "Level 15:autogluon.core.utils.savers.save_pkl:Saving /content/drive/MyDrive/輪読/model/agModels_auc_best/models/KNeighborsUnif/model.pkl\n",
            "INFO:autogluon.tabular.trainer.abstract_trainer:\t0.6731\t = Validation score   (roc_auc)\n",
            "INFO:autogluon.tabular.trainer.abstract_trainer:\t0.03s\t = Training   runtime\n",
            "INFO:autogluon.tabular.trainer.abstract_trainer:\t0.15s\t = Validation runtime\n",
            "Level 15:autogluon.core.utils.savers.save_pkl:Saving /content/drive/MyDrive/輪読/model/agModels_auc_best/models/trainer.pkl\n",
            "INFO:autogluon.tabular.trainer.abstract_trainer:Fitting model: KNeighborsDist ...\n",
            "Level 15:autogluon.core.models.abstract.abstract_model:\tFitting KNeighborsDist with 'num_gpus': 0, 'num_cpus': 2\n",
            "Level 15:autogluon.core.utils.savers.save_pkl:Saving /content/drive/MyDrive/輪読/model/agModels_auc_best/models/KNeighborsDist/model.pkl\n",
            "INFO:autogluon.tabular.trainer.abstract_trainer:\t0.7109\t = Validation score   (roc_auc)\n",
            "INFO:autogluon.tabular.trainer.abstract_trainer:\t0.03s\t = Training   runtime\n",
            "INFO:autogluon.tabular.trainer.abstract_trainer:\t0.15s\t = Validation runtime\n",
            "Level 15:autogluon.core.utils.savers.save_pkl:Saving /content/drive/MyDrive/輪読/model/agModels_auc_best/models/trainer.pkl\n",
            "INFO:autogluon.tabular.trainer.abstract_trainer:Fitting model: LightGBMXT ...\n",
            "Level 15:autogluon.core.models.abstract.abstract_model:\tFitting LightGBMXT with 'num_gpus': 0, 'num_cpus': 2\n",
            "Level 15:autogluon.tabular.models.lgb.lgb_model:Training Gradient Boosting Model for 10000 rounds...\n",
            "Level 15:autogluon.tabular.models.lgb.lgb_model:with the following hyperparameter settings:\n",
            "Level 15:autogluon.tabular.models.lgb.lgb_model:{'num_threads': -1, 'learning_rate': 0.05, 'objective': 'binary', 'verbose': -1, 'boosting_type': 'gbdt', 'two_round': True, 'extra_trees': True}\n",
            "/usr/local/lib/python3.7/dist-packages/lightgbm/engine.py:239: UserWarning: 'verbose_eval' argument is deprecated and will be removed in a future release of LightGBM. Pass 'log_evaluation()' callback via 'callbacks' argument instead.\n",
            "  _log_warning(\"'verbose_eval' argument is deprecated and will be removed in a future release of LightGBM. \"\n",
            "Level 15:autogluon.core.utils.savers.save_pkl:Saving /content/drive/MyDrive/輪読/model/agModels_auc_best/models/LightGBMXT/model.pkl\n",
            "INFO:autogluon.tabular.trainer.abstract_trainer:\t0.8424\t = Validation score   (roc_auc)\n",
            "INFO:autogluon.tabular.trainer.abstract_trainer:\t0.56s\t = Training   runtime\n"
          ]
        },
        {
          "output_type": "stream",
          "name": "stdout",
          "text": [
            "[50]\ttrain_set's binary_logloss: 0.417901\tvalid_set's binary_logloss: 0.477585\n",
            "[100]\ttrain_set's binary_logloss: 0.37708\tvalid_set's binary_logloss: 0.467542\n",
            "[150]\ttrain_set's binary_logloss: 0.351245\tvalid_set's binary_logloss: 0.470153\n",
            "[200]\ttrain_set's binary_logloss: 0.334496\tvalid_set's binary_logloss: 0.474263\n",
            "[250]\ttrain_set's binary_logloss: 0.322369\tvalid_set's binary_logloss: 0.47991\n"
          ]
        },
        {
          "output_type": "stream",
          "name": "stderr",
          "text": [
            "INFO:autogluon.tabular.trainer.abstract_trainer:\t0.01s\t = Validation runtime\n",
            "Level 15:autogluon.core.utils.savers.save_pkl:Saving /content/drive/MyDrive/輪読/model/agModels_auc_best/models/trainer.pkl\n",
            "INFO:autogluon.tabular.trainer.abstract_trainer:Fitting model: LightGBM ...\n",
            "Level 15:autogluon.core.models.abstract.abstract_model:\tFitting LightGBM with 'num_gpus': 0, 'num_cpus': 2\n",
            "Level 15:autogluon.tabular.models.lgb.lgb_model:Training Gradient Boosting Model for 10000 rounds...\n",
            "Level 15:autogluon.tabular.models.lgb.lgb_model:with the following hyperparameter settings:\n",
            "Level 15:autogluon.tabular.models.lgb.lgb_model:{'num_threads': -1, 'learning_rate': 0.05, 'objective': 'binary', 'verbose': -1, 'boosting_type': 'gbdt', 'two_round': True}\n",
            "/usr/local/lib/python3.7/dist-packages/lightgbm/engine.py:239: UserWarning: 'verbose_eval' argument is deprecated and will be removed in a future release of LightGBM. Pass 'log_evaluation()' callback via 'callbacks' argument instead.\n",
            "  _log_warning(\"'verbose_eval' argument is deprecated and will be removed in a future release of LightGBM. \"\n",
            "Level 15:autogluon.core.utils.savers.save_pkl:Saving /content/drive/MyDrive/輪読/model/agModels_auc_best/models/LightGBM/model.pkl\n"
          ]
        },
        {
          "output_type": "stream",
          "name": "stdout",
          "text": [
            "[50]\ttrain_set's binary_logloss: 0.306473\tvalid_set's binary_logloss: 0.472978\n",
            "[100]\ttrain_set's binary_logloss: 0.222475\tvalid_set's binary_logloss: 0.481468\n",
            "[150]\ttrain_set's binary_logloss: 0.17402\tvalid_set's binary_logloss: 0.520898\n"
          ]
        },
        {
          "output_type": "stream",
          "name": "stderr",
          "text": [
            "INFO:autogluon.tabular.trainer.abstract_trainer:\t0.8291\t = Validation score   (roc_auc)\n",
            "INFO:autogluon.tabular.trainer.abstract_trainer:\t0.5s\t = Training   runtime\n",
            "INFO:autogluon.tabular.trainer.abstract_trainer:\t0.01s\t = Validation runtime\n",
            "Level 15:autogluon.core.utils.savers.save_pkl:Saving /content/drive/MyDrive/輪読/model/agModels_auc_best/models/trainer.pkl\n",
            "INFO:autogluon.tabular.trainer.abstract_trainer:Fitting model: RandomForestGini ...\n",
            "Level 15:autogluon.core.models.abstract.abstract_model:\tFitting RandomForestGini with 'num_gpus': 0, 'num_cpus': 2\n",
            "Level 15:autogluon.core.utils.savers.save_pkl:Saving /content/drive/MyDrive/輪読/model/agModels_auc_best/models/RandomForestGini/model.pkl\n",
            "INFO:autogluon.tabular.trainer.abstract_trainer:\t0.8175\t = Validation score   (roc_auc)\n",
            "INFO:autogluon.tabular.trainer.abstract_trainer:\t1.14s\t = Training   runtime\n",
            "INFO:autogluon.tabular.trainer.abstract_trainer:\t0.21s\t = Validation runtime\n",
            "Level 15:autogluon.core.utils.savers.save_pkl:Saving /content/drive/MyDrive/輪読/model/agModels_auc_best/models/trainer.pkl\n",
            "INFO:autogluon.tabular.trainer.abstract_trainer:Fitting model: RandomForestEntr ...\n",
            "Level 15:autogluon.core.models.abstract.abstract_model:\tFitting RandomForestEntr with 'num_gpus': 0, 'num_cpus': 2\n",
            "Level 15:autogluon.core.utils.savers.save_pkl:Saving /content/drive/MyDrive/輪読/model/agModels_auc_best/models/RandomForestEntr/model.pkl\n",
            "INFO:autogluon.tabular.trainer.abstract_trainer:\t0.8196\t = Validation score   (roc_auc)\n",
            "INFO:autogluon.tabular.trainer.abstract_trainer:\t1.09s\t = Training   runtime\n",
            "INFO:autogluon.tabular.trainer.abstract_trainer:\t0.11s\t = Validation runtime\n",
            "Level 15:autogluon.core.utils.savers.save_pkl:Saving /content/drive/MyDrive/輪読/model/agModels_auc_best/models/trainer.pkl\n",
            "INFO:autogluon.tabular.trainer.abstract_trainer:Fitting model: CatBoost ...\n",
            "Level 15:autogluon.core.models.abstract.abstract_model:\tFitting CatBoost with 'num_gpus': 0, 'num_cpus': 2\n",
            "Level 15:autogluon.tabular.models.catboost.catboost_model:\tCatboost model hyperparameters: {'iterations': 10000, 'learning_rate': 0.05, 'random_seed': 0, 'allow_writing_files': False, 'eval_metric': 'Logloss'}\n"
          ]
        },
        {
          "output_type": "stream",
          "name": "stdout",
          "text": [
            "0:\tlearn: 0.6617265\ttest: 0.6680222\tbest: 0.6680222 (0)\ttotal: 10.8ms\tremaining: 1m 48s\n",
            "20:\tlearn: 0.4280255\ttest: 0.4855781\tbest: 0.4855781 (20)\ttotal: 66.5ms\tremaining: 31.6s\n",
            "40:\tlearn: 0.3749873\ttest: 0.4583035\tbest: 0.4583035 (40)\ttotal: 122ms\tremaining: 29.6s\n",
            "60:\tlearn: 0.3499453\ttest: 0.4517534\tbest: 0.4517534 (60)\ttotal: 166ms\tremaining: 27.1s\n",
            "80:\tlearn: 0.3324144\ttest: 0.4479276\tbest: 0.4475040 (73)\ttotal: 213ms\tremaining: 26.1s\n",
            "100:\tlearn: 0.3201819\ttest: 0.4474929\tbest: 0.4468619 (95)\ttotal: 267ms\tremaining: 26.2s\n",
            "120:\tlearn: 0.3088577\ttest: 0.4511113\tbest: 0.4468619 (95)\ttotal: 311ms\tremaining: 25.4s\n",
            "140:\tlearn: 0.3011650\ttest: 0.4528780\tbest: 0.4468619 (95)\ttotal: 349ms\tremaining: 24.4s\n",
            "160:\tlearn: 0.2898971\ttest: 0.4542013\tbest: 0.4468619 (95)\ttotal: 400ms\tremaining: 24.5s\n"
          ]
        },
        {
          "output_type": "stream",
          "name": "stderr",
          "text": [
            "Level 15:autogluon.core.utils.savers.save_pkl:Saving /content/drive/MyDrive/輪読/model/agModels_auc_best/models/CatBoost/model.pkl\n",
            "INFO:autogluon.tabular.trainer.abstract_trainer:\t0.8433\t = Validation score   (roc_auc)\n",
            "INFO:autogluon.tabular.trainer.abstract_trainer:\t0.66s\t = Training   runtime\n",
            "INFO:autogluon.tabular.trainer.abstract_trainer:\t0.01s\t = Validation runtime\n"
          ]
        },
        {
          "output_type": "stream",
          "name": "stdout",
          "text": [
            "180:\tlearn: 0.2811819\ttest: 0.4585342\tbest: 0.4468619 (95)\ttotal: 453ms\tremaining: 24.6s\n",
            "200:\tlearn: 0.2719112\ttest: 0.4562916\tbest: 0.4468619 (95)\ttotal: 503ms\tremaining: 24.5s\n",
            "220:\tlearn: 0.2620927\ttest: 0.4594572\tbest: 0.4468619 (95)\ttotal: 545ms\tremaining: 24.1s\n",
            "240:\tlearn: 0.2530569\ttest: 0.4571266\tbest: 0.4468619 (95)\ttotal: 592ms\tremaining: 24s\n",
            "Stopped by overfitting detector  (150 iterations wait)\n",
            "\n",
            "bestTest = 0.4468619145\n",
            "bestIteration = 95\n",
            "\n",
            "Shrink model to first 96 iterations.\n"
          ]
        },
        {
          "output_type": "stream",
          "name": "stderr",
          "text": [
            "Level 15:autogluon.core.utils.savers.save_pkl:Saving /content/drive/MyDrive/輪読/model/agModels_auc_best/models/trainer.pkl\n",
            "INFO:autogluon.tabular.trainer.abstract_trainer:Fitting model: ExtraTreesGini ...\n",
            "Level 15:autogluon.core.models.abstract.abstract_model:\tFitting ExtraTreesGini with 'num_gpus': 0, 'num_cpus': 2\n",
            "Level 15:autogluon.core.utils.savers.save_pkl:Saving /content/drive/MyDrive/輪読/model/agModels_auc_best/models/ExtraTreesGini/model.pkl\n",
            "INFO:autogluon.tabular.trainer.abstract_trainer:\t0.8107\t = Validation score   (roc_auc)\n",
            "INFO:autogluon.tabular.trainer.abstract_trainer:\t0.99s\t = Training   runtime\n",
            "INFO:autogluon.tabular.trainer.abstract_trainer:\t0.21s\t = Validation runtime\n",
            "Level 15:autogluon.core.utils.savers.save_pkl:Saving /content/drive/MyDrive/輪読/model/agModels_auc_best/models/trainer.pkl\n",
            "INFO:autogluon.tabular.trainer.abstract_trainer:Fitting model: ExtraTreesEntr ...\n",
            "Level 15:autogluon.core.models.abstract.abstract_model:\tFitting ExtraTreesEntr with 'num_gpus': 0, 'num_cpus': 2\n",
            "Level 15:autogluon.core.utils.savers.save_pkl:Saving /content/drive/MyDrive/輪読/model/agModels_auc_best/models/ExtraTreesEntr/model.pkl\n",
            "INFO:autogluon.tabular.trainer.abstract_trainer:\t0.8094\t = Validation score   (roc_auc)\n",
            "INFO:autogluon.tabular.trainer.abstract_trainer:\t1.11s\t = Training   runtime\n",
            "INFO:autogluon.tabular.trainer.abstract_trainer:\t0.21s\t = Validation runtime\n",
            "Level 15:autogluon.core.utils.savers.save_pkl:Saving /content/drive/MyDrive/輪読/model/agModels_auc_best/models/trainer.pkl\n",
            "INFO:autogluon.tabular.trainer.abstract_trainer:Fitting model: NeuralNetFastAI ...\n",
            "Level 15:autogluon.core.models.abstract.abstract_model:\tFitting NeuralNetFastAI with 'num_gpus': 0, 'num_cpus': 2\n",
            "Level 15:autogluon.tabular.models.fastainn.tabular_nn_fastai:Fitting Neural Network with parameters {'layers': None, 'emb_drop': 0.1, 'ps': 0.1, 'bs': 256, 'lr': 0.01, 'epochs': 30, 'early.stopping.min_delta': 0.0001, 'early.stopping.patience': 20, 'smoothing': 0.0}...\n",
            "Level 15:autogluon.tabular.models.fastainn.tabular_nn_fastai:Using 1/1 categorical features\n",
            "Level 15:autogluon.tabular.models.fastainn.tabular_nn_fastai:Using 6 cont features\n",
            "Level 15:autogluon.tabular.models.fastainn.tabular_nn_fastai:TabularModel(\n",
            "  (embeds): ModuleList(\n",
            "    (0): Embedding(5, 4)\n",
            "  )\n",
            "  (emb_drop): Dropout(p=0.1, inplace=False)\n",
            "  (bn_cont): BatchNorm1d(6, eps=1e-05, momentum=0.1, affine=True, track_running_stats=True)\n",
            "  (layers): Sequential(\n",
            "    (0): LinBnDrop(\n",
            "      (0): Linear(in_features=10, out_features=200, bias=False)\n",
            "      (1): ReLU(inplace=True)\n",
            "      (2): BatchNorm1d(200, eps=1e-05, momentum=0.1, affine=True, track_running_stats=True)\n",
            "      (3): Dropout(p=0.1, inplace=False)\n",
            "    )\n",
            "    (1): LinBnDrop(\n",
            "      (0): Linear(in_features=200, out_features=100, bias=False)\n",
            "      (1): ReLU(inplace=True)\n",
            "      (2): BatchNorm1d(100, eps=1e-05, momentum=0.1, affine=True, track_running_stats=True)\n",
            "      (3): Dropout(p=0.1, inplace=False)\n",
            "    )\n",
            "    (2): LinBnDrop(\n",
            "      (0): Linear(in_features=100, out_features=2, bias=True)\n",
            "    )\n",
            "  )\n",
            ")\n",
            "Level 15:autogluon.tabular.models.fastainn.callbacks:Better model found at epoch 0 with valid_loss value: 0.6966031193733215.\n",
            "Level 15:autogluon.tabular.models.fastainn.callbacks:Better model found at epoch 1 with valid_loss value: 0.6543150544166565.\n",
            "Level 15:autogluon.tabular.models.fastainn.callbacks:Better model found at epoch 2 with valid_loss value: 0.5857568979263306.\n",
            "Level 15:autogluon.tabular.models.fastainn.callbacks:Better model found at epoch 3 with valid_loss value: 0.5238354206085205.\n",
            "Level 15:autogluon.tabular.models.fastainn.callbacks:Better model found at epoch 4 with valid_loss value: 0.489536851644516.\n",
            "Level 15:autogluon.tabular.models.fastainn.callbacks:Better model found at epoch 5 with valid_loss value: 0.47320377826690674.\n",
            "Level 15:autogluon.tabular.models.fastainn.callbacks:Better model found at epoch 6 with valid_loss value: 0.4669169783592224.\n",
            "Level 15:autogluon.tabular.models.fastainn.callbacks:Better model found at epoch 7 with valid_loss value: 0.46278125047683716.\n",
            "Level 15:autogluon.tabular.models.fastainn.callbacks:Better model found at epoch 11 with valid_loss value: 0.45872873067855835.\n",
            "Level 15:autogluon.tabular.models.fastainn.callbacks:Better model found at epoch 12 with valid_loss value: 0.4532085061073303.\n",
            "Level 15:autogluon.tabular.models.fastainn.callbacks:Better model found at epoch 13 with valid_loss value: 0.453187495470047.\n",
            "Level 15:autogluon.tabular.models.fastainn.tabular_nn_fastai:Model validation metrics: 0.453187495470047\n",
            "Level 15:autogluon.core.utils.savers.save_pkl:Saving /content/drive/MyDrive/輪読/model/agModels_auc_best/models/NeuralNetFastAI/model.pkl\n",
            "Level 15:autogluon.core.utils.savers.save_pkl:Saving /content/drive/MyDrive/輪読/model/agModels_auc_best/models/NeuralNetFastAI/model-internals.pkl\n",
            "INFO:autogluon.tabular.trainer.abstract_trainer:\t0.8211\t = Validation score   (roc_auc)\n",
            "INFO:autogluon.tabular.trainer.abstract_trainer:\t1.91s\t = Training   runtime\n",
            "INFO:autogluon.tabular.trainer.abstract_trainer:\t0.04s\t = Validation runtime\n",
            "Level 15:autogluon.core.utils.savers.save_pkl:Saving /content/drive/MyDrive/輪読/model/agModels_auc_best/models/trainer.pkl\n",
            "INFO:autogluon.tabular.trainer.abstract_trainer:Fitting model: XGBoost ...\n",
            "Level 15:autogluon.core.models.abstract.abstract_model:\tFitting XGBoost with 'num_gpus': 0, 'num_cpus': 2\n"
          ]
        },
        {
          "output_type": "stream",
          "name": "stdout",
          "text": [
            "[0]\tvalidation_0-logloss:0.64753\n",
            "[50]\tvalidation_0-logloss:0.47666\n",
            "[100]\tvalidation_0-logloss:0.49619\n",
            "[150]\tvalidation_0-logloss:0.51641\n",
            "[174]\tvalidation_0-logloss:0.52710\n"
          ]
        },
        {
          "output_type": "stream",
          "name": "stderr",
          "text": [
            "Level 15:autogluon.core.utils.savers.save_pkl:Saving /content/drive/MyDrive/輪読/model/agModels_auc_best/models/XGBoost/model.pkl\n",
            "INFO:autogluon.tabular.trainer.abstract_trainer:\t0.8403\t = Validation score   (roc_auc)\n",
            "INFO:autogluon.tabular.trainer.abstract_trainer:\t0.37s\t = Training   runtime\n",
            "INFO:autogluon.tabular.trainer.abstract_trainer:\t0.01s\t = Validation runtime\n",
            "Level 15:autogluon.core.utils.savers.save_pkl:Saving /content/drive/MyDrive/輪読/model/agModels_auc_best/models/trainer.pkl\n",
            "INFO:autogluon.tabular.trainer.abstract_trainer:Fitting model: NeuralNetMXNet ...\n",
            "Level 15:autogluon.core.models.abstract.abstract_model:\tFitting NeuralNetMXNet with 'num_gpus': 0, 'num_cpus': 2\n",
            "ERROR:autogluon.tabular.trainer.abstract_trainer:\tWarning: Exception caused NeuralNetMXNet to fail during training (ImportError)... Skipping this model.\n",
            "ERROR:autogluon.tabular.trainer.abstract_trainer:\t\tUnable to import dependency mxnet. A quick tip is to install via `pip install mxnet --upgrade`, or `pip install mxnet_cu101 --upgrade`\n",
            "ERROR:autogluon.tabular.trainer.abstract_trainer:Detailed Traceback:\n",
            "Traceback (most recent call last):\n",
            "  File \"/usr/local/lib/python3.7/dist-packages/autogluon/core/utils/try_import.py\", line 31, in try_import_mxnet\n",
            "    import mxnet as mx\n",
            "ModuleNotFoundError: No module named 'mxnet'\n",
            "\n",
            "During handling of the above exception, another exception occurred:\n",
            "\n",
            "Traceback (most recent call last):\n",
            "  File \"/usr/local/lib/python3.7/dist-packages/autogluon/tabular/trainer/abstract_trainer.py\", line 962, in _train_and_save\n",
            "    model = self._train_single(X, y, model, X_val, y_val, **model_fit_kwargs)\n",
            "  File \"/usr/local/lib/python3.7/dist-packages/autogluon/tabular/trainer/abstract_trainer.py\", line 934, in _train_single\n",
            "    model = model.fit(X=X, y=y, X_val=X_val, y_val=y_val, **model_fit_kwargs)\n",
            "  File \"/usr/local/lib/python3.7/dist-packages/autogluon/core/models/abstract/abstract_model.py\", line 522, in fit\n",
            "    out = self._fit(**kwargs)\n",
            "  File \"/usr/local/lib/python3.7/dist-packages/autogluon/tabular/models/tabular_nn/tabular_nn_model.py\", line 168, in _fit\n",
            "    try_import_mxnet()\n",
            "  File \"/usr/local/lib/python3.7/dist-packages/autogluon/core/utils/try_import.py\", line 43, in try_import_mxnet\n",
            "    \"Unable to import dependency mxnet. \"\n",
            "ImportError: Unable to import dependency mxnet. A quick tip is to install via `pip install mxnet --upgrade`, or `pip install mxnet_cu101 --upgrade`\n",
            "Level 15:autogluon.core.utils.savers.save_pkl:Saving /content/drive/MyDrive/輪読/model/agModels_auc_best/models/trainer.pkl\n",
            "INFO:autogluon.tabular.trainer.abstract_trainer:Fitting model: LightGBMLarge ...\n",
            "Level 15:autogluon.core.models.abstract.abstract_model:\tFitting LightGBMLarge with 'num_gpus': 0, 'num_cpus': 2\n",
            "Level 15:autogluon.tabular.models.lgb.lgb_model:Training Gradient Boosting Model for 10000 rounds...\n",
            "Level 15:autogluon.tabular.models.lgb.lgb_model:with the following hyperparameter settings:\n",
            "Level 15:autogluon.tabular.models.lgb.lgb_model:{'num_threads': -1, 'learning_rate': 0.03, 'objective': 'binary', 'verbose': -1, 'boosting_type': 'gbdt', 'two_round': True, 'num_leaves': 128, 'feature_fraction': 0.9, 'min_data_in_leaf': 5}\n",
            "/usr/local/lib/python3.7/dist-packages/lightgbm/engine.py:239: UserWarning: 'verbose_eval' argument is deprecated and will be removed in a future release of LightGBM. Pass 'log_evaluation()' callback via 'callbacks' argument instead.\n",
            "  _log_warning(\"'verbose_eval' argument is deprecated and will be removed in a future release of LightGBM. \"\n"
          ]
        },
        {
          "output_type": "stream",
          "name": "stdout",
          "text": [
            "[50]\ttrain_set's binary_logloss: 0.262627\tvalid_set's binary_logloss: 0.466871\n",
            "[100]\ttrain_set's binary_logloss: 0.143286\tvalid_set's binary_logloss: 0.501164\n",
            "[150]\ttrain_set's binary_logloss: 0.0863635\tvalid_set's binary_logloss: 0.56756\n"
          ]
        },
        {
          "output_type": "stream",
          "name": "stderr",
          "text": [
            "Level 15:autogluon.core.utils.savers.save_pkl:Saving /content/drive/MyDrive/輪読/model/agModels_auc_best/models/LightGBMLarge/model.pkl\n",
            "INFO:autogluon.tabular.trainer.abstract_trainer:\t0.8196\t = Validation score   (roc_auc)\n",
            "INFO:autogluon.tabular.trainer.abstract_trainer:\t0.79s\t = Training   runtime\n",
            "INFO:autogluon.tabular.trainer.abstract_trainer:\t0.01s\t = Validation runtime\n",
            "Level 15:autogluon.core.utils.savers.save_pkl:Saving /content/drive/MyDrive/輪読/model/agModels_auc_best/models/trainer.pkl\n",
            "Level 15:autogluon.core.utils.loaders.load_pkl:Loading: /content/drive/MyDrive/輪読/model/agModels_auc_best/models/CatBoost/model.pkl\n",
            "Level 15:autogluon.core.utils.loaders.load_pkl:Loading: /content/drive/MyDrive/輪読/model/agModels_auc_best/models/ExtraTreesEntr/model.pkl\n"
          ]
        },
        {
          "output_type": "stream",
          "name": "stdout",
          "text": [
            "[200]\ttrain_set's binary_logloss: 0.0598874\tvalid_set's binary_logloss: 0.643024\n"
          ]
        },
        {
          "output_type": "stream",
          "name": "stderr",
          "text": [
            "Level 15:autogluon.core.utils.loaders.load_pkl:Loading: /content/drive/MyDrive/輪読/model/agModels_auc_best/models/ExtraTreesGini/model.pkl\n",
            "Level 15:autogluon.core.utils.loaders.load_pkl:Loading: /content/drive/MyDrive/輪読/model/agModels_auc_best/models/KNeighborsDist/model.pkl\n",
            "Level 15:autogluon.core.utils.loaders.load_pkl:Loading: /content/drive/MyDrive/輪読/model/agModels_auc_best/models/KNeighborsUnif/model.pkl\n",
            "Level 15:autogluon.core.utils.loaders.load_pkl:Loading: /content/drive/MyDrive/輪読/model/agModels_auc_best/models/LightGBM/model.pkl\n",
            "Level 15:autogluon.core.utils.loaders.load_pkl:Loading: /content/drive/MyDrive/輪読/model/agModels_auc_best/models/LightGBMLarge/model.pkl\n",
            "Level 15:autogluon.core.utils.loaders.load_pkl:Loading: /content/drive/MyDrive/輪読/model/agModels_auc_best/models/LightGBMXT/model.pkl\n",
            "Level 15:autogluon.core.utils.loaders.load_pkl:Loading: /content/drive/MyDrive/輪読/model/agModels_auc_best/models/NeuralNetFastAI/model.pkl\n",
            "Level 15:autogluon.core.utils.loaders.load_pkl:Loading: /content/drive/MyDrive/輪読/model/agModels_auc_best/models/NeuralNetFastAI/model-internals.pkl\n",
            "Level 15:autogluon.core.utils.loaders.load_pkl:Loading: /content/drive/MyDrive/輪読/model/agModels_auc_best/models/RandomForestEntr/model.pkl\n",
            "Level 15:autogluon.core.utils.loaders.load_pkl:Loading: /content/drive/MyDrive/輪読/model/agModels_auc_best/models/RandomForestGini/model.pkl\n",
            "Level 15:autogluon.core.utils.loaders.load_pkl:Loading: /content/drive/MyDrive/輪読/model/agModels_auc_best/models/XGBoost/model.pkl\n",
            "INFO:autogluon.tabular.trainer.model_presets.presets:Model configs that will be trained (in order):\n",
            "INFO:autogluon.tabular.trainer.model_presets.presets:\tWeightedEnsemble_L2: \t{'ag_args': {'valid_base': False, 'name_bag_suffix': '', 'model_type': <class 'autogluon.core.models.greedy_ensemble.greedy_weighted_ensemble_model.GreedyWeightedEnsembleModel'>, 'priority': 0}, 'ag_args_ensemble': {'save_bag_folds': True}}\n",
            "INFO:autogluon.tabular.trainer.abstract_trainer:Fitting model: WeightedEnsemble_L2 ...\n",
            "Level 15:autogluon.core.utils.savers.save_pkl:Saving /content/drive/MyDrive/輪読/model/agModels_auc_best/models/WeightedEnsemble_L2/utils/model_template.pkl\n",
            "Level 15:autogluon.core.models.abstract.abstract_model:\tFitting S1F1 with 'num_gpus': 0, 'num_cpus': 2\n",
            "Level 15:autogluon.core.models.greedy_ensemble.ensemble_selection:Ensemble size: 83\n",
            "Level 15:autogluon.core.models.greedy_ensemble.ensemble_selection:Ensemble weights: \n",
            "Level 15:autogluon.core.models.greedy_ensemble.ensemble_selection:[0.         0.08433735 0.45783133 0.07228916 0.         0.\n",
            " 0.09638554 0.01204819 0.         0.04819277 0.12048193 0.10843373]\n",
            "Level 15:autogluon.core.utils.savers.save_pkl:Saving /content/drive/MyDrive/輪読/model/agModels_auc_best/models/WeightedEnsemble_L2/utils/oof.pkl\n",
            "Level 15:autogluon.core.utils.savers.save_pkl:Saving /content/drive/MyDrive/輪読/model/agModels_auc_best/models/WeightedEnsemble_L2/model.pkl\n",
            "INFO:autogluon.tabular.trainer.abstract_trainer:\t0.8616\t = Validation score   (roc_auc)\n",
            "INFO:autogluon.tabular.trainer.abstract_trainer:\t3.06s\t = Training   runtime\n",
            "INFO:autogluon.tabular.trainer.abstract_trainer:\t0.02s\t = Validation runtime\n",
            "Level 15:autogluon.core.utils.savers.save_pkl:Saving /content/drive/MyDrive/輪読/model/agModels_auc_best/models/trainer.pkl\n",
            "Level 15:autogluon.core.utils.savers.save_pkl:Saving /content/drive/MyDrive/輪読/model/agModels_auc_best/models/trainer.pkl\n",
            "Level 15:autogluon.core.utils.savers.save_pkl:Saving /content/drive/MyDrive/輪読/model/agModels_auc_best/models/trainer.pkl\n",
            "INFO:autogluon.tabular.learner.default_learner:AutoGluon training complete, total runtime = 17.41s ...\n",
            "Level 15:autogluon.core.utils.loaders.load_pkl:Loading: /content/drive/MyDrive/輪読/model/agModels_auc_best/models/trainer.pkl\n",
            "Level 15:autogluon.core.utils.savers.save_pkl:Saving /content/drive/MyDrive/輪読/model/agModels_auc_best/models/trainer.pkl\n",
            "Level 15:autogluon.core.utils.savers.save_pkl:Saving /content/drive/MyDrive/輪読/model/agModels_auc_best/learner.pkl\n",
            "Level 15:autogluon.core.utils.savers.save_pkl:Saving /content/drive/MyDrive/輪読/model/agModels_auc_best/predictor.pkl\n",
            "INFO:root:TabularPredictor saved. To load, use: predictor = TabularPredictor.load(\"/content/drive/MyDrive/輪読/model/agModels_auc_best/\")\n"
          ]
        }
      ]
    },
    {
      "cell_type": "markdown",
      "source": [
        "### 提出"
      ],
      "metadata": {
        "id": "xIB3REh22svO"
      }
    },
    {
      "cell_type": "code",
      "source": [
        "df_sub = pd.read_csv('/content/drive/MyDrive/輪読/titanic/test.csv')\n",
        "sub = pd.read_csv('/content/drive/MyDrive/輪読/titanic/gender_submission.csv')"
      ],
      "metadata": {
        "id": "kpqSsKjG2jIe"
      },
      "execution_count": null,
      "outputs": []
    },
    {
      "cell_type": "code",
      "source": [
        "X_sub = df_sub.drop(drop_col, axis=1)"
      ],
      "metadata": {
        "id": "0Yz5w1Hm2xRo"
      },
      "execution_count": null,
      "outputs": []
    },
    {
      "cell_type": "code",
      "source": [
        "y_pred_sub = predictor.predict(X_sub)"
      ],
      "metadata": {
        "colab": {
          "base_uri": "https://localhost:8080/"
        },
        "id": "DgsOJ_9L2z2r",
        "outputId": "b305fa09-9a77-46ad-fb2d-b87a032f6d26"
      },
      "execution_count": null,
      "outputs": [
        {
          "output_type": "stream",
          "name": "stderr",
          "text": [
            "Level 15:autogluon.core.utils.loaders.load_pkl:Loading: /content/drive/MyDrive/輪読/model/agModels_auc_best/models/WeightedEnsemble_L2/model.pkl\n",
            "Level 15:autogluon.core.utils.loaders.load_pkl:Loading: /content/drive/MyDrive/輪読/model/agModels_auc_best/models/CatBoost/model.pkl\n",
            "Level 15:autogluon.core.utils.loaders.load_pkl:Loading: /content/drive/MyDrive/輪読/model/agModels_auc_best/models/ExtraTreesGini/model.pkl\n",
            "Level 15:autogluon.core.utils.loaders.load_pkl:Loading: /content/drive/MyDrive/輪読/model/agModels_auc_best/models/KNeighborsDist/model.pkl\n",
            "Level 15:autogluon.core.utils.loaders.load_pkl:Loading: /content/drive/MyDrive/輪読/model/agModels_auc_best/models/LightGBM/model.pkl\n",
            "Level 15:autogluon.core.utils.loaders.load_pkl:Loading: /content/drive/MyDrive/輪読/model/agModels_auc_best/models/LightGBMLarge/model.pkl\n",
            "Level 15:autogluon.core.utils.loaders.load_pkl:Loading: /content/drive/MyDrive/輪読/model/agModels_auc_best/models/LightGBMXT/model.pkl\n",
            "Level 15:autogluon.core.utils.loaders.load_pkl:Loading: /content/drive/MyDrive/輪読/model/agModels_auc_best/models/NeuralNetFastAI/model.pkl\n",
            "Level 15:autogluon.core.utils.loaders.load_pkl:Loading: /content/drive/MyDrive/輪読/model/agModels_auc_best/models/NeuralNetFastAI/model-internals.pkl\n",
            "Level 15:autogluon.core.utils.loaders.load_pkl:Loading: /content/drive/MyDrive/輪読/model/agModels_auc_best/models/XGBoost/model.pkl\n"
          ]
        }
      ]
    },
    {
      "cell_type": "code",
      "source": [
        "sub['Survived'] = y_pred_sub\n",
        "sub"
      ],
      "metadata": {
        "colab": {
          "base_uri": "https://localhost:8080/",
          "height": 419
        },
        "id": "bM29DJ2Q21zG",
        "outputId": "84f9071e-ae9b-4789-9bcc-7e86d3bf8100"
      },
      "execution_count": null,
      "outputs": [
        {
          "output_type": "execute_result",
          "data": {
            "text/plain": [
              "     PassengerId  Survived\n",
              "0            892         0\n",
              "1            893         0\n",
              "2            894         0\n",
              "3            895         0\n",
              "4            896         1\n",
              "..           ...       ...\n",
              "413         1305         0\n",
              "414         1306         1\n",
              "415         1307         0\n",
              "416         1308         0\n",
              "417         1309         0\n",
              "\n",
              "[418 rows x 2 columns]"
            ],
            "text/html": [
              "\n",
              "  <div id=\"df-574e6de7-8c09-4e5d-8b5d-0db322528f5e\">\n",
              "    <div class=\"colab-df-container\">\n",
              "      <div>\n",
              "<style scoped>\n",
              "    .dataframe tbody tr th:only-of-type {\n",
              "        vertical-align: middle;\n",
              "    }\n",
              "\n",
              "    .dataframe tbody tr th {\n",
              "        vertical-align: top;\n",
              "    }\n",
              "\n",
              "    .dataframe thead th {\n",
              "        text-align: right;\n",
              "    }\n",
              "</style>\n",
              "<table border=\"1\" class=\"dataframe\">\n",
              "  <thead>\n",
              "    <tr style=\"text-align: right;\">\n",
              "      <th></th>\n",
              "      <th>PassengerId</th>\n",
              "      <th>Survived</th>\n",
              "    </tr>\n",
              "  </thead>\n",
              "  <tbody>\n",
              "    <tr>\n",
              "      <th>0</th>\n",
              "      <td>892</td>\n",
              "      <td>0</td>\n",
              "    </tr>\n",
              "    <tr>\n",
              "      <th>1</th>\n",
              "      <td>893</td>\n",
              "      <td>0</td>\n",
              "    </tr>\n",
              "    <tr>\n",
              "      <th>2</th>\n",
              "      <td>894</td>\n",
              "      <td>0</td>\n",
              "    </tr>\n",
              "    <tr>\n",
              "      <th>3</th>\n",
              "      <td>895</td>\n",
              "      <td>0</td>\n",
              "    </tr>\n",
              "    <tr>\n",
              "      <th>4</th>\n",
              "      <td>896</td>\n",
              "      <td>1</td>\n",
              "    </tr>\n",
              "    <tr>\n",
              "      <th>...</th>\n",
              "      <td>...</td>\n",
              "      <td>...</td>\n",
              "    </tr>\n",
              "    <tr>\n",
              "      <th>413</th>\n",
              "      <td>1305</td>\n",
              "      <td>0</td>\n",
              "    </tr>\n",
              "    <tr>\n",
              "      <th>414</th>\n",
              "      <td>1306</td>\n",
              "      <td>1</td>\n",
              "    </tr>\n",
              "    <tr>\n",
              "      <th>415</th>\n",
              "      <td>1307</td>\n",
              "      <td>0</td>\n",
              "    </tr>\n",
              "    <tr>\n",
              "      <th>416</th>\n",
              "      <td>1308</td>\n",
              "      <td>0</td>\n",
              "    </tr>\n",
              "    <tr>\n",
              "      <th>417</th>\n",
              "      <td>1309</td>\n",
              "      <td>0</td>\n",
              "    </tr>\n",
              "  </tbody>\n",
              "</table>\n",
              "<p>418 rows × 2 columns</p>\n",
              "</div>\n",
              "      <button class=\"colab-df-convert\" onclick=\"convertToInteractive('df-574e6de7-8c09-4e5d-8b5d-0db322528f5e')\"\n",
              "              title=\"Convert this dataframe to an interactive table.\"\n",
              "              style=\"display:none;\">\n",
              "        \n",
              "  <svg xmlns=\"http://www.w3.org/2000/svg\" height=\"24px\"viewBox=\"0 0 24 24\"\n",
              "       width=\"24px\">\n",
              "    <path d=\"M0 0h24v24H0V0z\" fill=\"none\"/>\n",
              "    <path d=\"M18.56 5.44l.94 2.06.94-2.06 2.06-.94-2.06-.94-.94-2.06-.94 2.06-2.06.94zm-11 1L8.5 8.5l.94-2.06 2.06-.94-2.06-.94L8.5 2.5l-.94 2.06-2.06.94zm10 10l.94 2.06.94-2.06 2.06-.94-2.06-.94-.94-2.06-.94 2.06-2.06.94z\"/><path d=\"M17.41 7.96l-1.37-1.37c-.4-.4-.92-.59-1.43-.59-.52 0-1.04.2-1.43.59L10.3 9.45l-7.72 7.72c-.78.78-.78 2.05 0 2.83L4 21.41c.39.39.9.59 1.41.59.51 0 1.02-.2 1.41-.59l7.78-7.78 2.81-2.81c.8-.78.8-2.07 0-2.86zM5.41 20L4 18.59l7.72-7.72 1.47 1.35L5.41 20z\"/>\n",
              "  </svg>\n",
              "      </button>\n",
              "      \n",
              "  <style>\n",
              "    .colab-df-container {\n",
              "      display:flex;\n",
              "      flex-wrap:wrap;\n",
              "      gap: 12px;\n",
              "    }\n",
              "\n",
              "    .colab-df-convert {\n",
              "      background-color: #E8F0FE;\n",
              "      border: none;\n",
              "      border-radius: 50%;\n",
              "      cursor: pointer;\n",
              "      display: none;\n",
              "      fill: #1967D2;\n",
              "      height: 32px;\n",
              "      padding: 0 0 0 0;\n",
              "      width: 32px;\n",
              "    }\n",
              "\n",
              "    .colab-df-convert:hover {\n",
              "      background-color: #E2EBFA;\n",
              "      box-shadow: 0px 1px 2px rgba(60, 64, 67, 0.3), 0px 1px 3px 1px rgba(60, 64, 67, 0.15);\n",
              "      fill: #174EA6;\n",
              "    }\n",
              "\n",
              "    [theme=dark] .colab-df-convert {\n",
              "      background-color: #3B4455;\n",
              "      fill: #D2E3FC;\n",
              "    }\n",
              "\n",
              "    [theme=dark] .colab-df-convert:hover {\n",
              "      background-color: #434B5C;\n",
              "      box-shadow: 0px 1px 3px 1px rgba(0, 0, 0, 0.15);\n",
              "      filter: drop-shadow(0px 1px 2px rgba(0, 0, 0, 0.3));\n",
              "      fill: #FFFFFF;\n",
              "    }\n",
              "  </style>\n",
              "\n",
              "      <script>\n",
              "        const buttonEl =\n",
              "          document.querySelector('#df-574e6de7-8c09-4e5d-8b5d-0db322528f5e button.colab-df-convert');\n",
              "        buttonEl.style.display =\n",
              "          google.colab.kernel.accessAllowed ? 'block' : 'none';\n",
              "\n",
              "        async function convertToInteractive(key) {\n",
              "          const element = document.querySelector('#df-574e6de7-8c09-4e5d-8b5d-0db322528f5e');\n",
              "          const dataTable =\n",
              "            await google.colab.kernel.invokeFunction('convertToInteractive',\n",
              "                                                     [key], {});\n",
              "          if (!dataTable) return;\n",
              "\n",
              "          const docLinkHtml = 'Like what you see? Visit the ' +\n",
              "            '<a target=\"_blank\" href=https://colab.research.google.com/notebooks/data_table.ipynb>data table notebook</a>'\n",
              "            + ' to learn more about interactive tables.';\n",
              "          element.innerHTML = '';\n",
              "          dataTable['output_type'] = 'display_data';\n",
              "          await google.colab.output.renderOutput(dataTable, element);\n",
              "          const docLink = document.createElement('div');\n",
              "          docLink.innerHTML = docLinkHtml;\n",
              "          element.appendChild(docLink);\n",
              "        }\n",
              "      </script>\n",
              "    </div>\n",
              "  </div>\n",
              "  "
            ]
          },
          "metadata": {},
          "execution_count": 62
        }
      ]
    },
    {
      "cell_type": "code",
      "source": [
        "sub.to_csv('/content/drive/MyDrive/輪読/submit/submit_agModel_auc_best.csv', index=False)"
      ],
      "metadata": {
        "id": "WB9ymg4q23xa"
      },
      "execution_count": null,
      "outputs": []
    },
    {
      "cell_type": "markdown",
      "source": [
        "## presetsをbest_qualityにする"
      ],
      "metadata": {
        "id": "jk9Fwofz5VYw"
      }
    },
    {
      "cell_type": "code",
      "source": [
        "dir_best = '/content/drive/MyDrive/輪読/model/agModels_best'\n",
        "label_column = 'Survived'\n",
        "\n",
        "# 制限時間を設定する。\n",
        "time_limit = 300 "
      ],
      "metadata": {
        "id": "AtqqjEfo296W"
      },
      "execution_count": null,
      "outputs": []
    },
    {
      "cell_type": "code",
      "source": [
        "predictor = TabularPredictor(label='Survived', path=dir_best).fit(train_data=train_data, presets='best_quality', time_limit=300)"
      ],
      "metadata": {
        "id": "cqBUsgC4hvOL"
      },
      "execution_count": null,
      "outputs": []
    },
    {
      "cell_type": "code",
      "source": [
        "#verbosityを設定するとモデルの詳細を出力\n",
        "predictor = TabularPredictor(label=label_column, path=dir_best, verbosity=3).fit(train_data=train_data, presets='best_quality', time_limit=time_limit)"
      ],
      "metadata": {
        "colab": {
          "base_uri": "https://localhost:8080/"
        },
        "id": "OSAYLM2t5hK9",
        "outputId": "5350bab0-24e2-4daa-bbd8-6787ef3ba613"
      },
      "execution_count": null,
      "outputs": [
        {
          "metadata": {
            "tags": null
          },
          "name": "stderr",
          "output_type": "stream",
          "text": [
            "INFO:root:Presets specified: ['best_quality']\n",
            "INFO:root:============ fit kwarg info ============\n",
            "INFO:root:User Specified kwargs:\n",
            "INFO:root:{'auto_stack': True}\n",
            "INFO:root:Full kwargs:\n",
            "INFO:root:{'_feature_generator_kwargs': None,\n",
            " '_save_bag_folds': None,\n",
            " 'ag_args': None,\n",
            " 'ag_args_ensemble': None,\n",
            " 'ag_args_fit': None,\n",
            " 'auto_stack': True,\n",
            " 'excluded_model_types': None,\n",
            " 'feature_generator': 'auto',\n",
            " 'holdout_frac': None,\n",
            " 'hyperparameter_tune_kwargs': None,\n",
            " 'keep_only_best': False,\n",
            " 'num_bag_folds': None,\n",
            " 'num_bag_sets': None,\n",
            " 'num_stack_levels': None,\n",
            " 'quantile_levels': None,\n",
            " 'refit_full': False,\n",
            " 'save_space': False,\n",
            " 'set_best_to_refit_full': False,\n",
            " 'unlabeled_data': None,\n",
            " 'use_bag_holdout': False,\n",
            " 'verbosity': 3}\n",
            "INFO:root:========================================\n",
            "INFO:autogluon.tabular.learner.default_learner:Beginning AutoGluon training ... Time limit = 300s\n",
            "INFO:autogluon.tabular.learner.default_learner:AutoGluon will save models to \"/content/drive/MyDrive/輪読/model/agModels_best/\"\n",
            "INFO:autogluon.tabular.learner.default_learner:AutoGluon Version:  0.3.1\n",
            "INFO:autogluon.tabular.learner.default_learner:Train Data Rows:    891\n",
            "INFO:autogluon.tabular.learner.default_learner:Train Data Columns: 7\n",
            "INFO:autogluon.tabular.learner.default_learner:Preprocessing data ...\n",
            "Level 25:autogluon.core.utils.utils:AutoGluon infers your prediction problem is: 'binary' (because only two unique label-values observed).\n",
            "INFO:autogluon.core.utils.utils:\t2 unique label values:  [0, 1]\n",
            "Level 25:autogluon.core.utils.utils:\tIf 'binary' is not the correct problem_type, please manually specify the problem_type argument in fit() (You may specify problem_type as one of: ['binary', 'multiclass', 'regression'])\n",
            "INFO:autogluon.core.data.label_cleaner:Selected class <--> label mapping:  class 1 = 1, class 0 = 0\n",
            "INFO:autogluon.tabular.learner.default_learner:Using Feature Generators to preprocess the data ...\n",
            "INFO:autogluon.features.generators.abstract:Fitting AutoMLPipelineFeatureGenerator...\n",
            "INFO:autogluon.features.generators.abstract:\tAvailable Memory:                    11542.79 MB\n",
            "INFO:autogluon.features.generators.abstract:\tTrain Data (Original)  Memory Usage: 0.14 MB (0.0% of available memory)\n",
            "INFO:autogluon.features.generators.abstract:\tInferring data type of each feature based on column values. Set feature_metadata_in to manually specify special dtypes of the features.\n",
            "INFO:autogluon.features.generators.abstract:\tStage 1 Generators:\n",
            "INFO:autogluon.features.generators.abstract:\t\tFitting AsTypeFeatureGenerator...\n",
            "INFO:autogluon.features.generators.abstract:\t\t\tNote: Converting 1 features to boolean dtype as they only contain 2 unique values.\n",
            "Level 15:autogluon.features.generators.abstract:\t\t\tOriginal Features (exact raw dtype, raw dtype):\n",
            "Level 15:autogluon.core.features.feature_metadata:\t\t\t\t('float64', 'float') : 2 | ['Age', 'Fare']\n",
            "Level 15:autogluon.core.features.feature_metadata:\t\t\t\t('int64', 'int')     : 3 | ['Pclass', 'SibSp', 'Parch']\n",
            "Level 15:autogluon.core.features.feature_metadata:\t\t\t\t('object', 'object') : 2 | ['Sex', 'Embarked']\n",
            "Level 15:autogluon.features.generators.abstract:\t\t\tTypes of features in original data (raw dtype, special dtypes):\n",
            "Level 15:autogluon.core.features.feature_metadata:\t\t\t\t('float', [])  : 2 | ['Age', 'Fare']\n",
            "Level 15:autogluon.core.features.feature_metadata:\t\t\t\t('int', [])    : 3 | ['Pclass', 'SibSp', 'Parch']\n",
            "Level 15:autogluon.core.features.feature_metadata:\t\t\t\t('object', []) : 2 | ['Sex', 'Embarked']\n",
            "Level 15:autogluon.features.generators.abstract:\t\t\tTypes of features in processed data (raw dtype, special dtypes):\n",
            "Level 15:autogluon.core.features.feature_metadata:\t\t\t\t('float', [])     : 2 | ['Age', 'Fare']\n",
            "Level 15:autogluon.core.features.feature_metadata:\t\t\t\t('int', [])       : 3 | ['Pclass', 'SibSp', 'Parch']\n",
            "Level 15:autogluon.core.features.feature_metadata:\t\t\t\t('int', ['bool']) : 1 | ['Sex']\n",
            "Level 15:autogluon.core.features.feature_metadata:\t\t\t\t('object', [])    : 1 | ['Embarked']\n",
            "Level 15:autogluon.features.generators.abstract:\t\t\t0.0s = Fit runtime\n",
            "Level 15:autogluon.features.generators.abstract:\t\t\t7 features in original data used to generate 7 features in processed data.\n",
            "INFO:autogluon.features.generators.abstract:\tStage 2 Generators:\n",
            "INFO:autogluon.features.generators.abstract:\t\tFitting FillNaFeatureGenerator...\n",
            "Level 15:autogluon.features.generators.abstract:\t\t\tTypes of features in original data (raw dtype, special dtypes):\n",
            "Level 15:autogluon.core.features.feature_metadata:\t\t\t\t('float', [])     : 2 | ['Age', 'Fare']\n",
            "Level 15:autogluon.core.features.feature_metadata:\t\t\t\t('int', [])       : 3 | ['Pclass', 'SibSp', 'Parch']\n",
            "Level 15:autogluon.core.features.feature_metadata:\t\t\t\t('int', ['bool']) : 1 | ['Sex']\n",
            "Level 15:autogluon.core.features.feature_metadata:\t\t\t\t('object', [])    : 1 | ['Embarked']\n",
            "Level 15:autogluon.features.generators.abstract:\t\t\tTypes of features in processed data (raw dtype, special dtypes):\n",
            "Level 15:autogluon.core.features.feature_metadata:\t\t\t\t('float', [])     : 2 | ['Age', 'Fare']\n",
            "Level 15:autogluon.core.features.feature_metadata:\t\t\t\t('int', [])       : 3 | ['Pclass', 'SibSp', 'Parch']\n",
            "Level 15:autogluon.core.features.feature_metadata:\t\t\t\t('int', ['bool']) : 1 | ['Sex']\n",
            "Level 15:autogluon.core.features.feature_metadata:\t\t\t\t('object', [])    : 1 | ['Embarked']\n",
            "Level 15:autogluon.features.generators.abstract:\t\t\t0.0s = Fit runtime\n",
            "Level 15:autogluon.features.generators.abstract:\t\t\t7 features in original data used to generate 7 features in processed data.\n",
            "INFO:autogluon.features.generators.abstract:\tStage 3 Generators:\n",
            "INFO:autogluon.features.generators.abstract:\t\tFitting IdentityFeatureGenerator...\n",
            "Level 15:autogluon.features.generators.abstract:\t\t\tTypes of features in original data (raw dtype, special dtypes):\n",
            "Level 15:autogluon.core.features.feature_metadata:\t\t\t\t('float', [])     : 2 | ['Age', 'Fare']\n",
            "Level 15:autogluon.core.features.feature_metadata:\t\t\t\t('int', [])       : 3 | ['Pclass', 'SibSp', 'Parch']\n",
            "Level 15:autogluon.core.features.feature_metadata:\t\t\t\t('int', ['bool']) : 1 | ['Sex']\n",
            "Level 15:autogluon.features.generators.abstract:\t\t\tTypes of features in processed data (raw dtype, special dtypes):\n",
            "Level 15:autogluon.core.features.feature_metadata:\t\t\t\t('float', [])     : 2 | ['Age', 'Fare']\n",
            "Level 15:autogluon.core.features.feature_metadata:\t\t\t\t('int', [])       : 3 | ['Pclass', 'SibSp', 'Parch']\n",
            "Level 15:autogluon.core.features.feature_metadata:\t\t\t\t('int', ['bool']) : 1 | ['Sex']\n",
            "Level 15:autogluon.features.generators.abstract:\t\t\t0.0s = Fit runtime\n",
            "Level 15:autogluon.features.generators.abstract:\t\t\t6 features in original data used to generate 6 features in processed data.\n",
            "INFO:autogluon.features.generators.abstract:\t\tFitting CategoryFeatureGenerator...\n",
            "INFO:autogluon.features.generators.abstract:\t\t\tFitting CategoryMemoryMinimizeFeatureGenerator...\n",
            "Level 15:autogluon.features.generators.abstract:\t\t\t\tTypes of features in original data (raw dtype, special dtypes):\n",
            "Level 15:autogluon.core.features.feature_metadata:\t\t\t\t\t('category', []) : 1 | ['Embarked']\n",
            "Level 15:autogluon.features.generators.abstract:\t\t\t\tTypes of features in processed data (raw dtype, special dtypes):\n",
            "Level 15:autogluon.core.features.feature_metadata:\t\t\t\t\t('category', []) : 1 | ['Embarked']\n",
            "Level 15:autogluon.features.generators.abstract:\t\t\t\t0.0s = Fit runtime\n",
            "Level 15:autogluon.features.generators.abstract:\t\t\t\t1 features in original data used to generate 1 features in processed data.\n",
            "Level 15:autogluon.features.generators.abstract:\t\t\tTypes of features in original data (raw dtype, special dtypes):\n",
            "Level 15:autogluon.core.features.feature_metadata:\t\t\t\t('object', []) : 1 | ['Embarked']\n",
            "Level 15:autogluon.features.generators.abstract:\t\t\tTypes of features in processed data (raw dtype, special dtypes):\n",
            "Level 15:autogluon.core.features.feature_metadata:\t\t\t\t('category', []) : 1 | ['Embarked']\n",
            "Level 15:autogluon.features.generators.abstract:\t\t\t0.1s = Fit runtime\n",
            "Level 15:autogluon.features.generators.abstract:\t\t\t1 features in original data used to generate 1 features in processed data.\n",
            "Level 15:autogluon.features.generators.abstract:\t\tSkipping DatetimeFeatureGenerator: No input feature with required dtypes.\n",
            "Level 15:autogluon.features.generators.abstract:\t\tSkipping TextSpecialFeatureGenerator: No input feature with required dtypes.\n",
            "Level 15:autogluon.features.generators.abstract:\t\tSkipping TextNgramFeatureGenerator: No input feature with required dtypes.\n",
            "Level 15:autogluon.features.generators.abstract:\t\tSkipping IdentityFeatureGenerator: No input feature with required dtypes.\n",
            "Level 15:autogluon.features.generators.abstract:\t\tSkipping IsNanFeatureGenerator: No input feature with required dtypes.\n",
            "INFO:autogluon.features.generators.abstract:\tStage 4 Generators:\n",
            "INFO:autogluon.features.generators.abstract:\t\tFitting DropUniqueFeatureGenerator...\n",
            "Level 15:autogluon.features.generators.abstract:\t\t\tTypes of features in original data (raw dtype, special dtypes):\n",
            "Level 15:autogluon.core.features.feature_metadata:\t\t\t\t('category', [])  : 1 | ['Embarked']\n",
            "Level 15:autogluon.core.features.feature_metadata:\t\t\t\t('float', [])     : 2 | ['Age', 'Fare']\n",
            "Level 15:autogluon.core.features.feature_metadata:\t\t\t\t('int', [])       : 3 | ['Pclass', 'SibSp', 'Parch']\n",
            "Level 15:autogluon.core.features.feature_metadata:\t\t\t\t('int', ['bool']) : 1 | ['Sex']\n",
            "Level 15:autogluon.features.generators.abstract:\t\t\tTypes of features in processed data (raw dtype, special dtypes):\n",
            "Level 15:autogluon.core.features.feature_metadata:\t\t\t\t('category', [])  : 1 | ['Embarked']\n",
            "Level 15:autogluon.core.features.feature_metadata:\t\t\t\t('float', [])     : 2 | ['Age', 'Fare']\n",
            "Level 15:autogluon.core.features.feature_metadata:\t\t\t\t('int', [])       : 3 | ['Pclass', 'SibSp', 'Parch']\n",
            "Level 15:autogluon.core.features.feature_metadata:\t\t\t\t('int', ['bool']) : 1 | ['Sex']\n",
            "Level 15:autogluon.features.generators.abstract:\t\t\t0.0s = Fit runtime\n",
            "Level 15:autogluon.features.generators.abstract:\t\t\t7 features in original data used to generate 7 features in processed data.\n",
            "Level 15:autogluon.features.generators.abstract:\tTypes of features in original data (exact raw dtype, raw dtype):\n",
            "Level 15:autogluon.core.features.feature_metadata:\t\t('float64', 'float') : 2 | ['Age', 'Fare']\n",
            "Level 15:autogluon.core.features.feature_metadata:\t\t('int64', 'int')     : 3 | ['Pclass', 'SibSp', 'Parch']\n",
            "Level 15:autogluon.core.features.feature_metadata:\t\t('object', 'object') : 2 | ['Sex', 'Embarked']\n",
            "INFO:autogluon.features.generators.abstract:\tTypes of features in original data (raw dtype, special dtypes):\n",
            "INFO:autogluon.core.features.feature_metadata:\t\t('float', [])  : 2 | ['Age', 'Fare']\n",
            "INFO:autogluon.core.features.feature_metadata:\t\t('int', [])    : 3 | ['Pclass', 'SibSp', 'Parch']\n",
            "INFO:autogluon.core.features.feature_metadata:\t\t('object', []) : 2 | ['Sex', 'Embarked']\n",
            "Level 15:autogluon.features.generators.abstract:\tTypes of features in processed data (exact raw dtype, raw dtype):\n",
            "Level 15:autogluon.core.features.feature_metadata:\t\t('category', 'category') : 1 | ['Embarked']\n",
            "Level 15:autogluon.core.features.feature_metadata:\t\t('float64', 'float')     : 2 | ['Age', 'Fare']\n",
            "Level 15:autogluon.core.features.feature_metadata:\t\t('int64', 'int')         : 3 | ['Pclass', 'SibSp', 'Parch']\n",
            "Level 15:autogluon.core.features.feature_metadata:\t\t('int8', 'int')          : 1 | ['Sex']\n",
            "INFO:autogluon.features.generators.abstract:\tTypes of features in processed data (raw dtype, special dtypes):\n",
            "INFO:autogluon.core.features.feature_metadata:\t\t('category', [])  : 1 | ['Embarked']\n",
            "INFO:autogluon.core.features.feature_metadata:\t\t('float', [])     : 2 | ['Age', 'Fare']\n",
            "INFO:autogluon.core.features.feature_metadata:\t\t('int', [])       : 3 | ['Pclass', 'SibSp', 'Parch']\n",
            "INFO:autogluon.core.features.feature_metadata:\t\t('int', ['bool']) : 1 | ['Sex']\n",
            "INFO:autogluon.features.generators.abstract:\t0.4s = Fit runtime\n",
            "INFO:autogluon.features.generators.abstract:\t7 features in original data used to generate 7 features in processed data.\n",
            "INFO:autogluon.features.generators.abstract:\tTrain Data (Processed) Memory Usage: 0.04 MB (0.0% of available memory)\n",
            "INFO:autogluon.tabular.learner.default_learner:Data preprocessing and feature engineering runtime = 0.77s ...\n",
            "Level 25:autogluon.tabular.trainer.abstract_trainer:AutoGluon will gauge predictive performance using evaluation metric: 'accuracy'\n",
            "INFO:autogluon.tabular.trainer.abstract_trainer:\tTo change this, specify the eval_metric argument of fit()\n",
            "Level 15:autogluon.core.utils.savers.save_pkl:Saving /content/drive/MyDrive/輪読/model/agModels_best/learner.pkl\n",
            "Level 15:autogluon.core.utils.savers.save_pkl:Saving /content/drive/MyDrive/輪読/model/agModels_best/utils/data/X.pkl\n",
            "Level 15:autogluon.core.utils.savers.save_pkl:Saving /content/drive/MyDrive/輪読/model/agModels_best/utils/data/y.pkl\n",
            "INFO:autogluon.tabular.trainer.abstract_trainer:AutoGluon will fit 2 stack levels (L1 to L2) ...\n",
            "INFO:autogluon.tabular.trainer.model_presets.presets:Model configs that will be trained (in order):\n",
            "INFO:autogluon.tabular.trainer.model_presets.presets:\tKNeighborsUnif_BAG_L1: \t{'weights': 'uniform', 'ag_args': {'valid_stacker': False, 'name_suffix': 'Unif', 'model_type': <class 'autogluon.tabular.models.knn.knn_model.KNNModel'>, 'priority': 100}, 'ag_args_ensemble': {'use_child_oof': True}}\n",
            "INFO:autogluon.tabular.trainer.model_presets.presets:\tKNeighborsDist_BAG_L1: \t{'weights': 'distance', 'ag_args': {'valid_stacker': False, 'name_suffix': 'Dist', 'model_type': <class 'autogluon.tabular.models.knn.knn_model.KNNModel'>, 'priority': 100}, 'ag_args_ensemble': {'use_child_oof': True}}\n",
            "INFO:autogluon.tabular.trainer.model_presets.presets:\tLightGBMXT_BAG_L1: \t{'extra_trees': True, 'ag_args': {'name_suffix': 'XT', 'model_type': <class 'autogluon.tabular.models.lgb.lgb_model.LGBModel'>, 'priority': 90}}\n",
            "INFO:autogluon.tabular.trainer.model_presets.presets:\tLightGBM_BAG_L1: \t{'ag_args': {'model_type': <class 'autogluon.tabular.models.lgb.lgb_model.LGBModel'>, 'priority': 90}}\n",
            "INFO:autogluon.tabular.trainer.model_presets.presets:\tRandomForestGini_BAG_L1: \t{'criterion': 'gini', 'ag_args': {'name_suffix': 'Gini', 'problem_types': ['binary', 'multiclass'], 'model_type': <class 'autogluon.tabular.models.rf.rf_model.RFModel'>, 'priority': 80}, 'ag_args_ensemble': {'use_child_oof': True}}\n",
            "INFO:autogluon.tabular.trainer.model_presets.presets:\tRandomForestEntr_BAG_L1: \t{'criterion': 'entropy', 'ag_args': {'name_suffix': 'Entr', 'problem_types': ['binary', 'multiclass'], 'model_type': <class 'autogluon.tabular.models.rf.rf_model.RFModel'>, 'priority': 80}, 'ag_args_ensemble': {'use_child_oof': True}}\n",
            "INFO:autogluon.tabular.trainer.model_presets.presets:\tCatBoost_BAG_L1: \t{'ag_args': {'model_type': <class 'autogluon.tabular.models.catboost.catboost_model.CatBoostModel'>, 'priority': 70}}\n",
            "INFO:autogluon.tabular.trainer.model_presets.presets:\tExtraTreesGini_BAG_L1: \t{'criterion': 'gini', 'ag_args': {'name_suffix': 'Gini', 'problem_types': ['binary', 'multiclass'], 'model_type': <class 'autogluon.tabular.models.xt.xt_model.XTModel'>, 'priority': 60}, 'ag_args_ensemble': {'use_child_oof': True}}\n",
            "INFO:autogluon.tabular.trainer.model_presets.presets:\tExtraTreesEntr_BAG_L1: \t{'criterion': 'entropy', 'ag_args': {'name_suffix': 'Entr', 'problem_types': ['binary', 'multiclass'], 'model_type': <class 'autogluon.tabular.models.xt.xt_model.XTModel'>, 'priority': 60}, 'ag_args_ensemble': {'use_child_oof': True}}\n",
            "INFO:autogluon.tabular.trainer.model_presets.presets:\tNeuralNetFastAI_BAG_L1: \t{'ag_args': {'model_type': <class 'autogluon.tabular.models.fastainn.tabular_nn_fastai.NNFastAiTabularModel'>, 'priority': 50}}\n",
            "INFO:autogluon.tabular.trainer.model_presets.presets:\tXGBoost_BAG_L1: \t{'ag_args': {'model_type': <class 'autogluon.tabular.models.xgboost.xgboost_model.XGBoostModel'>, 'priority': 40}}\n",
            "INFO:autogluon.tabular.trainer.model_presets.presets:\tNeuralNetMXNet_BAG_L1: \t{'ag_args': {'model_type': <class 'autogluon.tabular.models.tabular_nn.tabular_nn_model.TabularNeuralNetModel'>, 'priority': 20}}\n",
            "INFO:autogluon.tabular.trainer.model_presets.presets:\tLightGBMLarge_BAG_L1: \t{'learning_rate': 0.03, 'num_leaves': 128, 'feature_fraction': 0.9, 'min_data_in_leaf': 5, 'ag_args': {'model_type': <class 'autogluon.tabular.models.lgb.lgb_model.LGBModel'>, 'name_suffix': 'Large', 'hyperparameter_tune_kwargs': None, 'priority': 0}}\n",
            "INFO:autogluon.tabular.trainer.abstract_trainer:Fitting 13 L1 models ...\n",
            "INFO:autogluon.tabular.trainer.abstract_trainer:Fitting model: KNeighborsUnif_BAG_L1 ... Training model for up to 199.43s of the 299.08s of remaining time.\n",
            "Level 15:autogluon.core.utils.savers.save_pkl:Saving /content/drive/MyDrive/輪読/model/agModels_best/models/KNeighborsUnif_BAG_L1/utils/model_template.pkl\n",
            "Level 15:autogluon.core.models.abstract.abstract_model:\tFitting S1F1 with 'num_gpus': 0, 'num_cpus': 2\n",
            "Level 15:autogluon.core.models.ensemble.bagged_ensemble_model:\t`use_child_oof` was specified for this model. It will function similarly to a bagged model, but will only fit one child model.\n",
            "Level 15:autogluon.core.utils.savers.save_pkl:Saving /content/drive/MyDrive/輪読/model/agModels_best/models/KNeighborsUnif_BAG_L1/utils/oof.pkl\n",
            "Level 15:autogluon.core.utils.savers.save_pkl:Saving /content/drive/MyDrive/輪読/model/agModels_best/models/KNeighborsUnif_BAG_L1/model.pkl\n",
            "INFO:autogluon.tabular.trainer.abstract_trainer:\t0.6622\t = Validation score   (accuracy)\n",
            "INFO:autogluon.tabular.trainer.abstract_trainer:\t0.04s\t = Training   runtime\n",
            "INFO:autogluon.tabular.trainer.abstract_trainer:\t0.16s\t = Validation runtime\n",
            "Level 15:autogluon.core.utils.savers.save_pkl:Saving /content/drive/MyDrive/輪読/model/agModels_best/models/trainer.pkl\n",
            "INFO:autogluon.tabular.trainer.abstract_trainer:Fitting model: KNeighborsDist_BAG_L1 ... Training model for up to 199.04s of the 298.69s of remaining time.\n",
            "Level 15:autogluon.core.utils.savers.save_pkl:Saving /content/drive/MyDrive/輪読/model/agModels_best/models/KNeighborsDist_BAG_L1/utils/model_template.pkl\n",
            "Level 15:autogluon.core.models.abstract.abstract_model:\tFitting S1F1 with 'num_gpus': 0, 'num_cpus': 2\n",
            "Level 15:autogluon.core.models.ensemble.bagged_ensemble_model:\t`use_child_oof` was specified for this model. It will function similarly to a bagged model, but will only fit one child model.\n",
            "Level 15:autogluon.core.utils.savers.save_pkl:Saving /content/drive/MyDrive/輪読/model/agModels_best/models/KNeighborsDist_BAG_L1/utils/oof.pkl\n",
            "Level 15:autogluon.core.utils.savers.save_pkl:Saving /content/drive/MyDrive/輪読/model/agModels_best/models/KNeighborsDist_BAG_L1/model.pkl\n",
            "INFO:autogluon.tabular.trainer.abstract_trainer:\t0.6723\t = Validation score   (accuracy)\n",
            "INFO:autogluon.tabular.trainer.abstract_trainer:\t0.02s\t = Training   runtime\n",
            "INFO:autogluon.tabular.trainer.abstract_trainer:\t0.12s\t = Validation runtime\n",
            "Level 15:autogluon.core.utils.savers.save_pkl:Saving /content/drive/MyDrive/輪読/model/agModels_best/models/trainer.pkl\n",
            "INFO:autogluon.tabular.trainer.abstract_trainer:Fitting model: LightGBMXT_BAG_L1 ... Training model for up to 198.75s of the 298.4s of remaining time.\n",
            "Level 15:autogluon.core.utils.savers.save_pkl:Saving /content/drive/MyDrive/輪読/model/agModels_best/models/LightGBMXT_BAG_L1/utils/model_template.pkl\n",
            "Level 15:autogluon.core.models.abstract.abstract_model:\tFitting S1F1 with 'num_gpus': 0, 'num_cpus': 2\n",
            "Level 15:autogluon.tabular.models.lgb.lgb_model:Training Gradient Boosting Model for 10000 rounds...\n",
            "Level 15:autogluon.tabular.models.lgb.lgb_model:with the following hyperparameter settings:\n",
            "Level 15:autogluon.tabular.models.lgb.lgb_model:{'num_threads': -1, 'learning_rate': 0.05, 'objective': 'binary', 'verbose': -1, 'boosting_type': 'gbdt', 'two_round': True, 'extra_trees': True}\n",
            "/usr/local/lib/python3.7/dist-packages/lightgbm/engine.py:239: UserWarning: 'verbose_eval' argument is deprecated and will be removed in a future release of LightGBM. Pass 'log_evaluation()' callback via 'callbacks' argument instead.\n",
            "  _log_warning(\"'verbose_eval' argument is deprecated and will be removed in a future release of LightGBM. \"\n"
          ]
        },
        {
          "metadata": {
            "tags": null
          },
          "name": "stdout",
          "output_type": "stream",
          "text": [
            "[50]\ttrain_set's binary_error: 0.182285\tvalid_set's binary_error: 0.1875\n",
            "[100]\ttrain_set's binary_error: 0.154044\tvalid_set's binary_error: 0.1875\n",
            "[150]\ttrain_set's binary_error: 0.145058\tvalid_set's binary_error: 0.1875\n",
            "[200]\ttrain_set's binary_error: 0.139923\tvalid_set's binary_error: 0.205357\n"
          ]
        },
        {
          "metadata": {
            "tags": null
          },
          "name": "stderr",
          "output_type": "stream",
          "text": [
            "Level 15:autogluon.core.models.abstract.abstract_model:\tFitting S1F2 with 'num_gpus': 0, 'num_cpus': 2\n",
            "Level 15:autogluon.tabular.models.lgb.lgb_model:Training Gradient Boosting Model for 10000 rounds...\n",
            "Level 15:autogluon.tabular.models.lgb.lgb_model:with the following hyperparameter settings:\n",
            "Level 15:autogluon.tabular.models.lgb.lgb_model:{'num_threads': -1, 'learning_rate': 0.05, 'objective': 'binary', 'verbose': -1, 'boosting_type': 'gbdt', 'two_round': True, 'extra_trees': True}\n",
            "/usr/local/lib/python3.7/dist-packages/lightgbm/engine.py:239: UserWarning: 'verbose_eval' argument is deprecated and will be removed in a future release of LightGBM. Pass 'log_evaluation()' callback via 'callbacks' argument instead.\n",
            "  _log_warning(\"'verbose_eval' argument is deprecated and will be removed in a future release of LightGBM. \"\n",
            "Level 15:autogluon.core.models.abstract.abstract_model:\tFitting S1F3 with 'num_gpus': 0, 'num_cpus': 2\n"
          ]
        },
        {
          "metadata": {
            "tags": null
          },
          "name": "stdout",
          "output_type": "stream",
          "text": [
            "[50]\ttrain_set's binary_error: 0.17715\tvalid_set's binary_error: 0.223214\n",
            "[100]\ttrain_set's binary_error: 0.160462\tvalid_set's binary_error: 0.232143\n",
            "[150]\ttrain_set's binary_error: 0.146341\tvalid_set's binary_error: 0.241071\n"
          ]
        },
        {
          "metadata": {
            "tags": null
          },
          "name": "stderr",
          "output_type": "stream",
          "text": [
            "Level 15:autogluon.tabular.models.lgb.lgb_model:Training Gradient Boosting Model for 10000 rounds...\n",
            "Level 15:autogluon.tabular.models.lgb.lgb_model:with the following hyperparameter settings:\n",
            "Level 15:autogluon.tabular.models.lgb.lgb_model:{'num_threads': -1, 'learning_rate': 0.05, 'objective': 'binary', 'verbose': -1, 'boosting_type': 'gbdt', 'two_round': True, 'extra_trees': True}\n",
            "/usr/local/lib/python3.7/dist-packages/lightgbm/engine.py:239: UserWarning: 'verbose_eval' argument is deprecated and will be removed in a future release of LightGBM. Pass 'log_evaluation()' callback via 'callbacks' argument instead.\n",
            "  _log_warning(\"'verbose_eval' argument is deprecated and will be removed in a future release of LightGBM. \"\n",
            "Level 15:autogluon.core.models.abstract.abstract_model:\tFitting S1F4 with 'num_gpus': 0, 'num_cpus': 2\n",
            "Level 15:autogluon.tabular.models.lgb.lgb_model:Training Gradient Boosting Model for 10000 rounds...\n"
          ]
        },
        {
          "metadata": {
            "tags": null
          },
          "name": "stdout",
          "output_type": "stream",
          "text": [
            "[50]\ttrain_set's binary_error: 0.191271\tvalid_set's binary_error: 0.151786\n",
            "[100]\ttrain_set's binary_error: 0.17715\tvalid_set's binary_error: 0.133929\n",
            "[150]\ttrain_set's binary_error: 0.16303\tvalid_set's binary_error: 0.133929\n",
            "[200]\ttrain_set's binary_error: 0.151476\tvalid_set's binary_error: 0.125\n"
          ]
        },
        {
          "metadata": {
            "tags": null
          },
          "name": "stderr",
          "output_type": "stream",
          "text": [
            "Level 15:autogluon.tabular.models.lgb.lgb_model:with the following hyperparameter settings:\n",
            "Level 15:autogluon.tabular.models.lgb.lgb_model:{'num_threads': -1, 'learning_rate': 0.05, 'objective': 'binary', 'verbose': -1, 'boosting_type': 'gbdt', 'two_round': True, 'extra_trees': True}\n",
            "/usr/local/lib/python3.7/dist-packages/lightgbm/engine.py:239: UserWarning: 'verbose_eval' argument is deprecated and will be removed in a future release of LightGBM. Pass 'log_evaluation()' callback via 'callbacks' argument instead.\n",
            "  _log_warning(\"'verbose_eval' argument is deprecated and will be removed in a future release of LightGBM. \"\n"
          ]
        },
        {
          "metadata": {
            "tags": null
          },
          "name": "stdout",
          "output_type": "stream",
          "text": [
            "[50]\ttrain_set's binary_error: 0.175641\tvalid_set's binary_error: 0.216216\n",
            "[100]\ttrain_set's binary_error: 0.166667\tvalid_set's binary_error: 0.216216\n",
            "[150]\ttrain_set's binary_error: 0.15641\tvalid_set's binary_error: 0.198198\n",
            "[200]\ttrain_set's binary_error: 0.152564\tvalid_set's binary_error: 0.189189\n",
            "[250]\ttrain_set's binary_error: 0.142308\tvalid_set's binary_error: 0.189189\n",
            "[300]\ttrain_set's binary_error: 0.133333\tvalid_set's binary_error: 0.189189\n",
            "[350]\ttrain_set's binary_error: 0.126923\tvalid_set's binary_error: 0.189189\n"
          ]
        },
        {
          "metadata": {
            "tags": null
          },
          "name": "stderr",
          "output_type": "stream",
          "text": [
            "Level 15:autogluon.core.models.abstract.abstract_model:\tFitting S1F5 with 'num_gpus': 0, 'num_cpus': 2\n",
            "Level 15:autogluon.tabular.models.lgb.lgb_model:Training Gradient Boosting Model for 10000 rounds...\n",
            "Level 15:autogluon.tabular.models.lgb.lgb_model:with the following hyperparameter settings:\n",
            "Level 15:autogluon.tabular.models.lgb.lgb_model:{'num_threads': -1, 'learning_rate': 0.05, 'objective': 'binary', 'verbose': -1, 'boosting_type': 'gbdt', 'two_round': True, 'extra_trees': True}\n",
            "/usr/local/lib/python3.7/dist-packages/lightgbm/engine.py:239: UserWarning: 'verbose_eval' argument is deprecated and will be removed in a future release of LightGBM. Pass 'log_evaluation()' callback via 'callbacks' argument instead.\n",
            "  _log_warning(\"'verbose_eval' argument is deprecated and will be removed in a future release of LightGBM. \"\n",
            "Level 15:autogluon.core.models.abstract.abstract_model:\tFitting S1F6 with 'num_gpus': 0, 'num_cpus': 2\n"
          ]
        },
        {
          "metadata": {
            "tags": null
          },
          "name": "stdout",
          "output_type": "stream",
          "text": [
            "[50]\ttrain_set's binary_error: 0.180769\tvalid_set's binary_error: 0.18018\n",
            "[100]\ttrain_set's binary_error: 0.158974\tvalid_set's binary_error: 0.189189\n",
            "[150]\ttrain_set's binary_error: 0.15\tvalid_set's binary_error: 0.198198\n",
            "[200]\ttrain_set's binary_error: 0.144872\tvalid_set's binary_error: 0.198198\n"
          ]
        },
        {
          "metadata": {
            "tags": null
          },
          "name": "stderr",
          "output_type": "stream",
          "text": [
            "Level 15:autogluon.tabular.models.lgb.lgb_model:Training Gradient Boosting Model for 10000 rounds...\n",
            "Level 15:autogluon.tabular.models.lgb.lgb_model:with the following hyperparameter settings:\n",
            "Level 15:autogluon.tabular.models.lgb.lgb_model:{'num_threads': -1, 'learning_rate': 0.05, 'objective': 'binary', 'verbose': -1, 'boosting_type': 'gbdt', 'two_round': True, 'extra_trees': True}\n",
            "/usr/local/lib/python3.7/dist-packages/lightgbm/engine.py:239: UserWarning: 'verbose_eval' argument is deprecated and will be removed in a future release of LightGBM. Pass 'log_evaluation()' callback via 'callbacks' argument instead.\n",
            "  _log_warning(\"'verbose_eval' argument is deprecated and will be removed in a future release of LightGBM. \"\n"
          ]
        },
        {
          "metadata": {
            "tags": null
          },
          "name": "stdout",
          "output_type": "stream",
          "text": [
            "[50]\ttrain_set's binary_error: 0.176923\tvalid_set's binary_error: 0.252252\n",
            "[100]\ttrain_set's binary_error: 0.157692\tvalid_set's binary_error: 0.243243\n",
            "[150]\ttrain_set's binary_error: 0.146154\tvalid_set's binary_error: 0.225225\n",
            "[200]\ttrain_set's binary_error: 0.141026\tvalid_set's binary_error: 0.225225\n",
            "[250]\ttrain_set's binary_error: 0.132051\tvalid_set's binary_error: 0.225225\n"
          ]
        },
        {
          "metadata": {
            "tags": null
          },
          "name": "stderr",
          "output_type": "stream",
          "text": [
            "Level 15:autogluon.core.models.abstract.abstract_model:\tFitting S1F7 with 'num_gpus': 0, 'num_cpus': 2\n",
            "Level 15:autogluon.tabular.models.lgb.lgb_model:Training Gradient Boosting Model for 10000 rounds...\n",
            "Level 15:autogluon.tabular.models.lgb.lgb_model:with the following hyperparameter settings:\n",
            "Level 15:autogluon.tabular.models.lgb.lgb_model:{'num_threads': -1, 'learning_rate': 0.05, 'objective': 'binary', 'verbose': -1, 'boosting_type': 'gbdt', 'two_round': True, 'extra_trees': True}\n",
            "/usr/local/lib/python3.7/dist-packages/lightgbm/engine.py:239: UserWarning: 'verbose_eval' argument is deprecated and will be removed in a future release of LightGBM. Pass 'log_evaluation()' callback via 'callbacks' argument instead.\n",
            "  _log_warning(\"'verbose_eval' argument is deprecated and will be removed in a future release of LightGBM. \"\n",
            "Level 15:autogluon.core.models.abstract.abstract_model:\tFitting S1F8 with 'num_gpus': 0, 'num_cpus': 2\n"
          ]
        },
        {
          "metadata": {
            "tags": null
          },
          "name": "stdout",
          "output_type": "stream",
          "text": [
            "[50]\ttrain_set's binary_error: 0.185897\tvalid_set's binary_error: 0.162162\n",
            "[100]\ttrain_set's binary_error: 0.164103\tvalid_set's binary_error: 0.153153\n",
            "[150]\ttrain_set's binary_error: 0.15\tvalid_set's binary_error: 0.153153\n",
            "[200]\ttrain_set's binary_error: 0.138462\tvalid_set's binary_error: 0.162162\n"
          ]
        },
        {
          "metadata": {
            "tags": null
          },
          "name": "stderr",
          "output_type": "stream",
          "text": [
            "Level 15:autogluon.tabular.models.lgb.lgb_model:Training Gradient Boosting Model for 10000 rounds...\n",
            "Level 15:autogluon.tabular.models.lgb.lgb_model:with the following hyperparameter settings:\n",
            "Level 15:autogluon.tabular.models.lgb.lgb_model:{'num_threads': -1, 'learning_rate': 0.05, 'objective': 'binary', 'verbose': -1, 'boosting_type': 'gbdt', 'two_round': True, 'extra_trees': True}\n",
            "/usr/local/lib/python3.7/dist-packages/lightgbm/engine.py:239: UserWarning: 'verbose_eval' argument is deprecated and will be removed in a future release of LightGBM. Pass 'log_evaluation()' callback via 'callbacks' argument instead.\n",
            "  _log_warning(\"'verbose_eval' argument is deprecated and will be removed in a future release of LightGBM. \"\n",
            "Level 15:autogluon.core.utils.savers.save_pkl:Saving /content/drive/MyDrive/輪読/model/agModels_best/models/LightGBMXT_BAG_L1/utils/oof.pkl\n"
          ]
        },
        {
          "metadata": {
            "tags": null
          },
          "name": "stdout",
          "output_type": "stream",
          "text": [
            "[50]\ttrain_set's binary_error: 0.196154\tvalid_set's binary_error: 0.198198\n",
            "[100]\ttrain_set's binary_error: 0.164103\tvalid_set's binary_error: 0.18018\n",
            "[150]\ttrain_set's binary_error: 0.151282\tvalid_set's binary_error: 0.162162\n",
            "[200]\ttrain_set's binary_error: 0.142308\tvalid_set's binary_error: 0.171171\n",
            "[250]\ttrain_set's binary_error: 0.134615\tvalid_set's binary_error: 0.189189\n"
          ]
        },
        {
          "metadata": {
            "tags": null
          },
          "name": "stderr",
          "output_type": "stream",
          "text": [
            "Level 15:autogluon.core.utils.savers.save_pkl:Saving /content/drive/MyDrive/輪読/model/agModels_best/models/LightGBMXT_BAG_L1/model.pkl\n",
            "INFO:autogluon.tabular.trainer.abstract_trainer:\t0.8249\t = Validation score   (accuracy)\n",
            "INFO:autogluon.tabular.trainer.abstract_trainer:\t7.6s\t = Training   runtime\n",
            "INFO:autogluon.tabular.trainer.abstract_trainer:\t0.07s\t = Validation runtime\n",
            "Level 15:autogluon.core.utils.savers.save_pkl:Saving /content/drive/MyDrive/輪読/model/agModels_best/models/trainer.pkl\n",
            "INFO:autogluon.tabular.trainer.abstract_trainer:Fitting model: LightGBM_BAG_L1 ... Training model for up to 190.72s of the 290.37s of remaining time.\n",
            "Level 15:autogluon.core.utils.savers.save_pkl:Saving /content/drive/MyDrive/輪読/model/agModels_best/models/LightGBM_BAG_L1/utils/model_template.pkl\n",
            "Level 15:autogluon.core.models.abstract.abstract_model:\tFitting S1F1 with 'num_gpus': 0, 'num_cpus': 2\n",
            "Level 15:autogluon.tabular.models.lgb.lgb_model:Training Gradient Boosting Model for 10000 rounds...\n",
            "Level 15:autogluon.tabular.models.lgb.lgb_model:with the following hyperparameter settings:\n",
            "Level 15:autogluon.tabular.models.lgb.lgb_model:{'num_threads': -1, 'learning_rate': 0.05, 'objective': 'binary', 'verbose': -1, 'boosting_type': 'gbdt', 'two_round': True}\n",
            "/usr/local/lib/python3.7/dist-packages/lightgbm/engine.py:239: UserWarning: 'verbose_eval' argument is deprecated and will be removed in a future release of LightGBM. Pass 'log_evaluation()' callback via 'callbacks' argument instead.\n",
            "  _log_warning(\"'verbose_eval' argument is deprecated and will be removed in a future release of LightGBM. \"\n"
          ]
        },
        {
          "metadata": {
            "tags": null
          },
          "name": "stdout",
          "output_type": "stream",
          "text": [
            "[50]\ttrain_set's binary_error: 0.125802\tvalid_set's binary_error: 0.205357\n",
            "[100]\ttrain_set's binary_error: 0.0860077\tvalid_set's binary_error: 0.1875\n",
            "[150]\ttrain_set's binary_error: 0.0590501\tvalid_set's binary_error: 0.160714\n",
            "[200]\ttrain_set's binary_error: 0.0410783\tvalid_set's binary_error: 0.169643\n",
            "[250]\ttrain_set's binary_error: 0.0282413\tvalid_set's binary_error: 0.196429\n"
          ]
        },
        {
          "metadata": {
            "tags": null
          },
          "name": "stderr",
          "output_type": "stream",
          "text": [
            "Level 15:autogluon.core.models.abstract.abstract_model:\tFitting S1F2 with 'num_gpus': 0, 'num_cpus': 2\n",
            "Level 15:autogluon.tabular.models.lgb.lgb_model:Training Gradient Boosting Model for 10000 rounds...\n",
            "Level 15:autogluon.tabular.models.lgb.lgb_model:with the following hyperparameter settings:\n",
            "Level 15:autogluon.tabular.models.lgb.lgb_model:{'num_threads': -1, 'learning_rate': 0.05, 'objective': 'binary', 'verbose': -1, 'boosting_type': 'gbdt', 'two_round': True}\n",
            "/usr/local/lib/python3.7/dist-packages/lightgbm/engine.py:239: UserWarning: 'verbose_eval' argument is deprecated and will be removed in a future release of LightGBM. Pass 'log_evaluation()' callback via 'callbacks' argument instead.\n",
            "  _log_warning(\"'verbose_eval' argument is deprecated and will be removed in a future release of LightGBM. \"\n",
            "Level 15:autogluon.core.models.abstract.abstract_model:\tFitting S1F3 with 'num_gpus': 0, 'num_cpus': 2\n"
          ]
        },
        {
          "metadata": {
            "tags": null
          },
          "name": "stdout",
          "output_type": "stream",
          "text": [
            "[50]\ttrain_set's binary_error: 0.111682\tvalid_set's binary_error: 0.178571\n",
            "[100]\ttrain_set's binary_error: 0.0783055\tvalid_set's binary_error: 0.232143\n",
            "[150]\ttrain_set's binary_error: 0.0577664\tvalid_set's binary_error: 0.223214\n"
          ]
        },
        {
          "metadata": {
            "tags": null
          },
          "name": "stderr",
          "output_type": "stream",
          "text": [
            "Level 15:autogluon.tabular.models.lgb.lgb_model:Training Gradient Boosting Model for 10000 rounds...\n",
            "Level 15:autogluon.tabular.models.lgb.lgb_model:with the following hyperparameter settings:\n",
            "Level 15:autogluon.tabular.models.lgb.lgb_model:{'num_threads': -1, 'learning_rate': 0.05, 'objective': 'binary', 'verbose': -1, 'boosting_type': 'gbdt', 'two_round': True}\n",
            "/usr/local/lib/python3.7/dist-packages/lightgbm/engine.py:239: UserWarning: 'verbose_eval' argument is deprecated and will be removed in a future release of LightGBM. Pass 'log_evaluation()' callback via 'callbacks' argument instead.\n",
            "  _log_warning(\"'verbose_eval' argument is deprecated and will be removed in a future release of LightGBM. \"\n",
            "Level 15:autogluon.core.models.abstract.abstract_model:\tFitting S1F4 with 'num_gpus': 0, 'num_cpus': 2\n"
          ]
        },
        {
          "metadata": {
            "tags": null
          },
          "name": "stdout",
          "output_type": "stream",
          "text": [
            "[50]\ttrain_set's binary_error: 0.12837\tvalid_set's binary_error: 0.0803571\n",
            "[100]\ttrain_set's binary_error: 0.0924262\tvalid_set's binary_error: 0.0892857\n",
            "[150]\ttrain_set's binary_error: 0.0693196\tvalid_set's binary_error: 0.107143\n"
          ]
        },
        {
          "metadata": {
            "tags": null
          },
          "name": "stderr",
          "output_type": "stream",
          "text": [
            "Level 15:autogluon.tabular.models.lgb.lgb_model:Training Gradient Boosting Model for 10000 rounds...\n",
            "Level 15:autogluon.tabular.models.lgb.lgb_model:with the following hyperparameter settings:\n",
            "Level 15:autogluon.tabular.models.lgb.lgb_model:{'num_threads': -1, 'learning_rate': 0.05, 'objective': 'binary', 'verbose': -1, 'boosting_type': 'gbdt', 'two_round': True}\n",
            "/usr/local/lib/python3.7/dist-packages/lightgbm/engine.py:239: UserWarning: 'verbose_eval' argument is deprecated and will be removed in a future release of LightGBM. Pass 'log_evaluation()' callback via 'callbacks' argument instead.\n",
            "  _log_warning(\"'verbose_eval' argument is deprecated and will be removed in a future release of LightGBM. \"\n",
            "Level 15:autogluon.core.models.abstract.abstract_model:\tFitting S1F5 with 'num_gpus': 0, 'num_cpus': 2\n"
          ]
        },
        {
          "metadata": {
            "tags": null
          },
          "name": "stdout",
          "output_type": "stream",
          "text": [
            "[50]\ttrain_set's binary_error: 0.128205\tvalid_set's binary_error: 0.207207\n",
            "[100]\ttrain_set's binary_error: 0.0858974\tvalid_set's binary_error: 0.207207\n",
            "[150]\ttrain_set's binary_error: 0.0641026\tvalid_set's binary_error: 0.198198\n",
            "[200]\ttrain_set's binary_error: 0.0435897\tvalid_set's binary_error: 0.207207\n"
          ]
        },
        {
          "metadata": {
            "tags": null
          },
          "name": "stderr",
          "output_type": "stream",
          "text": [
            "Level 15:autogluon.tabular.models.lgb.lgb_model:Training Gradient Boosting Model for 10000 rounds...\n",
            "Level 15:autogluon.tabular.models.lgb.lgb_model:with the following hyperparameter settings:\n",
            "Level 15:autogluon.tabular.models.lgb.lgb_model:{'num_threads': -1, 'learning_rate': 0.05, 'objective': 'binary', 'verbose': -1, 'boosting_type': 'gbdt', 'two_round': True}\n",
            "/usr/local/lib/python3.7/dist-packages/lightgbm/engine.py:239: UserWarning: 'verbose_eval' argument is deprecated and will be removed in a future release of LightGBM. Pass 'log_evaluation()' callback via 'callbacks' argument instead.\n",
            "  _log_warning(\"'verbose_eval' argument is deprecated and will be removed in a future release of LightGBM. \"\n"
          ]
        },
        {
          "metadata": {
            "tags": null
          },
          "name": "stdout",
          "output_type": "stream",
          "text": [
            "[50]\ttrain_set's binary_error: 0.125641\tvalid_set's binary_error: 0.225225\n",
            "[100]\ttrain_set's binary_error: 0.0910256\tvalid_set's binary_error: 0.207207\n",
            "[150]\ttrain_set's binary_error: 0.0653846\tvalid_set's binary_error: 0.189189\n",
            "[200]\ttrain_set's binary_error: 0.05\tvalid_set's binary_error: 0.207207\n",
            "[250]\ttrain_set's binary_error: 0.0371795\tvalid_set's binary_error: 0.198198\n"
          ]
        },
        {
          "metadata": {
            "tags": null
          },
          "name": "stderr",
          "output_type": "stream",
          "text": [
            "Level 15:autogluon.core.models.abstract.abstract_model:\tFitting S1F6 with 'num_gpus': 0, 'num_cpus': 2\n",
            "Level 15:autogluon.tabular.models.lgb.lgb_model:Training Gradient Boosting Model for 10000 rounds...\n",
            "Level 15:autogluon.tabular.models.lgb.lgb_model:with the following hyperparameter settings:\n",
            "Level 15:autogluon.tabular.models.lgb.lgb_model:{'num_threads': -1, 'learning_rate': 0.05, 'objective': 'binary', 'verbose': -1, 'boosting_type': 'gbdt', 'two_round': True}\n",
            "/usr/local/lib/python3.7/dist-packages/lightgbm/engine.py:239: UserWarning: 'verbose_eval' argument is deprecated and will be removed in a future release of LightGBM. Pass 'log_evaluation()' callback via 'callbacks' argument instead.\n",
            "  _log_warning(\"'verbose_eval' argument is deprecated and will be removed in a future release of LightGBM. \"\n",
            "Level 15:autogluon.core.models.abstract.abstract_model:\tFitting S1F7 with 'num_gpus': 0, 'num_cpus': 2\n",
            "Level 15:autogluon.tabular.models.lgb.lgb_model:Training Gradient Boosting Model for 10000 rounds...\n"
          ]
        },
        {
          "metadata": {
            "tags": null
          },
          "name": "stdout",
          "output_type": "stream",
          "text": [
            "[50]\ttrain_set's binary_error: 0.124359\tvalid_set's binary_error: 0.171171\n",
            "[100]\ttrain_set's binary_error: 0.0807692\tvalid_set's binary_error: 0.207207\n",
            "[150]\ttrain_set's binary_error: 0.0602564\tvalid_set's binary_error: 0.234234\n"
          ]
        },
        {
          "metadata": {
            "tags": null
          },
          "name": "stderr",
          "output_type": "stream",
          "text": [
            "Level 15:autogluon.tabular.models.lgb.lgb_model:with the following hyperparameter settings:\n",
            "Level 15:autogluon.tabular.models.lgb.lgb_model:{'num_threads': -1, 'learning_rate': 0.05, 'objective': 'binary', 'verbose': -1, 'boosting_type': 'gbdt', 'two_round': True}\n",
            "/usr/local/lib/python3.7/dist-packages/lightgbm/engine.py:239: UserWarning: 'verbose_eval' argument is deprecated and will be removed in a future release of LightGBM. Pass 'log_evaluation()' callback via 'callbacks' argument instead.\n",
            "  _log_warning(\"'verbose_eval' argument is deprecated and will be removed in a future release of LightGBM. \"\n"
          ]
        },
        {
          "metadata": {
            "tags": null
          },
          "name": "stdout",
          "output_type": "stream",
          "text": [
            "[50]\ttrain_set's binary_error: 0.130769\tvalid_set's binary_error: 0.126126\n",
            "[100]\ttrain_set's binary_error: 0.0923077\tvalid_set's binary_error: 0.117117\n",
            "[150]\ttrain_set's binary_error: 0.0653846\tvalid_set's binary_error: 0.126126\n",
            "[200]\ttrain_set's binary_error: 0.0448718\tvalid_set's binary_error: 0.144144\n",
            "[250]\ttrain_set's binary_error: 0.0346154\tvalid_set's binary_error: 0.135135\n"
          ]
        },
        {
          "metadata": {
            "tags": null
          },
          "name": "stderr",
          "output_type": "stream",
          "text": [
            "Level 15:autogluon.core.models.abstract.abstract_model:\tFitting S1F8 with 'num_gpus': 0, 'num_cpus': 2\n",
            "Level 15:autogluon.tabular.models.lgb.lgb_model:Training Gradient Boosting Model for 10000 rounds...\n",
            "Level 15:autogluon.tabular.models.lgb.lgb_model:with the following hyperparameter settings:\n",
            "Level 15:autogluon.tabular.models.lgb.lgb_model:{'num_threads': -1, 'learning_rate': 0.05, 'objective': 'binary', 'verbose': -1, 'boosting_type': 'gbdt', 'two_round': True}\n",
            "/usr/local/lib/python3.7/dist-packages/lightgbm/engine.py:239: UserWarning: 'verbose_eval' argument is deprecated and will be removed in a future release of LightGBM. Pass 'log_evaluation()' callback via 'callbacks' argument instead.\n",
            "  _log_warning(\"'verbose_eval' argument is deprecated and will be removed in a future release of LightGBM. \"\n",
            "Level 15:autogluon.core.utils.savers.save_pkl:Saving /content/drive/MyDrive/輪読/model/agModels_best/models/LightGBM_BAG_L1/utils/oof.pkl\n",
            "Level 15:autogluon.core.utils.savers.save_pkl:Saving /content/drive/MyDrive/輪読/model/agModels_best/models/LightGBM_BAG_L1/model.pkl\n",
            "INFO:autogluon.tabular.trainer.abstract_trainer:\t0.8474\t = Validation score   (accuracy)\n",
            "INFO:autogluon.tabular.trainer.abstract_trainer:\t3.59s\t = Training   runtime\n",
            "INFO:autogluon.tabular.trainer.abstract_trainer:\t0.09s\t = Validation runtime\n"
          ]
        },
        {
          "metadata": {
            "tags": null
          },
          "name": "stdout",
          "output_type": "stream",
          "text": [
            "[50]\ttrain_set's binary_error: 0.121795\tvalid_set's binary_error: 0.171171\n",
            "[100]\ttrain_set's binary_error: 0.0846154\tvalid_set's binary_error: 0.18018\n",
            "[150]\ttrain_set's binary_error: 0.0679487\tvalid_set's binary_error: 0.171171\n"
          ]
        },
        {
          "metadata": {
            "tags": null
          },
          "name": "stderr",
          "output_type": "stream",
          "text": [
            "Level 15:autogluon.core.utils.savers.save_pkl:Saving /content/drive/MyDrive/輪読/model/agModels_best/models/trainer.pkl\n",
            "INFO:autogluon.tabular.trainer.abstract_trainer:Fitting model: RandomForestGini_BAG_L1 ... Training model for up to 186.69s of the 286.34s of remaining time.\n",
            "Level 15:autogluon.core.utils.savers.save_pkl:Saving /content/drive/MyDrive/輪読/model/agModels_best/models/RandomForestGini_BAG_L1/utils/model_template.pkl\n",
            "Level 15:autogluon.core.models.abstract.abstract_model:\tFitting S1F1 with 'num_gpus': 0, 'num_cpus': 2\n",
            "Level 15:autogluon.core.models.ensemble.bagged_ensemble_model:\t`use_child_oof` was specified for this model. It will function similarly to a bagged model, but will only fit one child model.\n",
            "Level 15:autogluon.core.utils.savers.save_pkl:Saving /content/drive/MyDrive/輪読/model/agModels_best/models/RandomForestGini_BAG_L1/utils/oof.pkl\n",
            "Level 15:autogluon.core.utils.savers.save_pkl:Saving /content/drive/MyDrive/輪読/model/agModels_best/models/RandomForestGini_BAG_L1/model.pkl\n",
            "INFO:autogluon.tabular.trainer.abstract_trainer:\t0.798\t = Validation score   (accuracy)\n",
            "INFO:autogluon.tabular.trainer.abstract_trainer:\t0.96s\t = Training   runtime\n",
            "INFO:autogluon.tabular.trainer.abstract_trainer:\t0.15s\t = Validation runtime\n",
            "Level 15:autogluon.core.utils.savers.save_pkl:Saving /content/drive/MyDrive/輪読/model/agModels_best/models/trainer.pkl\n",
            "INFO:autogluon.tabular.trainer.abstract_trainer:Fitting model: RandomForestEntr_BAG_L1 ... Training model for up to 185.4s of the 285.05s of remaining time.\n",
            "Level 15:autogluon.core.utils.savers.save_pkl:Saving /content/drive/MyDrive/輪読/model/agModels_best/models/RandomForestEntr_BAG_L1/utils/model_template.pkl\n",
            "Level 15:autogluon.core.models.abstract.abstract_model:\tFitting S1F1 with 'num_gpus': 0, 'num_cpus': 2\n",
            "Level 15:autogluon.core.models.ensemble.bagged_ensemble_model:\t`use_child_oof` was specified for this model. It will function similarly to a bagged model, but will only fit one child model.\n",
            "Level 15:autogluon.core.utils.savers.save_pkl:Saving /content/drive/MyDrive/輪読/model/agModels_best/models/RandomForestEntr_BAG_L1/utils/oof.pkl\n",
            "Level 15:autogluon.core.utils.savers.save_pkl:Saving /content/drive/MyDrive/輪読/model/agModels_best/models/RandomForestEntr_BAG_L1/model.pkl\n",
            "INFO:autogluon.tabular.trainer.abstract_trainer:\t0.8025\t = Validation score   (accuracy)\n",
            "INFO:autogluon.tabular.trainer.abstract_trainer:\t0.96s\t = Training   runtime\n",
            "INFO:autogluon.tabular.trainer.abstract_trainer:\t0.17s\t = Validation runtime\n",
            "Level 15:autogluon.core.utils.savers.save_pkl:Saving /content/drive/MyDrive/輪読/model/agModels_best/models/trainer.pkl\n",
            "INFO:autogluon.tabular.trainer.abstract_trainer:Fitting model: CatBoost_BAG_L1 ... Training model for up to 184.06s of the 283.71s of remaining time.\n",
            "Level 15:autogluon.core.utils.savers.save_pkl:Saving /content/drive/MyDrive/輪読/model/agModels_best/models/CatBoost_BAG_L1/utils/model_template.pkl\n",
            "Level 15:autogluon.core.models.abstract.abstract_model:\tFitting S1F1 with 'num_gpus': 0, 'num_cpus': 2\n",
            "Level 15:autogluon.tabular.models.catboost.catboost_model:\tCatboost model hyperparameters: {'iterations': 10000, 'learning_rate': 0.05, 'random_seed': 0, 'allow_writing_files': False, 'eval_metric': 'Accuracy'}\n"
          ]
        },
        {
          "metadata": {
            "tags": null
          },
          "name": "stdout",
          "output_type": "stream",
          "text": [
            "0:\tlearn: 0.8151476\ttest: 0.7946429\tbest: 0.7946429 (0)\ttotal: 1.54ms\tremaining: 75.7ms\n",
            "20:\tlearn: 0.8138639\ttest: 0.8035714\tbest: 0.8303571 (7)\ttotal: 24.8ms\tremaining: 34.2ms\n",
            "40:\tlearn: 0.8279846\ttest: 0.8035714\tbest: 0.8303571 (7)\ttotal: 47.5ms\tremaining: 10.4ms\n",
            "49:\tlearn: 0.8344031\ttest: 0.8125000\tbest: 0.8303571 (7)\ttotal: 63.3ms\tremaining: 0us\n",
            "\n",
            "bestTest = 0.8303571429\n",
            "bestIteration = 7\n",
            "\n",
            "Shrink model to first 8 iterations.\n",
            "0:\tlearn: 0.8177150\ttest: 0.7946429\tbest: 0.7946429 (0)\ttotal: 3.66ms\tremaining: 36.4s\n",
            "20:\tlearn: 0.8318357\ttest: 0.8303571\tbest: 0.8392857 (10)\ttotal: 58.4ms\tremaining: 27.6s\n",
            "40:\tlearn: 0.8408216\ttest: 0.8303571\tbest: 0.8392857 (10)\ttotal: 104ms\tremaining: 25.1s\n",
            "60:\tlearn: 0.8510911\ttest: 0.8125000\tbest: 0.8392857 (10)\ttotal: 153ms\tremaining: 24.8s\n",
            "80:\tlearn: 0.8562259\ttest: 0.8125000\tbest: 0.8392857 (10)\ttotal: 198ms\tremaining: 24.1s\n",
            "100:\tlearn: 0.8677792\ttest: 0.8214286\tbest: 0.8392857 (10)\ttotal: 242ms\tremaining: 23.6s\n",
            "120:\tlearn: 0.8754814\ttest: 0.8303571\tbest: 0.8392857 (10)\ttotal: 282ms\tremaining: 22.9s\n",
            "140:\tlearn: 0.8896021\ttest: 0.8214286\tbest: 0.8392857 (10)\ttotal: 328ms\tremaining: 22.8s\n"
          ]
        },
        {
          "metadata": {
            "tags": null
          },
          "name": "stderr",
          "output_type": "stream",
          "text": [
            "Level 15:autogluon.core.models.abstract.abstract_model:\tFitting S1F2 with 'num_gpus': 0, 'num_cpus': 2\n",
            "Level 15:autogluon.tabular.models.catboost.catboost_model:\tCatboost model hyperparameters: {'iterations': 10000, 'learning_rate': 0.05, 'random_seed': 0, 'allow_writing_files': False, 'eval_metric': 'Accuracy'}\n"
          ]
        },
        {
          "metadata": {
            "tags": null
          },
          "name": "stdout",
          "output_type": "stream",
          "text": [
            "160:\tlearn: 0.8973042\ttest: 0.8214286\tbest: 0.8392857 (10)\ttotal: 381ms\tremaining: 23.1s\n",
            "Stopped by overfitting detector  (150 iterations wait)\n",
            "\n",
            "bestTest = 0.8392857143\n",
            "bestIteration = 10\n",
            "\n",
            "Shrink model to first 11 iterations.\n",
            "0:\tlearn: 0.8279846\ttest: 0.7589286\tbest: 0.7589286 (0)\ttotal: 1.82ms\tremaining: 89.2ms\n",
            "20:\tlearn: 0.8100128\ttest: 0.8035714\tbest: 0.8125000 (6)\ttotal: 25.5ms\tremaining: 35.2ms\n",
            "40:\tlearn: 0.8292683\ttest: 0.8035714\tbest: 0.8125000 (6)\ttotal: 48.8ms\tremaining: 10.7ms\n",
            "49:\tlearn: 0.8331194\ttest: 0.8035714\tbest: 0.8125000 (6)\ttotal: 61.3ms\tremaining: 0us\n",
            "\n",
            "bestTest = 0.8125\n",
            "bestIteration = 6\n",
            "\n",
            "Shrink model to first 7 iterations.\n",
            "0:\tlearn: 0.8267009\ttest: 0.8035714\tbest: 0.8035714 (0)\ttotal: 3.69ms\tremaining: 36.7s\n",
            "20:\tlearn: 0.8356868\ttest: 0.8035714\tbest: 0.8125000 (1)\ttotal: 44.5ms\tremaining: 21s\n",
            "40:\tlearn: 0.8421053\ttest: 0.8035714\tbest: 0.8125000 (1)\ttotal: 105ms\tremaining: 25.3s\n",
            "60:\tlearn: 0.8549422\ttest: 0.8035714\tbest: 0.8125000 (1)\ttotal: 150ms\tremaining: 24.4s\n",
            "80:\tlearn: 0.8729140\ttest: 0.8125000\tbest: 0.8125000 (1)\ttotal: 195ms\tremaining: 23.8s\n",
            "100:\tlearn: 0.8754814\ttest: 0.7946429\tbest: 0.8125000 (1)\ttotal: 238ms\tremaining: 23.2s\n",
            "120:\tlearn: 0.8793325\ttest: 0.7857143\tbest: 0.8125000 (1)\ttotal: 284ms\tremaining: 23.1s\n"
          ]
        },
        {
          "metadata": {
            "tags": null
          },
          "name": "stderr",
          "output_type": "stream",
          "text": [
            "Level 15:autogluon.core.models.abstract.abstract_model:\tFitting S1F3 with 'num_gpus': 0, 'num_cpus': 2\n",
            "Level 15:autogluon.tabular.models.catboost.catboost_model:\tCatboost model hyperparameters: {'iterations': 10000, 'learning_rate': 0.05, 'random_seed': 0, 'allow_writing_files': False, 'eval_metric': 'Accuracy'}\n"
          ]
        },
        {
          "metadata": {
            "tags": null
          },
          "name": "stdout",
          "output_type": "stream",
          "text": [
            "140:\tlearn: 0.8857510\ttest: 0.7767857\tbest: 0.8125000 (1)\ttotal: 333ms\tremaining: 23.2s\n",
            "Stopped by overfitting detector  (150 iterations wait)\n",
            "\n",
            "bestTest = 0.8125\n",
            "bestIteration = 1\n",
            "\n",
            "Shrink model to first 2 iterations.\n",
            "0:\tlearn: 0.8138639\ttest: 0.8571429\tbest: 0.8571429 (0)\ttotal: 3.39ms\tremaining: 166ms\n",
            "20:\tlearn: 0.8087291\ttest: 0.8750000\tbest: 0.8839286 (1)\ttotal: 28.4ms\tremaining: 39.2ms\n",
            "40:\tlearn: 0.8112965\ttest: 0.8750000\tbest: 0.8839286 (1)\ttotal: 55.1ms\tremaining: 12.1ms\n",
            "49:\tlearn: 0.8202824\ttest: 0.8750000\tbest: 0.8839286 (1)\ttotal: 71.4ms\tremaining: 0us\n",
            "\n",
            "bestTest = 0.8839285714\n",
            "bestIteration = 1\n",
            "\n",
            "Shrink model to first 2 iterations.\n",
            "0:\tlearn: 0.8125802\ttest: 0.8750000\tbest: 0.8750000 (0)\ttotal: 2.62ms\tremaining: 26.1s\n",
            "20:\tlearn: 0.8267009\ttest: 0.8928571\tbest: 0.8928571 (2)\ttotal: 58.8ms\tremaining: 27.8s\n",
            "40:\tlearn: 0.8331194\ttest: 0.8928571\tbest: 0.8928571 (2)\ttotal: 107ms\tremaining: 26s\n",
            "60:\tlearn: 0.8498074\ttest: 0.8750000\tbest: 0.8928571 (2)\ttotal: 159ms\tremaining: 25.8s\n",
            "80:\tlearn: 0.8549422\ttest: 0.8660714\tbest: 0.8928571 (2)\ttotal: 221ms\tremaining: 27s\n",
            "100:\tlearn: 0.8600770\ttest: 0.8750000\tbest: 0.8928571 (2)\ttotal: 273ms\tremaining: 26.6s\n",
            "120:\tlearn: 0.8639281\ttest: 0.8750000\tbest: 0.8928571 (2)\ttotal: 313ms\tremaining: 25.4s\n",
            "140:\tlearn: 0.8690629\ttest: 0.8750000\tbest: 0.8928571 (2)\ttotal: 362ms\tremaining: 25.2s\n",
            "Stopped by overfitting detector  (150 iterations wait)\n",
            "\n",
            "bestTest = 0.8928571429\n",
            "bestIteration = 2\n",
            "\n",
            "Shrink model to first 3 iterations.\n"
          ]
        },
        {
          "metadata": {
            "tags": null
          },
          "name": "stderr",
          "output_type": "stream",
          "text": [
            "Level 15:autogluon.core.models.abstract.abstract_model:\tFitting S1F4 with 'num_gpus': 0, 'num_cpus': 2\n",
            "Level 15:autogluon.tabular.models.catboost.catboost_model:\tCatboost model hyperparameters: {'iterations': 10000, 'learning_rate': 0.05, 'random_seed': 0, 'allow_writing_files': False, 'eval_metric': 'Accuracy'}\n"
          ]
        },
        {
          "metadata": {
            "tags": null
          },
          "name": "stdout",
          "output_type": "stream",
          "text": [
            "0:\tlearn: 0.8243590\ttest: 0.7477477\tbest: 0.7477477 (0)\ttotal: 6.25ms\tremaining: 306ms\n",
            "20:\tlearn: 0.8346154\ttest: 0.7477477\tbest: 0.7657658 (1)\ttotal: 35.9ms\tremaining: 49.6ms\n",
            "40:\tlearn: 0.8487179\ttest: 0.7567568\tbest: 0.7657658 (1)\ttotal: 58.5ms\tremaining: 12.8ms\n",
            "49:\tlearn: 0.8500000\ttest: 0.7567568\tbest: 0.7657658 (1)\ttotal: 69.5ms\tremaining: 0us\n",
            "\n",
            "bestTest = 0.7657657658\n",
            "bestIteration = 1\n",
            "\n",
            "Shrink model to first 2 iterations.\n",
            "0:\tlearn: 0.8346154\ttest: 0.7567568\tbest: 0.7567568 (0)\ttotal: 2.64ms\tremaining: 26.3s\n",
            "20:\tlearn: 0.8474359\ttest: 0.7477477\tbest: 0.7837838 (9)\ttotal: 41.6ms\tremaining: 19.7s\n",
            "40:\tlearn: 0.8512821\ttest: 0.7477477\tbest: 0.7837838 (9)\ttotal: 84.1ms\tremaining: 20.3s\n",
            "60:\tlearn: 0.8564103\ttest: 0.7387387\tbest: 0.7837838 (9)\ttotal: 138ms\tremaining: 22.3s\n",
            "80:\tlearn: 0.8653846\ttest: 0.7387387\tbest: 0.7837838 (9)\ttotal: 181ms\tremaining: 22.1s\n",
            "100:\tlearn: 0.8692308\ttest: 0.7477477\tbest: 0.7837838 (9)\ttotal: 225ms\tremaining: 22s\n",
            "120:\tlearn: 0.8692308\ttest: 0.7387387\tbest: 0.7837838 (9)\ttotal: 266ms\tremaining: 21.6s\n",
            "140:\tlearn: 0.8705128\ttest: 0.7387387\tbest: 0.7837838 (9)\ttotal: 312ms\tremaining: 21.7s\n"
          ]
        },
        {
          "metadata": {
            "tags": null
          },
          "name": "stderr",
          "output_type": "stream",
          "text": [
            "Level 15:autogluon.core.models.abstract.abstract_model:\tFitting S1F5 with 'num_gpus': 0, 'num_cpus': 2\n",
            "Level 15:autogluon.tabular.models.catboost.catboost_model:\tCatboost model hyperparameters: {'iterations': 10000, 'learning_rate': 0.05, 'random_seed': 0, 'allow_writing_files': False, 'eval_metric': 'Accuracy'}\n"
          ]
        },
        {
          "metadata": {
            "tags": null
          },
          "name": "stdout",
          "output_type": "stream",
          "text": [
            "Stopped by overfitting detector  (150 iterations wait)\n",
            "\n",
            "bestTest = 0.7837837838\n",
            "bestIteration = 9\n",
            "\n",
            "Shrink model to first 10 iterations.\n",
            "0:\tlearn: 0.8179487\ttest: 0.7927928\tbest: 0.7927928 (0)\ttotal: 2.3ms\tremaining: 113ms\n",
            "20:\tlearn: 0.8192308\ttest: 0.7837838\tbest: 0.7927928 (0)\ttotal: 26ms\tremaining: 35.9ms\n",
            "40:\tlearn: 0.8192308\ttest: 0.7837838\tbest: 0.7927928 (0)\ttotal: 49ms\tremaining: 10.8ms\n",
            "49:\tlearn: 0.8230769\ttest: 0.7837838\tbest: 0.7927928 (0)\ttotal: 60.4ms\tremaining: 0us\n",
            "\n",
            "bestTest = 0.7927927928\n",
            "bestIteration = 0\n",
            "\n",
            "Shrink model to first 1 iterations.\n",
            "0:\tlearn: 0.8230769\ttest: 0.7927928\tbest: 0.7927928 (0)\ttotal: 2.83ms\tremaining: 28.1s\n",
            "20:\tlearn: 0.8217949\ttest: 0.7927928\tbest: 0.8018018 (7)\ttotal: 44.6ms\tremaining: 21.1s\n",
            "40:\tlearn: 0.8410256\ttest: 0.7837838\tbest: 0.8018018 (7)\ttotal: 99.3ms\tremaining: 24s\n",
            "60:\tlearn: 0.8474359\ttest: 0.8108108\tbest: 0.8108108 (58)\ttotal: 148ms\tremaining: 24s\n",
            "80:\tlearn: 0.8538462\ttest: 0.8108108\tbest: 0.8108108 (58)\ttotal: 192ms\tremaining: 23.3s\n",
            "100:\tlearn: 0.8628205\ttest: 0.7927928\tbest: 0.8198198 (96)\ttotal: 241ms\tremaining: 23.5s\n",
            "120:\tlearn: 0.8730769\ttest: 0.7927928\tbest: 0.8198198 (96)\ttotal: 289ms\tremaining: 23.5s\n",
            "140:\tlearn: 0.8820513\ttest: 0.7927928\tbest: 0.8198198 (96)\ttotal: 340ms\tremaining: 23.7s\n",
            "160:\tlearn: 0.8833333\ttest: 0.7837838\tbest: 0.8198198 (96)\ttotal: 384ms\tremaining: 23.3s\n",
            "180:\tlearn: 0.8910256\ttest: 0.8108108\tbest: 0.8198198 (96)\ttotal: 427ms\tremaining: 23s\n",
            "200:\tlearn: 0.8935897\ttest: 0.8018018\tbest: 0.8198198 (96)\ttotal: 476ms\tremaining: 23.1s\n",
            "220:\tlearn: 0.8948718\ttest: 0.8018018\tbest: 0.8198198 (96)\ttotal: 520ms\tremaining: 22.9s\n"
          ]
        },
        {
          "metadata": {
            "tags": null
          },
          "name": "stderr",
          "output_type": "stream",
          "text": [
            "Level 15:autogluon.core.models.abstract.abstract_model:\tFitting S1F6 with 'num_gpus': 0, 'num_cpus': 2\n",
            "Level 15:autogluon.tabular.models.catboost.catboost_model:\tCatboost model hyperparameters: {'iterations': 10000, 'learning_rate': 0.05, 'random_seed': 0, 'allow_writing_files': False, 'eval_metric': 'Accuracy'}\n"
          ]
        },
        {
          "metadata": {
            "tags": null
          },
          "name": "stdout",
          "output_type": "stream",
          "text": [
            "240:\tlearn: 0.9038462\ttest: 0.7837838\tbest: 0.8198198 (96)\ttotal: 575ms\tremaining: 23.2s\n",
            "Stopped by overfitting detector  (150 iterations wait)\n",
            "\n",
            "bestTest = 0.8198198198\n",
            "bestIteration = 96\n",
            "\n",
            "Shrink model to first 97 iterations.\n",
            "0:\tlearn: 0.8217949\ttest: 0.7657658\tbest: 0.7657658 (0)\ttotal: 1.4ms\tremaining: 68.7ms\n",
            "20:\tlearn: 0.8179487\ttest: 0.7477477\tbest: 0.7657658 (0)\ttotal: 25.7ms\tremaining: 35.6ms\n",
            "40:\tlearn: 0.8217949\ttest: 0.7567568\tbest: 0.7657658 (0)\ttotal: 52.9ms\tremaining: 11.6ms\n",
            "49:\tlearn: 0.8269231\ttest: 0.7567568\tbest: 0.7657658 (0)\ttotal: 65.2ms\tremaining: 0us\n",
            "\n",
            "bestTest = 0.7657657658\n",
            "bestIteration = 0\n",
            "\n",
            "Shrink model to first 1 iterations.\n",
            "0:\tlearn: 0.8243590\ttest: 0.7657658\tbest: 0.7657658 (0)\ttotal: 2.55ms\tremaining: 25.4s\n",
            "20:\tlearn: 0.8256410\ttest: 0.7567568\tbest: 0.7747748 (11)\ttotal: 43.1ms\tremaining: 20.4s\n",
            "40:\tlearn: 0.8397436\ttest: 0.7657658\tbest: 0.7747748 (11)\ttotal: 94.8ms\tremaining: 22.9s\n",
            "60:\tlearn: 0.8512821\ttest: 0.7837838\tbest: 0.7837838 (47)\ttotal: 156ms\tremaining: 25.3s\n",
            "80:\tlearn: 0.8538462\ttest: 0.7837838\tbest: 0.7837838 (47)\ttotal: 207ms\tremaining: 25.2s\n",
            "100:\tlearn: 0.8641026\ttest: 0.8198198\tbest: 0.8288288 (89)\ttotal: 249ms\tremaining: 24.3s\n",
            "120:\tlearn: 0.8743590\ttest: 0.8108108\tbest: 0.8288288 (89)\ttotal: 297ms\tremaining: 24.1s\n",
            "140:\tlearn: 0.8910256\ttest: 0.8198198\tbest: 0.8288288 (89)\ttotal: 343ms\tremaining: 23.8s\n",
            "160:\tlearn: 0.8987179\ttest: 0.8198198\tbest: 0.8288288 (89)\ttotal: 401ms\tremaining: 24.4s\n",
            "180:\tlearn: 0.9038462\ttest: 0.8198198\tbest: 0.8288288 (89)\ttotal: 449ms\tremaining: 24.2s\n"
          ]
        },
        {
          "metadata": {
            "tags": null
          },
          "name": "stderr",
          "output_type": "stream",
          "text": [
            "Level 15:autogluon.core.models.abstract.abstract_model:\tFitting S1F7 with 'num_gpus': 0, 'num_cpus': 2\n",
            "Level 15:autogluon.tabular.models.catboost.catboost_model:\tCatboost model hyperparameters: {'iterations': 10000, 'learning_rate': 0.05, 'random_seed': 0, 'allow_writing_files': False, 'eval_metric': 'Accuracy'}\n"
          ]
        },
        {
          "metadata": {
            "tags": null
          },
          "name": "stdout",
          "output_type": "stream",
          "text": [
            "200:\tlearn: 0.9064103\ttest: 0.8108108\tbest: 0.8288288 (89)\ttotal: 501ms\tremaining: 24.3s\n",
            "220:\tlearn: 0.9089744\ttest: 0.8198198\tbest: 0.8288288 (89)\ttotal: 549ms\tremaining: 24.2s\n",
            "Stopped by overfitting detector  (150 iterations wait)\n",
            "\n",
            "bestTest = 0.8288288288\n",
            "bestIteration = 89\n",
            "\n",
            "Shrink model to first 90 iterations.\n",
            "0:\tlearn: 0.8102564\ttest: 0.8288288\tbest: 0.8288288 (0)\ttotal: 2.55ms\tremaining: 125ms\n",
            "20:\tlearn: 0.8051282\ttest: 0.8378378\tbest: 0.8468468 (1)\ttotal: 23.5ms\tremaining: 32.4ms\n",
            "40:\tlearn: 0.8076923\ttest: 0.8378378\tbest: 0.8468468 (1)\ttotal: 53ms\tremaining: 11.6ms\n",
            "49:\tlearn: 0.8064103\ttest: 0.8378378\tbest: 0.8468468 (1)\ttotal: 75.8ms\tremaining: 0us\n",
            "\n",
            "bestTest = 0.8468468468\n",
            "bestIteration = 1\n",
            "\n",
            "Shrink model to first 2 iterations.\n",
            "0:\tlearn: 0.8179487\ttest: 0.8558559\tbest: 0.8558559 (0)\ttotal: 2.82ms\tremaining: 28s\n",
            "20:\tlearn: 0.8333333\ttest: 0.8558559\tbest: 0.8648649 (13)\ttotal: 45.4ms\tremaining: 21.5s\n",
            "40:\tlearn: 0.8435897\ttest: 0.8648649\tbest: 0.8648649 (13)\ttotal: 94.8ms\tremaining: 22.9s\n",
            "60:\tlearn: 0.8525641\ttest: 0.8558559\tbest: 0.8648649 (13)\ttotal: 172ms\tremaining: 27.8s\n",
            "80:\tlearn: 0.8730769\ttest: 0.8648649\tbest: 0.8648649 (13)\ttotal: 222ms\tremaining: 27.1s\n",
            "100:\tlearn: 0.8756410\ttest: 0.8648649\tbest: 0.8648649 (13)\ttotal: 266ms\tremaining: 25.9s\n",
            "120:\tlearn: 0.8871795\ttest: 0.8648649\tbest: 0.8648649 (13)\ttotal: 312ms\tremaining: 25.3s\n",
            "140:\tlearn: 0.8884615\ttest: 0.8648649\tbest: 0.8648649 (13)\ttotal: 356ms\tremaining: 24.8s\n",
            "160:\tlearn: 0.8987179\ttest: 0.8738739\tbest: 0.8738739 (148)\ttotal: 423ms\tremaining: 25.7s\n",
            "180:\tlearn: 0.8987179\ttest: 0.8738739\tbest: 0.8738739 (148)\ttotal: 474ms\tremaining: 25.6s\n",
            "200:\tlearn: 0.9051282\ttest: 0.8738739\tbest: 0.8828829 (186)\ttotal: 520ms\tremaining: 25.2s\n",
            "220:\tlearn: 0.9064103\ttest: 0.8828829\tbest: 0.8828829 (186)\ttotal: 565ms\tremaining: 24.9s\n",
            "240:\tlearn: 0.9102564\ttest: 0.8828829\tbest: 0.8828829 (186)\ttotal: 612ms\tremaining: 24.6s\n",
            "260:\tlearn: 0.9166667\ttest: 0.8828829\tbest: 0.8828829 (186)\ttotal: 666ms\tremaining: 24.7s\n",
            "280:\tlearn: 0.9217949\ttest: 0.8828829\tbest: 0.8828829 (186)\ttotal: 715ms\tremaining: 24.6s\n",
            "300:\tlearn: 0.9230769\ttest: 0.8828829\tbest: 0.8828829 (186)\ttotal: 763ms\tremaining: 24.5s\n",
            "320:\tlearn: 0.9269231\ttest: 0.8828829\tbest: 0.8828829 (186)\ttotal: 816ms\tremaining: 24.5s\n"
          ]
        },
        {
          "metadata": {
            "tags": null
          },
          "name": "stderr",
          "output_type": "stream",
          "text": [
            "Level 15:autogluon.core.models.abstract.abstract_model:\tFitting S1F8 with 'num_gpus': 0, 'num_cpus': 2\n",
            "Level 15:autogluon.tabular.models.catboost.catboost_model:\tCatboost model hyperparameters: {'iterations': 10000, 'learning_rate': 0.05, 'random_seed': 0, 'allow_writing_files': False, 'eval_metric': 'Accuracy'}\n"
          ]
        },
        {
          "metadata": {
            "tags": null
          },
          "name": "stdout",
          "output_type": "stream",
          "text": [
            "Stopped by overfitting detector  (150 iterations wait)\n",
            "\n",
            "bestTest = 0.8828828829\n",
            "bestIteration = 186\n",
            "\n",
            "Shrink model to first 187 iterations.\n",
            "0:\tlearn: 0.8076923\ttest: 0.8288288\tbest: 0.8288288 (0)\ttotal: 4.25ms\tremaining: 208ms\n",
            "20:\tlearn: 0.8141026\ttest: 0.8108108\tbest: 0.8288288 (0)\ttotal: 27.6ms\tremaining: 38.1ms\n",
            "40:\tlearn: 0.8166667\ttest: 0.8018018\tbest: 0.8288288 (0)\ttotal: 51.9ms\tremaining: 11.4ms\n",
            "49:\tlearn: 0.8243590\ttest: 0.8108108\tbest: 0.8288288 (0)\ttotal: 65ms\tremaining: 0us\n",
            "\n",
            "bestTest = 0.8288288288\n",
            "bestIteration = 0\n",
            "\n",
            "Shrink model to first 1 iterations.\n",
            "0:\tlearn: 0.8102564\ttest: 0.8378378\tbest: 0.8378378 (0)\ttotal: 2.61ms\tremaining: 26s\n",
            "20:\tlearn: 0.8192308\ttest: 0.8018018\tbest: 0.8468468 (2)\ttotal: 50.1ms\tremaining: 23.7s\n",
            "40:\tlearn: 0.8384615\ttest: 0.8378378\tbest: 0.8468468 (2)\ttotal: 101ms\tremaining: 24.4s\n",
            "60:\tlearn: 0.8576923\ttest: 0.8558559\tbest: 0.8558559 (53)\ttotal: 148ms\tremaining: 23.9s\n",
            "80:\tlearn: 0.8653846\ttest: 0.8558559\tbest: 0.8558559 (53)\ttotal: 192ms\tremaining: 23.4s\n",
            "100:\tlearn: 0.8756410\ttest: 0.8468468\tbest: 0.8558559 (53)\ttotal: 237ms\tremaining: 23.1s\n",
            "120:\tlearn: 0.8820513\ttest: 0.8468468\tbest: 0.8558559 (53)\ttotal: 289ms\tremaining: 23.4s\n",
            "140:\tlearn: 0.8858974\ttest: 0.8468468\tbest: 0.8558559 (53)\ttotal: 345ms\tremaining: 24s\n",
            "160:\tlearn: 0.8923077\ttest: 0.8378378\tbest: 0.8558559 (53)\ttotal: 423ms\tremaining: 25.7s\n",
            "180:\tlearn: 0.9012821\ttest: 0.8378378\tbest: 0.8558559 (53)\ttotal: 478ms\tremaining: 25.8s\n",
            "200:\tlearn: 0.9051282\ttest: 0.8378378\tbest: 0.8558559 (53)\ttotal: 525ms\tremaining: 25.5s\n",
            "Stopped by overfitting detector  (150 iterations wait)\n",
            "\n",
            "bestTest = 0.8558558559\n",
            "bestIteration = 53\n",
            "\n",
            "Shrink model to first 54 iterations.\n"
          ]
        },
        {
          "metadata": {
            "tags": null
          },
          "name": "stderr",
          "output_type": "stream",
          "text": [
            "Level 15:autogluon.core.utils.savers.save_pkl:Saving /content/drive/MyDrive/輪読/model/agModels_best/models/CatBoost_BAG_L1/utils/oof.pkl\n",
            "Level 15:autogluon.core.utils.savers.save_pkl:Saving /content/drive/MyDrive/輪読/model/agModels_best/models/CatBoost_BAG_L1/model.pkl\n",
            "INFO:autogluon.tabular.trainer.abstract_trainer:\t0.8395\t = Validation score   (accuracy)\n",
            "INFO:autogluon.tabular.trainer.abstract_trainer:\t5.26s\t = Training   runtime\n",
            "INFO:autogluon.tabular.trainer.abstract_trainer:\t0.06s\t = Validation runtime\n",
            "Level 15:autogluon.core.utils.savers.save_pkl:Saving /content/drive/MyDrive/輪読/model/agModels_best/models/trainer.pkl\n",
            "INFO:autogluon.tabular.trainer.abstract_trainer:Fitting model: ExtraTreesGini_BAG_L1 ... Training model for up to 178.49s of the 278.13s of remaining time.\n",
            "Level 15:autogluon.core.utils.savers.save_pkl:Saving /content/drive/MyDrive/輪読/model/agModels_best/models/ExtraTreesGini_BAG_L1/utils/model_template.pkl\n",
            "Level 15:autogluon.core.models.abstract.abstract_model:\tFitting S1F1 with 'num_gpus': 0, 'num_cpus': 2\n",
            "Level 15:autogluon.core.models.ensemble.bagged_ensemble_model:\t`use_child_oof` was specified for this model. It will function similarly to a bagged model, but will only fit one child model.\n",
            "Level 15:autogluon.core.utils.savers.save_pkl:Saving /content/drive/MyDrive/輪読/model/agModels_best/models/ExtraTreesGini_BAG_L1/utils/oof.pkl\n",
            "Level 15:autogluon.core.utils.savers.save_pkl:Saving /content/drive/MyDrive/輪読/model/agModels_best/models/ExtraTreesGini_BAG_L1/model.pkl\n",
            "INFO:autogluon.tabular.trainer.abstract_trainer:\t0.8002\t = Validation score   (accuracy)\n",
            "INFO:autogluon.tabular.trainer.abstract_trainer:\t1.0s\t = Training   runtime\n",
            "INFO:autogluon.tabular.trainer.abstract_trainer:\t0.16s\t = Validation runtime\n",
            "Level 15:autogluon.core.utils.savers.save_pkl:Saving /content/drive/MyDrive/輪読/model/agModels_best/models/trainer.pkl\n",
            "INFO:autogluon.tabular.trainer.abstract_trainer:Fitting model: ExtraTreesEntr_BAG_L1 ... Training model for up to 177.09s of the 276.74s of remaining time.\n",
            "Level 15:autogluon.core.utils.savers.save_pkl:Saving /content/drive/MyDrive/輪読/model/agModels_best/models/ExtraTreesEntr_BAG_L1/utils/model_template.pkl\n",
            "Level 15:autogluon.core.models.abstract.abstract_model:\tFitting S1F1 with 'num_gpus': 0, 'num_cpus': 2\n",
            "Level 15:autogluon.core.models.ensemble.bagged_ensemble_model:\t`use_child_oof` was specified for this model. It will function similarly to a bagged model, but will only fit one child model.\n",
            "Level 15:autogluon.core.utils.savers.save_pkl:Saving /content/drive/MyDrive/輪読/model/agModels_best/models/ExtraTreesEntr_BAG_L1/utils/oof.pkl\n",
            "Level 15:autogluon.core.utils.savers.save_pkl:Saving /content/drive/MyDrive/輪読/model/agModels_best/models/ExtraTreesEntr_BAG_L1/model.pkl\n",
            "INFO:autogluon.tabular.trainer.abstract_trainer:\t0.7969\t = Validation score   (accuracy)\n",
            "INFO:autogluon.tabular.trainer.abstract_trainer:\t1.18s\t = Training   runtime\n",
            "INFO:autogluon.tabular.trainer.abstract_trainer:\t0.33s\t = Validation runtime\n",
            "Level 15:autogluon.core.utils.savers.save_pkl:Saving /content/drive/MyDrive/輪読/model/agModels_best/models/trainer.pkl\n",
            "INFO:autogluon.tabular.trainer.abstract_trainer:Fitting model: NeuralNetFastAI_BAG_L1 ... Training model for up to 175.33s of the 274.98s of remaining time.\n",
            "Level 15:autogluon.core.utils.savers.save_pkl:Saving /content/drive/MyDrive/輪読/model/agModels_best/models/NeuralNetFastAI_BAG_L1/utils/model_template.pkl\n",
            "Level 15:autogluon.core.models.abstract.abstract_model:\tFitting S1F1 with 'num_gpus': 0, 'num_cpus': 2\n",
            "Level 15:autogluon.tabular.models.fastainn.tabular_nn_fastai:Fitting Neural Network with parameters {'layers': None, 'emb_drop': 0.1, 'ps': 0.1, 'bs': 256, 'lr': 0.01, 'epochs': 30, 'early.stopping.min_delta': 0.0001, 'early.stopping.patience': 20, 'smoothing': 0.0}...\n",
            "Level 15:autogluon.tabular.models.fastainn.tabular_nn_fastai:Using 1/1 categorical features\n",
            "Level 15:autogluon.tabular.models.fastainn.tabular_nn_fastai:Using 6 cont features\n",
            "Level 15:autogluon.tabular.models.fastainn.tabular_nn_fastai:TabularModel(\n",
            "  (embeds): ModuleList(\n",
            "    (0): Embedding(5, 4)\n",
            "  )\n",
            "  (emb_drop): Dropout(p=0.1, inplace=False)\n",
            "  (bn_cont): BatchNorm1d(6, eps=1e-05, momentum=0.1, affine=True, track_running_stats=True)\n",
            "  (layers): Sequential(\n",
            "    (0): LinBnDrop(\n",
            "      (0): Linear(in_features=10, out_features=200, bias=False)\n",
            "      (1): ReLU(inplace=True)\n",
            "      (2): BatchNorm1d(200, eps=1e-05, momentum=0.1, affine=True, track_running_stats=True)\n",
            "      (3): Dropout(p=0.1, inplace=False)\n",
            "    )\n",
            "    (1): LinBnDrop(\n",
            "      (0): Linear(in_features=200, out_features=100, bias=False)\n",
            "      (1): ReLU(inplace=True)\n",
            "      (2): BatchNorm1d(100, eps=1e-05, momentum=0.1, affine=True, track_running_stats=True)\n",
            "      (3): Dropout(p=0.1, inplace=False)\n",
            "    )\n",
            "    (2): LinBnDrop(\n",
            "      (0): Linear(in_features=100, out_features=2, bias=True)\n",
            "    )\n",
            "  )\n",
            ")\n",
            "Level 15:autogluon.tabular.models.fastainn.callbacks:Better model found at epoch 0 with accuracy value: 0.6428571343421936.\n",
            "Level 15:autogluon.tabular.models.fastainn.callbacks:Better model found at epoch 1 with accuracy value: 0.7767857313156128.\n",
            "Level 15:autogluon.tabular.models.fastainn.callbacks:Better model found at epoch 2 with accuracy value: 0.7857142686843872.\n",
            "Level 15:autogluon.tabular.models.fastainn.callbacks:Better model found at epoch 6 with accuracy value: 0.7946428656578064.\n",
            "Level 15:autogluon.tabular.models.fastainn.callbacks:Better model found at epoch 8 with accuracy value: 0.8482142686843872.\n",
            "INFO:autogluon.tabular.models.fastainn.callbacks:No improvement since epoch 8: early stopping\n",
            "Level 15:autogluon.tabular.models.fastainn.tabular_nn_fastai:Model validation metrics: 0.8482142686843872\n",
            "Level 15:autogluon.core.models.abstract.abstract_model:\tFitting S1F2 with 'num_gpus': 0, 'num_cpus': 2\n",
            "Level 15:autogluon.tabular.models.fastainn.tabular_nn_fastai:Fitting Neural Network with parameters {'layers': None, 'emb_drop': 0.1, 'ps': 0.1, 'bs': 256, 'lr': 0.01, 'epochs': 30, 'early.stopping.min_delta': 0.0001, 'early.stopping.patience': 20, 'smoothing': 0.0}...\n",
            "Level 15:autogluon.tabular.models.fastainn.tabular_nn_fastai:Using 1/1 categorical features\n",
            "Level 15:autogluon.tabular.models.fastainn.tabular_nn_fastai:Using 6 cont features\n",
            "Level 15:autogluon.tabular.models.fastainn.tabular_nn_fastai:TabularModel(\n",
            "  (embeds): ModuleList(\n",
            "    (0): Embedding(5, 4)\n",
            "  )\n",
            "  (emb_drop): Dropout(p=0.1, inplace=False)\n",
            "  (bn_cont): BatchNorm1d(6, eps=1e-05, momentum=0.1, affine=True, track_running_stats=True)\n",
            "  (layers): Sequential(\n",
            "    (0): LinBnDrop(\n",
            "      (0): Linear(in_features=10, out_features=200, bias=False)\n",
            "      (1): ReLU(inplace=True)\n",
            "      (2): BatchNorm1d(200, eps=1e-05, momentum=0.1, affine=True, track_running_stats=True)\n",
            "      (3): Dropout(p=0.1, inplace=False)\n",
            "    )\n",
            "    (1): LinBnDrop(\n",
            "      (0): Linear(in_features=200, out_features=100, bias=False)\n",
            "      (1): ReLU(inplace=True)\n",
            "      (2): BatchNorm1d(100, eps=1e-05, momentum=0.1, affine=True, track_running_stats=True)\n",
            "      (3): Dropout(p=0.1, inplace=False)\n",
            "    )\n",
            "    (2): LinBnDrop(\n",
            "      (0): Linear(in_features=100, out_features=2, bias=True)\n",
            "    )\n",
            "  )\n",
            ")\n",
            "Level 15:autogluon.tabular.models.fastainn.callbacks:Better model found at epoch 0 with accuracy value: 0.6428571343421936.\n",
            "Level 15:autogluon.tabular.models.fastainn.callbacks:Better model found at epoch 1 with accuracy value: 0.75.\n",
            "Level 15:autogluon.tabular.models.fastainn.callbacks:Better model found at epoch 2 with accuracy value: 0.7767857313156128.\n",
            "Level 15:autogluon.tabular.models.fastainn.callbacks:Better model found at epoch 8 with accuracy value: 0.8125.\n",
            "INFO:autogluon.tabular.models.fastainn.callbacks:No improvement since epoch 8: early stopping\n",
            "Level 15:autogluon.tabular.models.fastainn.tabular_nn_fastai:Model validation metrics: 0.8125\n",
            "Level 15:autogluon.core.models.abstract.abstract_model:\tFitting S1F3 with 'num_gpus': 0, 'num_cpus': 2\n",
            "Level 15:autogluon.tabular.models.fastainn.tabular_nn_fastai:Fitting Neural Network with parameters {'layers': None, 'emb_drop': 0.1, 'ps': 0.1, 'bs': 256, 'lr': 0.01, 'epochs': 30, 'early.stopping.min_delta': 0.0001, 'early.stopping.patience': 20, 'smoothing': 0.0}...\n",
            "Level 15:autogluon.tabular.models.fastainn.tabular_nn_fastai:Using 1/1 categorical features\n",
            "Level 15:autogluon.tabular.models.fastainn.tabular_nn_fastai:Using 6 cont features\n",
            "Level 15:autogluon.tabular.models.fastainn.tabular_nn_fastai:TabularModel(\n",
            "  (embeds): ModuleList(\n",
            "    (0): Embedding(5, 4)\n",
            "  )\n",
            "  (emb_drop): Dropout(p=0.1, inplace=False)\n",
            "  (bn_cont): BatchNorm1d(6, eps=1e-05, momentum=0.1, affine=True, track_running_stats=True)\n",
            "  (layers): Sequential(\n",
            "    (0): LinBnDrop(\n",
            "      (0): Linear(in_features=10, out_features=200, bias=False)\n",
            "      (1): ReLU(inplace=True)\n",
            "      (2): BatchNorm1d(200, eps=1e-05, momentum=0.1, affine=True, track_running_stats=True)\n",
            "      (3): Dropout(p=0.1, inplace=False)\n",
            "    )\n",
            "    (1): LinBnDrop(\n",
            "      (0): Linear(in_features=200, out_features=100, bias=False)\n",
            "      (1): ReLU(inplace=True)\n",
            "      (2): BatchNorm1d(100, eps=1e-05, momentum=0.1, affine=True, track_running_stats=True)\n",
            "      (3): Dropout(p=0.1, inplace=False)\n",
            "    )\n",
            "    (2): LinBnDrop(\n",
            "      (0): Linear(in_features=100, out_features=2, bias=True)\n",
            "    )\n",
            "  )\n",
            ")\n",
            "Level 15:autogluon.tabular.models.fastainn.callbacks:Better model found at epoch 0 with accuracy value: 0.8303571343421936.\n",
            "Level 15:autogluon.tabular.models.fastainn.callbacks:Better model found at epoch 2 with accuracy value: 0.8571428656578064.\n",
            "Level 15:autogluon.tabular.models.fastainn.callbacks:Better model found at epoch 3 with accuracy value: 0.8660714030265808.\n",
            "Level 15:autogluon.tabular.models.fastainn.callbacks:Better model found at epoch 6 with accuracy value: 0.8928571343421936.\n",
            "Level 15:autogluon.tabular.models.fastainn.callbacks:Better model found at epoch 9 with accuracy value: 0.9107142686843872.\n",
            "INFO:autogluon.tabular.models.fastainn.callbacks:No improvement since epoch 9: early stopping\n",
            "Level 15:autogluon.tabular.models.fastainn.tabular_nn_fastai:Model validation metrics: 0.9107142686843872\n",
            "Level 15:autogluon.core.models.abstract.abstract_model:\tFitting S1F4 with 'num_gpus': 0, 'num_cpus': 2\n",
            "Level 15:autogluon.tabular.models.fastainn.tabular_nn_fastai:Fitting Neural Network with parameters {'layers': None, 'emb_drop': 0.1, 'ps': 0.1, 'bs': 256, 'lr': 0.01, 'epochs': 30, 'early.stopping.min_delta': 0.0001, 'early.stopping.patience': 20, 'smoothing': 0.0}...\n",
            "Level 15:autogluon.tabular.models.fastainn.tabular_nn_fastai:Using 1/1 categorical features\n",
            "Level 15:autogluon.tabular.models.fastainn.tabular_nn_fastai:Using 6 cont features\n",
            "Level 15:autogluon.tabular.models.fastainn.tabular_nn_fastai:TabularModel(\n",
            "  (embeds): ModuleList(\n",
            "    (0): Embedding(5, 4)\n",
            "  )\n",
            "  (emb_drop): Dropout(p=0.1, inplace=False)\n",
            "  (bn_cont): BatchNorm1d(6, eps=1e-05, momentum=0.1, affine=True, track_running_stats=True)\n",
            "  (layers): Sequential(\n",
            "    (0): LinBnDrop(\n",
            "      (0): Linear(in_features=10, out_features=200, bias=False)\n",
            "      (1): ReLU(inplace=True)\n",
            "      (2): BatchNorm1d(200, eps=1e-05, momentum=0.1, affine=True, track_running_stats=True)\n",
            "      (3): Dropout(p=0.1, inplace=False)\n",
            "    )\n",
            "    (1): LinBnDrop(\n",
            "      (0): Linear(in_features=200, out_features=100, bias=False)\n",
            "      (1): ReLU(inplace=True)\n",
            "      (2): BatchNorm1d(100, eps=1e-05, momentum=0.1, affine=True, track_running_stats=True)\n",
            "      (3): Dropout(p=0.1, inplace=False)\n",
            "    )\n",
            "    (2): LinBnDrop(\n",
            "      (0): Linear(in_features=100, out_features=2, bias=True)\n",
            "    )\n",
            "  )\n",
            ")\n",
            "Level 15:autogluon.tabular.models.fastainn.callbacks:Better model found at epoch 0 with accuracy value: 0.684684693813324.\n",
            "Level 15:autogluon.tabular.models.fastainn.callbacks:Better model found at epoch 1 with accuracy value: 0.7747747898101807.\n",
            "Level 15:autogluon.tabular.models.fastainn.callbacks:Better model found at epoch 6 with accuracy value: 0.7837837934494019.\n",
            "Level 15:autogluon.tabular.models.fastainn.callbacks:Better model found at epoch 7 with accuracy value: 0.792792797088623.\n",
            "INFO:autogluon.tabular.models.fastainn.callbacks:No improvement since epoch 7: early stopping\n",
            "Level 15:autogluon.tabular.models.fastainn.tabular_nn_fastai:Model validation metrics: 0.792792797088623\n",
            "Level 15:autogluon.core.models.abstract.abstract_model:\tFitting S1F5 with 'num_gpus': 0, 'num_cpus': 2\n",
            "Level 15:autogluon.tabular.models.fastainn.tabular_nn_fastai:Fitting Neural Network with parameters {'layers': None, 'emb_drop': 0.1, 'ps': 0.1, 'bs': 256, 'lr': 0.01, 'epochs': 30, 'early.stopping.min_delta': 0.0001, 'early.stopping.patience': 20, 'smoothing': 0.0}...\n",
            "Level 15:autogluon.tabular.models.fastainn.tabular_nn_fastai:Using 1/1 categorical features\n",
            "Level 15:autogluon.tabular.models.fastainn.tabular_nn_fastai:Using 6 cont features\n",
            "Level 15:autogluon.tabular.models.fastainn.tabular_nn_fastai:TabularModel(\n",
            "  (embeds): ModuleList(\n",
            "    (0): Embedding(5, 4)\n",
            "  )\n",
            "  (emb_drop): Dropout(p=0.1, inplace=False)\n",
            "  (bn_cont): BatchNorm1d(6, eps=1e-05, momentum=0.1, affine=True, track_running_stats=True)\n",
            "  (layers): Sequential(\n",
            "    (0): LinBnDrop(\n",
            "      (0): Linear(in_features=10, out_features=200, bias=False)\n",
            "      (1): ReLU(inplace=True)\n",
            "      (2): BatchNorm1d(200, eps=1e-05, momentum=0.1, affine=True, track_running_stats=True)\n",
            "      (3): Dropout(p=0.1, inplace=False)\n",
            "    )\n",
            "    (1): LinBnDrop(\n",
            "      (0): Linear(in_features=200, out_features=100, bias=False)\n",
            "      (1): ReLU(inplace=True)\n",
            "      (2): BatchNorm1d(100, eps=1e-05, momentum=0.1, affine=True, track_running_stats=True)\n",
            "      (3): Dropout(p=0.1, inplace=False)\n",
            "    )\n",
            "    (2): LinBnDrop(\n",
            "      (0): Linear(in_features=100, out_features=2, bias=True)\n",
            "    )\n",
            "  )\n",
            ")\n",
            "Level 15:autogluon.tabular.models.fastainn.callbacks:Better model found at epoch 0 with accuracy value: 0.7117117047309875.\n",
            "Level 15:autogluon.tabular.models.fastainn.callbacks:Better model found at epoch 1 with accuracy value: 0.8108108043670654.\n",
            "Level 15:autogluon.tabular.models.fastainn.callbacks:Better model found at epoch 2 with accuracy value: 0.8198198080062866.\n",
            "Level 15:autogluon.tabular.models.fastainn.callbacks:Better model found at epoch 7 with accuracy value: 0.8288288116455078.\n",
            "INFO:autogluon.tabular.models.fastainn.callbacks:No improvement since epoch 7: early stopping\n",
            "Level 15:autogluon.tabular.models.fastainn.tabular_nn_fastai:Model validation metrics: 0.8288288116455078\n",
            "Level 15:autogluon.core.models.abstract.abstract_model:\tFitting S1F6 with 'num_gpus': 0, 'num_cpus': 2\n",
            "Level 15:autogluon.tabular.models.fastainn.tabular_nn_fastai:Fitting Neural Network with parameters {'layers': None, 'emb_drop': 0.1, 'ps': 0.1, 'bs': 256, 'lr': 0.01, 'epochs': 30, 'early.stopping.min_delta': 0.0001, 'early.stopping.patience': 20, 'smoothing': 0.0}...\n",
            "Level 15:autogluon.tabular.models.fastainn.tabular_nn_fastai:Using 1/1 categorical features\n",
            "Level 15:autogluon.tabular.models.fastainn.tabular_nn_fastai:Using 6 cont features\n",
            "Level 15:autogluon.tabular.models.fastainn.tabular_nn_fastai:TabularModel(\n",
            "  (embeds): ModuleList(\n",
            "    (0): Embedding(5, 4)\n",
            "  )\n",
            "  (emb_drop): Dropout(p=0.1, inplace=False)\n",
            "  (bn_cont): BatchNorm1d(6, eps=1e-05, momentum=0.1, affine=True, track_running_stats=True)\n",
            "  (layers): Sequential(\n",
            "    (0): LinBnDrop(\n",
            "      (0): Linear(in_features=10, out_features=200, bias=False)\n",
            "      (1): ReLU(inplace=True)\n",
            "      (2): BatchNorm1d(200, eps=1e-05, momentum=0.1, affine=True, track_running_stats=True)\n",
            "      (3): Dropout(p=0.1, inplace=False)\n",
            "    )\n",
            "    (1): LinBnDrop(\n",
            "      (0): Linear(in_features=200, out_features=100, bias=False)\n",
            "      (1): ReLU(inplace=True)\n",
            "      (2): BatchNorm1d(100, eps=1e-05, momentum=0.1, affine=True, track_running_stats=True)\n",
            "      (3): Dropout(p=0.1, inplace=False)\n",
            "    )\n",
            "    (2): LinBnDrop(\n",
            "      (0): Linear(in_features=100, out_features=2, bias=True)\n",
            "    )\n",
            "  )\n",
            ")\n",
            "Level 15:autogluon.tabular.models.fastainn.callbacks:Better model found at epoch 0 with accuracy value: 0.7297297120094299.\n",
            "Level 15:autogluon.tabular.models.fastainn.callbacks:Better model found at epoch 2 with accuracy value: 0.7477477192878723.\n",
            "Level 15:autogluon.tabular.models.fastainn.callbacks:Better model found at epoch 3 with accuracy value: 0.7837837934494019.\n",
            "Level 15:autogluon.tabular.models.fastainn.callbacks:Better model found at epoch 4 with accuracy value: 0.8018018007278442.\n",
            "Level 15:autogluon.tabular.models.fastainn.callbacks:Better model found at epoch 5 with accuracy value: 0.8108108043670654.\n",
            "Level 15:autogluon.tabular.models.fastainn.callbacks:Better model found at epoch 14 with accuracy value: 0.8198198080062866.\n",
            "Level 15:autogluon.tabular.models.fastainn.tabular_nn_fastai:Model validation metrics: 0.8198198080062866\n",
            "Level 15:autogluon.core.models.abstract.abstract_model:\tFitting S1F7 with 'num_gpus': 0, 'num_cpus': 2\n",
            "Level 15:autogluon.tabular.models.fastainn.tabular_nn_fastai:Fitting Neural Network with parameters {'layers': None, 'emb_drop': 0.1, 'ps': 0.1, 'bs': 256, 'lr': 0.01, 'epochs': 30, 'early.stopping.min_delta': 0.0001, 'early.stopping.patience': 20, 'smoothing': 0.0}...\n",
            "Level 15:autogluon.tabular.models.fastainn.tabular_nn_fastai:Using 1/1 categorical features\n",
            "Level 15:autogluon.tabular.models.fastainn.tabular_nn_fastai:Using 6 cont features\n",
            "Level 15:autogluon.tabular.models.fastainn.tabular_nn_fastai:TabularModel(\n",
            "  (embeds): ModuleList(\n",
            "    (0): Embedding(5, 4)\n",
            "  )\n",
            "  (emb_drop): Dropout(p=0.1, inplace=False)\n",
            "  (bn_cont): BatchNorm1d(6, eps=1e-05, momentum=0.1, affine=True, track_running_stats=True)\n",
            "  (layers): Sequential(\n",
            "    (0): LinBnDrop(\n",
            "      (0): Linear(in_features=10, out_features=200, bias=False)\n",
            "      (1): ReLU(inplace=True)\n",
            "      (2): BatchNorm1d(200, eps=1e-05, momentum=0.1, affine=True, track_running_stats=True)\n",
            "      (3): Dropout(p=0.1, inplace=False)\n",
            "    )\n",
            "    (1): LinBnDrop(\n",
            "      (0): Linear(in_features=200, out_features=100, bias=False)\n",
            "      (1): ReLU(inplace=True)\n",
            "      (2): BatchNorm1d(100, eps=1e-05, momentum=0.1, affine=True, track_running_stats=True)\n",
            "      (3): Dropout(p=0.1, inplace=False)\n",
            "    )\n",
            "    (2): LinBnDrop(\n",
            "      (0): Linear(in_features=100, out_features=2, bias=True)\n",
            "    )\n",
            "  )\n",
            ")\n",
            "Level 15:autogluon.tabular.models.fastainn.callbacks:Better model found at epoch 0 with accuracy value: 0.8018018007278442.\n",
            "Level 15:autogluon.tabular.models.fastainn.callbacks:Better model found at epoch 1 with accuracy value: 0.8738738894462585.\n",
            "Level 15:autogluon.tabular.models.fastainn.callbacks:Better model found at epoch 10 with accuracy value: 0.8828828930854797.\n",
            "Level 15:autogluon.tabular.models.fastainn.tabular_nn_fastai:Model validation metrics: 0.8828828930854797\n",
            "Level 15:autogluon.core.models.abstract.abstract_model:\tFitting S1F8 with 'num_gpus': 0, 'num_cpus': 2\n",
            "Level 15:autogluon.tabular.models.fastainn.tabular_nn_fastai:Fitting Neural Network with parameters {'layers': None, 'emb_drop': 0.1, 'ps': 0.1, 'bs': 256, 'lr': 0.01, 'epochs': 30, 'early.stopping.min_delta': 0.0001, 'early.stopping.patience': 20, 'smoothing': 0.0}...\n",
            "Level 15:autogluon.tabular.models.fastainn.tabular_nn_fastai:Using 1/1 categorical features\n",
            "Level 15:autogluon.tabular.models.fastainn.tabular_nn_fastai:Using 6 cont features\n",
            "Level 15:autogluon.tabular.models.fastainn.tabular_nn_fastai:TabularModel(\n",
            "  (embeds): ModuleList(\n",
            "    (0): Embedding(5, 4)\n",
            "  )\n",
            "  (emb_drop): Dropout(p=0.1, inplace=False)\n",
            "  (bn_cont): BatchNorm1d(6, eps=1e-05, momentum=0.1, affine=True, track_running_stats=True)\n",
            "  (layers): Sequential(\n",
            "    (0): LinBnDrop(\n",
            "      (0): Linear(in_features=10, out_features=200, bias=False)\n",
            "      (1): ReLU(inplace=True)\n",
            "      (2): BatchNorm1d(200, eps=1e-05, momentum=0.1, affine=True, track_running_stats=True)\n",
            "      (3): Dropout(p=0.1, inplace=False)\n",
            "    )\n",
            "    (1): LinBnDrop(\n",
            "      (0): Linear(in_features=200, out_features=100, bias=False)\n",
            "      (1): ReLU(inplace=True)\n",
            "      (2): BatchNorm1d(100, eps=1e-05, momentum=0.1, affine=True, track_running_stats=True)\n",
            "      (3): Dropout(p=0.1, inplace=False)\n",
            "    )\n",
            "    (2): LinBnDrop(\n",
            "      (0): Linear(in_features=100, out_features=2, bias=True)\n",
            "    )\n",
            "  )\n",
            ")\n",
            "Level 15:autogluon.tabular.models.fastainn.callbacks:Better model found at epoch 0 with accuracy value: 0.7477477192878723.\n",
            "Level 15:autogluon.tabular.models.fastainn.callbacks:Better model found at epoch 1 with accuracy value: 0.8198198080062866.\n",
            "Level 15:autogluon.tabular.models.fastainn.callbacks:Better model found at epoch 2 with accuracy value: 0.8288288116455078.\n",
            "Level 15:autogluon.tabular.models.fastainn.callbacks:Better model found at epoch 3 with accuracy value: 0.8558558821678162.\n",
            "Level 15:autogluon.tabular.models.fastainn.callbacks:Better model found at epoch 5 with accuracy value: 0.8648648858070374.\n",
            "INFO:autogluon.tabular.models.fastainn.callbacks:No improvement since epoch 5: early stopping\n",
            "Level 15:autogluon.tabular.models.fastainn.tabular_nn_fastai:Model validation metrics: 0.8648648858070374\n",
            "Level 15:autogluon.core.utils.savers.save_pkl:Saving /content/drive/MyDrive/輪読/model/agModels_best/models/NeuralNetFastAI_BAG_L1/utils/oof.pkl\n",
            "Level 15:autogluon.core.utils.savers.save_pkl:Saving /content/drive/MyDrive/輪読/model/agModels_best/models/NeuralNetFastAI_BAG_L1/model.pkl\n",
            "INFO:autogluon.tabular.trainer.abstract_trainer:\t0.8451\t = Validation score   (accuracy)\n",
            "INFO:autogluon.tabular.trainer.abstract_trainer:\t24.65s\t = Training   runtime\n",
            "INFO:autogluon.tabular.trainer.abstract_trainer:\t0.23s\t = Validation runtime\n",
            "Level 15:autogluon.core.utils.savers.save_pkl:Saving /content/drive/MyDrive/輪読/model/agModels_best/models/trainer.pkl\n",
            "INFO:autogluon.tabular.trainer.abstract_trainer:Fitting model: XGBoost_BAG_L1 ... Training model for up to 150.0s of the 249.65s of remaining time.\n",
            "Level 15:autogluon.core.utils.savers.save_pkl:Saving /content/drive/MyDrive/輪読/model/agModels_best/models/XGBoost_BAG_L1/utils/model_template.pkl\n",
            "Level 15:autogluon.core.models.abstract.abstract_model:\tFitting S1F1 with 'num_gpus': 0, 'num_cpus': 2\n"
          ]
        },
        {
          "metadata": {
            "tags": null
          },
          "name": "stdout",
          "output_type": "stream",
          "text": [
            "[0]\tvalidation_0-error:0.16964\n",
            "[50]\tvalidation_0-error:0.16964\n",
            "[100]\tvalidation_0-error:0.16964\n",
            "[150]\tvalidation_0-error:0.15179\n",
            "[200]\tvalidation_0-error:0.17857\n",
            "[250]\tvalidation_0-error:0.16964\n",
            "[283]\tvalidation_0-error:0.16071\n"
          ]
        },
        {
          "metadata": {
            "tags": null
          },
          "name": "stderr",
          "output_type": "stream",
          "text": [
            "Level 15:autogluon.core.models.abstract.abstract_model:\tFitting S1F2 with 'num_gpus': 0, 'num_cpus': 2\n"
          ]
        },
        {
          "metadata": {
            "tags": null
          },
          "name": "stdout",
          "output_type": "stream",
          "text": [
            "[0]\tvalidation_0-error:0.20536\n",
            "[50]\tvalidation_0-error:0.21429\n",
            "[100]\tvalidation_0-error:0.23214\n",
            "[150]\tvalidation_0-error:0.24107\n",
            "[162]\tvalidation_0-error:0.24107\n"
          ]
        },
        {
          "metadata": {
            "tags": null
          },
          "name": "stderr",
          "output_type": "stream",
          "text": [
            "Level 15:autogluon.core.models.abstract.abstract_model:\tFitting S1F3 with 'num_gpus': 0, 'num_cpus': 2\n"
          ]
        },
        {
          "metadata": {
            "tags": null
          },
          "name": "stdout",
          "output_type": "stream",
          "text": [
            "[0]\tvalidation_0-error:0.08929\n",
            "[50]\tvalidation_0-error:0.08929\n",
            "[100]\tvalidation_0-error:0.08929\n",
            "[150]\tvalidation_0-error:0.09821\n",
            "[153]\tvalidation_0-error:0.09821\n"
          ]
        },
        {
          "metadata": {
            "tags": null
          },
          "name": "stderr",
          "output_type": "stream",
          "text": [
            "Level 15:autogluon.core.models.abstract.abstract_model:\tFitting S1F4 with 'num_gpus': 0, 'num_cpus': 2\n"
          ]
        },
        {
          "metadata": {
            "tags": null
          },
          "name": "stdout",
          "output_type": "stream",
          "text": [
            "[0]\tvalidation_0-error:0.21622\n",
            "[50]\tvalidation_0-error:0.18919\n",
            "[100]\tvalidation_0-error:0.19820\n",
            "[150]\tvalidation_0-error:0.19820\n",
            "[192]\tvalidation_0-error:0.18919\n"
          ]
        },
        {
          "metadata": {
            "tags": null
          },
          "name": "stderr",
          "output_type": "stream",
          "text": [
            "Level 15:autogluon.core.models.abstract.abstract_model:\tFitting S1F5 with 'num_gpus': 0, 'num_cpus': 2\n"
          ]
        },
        {
          "metadata": {
            "tags": null
          },
          "name": "stdout",
          "output_type": "stream",
          "text": [
            "[0]\tvalidation_0-error:0.22523\n",
            "[50]\tvalidation_0-error:0.22523\n",
            "[100]\tvalidation_0-error:0.20721\n",
            "[150]\tvalidation_0-error:0.19820\n",
            "[200]\tvalidation_0-error:0.20721\n",
            "[224]\tvalidation_0-error:0.21622\n"
          ]
        },
        {
          "metadata": {
            "tags": null
          },
          "name": "stderr",
          "output_type": "stream",
          "text": [
            "Level 15:autogluon.core.models.abstract.abstract_model:\tFitting S1F6 with 'num_gpus': 0, 'num_cpus': 2\n"
          ]
        },
        {
          "metadata": {
            "tags": null
          },
          "name": "stdout",
          "output_type": "stream",
          "text": [
            "[0]\tvalidation_0-error:0.25225\n",
            "[50]\tvalidation_0-error:0.22523\n",
            "[100]\tvalidation_0-error:0.20721\n",
            "[150]\tvalidation_0-error:0.21622\n",
            "[200]\tvalidation_0-error:0.22523\n",
            "[212]\tvalidation_0-error:0.22523\n"
          ]
        },
        {
          "metadata": {
            "tags": null
          },
          "name": "stderr",
          "output_type": "stream",
          "text": [
            "Level 15:autogluon.core.models.abstract.abstract_model:\tFitting S1F7 with 'num_gpus': 0, 'num_cpus': 2\n"
          ]
        },
        {
          "metadata": {
            "tags": null
          },
          "name": "stdout",
          "output_type": "stream",
          "text": [
            "[0]\tvalidation_0-error:0.13514\n",
            "[50]\tvalidation_0-error:0.10811\n",
            "[100]\tvalidation_0-error:0.10811\n",
            "[150]\tvalidation_0-error:0.13514\n",
            "[176]\tvalidation_0-error:0.14414\n"
          ]
        },
        {
          "metadata": {
            "tags": null
          },
          "name": "stderr",
          "output_type": "stream",
          "text": [
            "Level 15:autogluon.core.models.abstract.abstract_model:\tFitting S1F8 with 'num_gpus': 0, 'num_cpus': 2\n"
          ]
        },
        {
          "metadata": {
            "tags": null
          },
          "name": "stdout",
          "output_type": "stream",
          "text": [
            "[0]\tvalidation_0-error:0.18919\n",
            "[50]\tvalidation_0-error:0.19820\n",
            "[100]\tvalidation_0-error:0.18018\n",
            "[150]\tvalidation_0-error:0.18018\n",
            "[172]\tvalidation_0-error:0.18018\n"
          ]
        },
        {
          "metadata": {
            "tags": null
          },
          "name": "stderr",
          "output_type": "stream",
          "text": [
            "Level 15:autogluon.core.utils.savers.save_pkl:Saving /content/drive/MyDrive/輪読/model/agModels_best/models/XGBoost_BAG_L1/utils/oof.pkl\n",
            "Level 15:autogluon.core.utils.savers.save_pkl:Saving /content/drive/MyDrive/輪読/model/agModels_best/models/XGBoost_BAG_L1/model.pkl\n",
            "INFO:autogluon.tabular.trainer.abstract_trainer:\t0.8418\t = Validation score   (accuracy)\n",
            "INFO:autogluon.tabular.trainer.abstract_trainer:\t4.91s\t = Training   runtime\n",
            "INFO:autogluon.tabular.trainer.abstract_trainer:\t0.09s\t = Validation runtime\n",
            "Level 15:autogluon.core.utils.savers.save_pkl:Saving /content/drive/MyDrive/輪読/model/agModels_best/models/trainer.pkl\n",
            "INFO:autogluon.tabular.trainer.abstract_trainer:Fitting model: NeuralNetMXNet_BAG_L1 ... Training model for up to 144.49s of the 244.14s of remaining time.\n",
            "Level 15:autogluon.core.utils.savers.save_pkl:Saving /content/drive/MyDrive/輪読/model/agModels_best/models/NeuralNetMXNet_BAG_L1/utils/model_template.pkl\n",
            "Level 15:autogluon.core.models.abstract.abstract_model:\tFitting S1F1 with 'num_gpus': 0, 'num_cpus': 2\n",
            "ERROR:autogluon.tabular.trainer.abstract_trainer:\tWarning: Exception caused NeuralNetMXNet_BAG_L1 to fail during training (ImportError)... Skipping this model.\n",
            "ERROR:autogluon.tabular.trainer.abstract_trainer:\t\tUnable to import dependency mxnet. A quick tip is to install via `pip install mxnet --upgrade`, or `pip install mxnet_cu101 --upgrade`\n",
            "ERROR:autogluon.tabular.trainer.abstract_trainer:Detailed Traceback:\n",
            "Traceback (most recent call last):\n",
            "  File \"/usr/local/lib/python3.7/dist-packages/autogluon/core/utils/try_import.py\", line 31, in try_import_mxnet\n",
            "    import mxnet as mx\n",
            "ModuleNotFoundError: No module named 'mxnet'\n",
            "\n",
            "During handling of the above exception, another exception occurred:\n",
            "\n",
            "Traceback (most recent call last):\n",
            "  File \"/usr/local/lib/python3.7/dist-packages/autogluon/tabular/trainer/abstract_trainer.py\", line 962, in _train_and_save\n",
            "    model = self._train_single(X, y, model, X_val, y_val, **model_fit_kwargs)\n",
            "  File \"/usr/local/lib/python3.7/dist-packages/autogluon/tabular/trainer/abstract_trainer.py\", line 934, in _train_single\n",
            "    model = model.fit(X=X, y=y, X_val=X_val, y_val=y_val, **model_fit_kwargs)\n",
            "  File \"/usr/local/lib/python3.7/dist-packages/autogluon/core/models/abstract/abstract_model.py\", line 522, in fit\n",
            "    out = self._fit(**kwargs)\n",
            "  File \"/usr/local/lib/python3.7/dist-packages/autogluon/core/models/ensemble/stacker_ensemble_model.py\", line 153, in _fit\n",
            "    return super()._fit(X=X, y=y, time_limit=time_limit, **kwargs)\n",
            "  File \"/usr/local/lib/python3.7/dist-packages/autogluon/core/models/ensemble/bagged_ensemble_model.py\", line 189, in _fit\n",
            "    n_repeats=n_repeats, n_repeat_start=n_repeat_start, save_folds=save_bag_folds, groups=groups, **kwargs)\n",
            "  File \"/usr/local/lib/python3.7/dist-packages/autogluon/core/models/ensemble/bagged_ensemble_model.py\", line 388, in _fit_folds\n",
            "    fold_fitting_strategy.after_all_folds_scheduled()\n",
            "  File \"/usr/local/lib/python3.7/dist-packages/autogluon/core/models/ensemble/fold_fitting_strategy.py\", line 59, in after_all_folds_scheduled\n",
            "    self._fit_fold_model(*job)\n",
            "  File \"/usr/local/lib/python3.7/dist-packages/autogluon/core/models/ensemble/fold_fitting_strategy.py\", line 64, in _fit_fold_model\n",
            "    fold_model = self._fit(model_base, time_start_fold, time_limit_fold, fold_ctx, kwargs)\n",
            "  File \"/usr/local/lib/python3.7/dist-packages/autogluon/core/models/ensemble/fold_fitting_strategy.py\", line 111, in _fit\n",
            "    fold_model.fit(X=X_fold, y=y_fold, X_val=X_val_fold, y_val=y_val_fold, time_limit=time_limit_fold, **kwargs_fold)\n",
            "  File \"/usr/local/lib/python3.7/dist-packages/autogluon/core/models/abstract/abstract_model.py\", line 522, in fit\n",
            "    out = self._fit(**kwargs)\n",
            "  File \"/usr/local/lib/python3.7/dist-packages/autogluon/tabular/models/tabular_nn/tabular_nn_model.py\", line 168, in _fit\n",
            "    try_import_mxnet()\n",
            "  File \"/usr/local/lib/python3.7/dist-packages/autogluon/core/utils/try_import.py\", line 43, in try_import_mxnet\n",
            "    \"Unable to import dependency mxnet. \"\n",
            "ImportError: Unable to import dependency mxnet. A quick tip is to install via `pip install mxnet --upgrade`, or `pip install mxnet_cu101 --upgrade`\n",
            "Level 15:autogluon.core.utils.savers.save_pkl:Saving /content/drive/MyDrive/輪読/model/agModels_best/models/trainer.pkl\n",
            "INFO:autogluon.tabular.trainer.abstract_trainer:Fitting model: LightGBMLarge_BAG_L1 ... Training model for up to 144.38s of the 244.02s of remaining time.\n",
            "Level 15:autogluon.core.utils.savers.save_pkl:Saving /content/drive/MyDrive/輪読/model/agModels_best/models/LightGBMLarge_BAG_L1/utils/model_template.pkl\n",
            "Level 15:autogluon.core.models.abstract.abstract_model:\tFitting S1F1 with 'num_gpus': 0, 'num_cpus': 2\n",
            "Level 15:autogluon.tabular.models.lgb.lgb_model:Training Gradient Boosting Model for 10000 rounds...\n",
            "Level 15:autogluon.tabular.models.lgb.lgb_model:with the following hyperparameter settings:\n",
            "Level 15:autogluon.tabular.models.lgb.lgb_model:{'num_threads': -1, 'learning_rate': 0.03, 'objective': 'binary', 'verbose': -1, 'boosting_type': 'gbdt', 'two_round': True, 'num_leaves': 128, 'feature_fraction': 0.9, 'min_data_in_leaf': 5}\n",
            "/usr/local/lib/python3.7/dist-packages/lightgbm/engine.py:239: UserWarning: 'verbose_eval' argument is deprecated and will be removed in a future release of LightGBM. Pass 'log_evaluation()' callback via 'callbacks' argument instead.\n",
            "  _log_warning(\"'verbose_eval' argument is deprecated and will be removed in a future release of LightGBM. \"\n"
          ]
        },
        {
          "metadata": {
            "tags": null
          },
          "name": "stdout",
          "output_type": "stream",
          "text": [
            "[50]\ttrain_set's binary_error: 0.0693196\tvalid_set's binary_error: 0.196429\n",
            "[100]\ttrain_set's binary_error: 0.0308087\tvalid_set's binary_error: 0.169643\n",
            "[150]\ttrain_set's binary_error: 0.0166881\tvalid_set's binary_error: 0.160714\n"
          ]
        },
        {
          "metadata": {
            "tags": null
          },
          "name": "stderr",
          "output_type": "stream",
          "text": [
            "Level 15:autogluon.core.models.abstract.abstract_model:\tFitting S1F2 with 'num_gpus': 0, 'num_cpus': 2\n",
            "Level 15:autogluon.tabular.models.lgb.lgb_model:Training Gradient Boosting Model for 10000 rounds...\n"
          ]
        },
        {
          "metadata": {
            "tags": null
          },
          "name": "stdout",
          "output_type": "stream",
          "text": [
            "[200]\ttrain_set's binary_error: 0.0154044\tvalid_set's binary_error: 0.178571\n"
          ]
        },
        {
          "metadata": {
            "tags": null
          },
          "name": "stderr",
          "output_type": "stream",
          "text": [
            "Level 15:autogluon.tabular.models.lgb.lgb_model:with the following hyperparameter settings:\n",
            "Level 15:autogluon.tabular.models.lgb.lgb_model:{'num_threads': -1, 'learning_rate': 0.03, 'objective': 'binary', 'verbose': -1, 'boosting_type': 'gbdt', 'two_round': True, 'num_leaves': 128, 'feature_fraction': 0.9, 'min_data_in_leaf': 5}\n",
            "/usr/local/lib/python3.7/dist-packages/lightgbm/engine.py:239: UserWarning: 'verbose_eval' argument is deprecated and will be removed in a future release of LightGBM. Pass 'log_evaluation()' callback via 'callbacks' argument instead.\n",
            "  _log_warning(\"'verbose_eval' argument is deprecated and will be removed in a future release of LightGBM. \"\n"
          ]
        },
        {
          "metadata": {
            "tags": null
          },
          "name": "stdout",
          "output_type": "stream",
          "text": [
            "[50]\ttrain_set's binary_error: 0.0654685\tvalid_set's binary_error: 0.196429\n",
            "[100]\ttrain_set's binary_error: 0.029525\tvalid_set's binary_error: 0.205357\n"
          ]
        },
        {
          "metadata": {
            "tags": null
          },
          "name": "stderr",
          "output_type": "stream",
          "text": [
            "Level 15:autogluon.core.models.abstract.abstract_model:\tFitting S1F3 with 'num_gpus': 0, 'num_cpus': 2\n"
          ]
        },
        {
          "metadata": {
            "tags": null
          },
          "name": "stdout",
          "output_type": "stream",
          "text": [
            "[150]\ttrain_set's binary_error: 0.0179718\tvalid_set's binary_error: 0.214286\n"
          ]
        },
        {
          "metadata": {
            "tags": null
          },
          "name": "stderr",
          "output_type": "stream",
          "text": [
            "Level 15:autogluon.tabular.models.lgb.lgb_model:Training Gradient Boosting Model for 10000 rounds...\n",
            "Level 15:autogluon.tabular.models.lgb.lgb_model:with the following hyperparameter settings:\n",
            "Level 15:autogluon.tabular.models.lgb.lgb_model:{'num_threads': -1, 'learning_rate': 0.03, 'objective': 'binary', 'verbose': -1, 'boosting_type': 'gbdt', 'two_round': True, 'num_leaves': 128, 'feature_fraction': 0.9, 'min_data_in_leaf': 5}\n",
            "/usr/local/lib/python3.7/dist-packages/lightgbm/engine.py:239: UserWarning: 'verbose_eval' argument is deprecated and will be removed in a future release of LightGBM. Pass 'log_evaluation()' callback via 'callbacks' argument instead.\n",
            "  _log_warning(\"'verbose_eval' argument is deprecated and will be removed in a future release of LightGBM. \"\n"
          ]
        },
        {
          "metadata": {
            "tags": null
          },
          "name": "stdout",
          "output_type": "stream",
          "text": [
            "[50]\ttrain_set's binary_error: 0.071887\tvalid_set's binary_error: 0.0982143\n",
            "[100]\ttrain_set's binary_error: 0.0385109\tvalid_set's binary_error: 0.133929\n"
          ]
        },
        {
          "metadata": {
            "tags": null
          },
          "name": "stderr",
          "output_type": "stream",
          "text": [
            "Level 15:autogluon.core.models.abstract.abstract_model:\tFitting S1F4 with 'num_gpus': 0, 'num_cpus': 2\n"
          ]
        },
        {
          "metadata": {
            "tags": null
          },
          "name": "stdout",
          "output_type": "stream",
          "text": [
            "[150]\ttrain_set's binary_error: 0.0243902\tvalid_set's binary_error: 0.142857\n"
          ]
        },
        {
          "metadata": {
            "tags": null
          },
          "name": "stderr",
          "output_type": "stream",
          "text": [
            "Level 15:autogluon.tabular.models.lgb.lgb_model:Training Gradient Boosting Model for 10000 rounds...\n",
            "Level 15:autogluon.tabular.models.lgb.lgb_model:with the following hyperparameter settings:\n",
            "Level 15:autogluon.tabular.models.lgb.lgb_model:{'num_threads': -1, 'learning_rate': 0.03, 'objective': 'binary', 'verbose': -1, 'boosting_type': 'gbdt', 'two_round': True, 'num_leaves': 128, 'feature_fraction': 0.9, 'min_data_in_leaf': 5}\n",
            "/usr/local/lib/python3.7/dist-packages/lightgbm/engine.py:239: UserWarning: 'verbose_eval' argument is deprecated and will be removed in a future release of LightGBM. Pass 'log_evaluation()' callback via 'callbacks' argument instead.\n",
            "  _log_warning(\"'verbose_eval' argument is deprecated and will be removed in a future release of LightGBM. \"\n"
          ]
        },
        {
          "metadata": {
            "tags": null
          },
          "name": "stdout",
          "output_type": "stream",
          "text": [
            "[50]\ttrain_set's binary_error: 0.0692308\tvalid_set's binary_error: 0.216216\n",
            "[100]\ttrain_set's binary_error: 0.0307692\tvalid_set's binary_error: 0.198198\n"
          ]
        },
        {
          "metadata": {
            "tags": null
          },
          "name": "stderr",
          "output_type": "stream",
          "text": [
            "Level 15:autogluon.core.models.abstract.abstract_model:\tFitting S1F5 with 'num_gpus': 0, 'num_cpus': 2\n"
          ]
        },
        {
          "metadata": {
            "tags": null
          },
          "name": "stdout",
          "output_type": "stream",
          "text": [
            "[150]\ttrain_set's binary_error: 0.0192308\tvalid_set's binary_error: 0.216216\n"
          ]
        },
        {
          "metadata": {
            "tags": null
          },
          "name": "stderr",
          "output_type": "stream",
          "text": [
            "Level 15:autogluon.tabular.models.lgb.lgb_model:Training Gradient Boosting Model for 10000 rounds...\n",
            "Level 15:autogluon.tabular.models.lgb.lgb_model:with the following hyperparameter settings:\n",
            "Level 15:autogluon.tabular.models.lgb.lgb_model:{'num_threads': -1, 'learning_rate': 0.03, 'objective': 'binary', 'verbose': -1, 'boosting_type': 'gbdt', 'two_round': True, 'num_leaves': 128, 'feature_fraction': 0.9, 'min_data_in_leaf': 5}\n",
            "/usr/local/lib/python3.7/dist-packages/lightgbm/engine.py:239: UserWarning: 'verbose_eval' argument is deprecated and will be removed in a future release of LightGBM. Pass 'log_evaluation()' callback via 'callbacks' argument instead.\n",
            "  _log_warning(\"'verbose_eval' argument is deprecated and will be removed in a future release of LightGBM. \"\n"
          ]
        },
        {
          "metadata": {
            "tags": null
          },
          "name": "stdout",
          "output_type": "stream",
          "text": [
            "[50]\ttrain_set's binary_error: 0.0730769\tvalid_set's binary_error: 0.207207\n",
            "[100]\ttrain_set's binary_error: 0.0371795\tvalid_set's binary_error: 0.18018\n",
            "[150]\ttrain_set's binary_error: 0.0192308\tvalid_set's binary_error: 0.18018\n",
            "[200]\ttrain_set's binary_error: 0.0179487\tvalid_set's binary_error: 0.171171\n",
            "[250]\ttrain_set's binary_error: 0.0179487\tvalid_set's binary_error: 0.171171\n"
          ]
        },
        {
          "metadata": {
            "tags": null
          },
          "name": "stderr",
          "output_type": "stream",
          "text": [
            "Level 15:autogluon.core.models.abstract.abstract_model:\tFitting S1F6 with 'num_gpus': 0, 'num_cpus': 2\n",
            "Level 15:autogluon.tabular.models.lgb.lgb_model:Training Gradient Boosting Model for 10000 rounds...\n",
            "Level 15:autogluon.tabular.models.lgb.lgb_model:with the following hyperparameter settings:\n",
            "Level 15:autogluon.tabular.models.lgb.lgb_model:{'num_threads': -1, 'learning_rate': 0.03, 'objective': 'binary', 'verbose': -1, 'boosting_type': 'gbdt', 'two_round': True, 'num_leaves': 128, 'feature_fraction': 0.9, 'min_data_in_leaf': 5}\n",
            "/usr/local/lib/python3.7/dist-packages/lightgbm/engine.py:239: UserWarning: 'verbose_eval' argument is deprecated and will be removed in a future release of LightGBM. Pass 'log_evaluation()' callback via 'callbacks' argument instead.\n",
            "  _log_warning(\"'verbose_eval' argument is deprecated and will be removed in a future release of LightGBM. \"\n"
          ]
        },
        {
          "metadata": {
            "tags": null
          },
          "name": "stdout",
          "output_type": "stream",
          "text": [
            "[50]\ttrain_set's binary_error: 0.0679487\tvalid_set's binary_error: 0.18018\n",
            "[100]\ttrain_set's binary_error: 0.0333333\tvalid_set's binary_error: 0.216216\n"
          ]
        },
        {
          "metadata": {
            "tags": null
          },
          "name": "stderr",
          "output_type": "stream",
          "text": [
            "Level 15:autogluon.core.models.abstract.abstract_model:\tFitting S1F7 with 'num_gpus': 0, 'num_cpus': 2\n"
          ]
        },
        {
          "metadata": {
            "tags": null
          },
          "name": "stdout",
          "output_type": "stream",
          "text": [
            "[150]\ttrain_set's binary_error: 0.0179487\tvalid_set's binary_error: 0.225225\n"
          ]
        },
        {
          "metadata": {
            "tags": null
          },
          "name": "stderr",
          "output_type": "stream",
          "text": [
            "Level 15:autogluon.tabular.models.lgb.lgb_model:Training Gradient Boosting Model for 10000 rounds...\n",
            "Level 15:autogluon.tabular.models.lgb.lgb_model:with the following hyperparameter settings:\n",
            "Level 15:autogluon.tabular.models.lgb.lgb_model:{'num_threads': -1, 'learning_rate': 0.03, 'objective': 'binary', 'verbose': -1, 'boosting_type': 'gbdt', 'two_round': True, 'num_leaves': 128, 'feature_fraction': 0.9, 'min_data_in_leaf': 5}\n",
            "/usr/local/lib/python3.7/dist-packages/lightgbm/engine.py:239: UserWarning: 'verbose_eval' argument is deprecated and will be removed in a future release of LightGBM. Pass 'log_evaluation()' callback via 'callbacks' argument instead.\n",
            "  _log_warning(\"'verbose_eval' argument is deprecated and will be removed in a future release of LightGBM. \"\n"
          ]
        },
        {
          "metadata": {
            "tags": null
          },
          "name": "stdout",
          "output_type": "stream",
          "text": [
            "[50]\ttrain_set's binary_error: 0.0769231\tvalid_set's binary_error: 0.135135\n",
            "[100]\ttrain_set's binary_error: 0.0346154\tvalid_set's binary_error: 0.153153\n"
          ]
        },
        {
          "metadata": {
            "tags": null
          },
          "name": "stderr",
          "output_type": "stream",
          "text": [
            "Level 15:autogluon.core.models.abstract.abstract_model:\tFitting S1F8 with 'num_gpus': 0, 'num_cpus': 2\n"
          ]
        },
        {
          "metadata": {
            "tags": null
          },
          "name": "stdout",
          "output_type": "stream",
          "text": [
            "[150]\ttrain_set's binary_error: 0.0217949\tvalid_set's binary_error: 0.144144\n"
          ]
        },
        {
          "metadata": {
            "tags": null
          },
          "name": "stderr",
          "output_type": "stream",
          "text": [
            "Level 15:autogluon.tabular.models.lgb.lgb_model:Training Gradient Boosting Model for 10000 rounds...\n",
            "Level 15:autogluon.tabular.models.lgb.lgb_model:with the following hyperparameter settings:\n",
            "Level 15:autogluon.tabular.models.lgb.lgb_model:{'num_threads': -1, 'learning_rate': 0.03, 'objective': 'binary', 'verbose': -1, 'boosting_type': 'gbdt', 'two_round': True, 'num_leaves': 128, 'feature_fraction': 0.9, 'min_data_in_leaf': 5}\n",
            "/usr/local/lib/python3.7/dist-packages/lightgbm/engine.py:239: UserWarning: 'verbose_eval' argument is deprecated and will be removed in a future release of LightGBM. Pass 'log_evaluation()' callback via 'callbacks' argument instead.\n",
            "  _log_warning(\"'verbose_eval' argument is deprecated and will be removed in a future release of LightGBM. \"\n"
          ]
        },
        {
          "metadata": {
            "tags": null
          },
          "name": "stdout",
          "output_type": "stream",
          "text": [
            "[50]\ttrain_set's binary_error: 0.075641\tvalid_set's binary_error: 0.162162\n",
            "[100]\ttrain_set's binary_error: 0.0346154\tvalid_set's binary_error: 0.162162\n"
          ]
        },
        {
          "metadata": {
            "tags": null
          },
          "name": "stderr",
          "output_type": "stream",
          "text": [
            "Level 15:autogluon.core.utils.savers.save_pkl:Saving /content/drive/MyDrive/輪読/model/agModels_best/models/LightGBMLarge_BAG_L1/utils/oof.pkl\n",
            "Level 15:autogluon.core.utils.savers.save_pkl:Saving /content/drive/MyDrive/輪読/model/agModels_best/models/LightGBMLarge_BAG_L1/model.pkl\n",
            "INFO:autogluon.tabular.trainer.abstract_trainer:\t0.8496\t = Validation score   (accuracy)\n",
            "INFO:autogluon.tabular.trainer.abstract_trainer:\t6.14s\t = Training   runtime\n",
            "INFO:autogluon.tabular.trainer.abstract_trainer:\t0.08s\t = Validation runtime\n",
            "Level 15:autogluon.core.utils.savers.save_pkl:Saving /content/drive/MyDrive/輪読/model/agModels_best/models/trainer.pkl\n",
            "INFO:autogluon.tabular.trainer.abstract_trainer:Repeating k-fold bagging: 2/20\n",
            "Level 15:autogluon.core.utils.loaders.load_pkl:Loading: /content/drive/MyDrive/輪読/model/agModels_best/models/LightGBMXT_BAG_L1/model.pkl\n",
            "INFO:autogluon.tabular.trainer.abstract_trainer:Fitting model: LightGBMXT_BAG_L1 ... Training model for up to 137.66s of the 237.31s of remaining time.\n",
            "Level 15:autogluon.core.utils.loaders.load_pkl:Loading: /content/drive/MyDrive/輪読/model/agModels_best/models/LightGBMXT_BAG_L1/utils/model_template.pkl\n",
            "Level 15:autogluon.core.utils.loaders.load_pkl:Loading: /content/drive/MyDrive/輪読/model/agModels_best/models/LightGBMXT_BAG_L1/utils/oof.pkl\n",
            "Level 15:autogluon.core.models.abstract.abstract_model:\tFitting S2F1 with 'num_gpus': 0, 'num_cpus': 2\n"
          ]
        },
        {
          "metadata": {
            "tags": null
          },
          "name": "stdout",
          "output_type": "stream",
          "text": [
            "[150]\ttrain_set's binary_error: 0.0230769\tvalid_set's binary_error: 0.153153\n"
          ]
        },
        {
          "metadata": {
            "tags": null
          },
          "name": "stderr",
          "output_type": "stream",
          "text": [
            "Level 15:autogluon.tabular.models.lgb.lgb_model:Training Gradient Boosting Model for 10000 rounds...\n",
            "Level 15:autogluon.tabular.models.lgb.lgb_model:with the following hyperparameter settings:\n",
            "Level 15:autogluon.tabular.models.lgb.lgb_model:{'num_threads': -1, 'learning_rate': 0.05, 'objective': 'binary', 'verbose': -1, 'boosting_type': 'gbdt', 'two_round': True, 'extra_trees': True}\n",
            "/usr/local/lib/python3.7/dist-packages/lightgbm/engine.py:239: UserWarning: 'verbose_eval' argument is deprecated and will be removed in a future release of LightGBM. Pass 'log_evaluation()' callback via 'callbacks' argument instead.\n",
            "  _log_warning(\"'verbose_eval' argument is deprecated and will be removed in a future release of LightGBM. \"\n",
            "Level 15:autogluon.core.models.abstract.abstract_model:\tFitting S2F2 with 'num_gpus': 0, 'num_cpus': 2\n"
          ]
        },
        {
          "metadata": {
            "tags": null
          },
          "name": "stdout",
          "output_type": "stream",
          "text": [
            "[50]\ttrain_set's binary_error: 0.18742\tvalid_set's binary_error: 0.169643\n",
            "[100]\ttrain_set's binary_error: 0.170732\tvalid_set's binary_error: 0.151786\n",
            "[150]\ttrain_set's binary_error: 0.161746\tvalid_set's binary_error: 0.151786\n",
            "[200]\ttrain_set's binary_error: 0.155327\tvalid_set's binary_error: 0.151786\n"
          ]
        },
        {
          "metadata": {
            "tags": null
          },
          "name": "stderr",
          "output_type": "stream",
          "text": [
            "Level 15:autogluon.tabular.models.lgb.lgb_model:Training Gradient Boosting Model for 10000 rounds...\n",
            "Level 15:autogluon.tabular.models.lgb.lgb_model:with the following hyperparameter settings:\n",
            "Level 15:autogluon.tabular.models.lgb.lgb_model:{'num_threads': -1, 'learning_rate': 0.05, 'objective': 'binary', 'verbose': -1, 'boosting_type': 'gbdt', 'two_round': True, 'extra_trees': True}\n",
            "/usr/local/lib/python3.7/dist-packages/lightgbm/engine.py:239: UserWarning: 'verbose_eval' argument is deprecated and will be removed in a future release of LightGBM. Pass 'log_evaluation()' callback via 'callbacks' argument instead.\n",
            "  _log_warning(\"'verbose_eval' argument is deprecated and will be removed in a future release of LightGBM. \"\n",
            "Level 15:autogluon.core.models.abstract.abstract_model:\tFitting S2F3 with 'num_gpus': 0, 'num_cpus': 2\n"
          ]
        },
        {
          "metadata": {
            "tags": null
          },
          "name": "stdout",
          "output_type": "stream",
          "text": [
            "[50]\ttrain_set's binary_error: 0.179718\tvalid_set's binary_error: 0.241071\n",
            "[100]\ttrain_set's binary_error: 0.154044\tvalid_set's binary_error: 0.25\n",
            "[150]\ttrain_set's binary_error: 0.143774\tvalid_set's binary_error: 0.241071\n"
          ]
        },
        {
          "metadata": {
            "tags": null
          },
          "name": "stderr",
          "output_type": "stream",
          "text": [
            "Level 15:autogluon.tabular.models.lgb.lgb_model:Training Gradient Boosting Model for 10000 rounds...\n",
            "Level 15:autogluon.tabular.models.lgb.lgb_model:with the following hyperparameter settings:\n",
            "Level 15:autogluon.tabular.models.lgb.lgb_model:{'num_threads': -1, 'learning_rate': 0.05, 'objective': 'binary', 'verbose': -1, 'boosting_type': 'gbdt', 'two_round': True, 'extra_trees': True}\n",
            "/usr/local/lib/python3.7/dist-packages/lightgbm/engine.py:239: UserWarning: 'verbose_eval' argument is deprecated and will be removed in a future release of LightGBM. Pass 'log_evaluation()' callback via 'callbacks' argument instead.\n",
            "  _log_warning(\"'verbose_eval' argument is deprecated and will be removed in a future release of LightGBM. \"\n"
          ]
        },
        {
          "metadata": {
            "tags": null
          },
          "name": "stdout",
          "output_type": "stream",
          "text": [
            "[50]\ttrain_set's binary_error: 0.174583\tvalid_set's binary_error: 0.196429\n",
            "[100]\ttrain_set's binary_error: 0.164313\tvalid_set's binary_error: 0.196429\n",
            "[150]\ttrain_set's binary_error: 0.15276\tvalid_set's binary_error: 0.178571\n",
            "[200]\ttrain_set's binary_error: 0.146341\tvalid_set's binary_error: 0.205357\n",
            "[250]\ttrain_set's binary_error: 0.137356\tvalid_set's binary_error: 0.223214\n"
          ]
        },
        {
          "metadata": {
            "tags": null
          },
          "name": "stderr",
          "output_type": "stream",
          "text": [
            "Level 15:autogluon.core.models.abstract.abstract_model:\tFitting S2F4 with 'num_gpus': 0, 'num_cpus': 2\n",
            "Level 15:autogluon.tabular.models.lgb.lgb_model:Training Gradient Boosting Model for 10000 rounds...\n",
            "Level 15:autogluon.tabular.models.lgb.lgb_model:with the following hyperparameter settings:\n",
            "Level 15:autogluon.tabular.models.lgb.lgb_model:{'num_threads': -1, 'learning_rate': 0.05, 'objective': 'binary', 'verbose': -1, 'boosting_type': 'gbdt', 'two_round': True, 'extra_trees': True}\n",
            "/usr/local/lib/python3.7/dist-packages/lightgbm/engine.py:239: UserWarning: 'verbose_eval' argument is deprecated and will be removed in a future release of LightGBM. Pass 'log_evaluation()' callback via 'callbacks' argument instead.\n",
            "  _log_warning(\"'verbose_eval' argument is deprecated and will be removed in a future release of LightGBM. \"\n",
            "Level 15:autogluon.core.models.abstract.abstract_model:\tFitting S2F5 with 'num_gpus': 0, 'num_cpus': 2\n"
          ]
        },
        {
          "metadata": {
            "tags": null
          },
          "name": "stdout",
          "output_type": "stream",
          "text": [
            "[50]\ttrain_set's binary_error: 0.180769\tvalid_set's binary_error: 0.234234\n",
            "[100]\ttrain_set's binary_error: 0.171795\tvalid_set's binary_error: 0.198198\n",
            "[150]\ttrain_set's binary_error: 0.153846\tvalid_set's binary_error: 0.189189\n",
            "[200]\ttrain_set's binary_error: 0.139744\tvalid_set's binary_error: 0.189189\n",
            "[250]\ttrain_set's binary_error: 0.132051\tvalid_set's binary_error: 0.189189\n"
          ]
        },
        {
          "metadata": {
            "tags": null
          },
          "name": "stderr",
          "output_type": "stream",
          "text": [
            "Level 15:autogluon.tabular.models.lgb.lgb_model:Training Gradient Boosting Model for 10000 rounds...\n",
            "Level 15:autogluon.tabular.models.lgb.lgb_model:with the following hyperparameter settings:\n",
            "Level 15:autogluon.tabular.models.lgb.lgb_model:{'num_threads': -1, 'learning_rate': 0.05, 'objective': 'binary', 'verbose': -1, 'boosting_type': 'gbdt', 'two_round': True, 'extra_trees': True}\n",
            "/usr/local/lib/python3.7/dist-packages/lightgbm/engine.py:239: UserWarning: 'verbose_eval' argument is deprecated and will be removed in a future release of LightGBM. Pass 'log_evaluation()' callback via 'callbacks' argument instead.\n",
            "  _log_warning(\"'verbose_eval' argument is deprecated and will be removed in a future release of LightGBM. \"\n",
            "Level 15:autogluon.core.models.abstract.abstract_model:\tFitting S2F6 with 'num_gpus': 0, 'num_cpus': 2\n",
            "Level 15:autogluon.tabular.models.lgb.lgb_model:Training Gradient Boosting Model for 10000 rounds...\n"
          ]
        },
        {
          "metadata": {
            "tags": null
          },
          "name": "stdout",
          "output_type": "stream",
          "text": [
            "[50]\ttrain_set's binary_error: 0.169231\tvalid_set's binary_error: 0.207207\n",
            "[100]\ttrain_set's binary_error: 0.161538\tvalid_set's binary_error: 0.207207\n",
            "[150]\ttrain_set's binary_error: 0.155128\tvalid_set's binary_error: 0.198198\n",
            "[200]\ttrain_set's binary_error: 0.146154\tvalid_set's binary_error: 0.198198\n"
          ]
        },
        {
          "metadata": {
            "tags": null
          },
          "name": "stderr",
          "output_type": "stream",
          "text": [
            "Level 15:autogluon.tabular.models.lgb.lgb_model:with the following hyperparameter settings:\n",
            "Level 15:autogluon.tabular.models.lgb.lgb_model:{'num_threads': -1, 'learning_rate': 0.05, 'objective': 'binary', 'verbose': -1, 'boosting_type': 'gbdt', 'two_round': True, 'extra_trees': True}\n",
            "/usr/local/lib/python3.7/dist-packages/lightgbm/engine.py:239: UserWarning: 'verbose_eval' argument is deprecated and will be removed in a future release of LightGBM. Pass 'log_evaluation()' callback via 'callbacks' argument instead.\n",
            "  _log_warning(\"'verbose_eval' argument is deprecated and will be removed in a future release of LightGBM. \"\n",
            "Level 15:autogluon.core.models.abstract.abstract_model:\tFitting S2F7 with 'num_gpus': 0, 'num_cpus': 2\n"
          ]
        },
        {
          "metadata": {
            "tags": null
          },
          "name": "stdout",
          "output_type": "stream",
          "text": [
            "[50]\ttrain_set's binary_error: 0.183333\tvalid_set's binary_error: 0.162162\n",
            "[100]\ttrain_set's binary_error: 0.173077\tvalid_set's binary_error: 0.153153\n",
            "[150]\ttrain_set's binary_error: 0.153846\tvalid_set's binary_error: 0.144144\n",
            "[200]\ttrain_set's binary_error: 0.144872\tvalid_set's binary_error: 0.144144\n",
            "[250]\ttrain_set's binary_error: 0.14359\tvalid_set's binary_error: 0.153153\n",
            "[300]\ttrain_set's binary_error: 0.142308\tvalid_set's binary_error: 0.144144\n"
          ]
        },
        {
          "metadata": {
            "tags": null
          },
          "name": "stderr",
          "output_type": "stream",
          "text": [
            "Level 15:autogluon.tabular.models.lgb.lgb_model:Training Gradient Boosting Model for 10000 rounds...\n",
            "Level 15:autogluon.tabular.models.lgb.lgb_model:with the following hyperparameter settings:\n",
            "Level 15:autogluon.tabular.models.lgb.lgb_model:{'num_threads': -1, 'learning_rate': 0.05, 'objective': 'binary', 'verbose': -1, 'boosting_type': 'gbdt', 'two_round': True, 'extra_trees': True}\n",
            "/usr/local/lib/python3.7/dist-packages/lightgbm/engine.py:239: UserWarning: 'verbose_eval' argument is deprecated and will be removed in a future release of LightGBM. Pass 'log_evaluation()' callback via 'callbacks' argument instead.\n",
            "  _log_warning(\"'verbose_eval' argument is deprecated and will be removed in a future release of LightGBM. \"\n"
          ]
        },
        {
          "metadata": {
            "tags": null
          },
          "name": "stdout",
          "output_type": "stream",
          "text": [
            "[50]\ttrain_set's binary_error: 0.176923\tvalid_set's binary_error: 0.198198\n",
            "[100]\ttrain_set's binary_error: 0.160256\tvalid_set's binary_error: 0.216216\n",
            "[150]\ttrain_set's binary_error: 0.151282\tvalid_set's binary_error: 0.207207\n",
            "[200]\ttrain_set's binary_error: 0.144872\tvalid_set's binary_error: 0.189189\n",
            "[250]\ttrain_set's binary_error: 0.135897\tvalid_set's binary_error: 0.189189\n",
            "[300]\ttrain_set's binary_error: 0.130769\tvalid_set's binary_error: 0.189189\n"
          ]
        },
        {
          "metadata": {
            "tags": null
          },
          "name": "stderr",
          "output_type": "stream",
          "text": [
            "Level 15:autogluon.core.models.abstract.abstract_model:\tFitting S2F8 with 'num_gpus': 0, 'num_cpus': 2\n",
            "Level 15:autogluon.tabular.models.lgb.lgb_model:Training Gradient Boosting Model for 10000 rounds...\n",
            "Level 15:autogluon.tabular.models.lgb.lgb_model:with the following hyperparameter settings:\n",
            "Level 15:autogluon.tabular.models.lgb.lgb_model:{'num_threads': -1, 'learning_rate': 0.05, 'objective': 'binary', 'verbose': -1, 'boosting_type': 'gbdt', 'two_round': True, 'extra_trees': True}\n",
            "/usr/local/lib/python3.7/dist-packages/lightgbm/engine.py:239: UserWarning: 'verbose_eval' argument is deprecated and will be removed in a future release of LightGBM. Pass 'log_evaluation()' callback via 'callbacks' argument instead.\n",
            "  _log_warning(\"'verbose_eval' argument is deprecated and will be removed in a future release of LightGBM. \"\n",
            "Level 15:autogluon.core.utils.savers.save_pkl:Saving /content/drive/MyDrive/輪読/model/agModels_best/models/LightGBMXT_BAG_L1/utils/oof.pkl\n",
            "Level 15:autogluon.core.utils.savers.save_pkl:Saving /content/drive/MyDrive/輪読/model/agModels_best/models/LightGBMXT_BAG_L1/model.pkl\n",
            "INFO:autogluon.tabular.trainer.abstract_trainer:\t0.8159\t = Validation score   (accuracy)\n",
            "INFO:autogluon.tabular.trainer.abstract_trainer:\t12.99s\t = Training   runtime\n",
            "INFO:autogluon.tabular.trainer.abstract_trainer:\t0.14s\t = Validation runtime\n",
            "Level 15:autogluon.core.utils.savers.save_pkl:Saving /content/drive/MyDrive/輪読/model/agModels_best/models/trainer.pkl\n"
          ]
        },
        {
          "metadata": {
            "tags": null
          },
          "name": "stdout",
          "output_type": "stream",
          "text": [
            "[50]\ttrain_set's binary_error: 0.182051\tvalid_set's binary_error: 0.144144\n",
            "[100]\ttrain_set's binary_error: 0.157692\tvalid_set's binary_error: 0.18018\n",
            "[150]\ttrain_set's binary_error: 0.153846\tvalid_set's binary_error: 0.189189\n"
          ]
        },
        {
          "metadata": {
            "tags": null
          },
          "name": "stderr",
          "output_type": "stream",
          "text": [
            "Level 15:autogluon.core.utils.loaders.load_pkl:Loading: /content/drive/MyDrive/輪読/model/agModels_best/models/LightGBM_BAG_L1/model.pkl\n",
            "INFO:autogluon.tabular.trainer.abstract_trainer:Fitting model: LightGBM_BAG_L1 ... Training model for up to 131.92s of the 231.56s of remaining time.\n",
            "Level 15:autogluon.core.utils.loaders.load_pkl:Loading: /content/drive/MyDrive/輪読/model/agModels_best/models/LightGBM_BAG_L1/utils/model_template.pkl\n",
            "Level 15:autogluon.core.utils.loaders.load_pkl:Loading: /content/drive/MyDrive/輪読/model/agModels_best/models/LightGBM_BAG_L1/utils/oof.pkl\n",
            "Level 15:autogluon.core.models.abstract.abstract_model:\tFitting S2F1 with 'num_gpus': 0, 'num_cpus': 2\n",
            "Level 15:autogluon.tabular.models.lgb.lgb_model:Training Gradient Boosting Model for 10000 rounds...\n",
            "Level 15:autogluon.tabular.models.lgb.lgb_model:with the following hyperparameter settings:\n",
            "Level 15:autogluon.tabular.models.lgb.lgb_model:{'num_threads': -1, 'learning_rate': 0.05, 'objective': 'binary', 'verbose': -1, 'boosting_type': 'gbdt', 'two_round': True}\n",
            "/usr/local/lib/python3.7/dist-packages/lightgbm/engine.py:239: UserWarning: 'verbose_eval' argument is deprecated and will be removed in a future release of LightGBM. Pass 'log_evaluation()' callback via 'callbacks' argument instead.\n",
            "  _log_warning(\"'verbose_eval' argument is deprecated and will be removed in a future release of LightGBM. \"\n"
          ]
        },
        {
          "metadata": {
            "tags": null
          },
          "name": "stdout",
          "output_type": "stream",
          "text": [
            "[50]\ttrain_set's binary_error: 0.130937\tvalid_set's binary_error: 0.133929\n",
            "[100]\ttrain_set's binary_error: 0.102696\tvalid_set's binary_error: 0.116071\n",
            "[150]\ttrain_set's binary_error: 0.0731707\tvalid_set's binary_error: 0.0982143\n",
            "[200]\ttrain_set's binary_error: 0.0500642\tvalid_set's binary_error: 0.0892857\n",
            "[250]\ttrain_set's binary_error: 0.0436457\tvalid_set's binary_error: 0.0982143\n"
          ]
        },
        {
          "metadata": {
            "tags": null
          },
          "name": "stderr",
          "output_type": "stream",
          "text": [
            "Level 15:autogluon.core.models.abstract.abstract_model:\tFitting S2F2 with 'num_gpus': 0, 'num_cpus': 2\n",
            "Level 15:autogluon.tabular.models.lgb.lgb_model:Training Gradient Boosting Model for 10000 rounds...\n"
          ]
        },
        {
          "metadata": {
            "tags": null
          },
          "name": "stdout",
          "output_type": "stream",
          "text": [
            "[300]\ttrain_set's binary_error: 0.0359435\tvalid_set's binary_error: 0.0803571\n",
            "[350]\ttrain_set's binary_error: 0.0320924\tvalid_set's binary_error: 0.0892857\n"
          ]
        },
        {
          "metadata": {
            "tags": null
          },
          "name": "stderr",
          "output_type": "stream",
          "text": [
            "Level 15:autogluon.tabular.models.lgb.lgb_model:with the following hyperparameter settings:\n",
            "Level 15:autogluon.tabular.models.lgb.lgb_model:{'num_threads': -1, 'learning_rate': 0.05, 'objective': 'binary', 'verbose': -1, 'boosting_type': 'gbdt', 'two_round': True}\n",
            "/usr/local/lib/python3.7/dist-packages/lightgbm/engine.py:239: UserWarning: 'verbose_eval' argument is deprecated and will be removed in a future release of LightGBM. Pass 'log_evaluation()' callback via 'callbacks' argument instead.\n",
            "  _log_warning(\"'verbose_eval' argument is deprecated and will be removed in a future release of LightGBM. \"\n",
            "Level 15:autogluon.core.models.abstract.abstract_model:\tFitting S2F3 with 'num_gpus': 0, 'num_cpus': 2\n"
          ]
        },
        {
          "metadata": {
            "tags": null
          },
          "name": "stdout",
          "output_type": "stream",
          "text": [
            "[50]\ttrain_set's binary_error: 0.119384\tvalid_set's binary_error: 0.1875\n",
            "[100]\ttrain_set's binary_error: 0.0770218\tvalid_set's binary_error: 0.205357\n",
            "[150]\ttrain_set's binary_error: 0.0629012\tvalid_set's binary_error: 0.205357\n"
          ]
        },
        {
          "metadata": {
            "tags": null
          },
          "name": "stderr",
          "output_type": "stream",
          "text": [
            "Level 15:autogluon.tabular.models.lgb.lgb_model:Training Gradient Boosting Model for 10000 rounds...\n",
            "Level 15:autogluon.tabular.models.lgb.lgb_model:with the following hyperparameter settings:\n",
            "Level 15:autogluon.tabular.models.lgb.lgb_model:{'num_threads': -1, 'learning_rate': 0.05, 'objective': 'binary', 'verbose': -1, 'boosting_type': 'gbdt', 'two_round': True}\n",
            "/usr/local/lib/python3.7/dist-packages/lightgbm/engine.py:239: UserWarning: 'verbose_eval' argument is deprecated and will be removed in a future release of LightGBM. Pass 'log_evaluation()' callback via 'callbacks' argument instead.\n",
            "  _log_warning(\"'verbose_eval' argument is deprecated and will be removed in a future release of LightGBM. \"\n"
          ]
        },
        {
          "metadata": {
            "tags": null
          },
          "name": "stdout",
          "output_type": "stream",
          "text": [
            "[50]\ttrain_set's binary_error: 0.114249\tvalid_set's binary_error: 0.214286\n",
            "[100]\ttrain_set's binary_error: 0.0911425\tvalid_set's binary_error: 0.196429\n",
            "[150]\ttrain_set's binary_error: 0.0577664\tvalid_set's binary_error: 0.205357\n",
            "[200]\ttrain_set's binary_error: 0.0449294\tvalid_set's binary_error: 0.205357\n",
            "[250]\ttrain_set's binary_error: 0.0333761\tvalid_set's binary_error: 0.214286\n",
            "[300]\ttrain_set's binary_error: 0.0282413\tvalid_set's binary_error: 0.196429\n"
          ]
        },
        {
          "metadata": {
            "tags": null
          },
          "name": "stderr",
          "output_type": "stream",
          "text": [
            "Level 15:autogluon.core.models.abstract.abstract_model:\tFitting S2F4 with 'num_gpus': 0, 'num_cpus': 2\n",
            "Level 15:autogluon.tabular.models.lgb.lgb_model:Training Gradient Boosting Model for 10000 rounds...\n",
            "Level 15:autogluon.tabular.models.lgb.lgb_model:with the following hyperparameter settings:\n",
            "Level 15:autogluon.tabular.models.lgb.lgb_model:{'num_threads': -1, 'learning_rate': 0.05, 'objective': 'binary', 'verbose': -1, 'boosting_type': 'gbdt', 'two_round': True}\n",
            "/usr/local/lib/python3.7/dist-packages/lightgbm/engine.py:239: UserWarning: 'verbose_eval' argument is deprecated and will be removed in a future release of LightGBM. Pass 'log_evaluation()' callback via 'callbacks' argument instead.\n",
            "  _log_warning(\"'verbose_eval' argument is deprecated and will be removed in a future release of LightGBM. \"\n",
            "Level 15:autogluon.core.models.abstract.abstract_model:\tFitting S2F5 with 'num_gpus': 0, 'num_cpus': 2\n",
            "Level 15:autogluon.tabular.models.lgb.lgb_model:Training Gradient Boosting Model for 10000 rounds...\n"
          ]
        },
        {
          "metadata": {
            "tags": null
          },
          "name": "stdout",
          "output_type": "stream",
          "text": [
            "[50]\ttrain_set's binary_error: 0.123077\tvalid_set's binary_error: 0.144144\n",
            "[100]\ttrain_set's binary_error: 0.0910256\tvalid_set's binary_error: 0.153153\n",
            "[150]\ttrain_set's binary_error: 0.0653846\tvalid_set's binary_error: 0.171171\n"
          ]
        },
        {
          "metadata": {
            "tags": null
          },
          "name": "stderr",
          "output_type": "stream",
          "text": [
            "Level 15:autogluon.tabular.models.lgb.lgb_model:with the following hyperparameter settings:\n",
            "Level 15:autogluon.tabular.models.lgb.lgb_model:{'num_threads': -1, 'learning_rate': 0.05, 'objective': 'binary', 'verbose': -1, 'boosting_type': 'gbdt', 'two_round': True}\n",
            "/usr/local/lib/python3.7/dist-packages/lightgbm/engine.py:239: UserWarning: 'verbose_eval' argument is deprecated and will be removed in a future release of LightGBM. Pass 'log_evaluation()' callback via 'callbacks' argument instead.\n",
            "  _log_warning(\"'verbose_eval' argument is deprecated and will be removed in a future release of LightGBM. \"\n"
          ]
        },
        {
          "metadata": {
            "tags": null
          },
          "name": "stdout",
          "output_type": "stream",
          "text": [
            "[50]\ttrain_set's binary_error: 0.120513\tvalid_set's binary_error: 0.234234\n",
            "[100]\ttrain_set's binary_error: 0.0846154\tvalid_set's binary_error: 0.207207\n",
            "[150]\ttrain_set's binary_error: 0.0641026\tvalid_set's binary_error: 0.207207\n",
            "[200]\ttrain_set's binary_error: 0.0487179\tvalid_set's binary_error: 0.207207\n"
          ]
        },
        {
          "metadata": {
            "tags": null
          },
          "name": "stderr",
          "output_type": "stream",
          "text": [
            "Level 15:autogluon.core.models.abstract.abstract_model:\tFitting S2F6 with 'num_gpus': 0, 'num_cpus': 2\n",
            "Level 15:autogluon.tabular.models.lgb.lgb_model:Training Gradient Boosting Model for 10000 rounds...\n",
            "Level 15:autogluon.tabular.models.lgb.lgb_model:with the following hyperparameter settings:\n",
            "Level 15:autogluon.tabular.models.lgb.lgb_model:{'num_threads': -1, 'learning_rate': 0.05, 'objective': 'binary', 'verbose': -1, 'boosting_type': 'gbdt', 'two_round': True}\n",
            "/usr/local/lib/python3.7/dist-packages/lightgbm/engine.py:239: UserWarning: 'verbose_eval' argument is deprecated and will be removed in a future release of LightGBM. Pass 'log_evaluation()' callback via 'callbacks' argument instead.\n",
            "  _log_warning(\"'verbose_eval' argument is deprecated and will be removed in a future release of LightGBM. \"\n",
            "Level 15:autogluon.core.models.abstract.abstract_model:\tFitting S2F7 with 'num_gpus': 0, 'num_cpus': 2\n",
            "Level 15:autogluon.tabular.models.lgb.lgb_model:Training Gradient Boosting Model for 10000 rounds...\n"
          ]
        },
        {
          "metadata": {
            "tags": null
          },
          "name": "stdout",
          "output_type": "stream",
          "text": [
            "[50]\ttrain_set's binary_error: 0.128205\tvalid_set's binary_error: 0.18018\n",
            "[100]\ttrain_set's binary_error: 0.0897436\tvalid_set's binary_error: 0.189189\n",
            "[150]\ttrain_set's binary_error: 0.0628205\tvalid_set's binary_error: 0.189189\n"
          ]
        },
        {
          "metadata": {
            "tags": null
          },
          "name": "stderr",
          "output_type": "stream",
          "text": [
            "Level 15:autogluon.tabular.models.lgb.lgb_model:with the following hyperparameter settings:\n",
            "Level 15:autogluon.tabular.models.lgb.lgb_model:{'num_threads': -1, 'learning_rate': 0.05, 'objective': 'binary', 'verbose': -1, 'boosting_type': 'gbdt', 'two_round': True}\n",
            "/usr/local/lib/python3.7/dist-packages/lightgbm/engine.py:239: UserWarning: 'verbose_eval' argument is deprecated and will be removed in a future release of LightGBM. Pass 'log_evaluation()' callback via 'callbacks' argument instead.\n",
            "  _log_warning(\"'verbose_eval' argument is deprecated and will be removed in a future release of LightGBM. \"\n",
            "Level 15:autogluon.core.models.abstract.abstract_model:\tFitting S2F8 with 'num_gpus': 0, 'num_cpus': 2\n"
          ]
        },
        {
          "metadata": {
            "tags": null
          },
          "name": "stdout",
          "output_type": "stream",
          "text": [
            "[50]\ttrain_set's binary_error: 0.121795\tvalid_set's binary_error: 0.18018\n",
            "[100]\ttrain_set's binary_error: 0.0769231\tvalid_set's binary_error: 0.18018\n",
            "[150]\ttrain_set's binary_error: 0.0628205\tvalid_set's binary_error: 0.18018\n"
          ]
        },
        {
          "metadata": {
            "tags": null
          },
          "name": "stderr",
          "output_type": "stream",
          "text": [
            "Level 15:autogluon.tabular.models.lgb.lgb_model:Training Gradient Boosting Model for 10000 rounds...\n",
            "Level 15:autogluon.tabular.models.lgb.lgb_model:with the following hyperparameter settings:\n",
            "Level 15:autogluon.tabular.models.lgb.lgb_model:{'num_threads': -1, 'learning_rate': 0.05, 'objective': 'binary', 'verbose': -1, 'boosting_type': 'gbdt', 'two_round': True}\n",
            "/usr/local/lib/python3.7/dist-packages/lightgbm/engine.py:239: UserWarning: 'verbose_eval' argument is deprecated and will be removed in a future release of LightGBM. Pass 'log_evaluation()' callback via 'callbacks' argument instead.\n",
            "  _log_warning(\"'verbose_eval' argument is deprecated and will be removed in a future release of LightGBM. \"\n"
          ]
        },
        {
          "metadata": {
            "tags": null
          },
          "name": "stdout",
          "output_type": "stream",
          "text": [
            "[50]\ttrain_set's binary_error: 0.125641\tvalid_set's binary_error: 0.198198\n",
            "[100]\ttrain_set's binary_error: 0.0820513\tvalid_set's binary_error: 0.189189\n",
            "[150]\ttrain_set's binary_error: 0.0641026\tvalid_set's binary_error: 0.198198\n",
            "[200]\ttrain_set's binary_error: 0.0461538\tvalid_set's binary_error: 0.189189\n",
            "[250]\ttrain_set's binary_error: 0.0371795\tvalid_set's binary_error: 0.189189\n"
          ]
        },
        {
          "metadata": {
            "tags": null
          },
          "name": "stderr",
          "output_type": "stream",
          "text": [
            "Level 15:autogluon.core.utils.savers.save_pkl:Saving /content/drive/MyDrive/輪読/model/agModels_best/models/LightGBM_BAG_L1/utils/oof.pkl\n",
            "Level 15:autogluon.core.utils.savers.save_pkl:Saving /content/drive/MyDrive/輪読/model/agModels_best/models/LightGBM_BAG_L1/model.pkl\n",
            "INFO:autogluon.tabular.trainer.abstract_trainer:\t0.8361\t = Validation score   (accuracy)\n",
            "INFO:autogluon.tabular.trainer.abstract_trainer:\t7.54s\t = Training   runtime\n",
            "INFO:autogluon.tabular.trainer.abstract_trainer:\t0.16s\t = Validation runtime\n",
            "Level 15:autogluon.core.utils.savers.save_pkl:Saving /content/drive/MyDrive/輪読/model/agModels_best/models/trainer.pkl\n",
            "Level 15:autogluon.core.utils.loaders.load_pkl:Loading: /content/drive/MyDrive/輪読/model/agModels_best/models/CatBoost_BAG_L1/model.pkl\n",
            "INFO:autogluon.tabular.trainer.abstract_trainer:Fitting model: CatBoost_BAG_L1 ... Training model for up to 127.55s of the 227.2s of remaining time.\n",
            "Level 15:autogluon.core.utils.loaders.load_pkl:Loading: /content/drive/MyDrive/輪読/model/agModels_best/models/CatBoost_BAG_L1/utils/model_template.pkl\n",
            "Level 15:autogluon.core.utils.loaders.load_pkl:Loading: /content/drive/MyDrive/輪読/model/agModels_best/models/CatBoost_BAG_L1/utils/oof.pkl\n",
            "Level 15:autogluon.core.models.abstract.abstract_model:\tFitting S2F1 with 'num_gpus': 0, 'num_cpus': 2\n",
            "Level 15:autogluon.tabular.models.catboost.catboost_model:\tCatboost model hyperparameters: {'iterations': 10000, 'learning_rate': 0.05, 'random_seed': 0, 'allow_writing_files': False, 'eval_metric': 'Accuracy'}\n"
          ]
        },
        {
          "metadata": {
            "tags": null
          },
          "name": "stdout",
          "output_type": "stream",
          "text": [
            "0:\tlearn: 0.8177150\ttest: 0.8035714\tbest: 0.8035714 (0)\ttotal: 1.69ms\tremaining: 82.9ms\n",
            "20:\tlearn: 0.8074454\ttest: 0.8482143\tbest: 0.8482143 (7)\ttotal: 28.3ms\tremaining: 39.1ms\n",
            "40:\tlearn: 0.8202824\ttest: 0.8482143\tbest: 0.8571429 (25)\ttotal: 51.8ms\tremaining: 11.4ms\n",
            "49:\tlearn: 0.8241335\ttest: 0.8482143\tbest: 0.8571429 (25)\ttotal: 63.3ms\tremaining: 0us\n",
            "\n",
            "bestTest = 0.8571428571\n",
            "bestIteration = 25\n",
            "\n",
            "Shrink model to first 26 iterations.\n",
            "0:\tlearn: 0.8100128\ttest: 0.8571429\tbest: 0.8571429 (0)\ttotal: 2.98ms\tremaining: 23.1s\n",
            "20:\tlearn: 0.8279846\ttest: 0.8571429\tbest: 0.8571429 (0)\ttotal: 47.3ms\tremaining: 17.4s\n",
            "40:\tlearn: 0.8382542\ttest: 0.8839286\tbest: 0.8839286 (32)\ttotal: 97.7ms\tremaining: 18.3s\n",
            "60:\tlearn: 0.8459564\ttest: 0.8839286\tbest: 0.8928571 (58)\ttotal: 144ms\tremaining: 18.1s\n",
            "80:\tlearn: 0.8510911\ttest: 0.8839286\tbest: 0.8928571 (58)\ttotal: 188ms\tremaining: 17.8s\n",
            "100:\tlearn: 0.8549422\ttest: 0.8839286\tbest: 0.8928571 (58)\ttotal: 232ms\tremaining: 17.5s\n",
            "120:\tlearn: 0.8575096\ttest: 0.8839286\tbest: 0.8928571 (58)\ttotal: 280ms\tremaining: 17.6s\n",
            "140:\tlearn: 0.8690629\ttest: 0.8928571\tbest: 0.8928571 (58)\ttotal: 324ms\tremaining: 17.4s\n",
            "160:\tlearn: 0.8818999\ttest: 0.8928571\tbest: 0.9017857 (142)\ttotal: 394ms\tremaining: 18.5s\n",
            "180:\tlearn: 0.8934531\ttest: 0.8839286\tbest: 0.9017857 (142)\ttotal: 451ms\tremaining: 18.8s\n",
            "200:\tlearn: 0.8998716\ttest: 0.8928571\tbest: 0.9017857 (142)\ttotal: 498ms\tremaining: 18.7s\n",
            "220:\tlearn: 0.9037227\ttest: 0.8928571\tbest: 0.9017857 (142)\ttotal: 545ms\tremaining: 18.5s\n",
            "240:\tlearn: 0.9050064\ttest: 0.9017857\tbest: 0.9017857 (142)\ttotal: 604ms\tremaining: 18.8s\n",
            "260:\tlearn: 0.9114249\ttest: 0.9017857\tbest: 0.9017857 (142)\ttotal: 653ms\tremaining: 18.7s\n",
            "280:\tlearn: 0.9165597\ttest: 0.9017857\tbest: 0.9017857 (142)\ttotal: 701ms\tremaining: 18.6s\n",
            "300:\tlearn: 0.9229782\ttest: 0.9017857\tbest: 0.9107143 (282)\ttotal: 755ms\tremaining: 18.6s\n",
            "320:\tlearn: 0.9268293\ttest: 0.9017857\tbest: 0.9107143 (282)\ttotal: 818ms\tremaining: 18.9s\n",
            "340:\tlearn: 0.9332478\ttest: 0.8839286\tbest: 0.9107143 (282)\ttotal: 864ms\tremaining: 18.7s\n",
            "360:\tlearn: 0.9332478\ttest: 0.8928571\tbest: 0.9107143 (282)\ttotal: 918ms\tremaining: 18.8s\n",
            "380:\tlearn: 0.9345315\ttest: 0.8928571\tbest: 0.9107143 (282)\ttotal: 968ms\tremaining: 18.7s\n"
          ]
        },
        {
          "metadata": {
            "tags": null
          },
          "name": "stderr",
          "output_type": "stream",
          "text": [
            "Level 15:autogluon.core.models.abstract.abstract_model:\tFitting S2F2 with 'num_gpus': 0, 'num_cpus': 2\n",
            "Level 15:autogluon.tabular.models.catboost.catboost_model:\tCatboost model hyperparameters: {'iterations': 10000, 'learning_rate': 0.05, 'random_seed': 0, 'allow_writing_files': False, 'eval_metric': 'Accuracy'}\n"
          ]
        },
        {
          "metadata": {
            "tags": null
          },
          "name": "stdout",
          "output_type": "stream",
          "text": [
            "400:\tlearn: 0.9383825\ttest: 0.8928571\tbest: 0.9107143 (282)\ttotal: 1.02s\tremaining: 18.7s\n",
            "420:\tlearn: 0.9396662\ttest: 0.8928571\tbest: 0.9107143 (282)\ttotal: 1.07s\tremaining: 18.6s\n",
            "Stopped by overfitting detector  (150 iterations wait)\n",
            "\n",
            "bestTest = 0.9107142857\n",
            "bestIteration = 282\n",
            "\n",
            "Shrink model to first 283 iterations.\n",
            "0:\tlearn: 0.8202824\ttest: 0.7678571\tbest: 0.7678571 (0)\ttotal: 5.25ms\tremaining: 257ms\n",
            "20:\tlearn: 0.8164313\ttest: 0.7589286\tbest: 0.7857143 (2)\ttotal: 30.6ms\tremaining: 42.3ms\n",
            "40:\tlearn: 0.8189987\ttest: 0.7589286\tbest: 0.7857143 (2)\ttotal: 62.8ms\tremaining: 13.8ms\n",
            "49:\tlearn: 0.8228498\ttest: 0.7678571\tbest: 0.7857143 (2)\ttotal: 75ms\tremaining: 0us\n",
            "\n",
            "bestTest = 0.7857142857\n",
            "bestIteration = 2\n",
            "\n",
            "Shrink model to first 3 iterations.\n",
            "0:\tlearn: 0.8241335\ttest: 0.7767857\tbest: 0.7767857 (0)\ttotal: 2.91ms\tremaining: 22.7s\n",
            "20:\tlearn: 0.8241335\ttest: 0.7589286\tbest: 0.7767857 (0)\ttotal: 43.9ms\tremaining: 16.3s\n",
            "40:\tlearn: 0.8459564\ttest: 0.7767857\tbest: 0.7767857 (0)\ttotal: 88.4ms\tremaining: 16.7s\n",
            "60:\tlearn: 0.8587933\ttest: 0.7500000\tbest: 0.7946429 (48)\ttotal: 142ms\tremaining: 18s\n",
            "80:\tlearn: 0.8677792\ttest: 0.7500000\tbest: 0.7946429 (48)\ttotal: 216ms\tremaining: 20.6s\n",
            "100:\tlearn: 0.8729140\ttest: 0.7410714\tbest: 0.7946429 (48)\ttotal: 260ms\tremaining: 19.9s\n",
            "120:\tlearn: 0.8831836\ttest: 0.7500000\tbest: 0.7946429 (48)\ttotal: 301ms\tremaining: 19.1s\n",
            "140:\tlearn: 0.8883184\ttest: 0.7410714\tbest: 0.7946429 (48)\ttotal: 344ms\tremaining: 18.7s\n",
            "160:\tlearn: 0.8921694\ttest: 0.7500000\tbest: 0.7946429 (48)\ttotal: 387ms\tremaining: 18.4s\n"
          ]
        },
        {
          "metadata": {
            "tags": null
          },
          "name": "stderr",
          "output_type": "stream",
          "text": [
            "Level 15:autogluon.core.models.abstract.abstract_model:\tFitting S2F3 with 'num_gpus': 0, 'num_cpus': 2\n",
            "Level 15:autogluon.tabular.models.catboost.catboost_model:\tCatboost model hyperparameters: {'iterations': 10000, 'learning_rate': 0.05, 'random_seed': 0, 'allow_writing_files': False, 'eval_metric': 'Accuracy'}\n"
          ]
        },
        {
          "metadata": {
            "tags": null
          },
          "name": "stdout",
          "output_type": "stream",
          "text": [
            "180:\tlearn: 0.8947368\ttest: 0.7589286\tbest: 0.7946429 (48)\ttotal: 444ms\tremaining: 18.7s\n",
            "Stopped by overfitting detector  (150 iterations wait)\n",
            "\n",
            "bestTest = 0.7946428571\n",
            "bestIteration = 48\n",
            "\n",
            "Shrink model to first 49 iterations.\n",
            "0:\tlearn: 0.8087291\ttest: 0.8482143\tbest: 0.8482143 (0)\ttotal: 1.46ms\tremaining: 71.4ms\n",
            "20:\tlearn: 0.8100128\ttest: 0.8214286\tbest: 0.8482143 (0)\ttotal: 25.1ms\tremaining: 34.7ms\n",
            "40:\tlearn: 0.8164313\ttest: 0.8303571\tbest: 0.8482143 (0)\ttotal: 50.8ms\tremaining: 11.1ms\n",
            "49:\tlearn: 0.8241335\ttest: 0.8303571\tbest: 0.8482143 (0)\ttotal: 63.2ms\tremaining: 0us\n",
            "\n",
            "bestTest = 0.8482142857\n",
            "bestIteration = 0\n",
            "\n",
            "Shrink model to first 1 iterations.\n",
            "0:\tlearn: 0.8087291\ttest: 0.8303571\tbest: 0.8303571 (0)\ttotal: 2.73ms\tremaining: 27.1s\n",
            "20:\tlearn: 0.8254172\ttest: 0.8214286\tbest: 0.8303571 (0)\ttotal: 64.1ms\tremaining: 30.3s\n",
            "40:\tlearn: 0.8318357\ttest: 0.8214286\tbest: 0.8303571 (0)\ttotal: 112ms\tremaining: 27s\n",
            "60:\tlearn: 0.8472401\ttest: 0.8035714\tbest: 0.8303571 (0)\ttotal: 157ms\tremaining: 25.4s\n",
            "80:\tlearn: 0.8523748\ttest: 0.8035714\tbest: 0.8303571 (0)\ttotal: 219ms\tremaining: 26.7s\n",
            "100:\tlearn: 0.8626444\ttest: 0.8482143\tbest: 0.8482143 (100)\ttotal: 262ms\tremaining: 25.5s\n",
            "120:\tlearn: 0.8741977\ttest: 0.8214286\tbest: 0.8482143 (100)\ttotal: 307ms\tremaining: 24.9s\n",
            "140:\tlearn: 0.8780488\ttest: 0.8392857\tbest: 0.8482143 (100)\ttotal: 352ms\tremaining: 24.5s\n",
            "160:\tlearn: 0.8870347\ttest: 0.8303571\tbest: 0.8482143 (100)\ttotal: 395ms\tremaining: 24s\n",
            "180:\tlearn: 0.8908858\ttest: 0.8214286\tbest: 0.8482143 (100)\ttotal: 439ms\tremaining: 23.7s\n"
          ]
        },
        {
          "metadata": {
            "tags": null
          },
          "name": "stderr",
          "output_type": "stream",
          "text": [
            "Level 15:autogluon.core.models.abstract.abstract_model:\tFitting S2F4 with 'num_gpus': 0, 'num_cpus': 2\n",
            "Level 15:autogluon.tabular.models.catboost.catboost_model:\tCatboost model hyperparameters: {'iterations': 10000, 'learning_rate': 0.05, 'random_seed': 0, 'allow_writing_files': False, 'eval_metric': 'Accuracy'}\n"
          ]
        },
        {
          "metadata": {
            "tags": null
          },
          "name": "stdout",
          "output_type": "stream",
          "text": [
            "200:\tlearn: 0.8947368\ttest: 0.8214286\tbest: 0.8482143 (100)\ttotal: 490ms\tremaining: 23.8s\n",
            "220:\tlearn: 0.9024390\ttest: 0.8214286\tbest: 0.8482143 (100)\ttotal: 553ms\tremaining: 24.3s\n",
            "240:\tlearn: 0.9062901\ttest: 0.8214286\tbest: 0.8482143 (100)\ttotal: 597ms\tremaining: 24s\n",
            "Stopped by overfitting detector  (150 iterations wait)\n",
            "\n",
            "bestTest = 0.8482142857\n",
            "bestIteration = 100\n",
            "\n",
            "Shrink model to first 101 iterations.\n",
            "0:\tlearn: 0.8243590\ttest: 0.8108108\tbest: 0.8108108 (0)\ttotal: 1.7ms\tremaining: 83.2ms\n",
            "20:\tlearn: 0.8141026\ttest: 0.7837838\tbest: 0.8108108 (0)\ttotal: 31.4ms\tremaining: 43.3ms\n",
            "40:\tlearn: 0.8205128\ttest: 0.7837838\tbest: 0.8108108 (0)\ttotal: 54.3ms\tremaining: 11.9ms\n",
            "49:\tlearn: 0.8320513\ttest: 0.7837838\tbest: 0.8108108 (0)\ttotal: 66.1ms\tremaining: 0us\n",
            "\n",
            "bestTest = 0.8108108108\n",
            "bestIteration = 0\n",
            "\n",
            "Shrink model to first 1 iterations.\n",
            "0:\tlearn: 0.8243590\ttest: 0.8018018\tbest: 0.8018018 (0)\ttotal: 2.73ms\tremaining: 27.2s\n",
            "20:\tlearn: 0.8256410\ttest: 0.7927928\tbest: 0.8018018 (0)\ttotal: 43.5ms\tremaining: 20.6s\n",
            "40:\tlearn: 0.8474359\ttest: 0.8108108\tbest: 0.8108108 (30)\ttotal: 87.6ms\tremaining: 21.2s\n",
            "60:\tlearn: 0.8564103\ttest: 0.8018018\tbest: 0.8108108 (30)\ttotal: 129ms\tremaining: 20.9s\n",
            "80:\tlearn: 0.8666667\ttest: 0.8018018\tbest: 0.8108108 (30)\ttotal: 200ms\tremaining: 24.3s\n",
            "100:\tlearn: 0.8628205\ttest: 0.8108108\tbest: 0.8198198 (92)\ttotal: 245ms\tremaining: 23.9s\n",
            "120:\tlearn: 0.8705128\ttest: 0.8198198\tbest: 0.8198198 (92)\ttotal: 289ms\tremaining: 23.5s\n",
            "140:\tlearn: 0.8833333\ttest: 0.8288288\tbest: 0.8288288 (139)\ttotal: 334ms\tremaining: 23.2s\n",
            "160:\tlearn: 0.8961538\ttest: 0.8288288\tbest: 0.8288288 (139)\ttotal: 383ms\tremaining: 23.3s\n",
            "180:\tlearn: 0.8923077\ttest: 0.8288288\tbest: 0.8288288 (139)\ttotal: 436ms\tremaining: 23.5s\n",
            "200:\tlearn: 0.9012821\ttest: 0.8378378\tbest: 0.8378378 (182)\ttotal: 495ms\tremaining: 24s\n",
            "220:\tlearn: 0.9076923\ttest: 0.8378378\tbest: 0.8378378 (182)\ttotal: 547ms\tremaining: 24.1s\n",
            "240:\tlearn: 0.9141026\ttest: 0.8378378\tbest: 0.8378378 (182)\ttotal: 591ms\tremaining: 23.8s\n",
            "260:\tlearn: 0.9192308\ttest: 0.8378378\tbest: 0.8378378 (182)\ttotal: 641ms\tremaining: 23.8s\n",
            "280:\tlearn: 0.9192308\ttest: 0.8378378\tbest: 0.8378378 (182)\ttotal: 693ms\tremaining: 23.8s\n",
            "300:\tlearn: 0.9205128\ttest: 0.8378378\tbest: 0.8378378 (182)\ttotal: 738ms\tremaining: 23.7s\n",
            "320:\tlearn: 0.9230769\ttest: 0.8288288\tbest: 0.8378378 (182)\ttotal: 803ms\tremaining: 24.1s\n",
            "Stopped by overfitting detector  (150 iterations wait)\n",
            "\n",
            "bestTest = 0.8378378378\n",
            "bestIteration = 182\n",
            "\n",
            "Shrink model to first 183 iterations.\n"
          ]
        },
        {
          "metadata": {
            "tags": null
          },
          "name": "stderr",
          "output_type": "stream",
          "text": [
            "Level 15:autogluon.core.models.abstract.abstract_model:\tFitting S2F5 with 'num_gpus': 0, 'num_cpus': 2\n",
            "Level 15:autogluon.tabular.models.catboost.catboost_model:\tCatboost model hyperparameters: {'iterations': 10000, 'learning_rate': 0.05, 'random_seed': 0, 'allow_writing_files': False, 'eval_metric': 'Accuracy'}\n"
          ]
        },
        {
          "metadata": {
            "tags": null
          },
          "name": "stdout",
          "output_type": "stream",
          "text": [
            "0:\tlearn: 0.8307692\ttest: 0.7747748\tbest: 0.7747748 (0)\ttotal: 1.42ms\tremaining: 69.8ms\n",
            "20:\tlearn: 0.8179487\ttest: 0.7747748\tbest: 0.7747748 (0)\ttotal: 27.5ms\tremaining: 37.9ms\n",
            "40:\tlearn: 0.8384615\ttest: 0.7747748\tbest: 0.7747748 (0)\ttotal: 50.8ms\tremaining: 11.2ms\n",
            "49:\tlearn: 0.8423077\ttest: 0.7657658\tbest: 0.7747748 (0)\ttotal: 62.3ms\tremaining: 0us\n",
            "\n",
            "bestTest = 0.7747747748\n",
            "bestIteration = 0\n",
            "\n",
            "Shrink model to first 1 iterations.\n",
            "0:\tlearn: 0.8346154\ttest: 0.7657658\tbest: 0.7657658 (0)\ttotal: 2.72ms\tremaining: 27.1s\n",
            "20:\tlearn: 0.8333333\ttest: 0.7657658\tbest: 0.7837838 (13)\ttotal: 45.2ms\tremaining: 21.4s\n",
            "40:\tlearn: 0.8525641\ttest: 0.7927928\tbest: 0.7927928 (39)\ttotal: 89.7ms\tremaining: 21.7s\n",
            "60:\tlearn: 0.8538462\ttest: 0.7837838\tbest: 0.7927928 (39)\ttotal: 141ms\tremaining: 22.8s\n",
            "80:\tlearn: 0.8653846\ttest: 0.7657658\tbest: 0.7927928 (39)\ttotal: 180ms\tremaining: 21.9s\n",
            "100:\tlearn: 0.8730769\ttest: 0.7657658\tbest: 0.7927928 (39)\ttotal: 226ms\tremaining: 22s\n",
            "120:\tlearn: 0.8794872\ttest: 0.7567568\tbest: 0.7927928 (39)\ttotal: 270ms\tremaining: 21.9s\n",
            "140:\tlearn: 0.8897436\ttest: 0.7657658\tbest: 0.7927928 (39)\ttotal: 311ms\tremaining: 21.6s\n"
          ]
        },
        {
          "metadata": {
            "tags": null
          },
          "name": "stderr",
          "output_type": "stream",
          "text": [
            "Level 15:autogluon.core.models.abstract.abstract_model:\tFitting S2F6 with 'num_gpus': 0, 'num_cpus': 2\n",
            "Level 15:autogluon.tabular.models.catboost.catboost_model:\tCatboost model hyperparameters: {'iterations': 10000, 'learning_rate': 0.05, 'random_seed': 0, 'allow_writing_files': False, 'eval_metric': 'Accuracy'}\n"
          ]
        },
        {
          "metadata": {
            "tags": null
          },
          "name": "stdout",
          "output_type": "stream",
          "text": [
            "160:\tlearn: 0.8948718\ttest: 0.7657658\tbest: 0.7927928 (39)\ttotal: 360ms\tremaining: 21.9s\n",
            "180:\tlearn: 0.9012821\ttest: 0.7657658\tbest: 0.7927928 (39)\ttotal: 403ms\tremaining: 21.7s\n",
            "Stopped by overfitting detector  (150 iterations wait)\n",
            "\n",
            "bestTest = 0.7927927928\n",
            "bestIteration = 39\n",
            "\n",
            "Shrink model to first 40 iterations.\n",
            "0:\tlearn: 0.8166667\ttest: 0.8108108\tbest: 0.8108108 (0)\ttotal: 1.56ms\tremaining: 76.7ms\n",
            "20:\tlearn: 0.8115385\ttest: 0.8378378\tbest: 0.8558559 (9)\ttotal: 28.3ms\tremaining: 39.1ms\n",
            "40:\tlearn: 0.8179487\ttest: 0.8378378\tbest: 0.8558559 (9)\ttotal: 49.7ms\tremaining: 10.9ms\n",
            "49:\tlearn: 0.8256410\ttest: 0.8198198\tbest: 0.8558559 (9)\ttotal: 61.1ms\tremaining: 0us\n",
            "\n",
            "bestTest = 0.8558558559\n",
            "bestIteration = 9\n",
            "\n",
            "Shrink model to first 10 iterations.\n",
            "0:\tlearn: 0.8102564\ttest: 0.8378378\tbest: 0.8378378 (0)\ttotal: 2.68ms\tremaining: 26.7s\n",
            "20:\tlearn: 0.8320513\ttest: 0.8288288\tbest: 0.8558559 (4)\ttotal: 50.5ms\tremaining: 23.9s\n",
            "40:\tlearn: 0.8384615\ttest: 0.8378378\tbest: 0.8558559 (4)\ttotal: 96.5ms\tremaining: 23.3s\n",
            "60:\tlearn: 0.8410256\ttest: 0.8378378\tbest: 0.8558559 (4)\ttotal: 155ms\tremaining: 25s\n",
            "80:\tlearn: 0.8512821\ttest: 0.8558559\tbest: 0.8558559 (4)\ttotal: 198ms\tremaining: 24.1s\n",
            "100:\tlearn: 0.8576923\ttest: 0.8468468\tbest: 0.8558559 (4)\ttotal: 246ms\tremaining: 24s\n"
          ]
        },
        {
          "metadata": {
            "tags": null
          },
          "name": "stderr",
          "output_type": "stream",
          "text": [
            "Level 15:autogluon.core.models.abstract.abstract_model:\tFitting S2F7 with 'num_gpus': 0, 'num_cpus': 2\n",
            "Level 15:autogluon.tabular.models.catboost.catboost_model:\tCatboost model hyperparameters: {'iterations': 10000, 'learning_rate': 0.05, 'random_seed': 0, 'allow_writing_files': False, 'eval_metric': 'Accuracy'}\n"
          ]
        },
        {
          "metadata": {
            "tags": null
          },
          "name": "stdout",
          "output_type": "stream",
          "text": [
            "120:\tlearn: 0.8782051\ttest: 0.8468468\tbest: 0.8558559 (4)\ttotal: 297ms\tremaining: 24.1s\n",
            "140:\tlearn: 0.8871795\ttest: 0.8468468\tbest: 0.8558559 (4)\ttotal: 348ms\tremaining: 24.2s\n",
            "Stopped by overfitting detector  (150 iterations wait)\n",
            "\n",
            "bestTest = 0.8558558559\n",
            "bestIteration = 4\n",
            "\n",
            "Shrink model to first 5 iterations.\n",
            "0:\tlearn: 0.8282051\ttest: 0.8288288\tbest: 0.8288288 (0)\ttotal: 2.57ms\tremaining: 126ms\n",
            "20:\tlearn: 0.8115385\ttest: 0.8108108\tbest: 0.8378378 (1)\ttotal: 39ms\tremaining: 53.8ms\n",
            "40:\tlearn: 0.8166667\ttest: 0.8018018\tbest: 0.8378378 (1)\ttotal: 64.2ms\tremaining: 14.1ms\n",
            "49:\tlearn: 0.8269231\ttest: 0.8018018\tbest: 0.8378378 (1)\ttotal: 77.3ms\tremaining: 0us\n",
            "\n",
            "bestTest = 0.8378378378\n",
            "bestIteration = 1\n",
            "\n",
            "Shrink model to first 2 iterations.\n",
            "0:\tlearn: 0.8217949\ttest: 0.8108108\tbest: 0.8108108 (0)\ttotal: 2.62ms\tremaining: 26.1s\n",
            "20:\tlearn: 0.8384615\ttest: 0.8108108\tbest: 0.8108108 (0)\ttotal: 48.5ms\tremaining: 22.9s\n",
            "40:\tlearn: 0.8358974\ttest: 0.8108108\tbest: 0.8108108 (0)\ttotal: 93.1ms\tremaining: 22.5s\n",
            "60:\tlearn: 0.8461538\ttest: 0.8198198\tbest: 0.8198198 (46)\ttotal: 135ms\tremaining: 21.9s\n",
            "80:\tlearn: 0.8615385\ttest: 0.8018018\tbest: 0.8198198 (46)\ttotal: 186ms\tremaining: 22.6s\n",
            "100:\tlearn: 0.8653846\ttest: 0.8108108\tbest: 0.8198198 (46)\ttotal: 229ms\tremaining: 22.3s\n",
            "120:\tlearn: 0.8730769\ttest: 0.8198198\tbest: 0.8198198 (46)\ttotal: 270ms\tremaining: 21.9s\n",
            "140:\tlearn: 0.8871795\ttest: 0.8288288\tbest: 0.8288288 (133)\ttotal: 315ms\tremaining: 21.9s\n",
            "160:\tlearn: 0.8910256\ttest: 0.8378378\tbest: 0.8378378 (143)\ttotal: 357ms\tremaining: 21.7s\n",
            "180:\tlearn: 0.8974359\ttest: 0.8288288\tbest: 0.8378378 (143)\ttotal: 410ms\tremaining: 22.1s\n",
            "200:\tlearn: 0.9025641\ttest: 0.8288288\tbest: 0.8378378 (143)\ttotal: 456ms\tremaining: 22.1s\n",
            "220:\tlearn: 0.9064103\ttest: 0.8378378\tbest: 0.8378378 (143)\ttotal: 502ms\tremaining: 22.1s\n",
            "240:\tlearn: 0.9141026\ttest: 0.8288288\tbest: 0.8378378 (143)\ttotal: 566ms\tremaining: 22.8s\n"
          ]
        },
        {
          "metadata": {
            "tags": null
          },
          "name": "stderr",
          "output_type": "stream",
          "text": [
            "Level 15:autogluon.core.models.abstract.abstract_model:\tFitting S2F8 with 'num_gpus': 0, 'num_cpus': 2\n",
            "Level 15:autogluon.tabular.models.catboost.catboost_model:\tCatboost model hyperparameters: {'iterations': 10000, 'learning_rate': 0.05, 'random_seed': 0, 'allow_writing_files': False, 'eval_metric': 'Accuracy'}\n"
          ]
        },
        {
          "metadata": {
            "tags": null
          },
          "name": "stdout",
          "output_type": "stream",
          "text": [
            "260:\tlearn: 0.9166667\ttest: 0.8288288\tbest: 0.8378378 (143)\ttotal: 636ms\tremaining: 23.6s\n",
            "280:\tlearn: 0.9217949\ttest: 0.8288288\tbest: 0.8378378 (143)\ttotal: 684ms\tremaining: 23.5s\n",
            "Stopped by overfitting detector  (150 iterations wait)\n",
            "\n",
            "bestTest = 0.8378378378\n",
            "bestIteration = 143\n",
            "\n",
            "Shrink model to first 144 iterations.\n",
            "0:\tlearn: 0.8089744\ttest: 0.8378378\tbest: 0.8378378 (0)\ttotal: 1.99ms\tremaining: 97.5ms\n",
            "20:\tlearn: 0.8089744\ttest: 0.8108108\tbest: 0.8468468 (1)\ttotal: 27.3ms\tremaining: 37.7ms\n",
            "40:\tlearn: 0.8192308\ttest: 0.8108108\tbest: 0.8468468 (1)\ttotal: 57.5ms\tremaining: 12.6ms\n",
            "49:\tlearn: 0.8230769\ttest: 0.8108108\tbest: 0.8468468 (1)\ttotal: 67.9ms\tremaining: 0us\n",
            "\n",
            "bestTest = 0.8468468468\n",
            "bestIteration = 1\n",
            "\n",
            "Shrink model to first 2 iterations.\n",
            "0:\tlearn: 0.8192308\ttest: 0.8198198\tbest: 0.8198198 (0)\ttotal: 2.72ms\tremaining: 27.1s\n",
            "20:\tlearn: 0.8192308\ttest: 0.8198198\tbest: 0.8288288 (19)\ttotal: 49.9ms\tremaining: 23.6s\n",
            "40:\tlearn: 0.8487179\ttest: 0.8378378\tbest: 0.8468468 (25)\ttotal: 91.8ms\tremaining: 22.2s\n",
            "60:\tlearn: 0.8461538\ttest: 0.8288288\tbest: 0.8468468 (25)\ttotal: 135ms\tremaining: 21.9s\n",
            "80:\tlearn: 0.8576923\ttest: 0.8288288\tbest: 0.8468468 (25)\ttotal: 188ms\tremaining: 22.9s\n",
            "100:\tlearn: 0.8641026\ttest: 0.8108108\tbest: 0.8468468 (25)\ttotal: 238ms\tremaining: 23.2s\n",
            "120:\tlearn: 0.8705128\ttest: 0.8108108\tbest: 0.8468468 (25)\ttotal: 276ms\tremaining: 22.5s\n",
            "140:\tlearn: 0.8833333\ttest: 0.8018018\tbest: 0.8468468 (25)\ttotal: 320ms\tremaining: 22.3s\n",
            "160:\tlearn: 0.8858974\ttest: 0.8198198\tbest: 0.8468468 (25)\ttotal: 364ms\tremaining: 22.1s\n"
          ]
        },
        {
          "metadata": {
            "tags": null
          },
          "name": "stderr",
          "output_type": "stream",
          "text": [
            "Level 15:autogluon.core.utils.savers.save_pkl:Saving /content/drive/MyDrive/輪読/model/agModels_best/models/CatBoost_BAG_L1/utils/oof.pkl\n",
            "Level 15:autogluon.core.utils.savers.save_pkl:Saving /content/drive/MyDrive/輪読/model/agModels_best/models/CatBoost_BAG_L1/model.pkl\n",
            "INFO:autogluon.tabular.trainer.abstract_trainer:\t0.8339\t = Validation score   (accuracy)\n",
            "INFO:autogluon.tabular.trainer.abstract_trainer:\t11.4s\t = Training   runtime\n",
            "INFO:autogluon.tabular.trainer.abstract_trainer:\t0.1s\t = Validation runtime\n",
            "Level 15:autogluon.core.utils.savers.save_pkl:Saving /content/drive/MyDrive/輪読/model/agModels_best/models/trainer.pkl\n",
            "Level 15:autogluon.core.utils.loaders.load_pkl:Loading: /content/drive/MyDrive/輪読/model/agModels_best/models/NeuralNetFastAI_BAG_L1/model.pkl\n",
            "INFO:autogluon.tabular.trainer.abstract_trainer:Fitting model: NeuralNetFastAI_BAG_L1 ... Training model for up to 121.14s of the 220.78s of remaining time.\n",
            "Level 15:autogluon.core.utils.loaders.load_pkl:Loading: /content/drive/MyDrive/輪読/model/agModels_best/models/NeuralNetFastAI_BAG_L1/utils/model_template.pkl\n",
            "Level 15:autogluon.core.utils.loaders.load_pkl:Loading: /content/drive/MyDrive/輪読/model/agModels_best/models/NeuralNetFastAI_BAG_L1/utils/oof.pkl\n",
            "Level 15:autogluon.core.models.abstract.abstract_model:\tFitting S2F1 with 'num_gpus': 0, 'num_cpus': 2\n",
            "Level 15:autogluon.tabular.models.fastainn.tabular_nn_fastai:Fitting Neural Network with parameters {'layers': None, 'emb_drop': 0.1, 'ps': 0.1, 'bs': 256, 'lr': 0.01, 'epochs': 30, 'early.stopping.min_delta': 0.0001, 'early.stopping.patience': 20, 'smoothing': 0.0}...\n",
            "Level 15:autogluon.tabular.models.fastainn.tabular_nn_fastai:Using 1/1 categorical features\n",
            "Level 15:autogluon.tabular.models.fastainn.tabular_nn_fastai:Using 6 cont features\n"
          ]
        },
        {
          "metadata": {
            "tags": null
          },
          "name": "stdout",
          "output_type": "stream",
          "text": [
            "Stopped by overfitting detector  (150 iterations wait)\n",
            "\n",
            "bestTest = 0.8468468468\n",
            "bestIteration = 25\n",
            "\n",
            "Shrink model to first 26 iterations.\n"
          ]
        },
        {
          "metadata": {
            "tags": null
          },
          "name": "stderr",
          "output_type": "stream",
          "text": [
            "Level 15:autogluon.tabular.models.fastainn.tabular_nn_fastai:TabularModel(\n",
            "  (embeds): ModuleList(\n",
            "    (0): Embedding(5, 4)\n",
            "  )\n",
            "  (emb_drop): Dropout(p=0.1, inplace=False)\n",
            "  (bn_cont): BatchNorm1d(6, eps=1e-05, momentum=0.1, affine=True, track_running_stats=True)\n",
            "  (layers): Sequential(\n",
            "    (0): LinBnDrop(\n",
            "      (0): Linear(in_features=10, out_features=200, bias=False)\n",
            "      (1): ReLU(inplace=True)\n",
            "      (2): BatchNorm1d(200, eps=1e-05, momentum=0.1, affine=True, track_running_stats=True)\n",
            "      (3): Dropout(p=0.1, inplace=False)\n",
            "    )\n",
            "    (1): LinBnDrop(\n",
            "      (0): Linear(in_features=200, out_features=100, bias=False)\n",
            "      (1): ReLU(inplace=True)\n",
            "      (2): BatchNorm1d(100, eps=1e-05, momentum=0.1, affine=True, track_running_stats=True)\n",
            "      (3): Dropout(p=0.1, inplace=False)\n",
            "    )\n",
            "    (2): LinBnDrop(\n",
            "      (0): Linear(in_features=100, out_features=2, bias=True)\n",
            "    )\n",
            "  )\n",
            ")\n",
            "Level 15:autogluon.tabular.models.fastainn.callbacks:Better model found at epoch 0 with accuracy value: 0.6517857313156128.\n",
            "Level 15:autogluon.tabular.models.fastainn.callbacks:Better model found at epoch 1 with accuracy value: 0.8125.\n",
            "Level 15:autogluon.tabular.models.fastainn.callbacks:Better model found at epoch 8 with accuracy value: 0.8660714030265808.\n",
            "Level 15:autogluon.tabular.models.fastainn.callbacks:Better model found at epoch 16 with accuracy value: 0.8839285969734192.\n",
            "Level 15:autogluon.tabular.models.fastainn.tabular_nn_fastai:Model validation metrics: 0.8839285969734192\n",
            "Level 15:autogluon.core.models.abstract.abstract_model:\tFitting S2F2 with 'num_gpus': 0, 'num_cpus': 2\n",
            "Level 15:autogluon.tabular.models.fastainn.tabular_nn_fastai:Fitting Neural Network with parameters {'layers': None, 'emb_drop': 0.1, 'ps': 0.1, 'bs': 256, 'lr': 0.01, 'epochs': 30, 'early.stopping.min_delta': 0.0001, 'early.stopping.patience': 20, 'smoothing': 0.0}...\n",
            "Level 15:autogluon.tabular.models.fastainn.tabular_nn_fastai:Using 1/1 categorical features\n",
            "Level 15:autogluon.tabular.models.fastainn.tabular_nn_fastai:Using 6 cont features\n",
            "Level 15:autogluon.tabular.models.fastainn.tabular_nn_fastai:TabularModel(\n",
            "  (embeds): ModuleList(\n",
            "    (0): Embedding(5, 4)\n",
            "  )\n",
            "  (emb_drop): Dropout(p=0.1, inplace=False)\n",
            "  (bn_cont): BatchNorm1d(6, eps=1e-05, momentum=0.1, affine=True, track_running_stats=True)\n",
            "  (layers): Sequential(\n",
            "    (0): LinBnDrop(\n",
            "      (0): Linear(in_features=10, out_features=200, bias=False)\n",
            "      (1): ReLU(inplace=True)\n",
            "      (2): BatchNorm1d(200, eps=1e-05, momentum=0.1, affine=True, track_running_stats=True)\n",
            "      (3): Dropout(p=0.1, inplace=False)\n",
            "    )\n",
            "    (1): LinBnDrop(\n",
            "      (0): Linear(in_features=200, out_features=100, bias=False)\n",
            "      (1): ReLU(inplace=True)\n",
            "      (2): BatchNorm1d(100, eps=1e-05, momentum=0.1, affine=True, track_running_stats=True)\n",
            "      (3): Dropout(p=0.1, inplace=False)\n",
            "    )\n",
            "    (2): LinBnDrop(\n",
            "      (0): Linear(in_features=100, out_features=2, bias=True)\n",
            "    )\n",
            "  )\n",
            ")\n",
            "Level 15:autogluon.tabular.models.fastainn.callbacks:Better model found at epoch 0 with accuracy value: 0.7053571343421936.\n",
            "Level 15:autogluon.tabular.models.fastainn.callbacks:Better model found at epoch 1 with accuracy value: 0.75.\n",
            "Level 15:autogluon.tabular.models.fastainn.callbacks:Better model found at epoch 3 with accuracy value: 0.7678571343421936.\n",
            "Level 15:autogluon.tabular.models.fastainn.callbacks:Better model found at epoch 5 with accuracy value: 0.7946428656578064.\n",
            "Level 15:autogluon.tabular.models.fastainn.callbacks:Better model found at epoch 6 with accuracy value: 0.8125.\n",
            "INFO:autogluon.tabular.models.fastainn.callbacks:No improvement since epoch 6: early stopping\n",
            "Level 15:autogluon.tabular.models.fastainn.tabular_nn_fastai:Model validation metrics: 0.8125\n",
            "Level 15:autogluon.core.models.abstract.abstract_model:\tFitting S2F3 with 'num_gpus': 0, 'num_cpus': 2\n",
            "Level 15:autogluon.tabular.models.fastainn.tabular_nn_fastai:Fitting Neural Network with parameters {'layers': None, 'emb_drop': 0.1, 'ps': 0.1, 'bs': 256, 'lr': 0.01, 'epochs': 30, 'early.stopping.min_delta': 0.0001, 'early.stopping.patience': 20, 'smoothing': 0.0}...\n",
            "Level 15:autogluon.tabular.models.fastainn.tabular_nn_fastai:Using 1/1 categorical features\n",
            "Level 15:autogluon.tabular.models.fastainn.tabular_nn_fastai:Using 6 cont features\n",
            "Level 15:autogluon.tabular.models.fastainn.tabular_nn_fastai:TabularModel(\n",
            "  (embeds): ModuleList(\n",
            "    (0): Embedding(5, 4)\n",
            "  )\n",
            "  (emb_drop): Dropout(p=0.1, inplace=False)\n",
            "  (bn_cont): BatchNorm1d(6, eps=1e-05, momentum=0.1, affine=True, track_running_stats=True)\n",
            "  (layers): Sequential(\n",
            "    (0): LinBnDrop(\n",
            "      (0): Linear(in_features=10, out_features=200, bias=False)\n",
            "      (1): ReLU(inplace=True)\n",
            "      (2): BatchNorm1d(200, eps=1e-05, momentum=0.1, affine=True, track_running_stats=True)\n",
            "      (3): Dropout(p=0.1, inplace=False)\n",
            "    )\n",
            "    (1): LinBnDrop(\n",
            "      (0): Linear(in_features=200, out_features=100, bias=False)\n",
            "      (1): ReLU(inplace=True)\n",
            "      (2): BatchNorm1d(100, eps=1e-05, momentum=0.1, affine=True, track_running_stats=True)\n",
            "      (3): Dropout(p=0.1, inplace=False)\n",
            "    )\n",
            "    (2): LinBnDrop(\n",
            "      (0): Linear(in_features=100, out_features=2, bias=True)\n",
            "    )\n",
            "  )\n",
            ")\n",
            "Level 15:autogluon.tabular.models.fastainn.callbacks:Better model found at epoch 0 with accuracy value: 0.7321428656578064.\n",
            "Level 15:autogluon.tabular.models.fastainn.callbacks:Better model found at epoch 1 with accuracy value: 0.7678571343421936.\n",
            "Level 15:autogluon.tabular.models.fastainn.callbacks:Better model found at epoch 2 with accuracy value: 0.8035714030265808.\n",
            "Level 15:autogluon.tabular.models.fastainn.callbacks:Better model found at epoch 4 with accuracy value: 0.8125.\n",
            "Level 15:autogluon.tabular.models.fastainn.callbacks:Better model found at epoch 5 with accuracy value: 0.8214285969734192.\n",
            "INFO:autogluon.tabular.models.fastainn.callbacks:No improvement since epoch 5: early stopping\n",
            "Level 15:autogluon.tabular.models.fastainn.tabular_nn_fastai:Model validation metrics: 0.8214285969734192\n",
            "Level 15:autogluon.core.models.abstract.abstract_model:\tFitting S2F4 with 'num_gpus': 0, 'num_cpus': 2\n",
            "Level 15:autogluon.tabular.models.fastainn.tabular_nn_fastai:Fitting Neural Network with parameters {'layers': None, 'emb_drop': 0.1, 'ps': 0.1, 'bs': 256, 'lr': 0.01, 'epochs': 30, 'early.stopping.min_delta': 0.0001, 'early.stopping.patience': 20, 'smoothing': 0.0}...\n",
            "Level 15:autogluon.tabular.models.fastainn.tabular_nn_fastai:Using 1/1 categorical features\n",
            "Level 15:autogluon.tabular.models.fastainn.tabular_nn_fastai:Using 6 cont features\n",
            "Level 15:autogluon.tabular.models.fastainn.tabular_nn_fastai:TabularModel(\n",
            "  (embeds): ModuleList(\n",
            "    (0): Embedding(5, 4)\n",
            "  )\n",
            "  (emb_drop): Dropout(p=0.1, inplace=False)\n",
            "  (bn_cont): BatchNorm1d(6, eps=1e-05, momentum=0.1, affine=True, track_running_stats=True)\n",
            "  (layers): Sequential(\n",
            "    (0): LinBnDrop(\n",
            "      (0): Linear(in_features=10, out_features=200, bias=False)\n",
            "      (1): ReLU(inplace=True)\n",
            "      (2): BatchNorm1d(200, eps=1e-05, momentum=0.1, affine=True, track_running_stats=True)\n",
            "      (3): Dropout(p=0.1, inplace=False)\n",
            "    )\n",
            "    (1): LinBnDrop(\n",
            "      (0): Linear(in_features=200, out_features=100, bias=False)\n",
            "      (1): ReLU(inplace=True)\n",
            "      (2): BatchNorm1d(100, eps=1e-05, momentum=0.1, affine=True, track_running_stats=True)\n",
            "      (3): Dropout(p=0.1, inplace=False)\n",
            "    )\n",
            "    (2): LinBnDrop(\n",
            "      (0): Linear(in_features=100, out_features=2, bias=True)\n",
            "    )\n",
            "  )\n",
            ")\n",
            "Level 15:autogluon.tabular.models.fastainn.callbacks:Better model found at epoch 0 with accuracy value: 0.4054054021835327.\n",
            "Level 15:autogluon.tabular.models.fastainn.callbacks:Better model found at epoch 1 with accuracy value: 0.7837837934494019.\n",
            "Level 15:autogluon.tabular.models.fastainn.callbacks:Better model found at epoch 2 with accuracy value: 0.837837815284729.\n",
            "Level 15:autogluon.tabular.models.fastainn.callbacks:Better model found at epoch 3 with accuracy value: 0.8468468189239502.\n",
            "INFO:autogluon.tabular.models.fastainn.callbacks:No improvement since epoch 3: early stopping\n",
            "Level 15:autogluon.tabular.models.fastainn.tabular_nn_fastai:Model validation metrics: 0.8468468189239502\n",
            "Level 15:autogluon.core.models.abstract.abstract_model:\tFitting S2F5 with 'num_gpus': 0, 'num_cpus': 2\n",
            "Level 15:autogluon.tabular.models.fastainn.tabular_nn_fastai:Fitting Neural Network with parameters {'layers': None, 'emb_drop': 0.1, 'ps': 0.1, 'bs': 256, 'lr': 0.01, 'epochs': 30, 'early.stopping.min_delta': 0.0001, 'early.stopping.patience': 20, 'smoothing': 0.0}...\n",
            "Level 15:autogluon.tabular.models.fastainn.tabular_nn_fastai:Using 1/1 categorical features\n",
            "Level 15:autogluon.tabular.models.fastainn.tabular_nn_fastai:Using 6 cont features\n",
            "Level 15:autogluon.tabular.models.fastainn.tabular_nn_fastai:TabularModel(\n",
            "  (embeds): ModuleList(\n",
            "    (0): Embedding(5, 4)\n",
            "  )\n",
            "  (emb_drop): Dropout(p=0.1, inplace=False)\n",
            "  (bn_cont): BatchNorm1d(6, eps=1e-05, momentum=0.1, affine=True, track_running_stats=True)\n",
            "  (layers): Sequential(\n",
            "    (0): LinBnDrop(\n",
            "      (0): Linear(in_features=10, out_features=200, bias=False)\n",
            "      (1): ReLU(inplace=True)\n",
            "      (2): BatchNorm1d(200, eps=1e-05, momentum=0.1, affine=True, track_running_stats=True)\n",
            "      (3): Dropout(p=0.1, inplace=False)\n",
            "    )\n",
            "    (1): LinBnDrop(\n",
            "      (0): Linear(in_features=200, out_features=100, bias=False)\n",
            "      (1): ReLU(inplace=True)\n",
            "      (2): BatchNorm1d(100, eps=1e-05, momentum=0.1, affine=True, track_running_stats=True)\n",
            "      (3): Dropout(p=0.1, inplace=False)\n",
            "    )\n",
            "    (2): LinBnDrop(\n",
            "      (0): Linear(in_features=100, out_features=2, bias=True)\n",
            "    )\n",
            "  )\n",
            ")\n",
            "Level 15:autogluon.tabular.models.fastainn.callbacks:Better model found at epoch 0 with accuracy value: 0.6576576828956604.\n",
            "Level 15:autogluon.tabular.models.fastainn.callbacks:Better model found at epoch 1 with accuracy value: 0.7567567825317383.\n",
            "Level 15:autogluon.tabular.models.fastainn.callbacks:Better model found at epoch 2 with accuracy value: 0.7747747898101807.\n",
            "Level 15:autogluon.tabular.models.fastainn.callbacks:Better model found at epoch 5 with accuracy value: 0.8108108043670654.\n",
            "Level 15:autogluon.tabular.models.fastainn.callbacks:Better model found at epoch 21 with accuracy value: 0.8288288116455078.\n",
            "Level 15:autogluon.tabular.models.fastainn.tabular_nn_fastai:Model validation metrics: 0.8288288116455078\n",
            "Level 15:autogluon.core.models.abstract.abstract_model:\tFitting S2F6 with 'num_gpus': 0, 'num_cpus': 2\n",
            "Level 15:autogluon.tabular.models.fastainn.tabular_nn_fastai:Fitting Neural Network with parameters {'layers': None, 'emb_drop': 0.1, 'ps': 0.1, 'bs': 256, 'lr': 0.01, 'epochs': 30, 'early.stopping.min_delta': 0.0001, 'early.stopping.patience': 20, 'smoothing': 0.0}...\n",
            "Level 15:autogluon.tabular.models.fastainn.tabular_nn_fastai:Using 1/1 categorical features\n",
            "Level 15:autogluon.tabular.models.fastainn.tabular_nn_fastai:Using 6 cont features\n",
            "Level 15:autogluon.tabular.models.fastainn.tabular_nn_fastai:TabularModel(\n",
            "  (embeds): ModuleList(\n",
            "    (0): Embedding(5, 4)\n",
            "  )\n",
            "  (emb_drop): Dropout(p=0.1, inplace=False)\n",
            "  (bn_cont): BatchNorm1d(6, eps=1e-05, momentum=0.1, affine=True, track_running_stats=True)\n",
            "  (layers): Sequential(\n",
            "    (0): LinBnDrop(\n",
            "      (0): Linear(in_features=10, out_features=200, bias=False)\n",
            "      (1): ReLU(inplace=True)\n",
            "      (2): BatchNorm1d(200, eps=1e-05, momentum=0.1, affine=True, track_running_stats=True)\n",
            "      (3): Dropout(p=0.1, inplace=False)\n",
            "    )\n",
            "    (1): LinBnDrop(\n",
            "      (0): Linear(in_features=200, out_features=100, bias=False)\n",
            "      (1): ReLU(inplace=True)\n",
            "      (2): BatchNorm1d(100, eps=1e-05, momentum=0.1, affine=True, track_running_stats=True)\n",
            "      (3): Dropout(p=0.1, inplace=False)\n",
            "    )\n",
            "    (2): LinBnDrop(\n",
            "      (0): Linear(in_features=100, out_features=2, bias=True)\n",
            "    )\n",
            "  )\n",
            ")\n",
            "Level 15:autogluon.tabular.models.fastainn.callbacks:Better model found at epoch 0 with accuracy value: 0.6936936974525452.\n",
            "Level 15:autogluon.tabular.models.fastainn.callbacks:Better model found at epoch 1 with accuracy value: 0.8018018007278442.\n",
            "Level 15:autogluon.tabular.models.fastainn.callbacks:Better model found at epoch 2 with accuracy value: 0.8288288116455078.\n",
            "Level 15:autogluon.tabular.models.fastainn.callbacks:Better model found at epoch 11 with accuracy value: 0.8468468189239502.\n",
            "Level 15:autogluon.tabular.models.fastainn.callbacks:Better model found at epoch 14 with accuracy value: 0.8558558821678162.\n",
            "Level 15:autogluon.tabular.models.fastainn.tabular_nn_fastai:Model validation metrics: 0.8558558821678162\n",
            "Level 15:autogluon.core.models.abstract.abstract_model:\tFitting S2F7 with 'num_gpus': 0, 'num_cpus': 2\n",
            "Level 15:autogluon.tabular.models.fastainn.tabular_nn_fastai:Fitting Neural Network with parameters {'layers': None, 'emb_drop': 0.1, 'ps': 0.1, 'bs': 256, 'lr': 0.01, 'epochs': 30, 'early.stopping.min_delta': 0.0001, 'early.stopping.patience': 20, 'smoothing': 0.0}...\n",
            "Level 15:autogluon.tabular.models.fastainn.tabular_nn_fastai:Using 1/1 categorical features\n",
            "Level 15:autogluon.tabular.models.fastainn.tabular_nn_fastai:Using 6 cont features\n",
            "Level 15:autogluon.tabular.models.fastainn.tabular_nn_fastai:TabularModel(\n",
            "  (embeds): ModuleList(\n",
            "    (0): Embedding(5, 4)\n",
            "  )\n",
            "  (emb_drop): Dropout(p=0.1, inplace=False)\n",
            "  (bn_cont): BatchNorm1d(6, eps=1e-05, momentum=0.1, affine=True, track_running_stats=True)\n",
            "  (layers): Sequential(\n",
            "    (0): LinBnDrop(\n",
            "      (0): Linear(in_features=10, out_features=200, bias=False)\n",
            "      (1): ReLU(inplace=True)\n",
            "      (2): BatchNorm1d(200, eps=1e-05, momentum=0.1, affine=True, track_running_stats=True)\n",
            "      (3): Dropout(p=0.1, inplace=False)\n",
            "    )\n",
            "    (1): LinBnDrop(\n",
            "      (0): Linear(in_features=200, out_features=100, bias=False)\n",
            "      (1): ReLU(inplace=True)\n",
            "      (2): BatchNorm1d(100, eps=1e-05, momentum=0.1, affine=True, track_running_stats=True)\n",
            "      (3): Dropout(p=0.1, inplace=False)\n",
            "    )\n",
            "    (2): LinBnDrop(\n",
            "      (0): Linear(in_features=100, out_features=2, bias=True)\n",
            "    )\n",
            "  )\n",
            ")\n",
            "Level 15:autogluon.tabular.models.fastainn.callbacks:Better model found at epoch 0 with accuracy value: 0.6396396160125732.\n",
            "Level 15:autogluon.tabular.models.fastainn.callbacks:Better model found at epoch 1 with accuracy value: 0.7747747898101807.\n",
            "Level 15:autogluon.tabular.models.fastainn.callbacks:Better model found at epoch 4 with accuracy value: 0.8018018007278442.\n",
            "Level 15:autogluon.tabular.models.fastainn.callbacks:Better model found at epoch 5 with accuracy value: 0.8288288116455078.\n",
            "INFO:autogluon.tabular.models.fastainn.callbacks:No improvement since epoch 5: early stopping\n",
            "Level 15:autogluon.tabular.models.fastainn.tabular_nn_fastai:Model validation metrics: 0.8288288116455078\n",
            "Level 15:autogluon.core.models.abstract.abstract_model:\tFitting S2F8 with 'num_gpus': 0, 'num_cpus': 2\n",
            "Level 15:autogluon.tabular.models.fastainn.tabular_nn_fastai:Fitting Neural Network with parameters {'layers': None, 'emb_drop': 0.1, 'ps': 0.1, 'bs': 256, 'lr': 0.01, 'epochs': 30, 'early.stopping.min_delta': 0.0001, 'early.stopping.patience': 20, 'smoothing': 0.0}...\n",
            "Level 15:autogluon.tabular.models.fastainn.tabular_nn_fastai:Using 1/1 categorical features\n",
            "Level 15:autogluon.tabular.models.fastainn.tabular_nn_fastai:Using 6 cont features\n",
            "Level 15:autogluon.tabular.models.fastainn.tabular_nn_fastai:TabularModel(\n",
            "  (embeds): ModuleList(\n",
            "    (0): Embedding(5, 4)\n",
            "  )\n",
            "  (emb_drop): Dropout(p=0.1, inplace=False)\n",
            "  (bn_cont): BatchNorm1d(6, eps=1e-05, momentum=0.1, affine=True, track_running_stats=True)\n",
            "  (layers): Sequential(\n",
            "    (0): LinBnDrop(\n",
            "      (0): Linear(in_features=10, out_features=200, bias=False)\n",
            "      (1): ReLU(inplace=True)\n",
            "      (2): BatchNorm1d(200, eps=1e-05, momentum=0.1, affine=True, track_running_stats=True)\n",
            "      (3): Dropout(p=0.1, inplace=False)\n",
            "    )\n",
            "    (1): LinBnDrop(\n",
            "      (0): Linear(in_features=200, out_features=100, bias=False)\n",
            "      (1): ReLU(inplace=True)\n",
            "      (2): BatchNorm1d(100, eps=1e-05, momentum=0.1, affine=True, track_running_stats=True)\n",
            "      (3): Dropout(p=0.1, inplace=False)\n",
            "    )\n",
            "    (2): LinBnDrop(\n",
            "      (0): Linear(in_features=100, out_features=2, bias=True)\n",
            "    )\n",
            "  )\n",
            ")\n",
            "Level 15:autogluon.tabular.models.fastainn.callbacks:Better model found at epoch 0 with accuracy value: 0.38738739490509033.\n",
            "Level 15:autogluon.tabular.models.fastainn.callbacks:Better model found at epoch 1 with accuracy value: 0.7747747898101807.\n",
            "Level 15:autogluon.tabular.models.fastainn.callbacks:Better model found at epoch 2 with accuracy value: 0.7837837934494019.\n",
            "Level 15:autogluon.tabular.models.fastainn.callbacks:Better model found at epoch 3 with accuracy value: 0.837837815284729.\n",
            "Level 15:autogluon.tabular.models.fastainn.callbacks:Better model found at epoch 5 with accuracy value: 0.8468468189239502.\n",
            "INFO:autogluon.tabular.models.fastainn.callbacks:No improvement since epoch 5: early stopping\n",
            "Level 15:autogluon.tabular.models.fastainn.tabular_nn_fastai:Model validation metrics: 0.8468468189239502\n",
            "Level 15:autogluon.core.utils.savers.save_pkl:Saving /content/drive/MyDrive/輪読/model/agModels_best/models/NeuralNetFastAI_BAG_L1/utils/oof.pkl\n",
            "Level 15:autogluon.core.utils.savers.save_pkl:Saving /content/drive/MyDrive/輪読/model/agModels_best/models/NeuralNetFastAI_BAG_L1/model.pkl\n",
            "INFO:autogluon.tabular.trainer.abstract_trainer:\t0.8485\t = Validation score   (accuracy)\n",
            "INFO:autogluon.tabular.trainer.abstract_trainer:\t41.21s\t = Training   runtime\n",
            "INFO:autogluon.tabular.trainer.abstract_trainer:\t0.51s\t = Validation runtime\n",
            "Level 15:autogluon.core.utils.savers.save_pkl:Saving /content/drive/MyDrive/輪読/model/agModels_best/models/trainer.pkl\n",
            "Level 15:autogluon.core.utils.loaders.load_pkl:Loading: /content/drive/MyDrive/輪読/model/agModels_best/models/XGBoost_BAG_L1/model.pkl\n",
            "INFO:autogluon.tabular.trainer.abstract_trainer:Fitting model: XGBoost_BAG_L1 ... Training model for up to 103.8s of the 203.45s of remaining time.\n",
            "Level 15:autogluon.core.utils.loaders.load_pkl:Loading: /content/drive/MyDrive/輪読/model/agModels_best/models/XGBoost_BAG_L1/utils/model_template.pkl\n",
            "Level 15:autogluon.core.utils.loaders.load_pkl:Loading: /content/drive/MyDrive/輪読/model/agModels_best/models/XGBoost_BAG_L1/utils/oof.pkl\n",
            "Level 15:autogluon.core.models.abstract.abstract_model:\tFitting S2F1 with 'num_gpus': 0, 'num_cpus': 2\n"
          ]
        },
        {
          "metadata": {
            "tags": null
          },
          "name": "stdout",
          "output_type": "stream",
          "text": [
            "[0]\tvalidation_0-error:0.16964\n",
            "[50]\tvalidation_0-error:0.11607\n",
            "[100]\tvalidation_0-error:0.11607\n",
            "[150]\tvalidation_0-error:0.12500\n",
            "[200]\tvalidation_0-error:0.12500\n",
            "[205]\tvalidation_0-error:0.12500\n"
          ]
        },
        {
          "metadata": {
            "tags": null
          },
          "name": "stderr",
          "output_type": "stream",
          "text": [
            "Level 15:autogluon.core.models.abstract.abstract_model:\tFitting S2F2 with 'num_gpus': 0, 'num_cpus': 2\n"
          ]
        },
        {
          "metadata": {
            "tags": null
          },
          "name": "stdout",
          "output_type": "stream",
          "text": [
            "[0]\tvalidation_0-error:0.23214\n",
            "[50]\tvalidation_0-error:0.20536\n",
            "[100]\tvalidation_0-error:0.22321\n",
            "[150]\tvalidation_0-error:0.20536\n",
            "[172]\tvalidation_0-error:0.21429\n"
          ]
        },
        {
          "metadata": {
            "tags": null
          },
          "name": "stderr",
          "output_type": "stream",
          "text": [
            "Level 15:autogluon.core.models.abstract.abstract_model:\tFitting S2F3 with 'num_gpus': 0, 'num_cpus': 2\n"
          ]
        },
        {
          "metadata": {
            "tags": null
          },
          "name": "stdout",
          "output_type": "stream",
          "text": [
            "[0]\tvalidation_0-error:0.22321\n",
            "[50]\tvalidation_0-error:0.21429\n",
            "[100]\tvalidation_0-error:0.22321\n",
            "[150]\tvalidation_0-error:0.20536\n",
            "[153]\tvalidation_0-error:0.21429\n"
          ]
        },
        {
          "metadata": {
            "tags": null
          },
          "name": "stderr",
          "output_type": "stream",
          "text": [
            "Level 15:autogluon.core.models.abstract.abstract_model:\tFitting S2F4 with 'num_gpus': 0, 'num_cpus': 2\n"
          ]
        },
        {
          "metadata": {
            "tags": null
          },
          "name": "stdout",
          "output_type": "stream",
          "text": [
            "[0]\tvalidation_0-error:0.18018\n",
            "[50]\tvalidation_0-error:0.15315\n",
            "[100]\tvalidation_0-error:0.15315\n",
            "[150]\tvalidation_0-error:0.16216\n",
            "[175]\tvalidation_0-error:0.17117\n"
          ]
        },
        {
          "metadata": {
            "tags": null
          },
          "name": "stderr",
          "output_type": "stream",
          "text": [
            "Level 15:autogluon.core.models.abstract.abstract_model:\tFitting S2F5 with 'num_gpus': 0, 'num_cpus': 2\n"
          ]
        },
        {
          "metadata": {
            "tags": null
          },
          "name": "stdout",
          "output_type": "stream",
          "text": [
            "[0]\tvalidation_0-error:0.21622\n",
            "[50]\tvalidation_0-error:0.20721\n",
            "[100]\tvalidation_0-error:0.21622\n",
            "[150]\tvalidation_0-error:0.20721\n",
            "[177]\tvalidation_0-error:0.19820\n"
          ]
        },
        {
          "metadata": {
            "tags": null
          },
          "name": "stderr",
          "output_type": "stream",
          "text": [
            "Level 15:autogluon.core.models.abstract.abstract_model:\tFitting S2F6 with 'num_gpus': 0, 'num_cpus': 2\n"
          ]
        },
        {
          "metadata": {
            "tags": null
          },
          "name": "stdout",
          "output_type": "stream",
          "text": [
            "[0]\tvalidation_0-error:0.15315\n",
            "[50]\tvalidation_0-error:0.16216\n",
            "[100]\tvalidation_0-error:0.16216\n",
            "[150]\tvalidation_0-error:0.18919\n",
            "[151]\tvalidation_0-error:0.18018\n"
          ]
        },
        {
          "metadata": {
            "tags": null
          },
          "name": "stderr",
          "output_type": "stream",
          "text": [
            "Level 15:autogluon.core.models.abstract.abstract_model:\tFitting S2F7 with 'num_gpus': 0, 'num_cpus': 2\n"
          ]
        },
        {
          "metadata": {
            "tags": null
          },
          "name": "stdout",
          "output_type": "stream",
          "text": [
            "[0]\tvalidation_0-error:0.18018\n",
            "[50]\tvalidation_0-error:0.16216\n",
            "[100]\tvalidation_0-error:0.16216\n",
            "[150]\tvalidation_0-error:0.18919\n",
            "[155]\tvalidation_0-error:0.18919\n"
          ]
        },
        {
          "metadata": {
            "tags": null
          },
          "name": "stderr",
          "output_type": "stream",
          "text": [
            "Level 15:autogluon.core.models.abstract.abstract_model:\tFitting S2F8 with 'num_gpus': 0, 'num_cpus': 2\n"
          ]
        },
        {
          "metadata": {
            "tags": null
          },
          "name": "stdout",
          "output_type": "stream",
          "text": [
            "[0]\tvalidation_0-error:0.22523\n",
            "[50]\tvalidation_0-error:0.20721\n",
            "[100]\tvalidation_0-error:0.18018\n",
            "[150]\tvalidation_0-error:0.18018\n",
            "[158]\tvalidation_0-error:0.18018\n"
          ]
        },
        {
          "metadata": {
            "tags": null
          },
          "name": "stderr",
          "output_type": "stream",
          "text": [
            "Level 15:autogluon.core.utils.savers.save_pkl:Saving /content/drive/MyDrive/輪読/model/agModels_best/models/XGBoost_BAG_L1/utils/oof.pkl\n",
            "Level 15:autogluon.core.utils.savers.save_pkl:Saving /content/drive/MyDrive/輪読/model/agModels_best/models/XGBoost_BAG_L1/model.pkl\n",
            "INFO:autogluon.tabular.trainer.abstract_trainer:\t0.8361\t = Validation score   (accuracy)\n",
            "INFO:autogluon.tabular.trainer.abstract_trainer:\t7.77s\t = Training   runtime\n",
            "INFO:autogluon.tabular.trainer.abstract_trainer:\t0.16s\t = Validation runtime\n",
            "Level 15:autogluon.core.utils.savers.save_pkl:Saving /content/drive/MyDrive/輪読/model/agModels_best/models/trainer.pkl\n",
            "Level 15:autogluon.core.utils.loaders.load_pkl:Loading: /content/drive/MyDrive/輪読/model/agModels_best/models/LightGBMLarge_BAG_L1/model.pkl\n",
            "INFO:autogluon.tabular.trainer.abstract_trainer:Fitting model: LightGBMLarge_BAG_L1 ... Training model for up to 100.42s of the 200.07s of remaining time.\n",
            "Level 15:autogluon.core.utils.loaders.load_pkl:Loading: /content/drive/MyDrive/輪読/model/agModels_best/models/LightGBMLarge_BAG_L1/utils/model_template.pkl\n",
            "Level 15:autogluon.core.utils.loaders.load_pkl:Loading: /content/drive/MyDrive/輪読/model/agModels_best/models/LightGBMLarge_BAG_L1/utils/oof.pkl\n",
            "Level 15:autogluon.core.models.abstract.abstract_model:\tFitting S2F1 with 'num_gpus': 0, 'num_cpus': 2\n",
            "Level 15:autogluon.tabular.models.lgb.lgb_model:Training Gradient Boosting Model for 10000 rounds...\n",
            "Level 15:autogluon.tabular.models.lgb.lgb_model:with the following hyperparameter settings:\n",
            "Level 15:autogluon.tabular.models.lgb.lgb_model:{'num_threads': -1, 'learning_rate': 0.03, 'objective': 'binary', 'verbose': -1, 'boosting_type': 'gbdt', 'two_round': True, 'num_leaves': 128, 'feature_fraction': 0.9, 'min_data_in_leaf': 5}\n",
            "/usr/local/lib/python3.7/dist-packages/lightgbm/engine.py:239: UserWarning: 'verbose_eval' argument is deprecated and will be removed in a future release of LightGBM. Pass 'log_evaluation()' callback via 'callbacks' argument instead.\n",
            "  _log_warning(\"'verbose_eval' argument is deprecated and will be removed in a future release of LightGBM. \"\n"
          ]
        },
        {
          "output_type": "stream",
          "name": "stdout",
          "text": [
            "[50]\ttrain_set's binary_error: 0.0783055\tvalid_set's binary_error: 0.116071\n",
            "[100]\ttrain_set's binary_error: 0.0359435\tvalid_set's binary_error: 0.0892857\n",
            "[150]\ttrain_set's binary_error: 0.0256739\tvalid_set's binary_error: 0.0803571\n",
            "[200]\ttrain_set's binary_error: 0.0231065\tvalid_set's binary_error: 0.0625\n",
            "[250]\ttrain_set's binary_error: 0.0231065\tvalid_set's binary_error: 0.0892857\n",
            "[300]\ttrain_set's binary_error: 0.0231065\tvalid_set's binary_error: 0.0803571\n"
          ]
        },
        {
          "output_type": "stream",
          "name": "stderr",
          "text": [
            "Level 15:autogluon.core.models.abstract.abstract_model:\tFitting S2F2 with 'num_gpus': 0, 'num_cpus': 2\n",
            "Level 15:autogluon.tabular.models.lgb.lgb_model:Training Gradient Boosting Model for 10000 rounds...\n",
            "Level 15:autogluon.tabular.models.lgb.lgb_model:with the following hyperparameter settings:\n",
            "Level 15:autogluon.tabular.models.lgb.lgb_model:{'num_threads': -1, 'learning_rate': 0.03, 'objective': 'binary', 'verbose': -1, 'boosting_type': 'gbdt', 'two_round': True, 'num_leaves': 128, 'feature_fraction': 0.9, 'min_data_in_leaf': 5}\n",
            "/usr/local/lib/python3.7/dist-packages/lightgbm/engine.py:239: UserWarning: 'verbose_eval' argument is deprecated and will be removed in a future release of LightGBM. Pass 'log_evaluation()' callback via 'callbacks' argument instead.\n",
            "  _log_warning(\"'verbose_eval' argument is deprecated and will be removed in a future release of LightGBM. \"\n"
          ]
        },
        {
          "output_type": "stream",
          "name": "stdout",
          "text": [
            "[50]\ttrain_set's binary_error: 0.0641849\tvalid_set's binary_error: 0.205357\n",
            "[100]\ttrain_set's binary_error: 0.0269576\tvalid_set's binary_error: 0.214286\n"
          ]
        },
        {
          "output_type": "stream",
          "name": "stderr",
          "text": [
            "Level 15:autogluon.core.models.abstract.abstract_model:\tFitting S2F3 with 'num_gpus': 0, 'num_cpus': 2\n",
            "Level 15:autogluon.tabular.models.lgb.lgb_model:Training Gradient Boosting Model for 10000 rounds...\n"
          ]
        },
        {
          "output_type": "stream",
          "name": "stdout",
          "text": [
            "[150]\ttrain_set's binary_error: 0.0179718\tvalid_set's binary_error: 0.214286\n"
          ]
        },
        {
          "output_type": "stream",
          "name": "stderr",
          "text": [
            "Level 15:autogluon.tabular.models.lgb.lgb_model:with the following hyperparameter settings:\n",
            "Level 15:autogluon.tabular.models.lgb.lgb_model:{'num_threads': -1, 'learning_rate': 0.03, 'objective': 'binary', 'verbose': -1, 'boosting_type': 'gbdt', 'two_round': True, 'num_leaves': 128, 'feature_fraction': 0.9, 'min_data_in_leaf': 5}\n",
            "/usr/local/lib/python3.7/dist-packages/lightgbm/engine.py:239: UserWarning: 'verbose_eval' argument is deprecated and will be removed in a future release of LightGBM. Pass 'log_evaluation()' callback via 'callbacks' argument instead.\n",
            "  _log_warning(\"'verbose_eval' argument is deprecated and will be removed in a future release of LightGBM. \"\n"
          ]
        },
        {
          "output_type": "stream",
          "name": "stdout",
          "text": [
            "[50]\ttrain_set's binary_error: 0.0706033\tvalid_set's binary_error: 0.214286\n",
            "[100]\ttrain_set's binary_error: 0.029525\tvalid_set's binary_error: 0.205357\n",
            "[150]\ttrain_set's binary_error: 0.0179718\tvalid_set's binary_error: 0.205357\n",
            "[200]\ttrain_set's binary_error: 0.0179718\tvalid_set's binary_error: 0.1875\n"
          ]
        },
        {
          "output_type": "stream",
          "name": "stderr",
          "text": [
            "Level 15:autogluon.core.models.abstract.abstract_model:\tFitting S2F4 with 'num_gpus': 0, 'num_cpus': 2\n",
            "Level 15:autogluon.tabular.models.lgb.lgb_model:Training Gradient Boosting Model for 10000 rounds...\n",
            "Level 15:autogluon.tabular.models.lgb.lgb_model:with the following hyperparameter settings:\n",
            "Level 15:autogluon.tabular.models.lgb.lgb_model:{'num_threads': -1, 'learning_rate': 0.03, 'objective': 'binary', 'verbose': -1, 'boosting_type': 'gbdt', 'two_round': True, 'num_leaves': 128, 'feature_fraction': 0.9, 'min_data_in_leaf': 5}\n",
            "/usr/local/lib/python3.7/dist-packages/lightgbm/engine.py:239: UserWarning: 'verbose_eval' argument is deprecated and will be removed in a future release of LightGBM. Pass 'log_evaluation()' callback via 'callbacks' argument instead.\n",
            "  _log_warning(\"'verbose_eval' argument is deprecated and will be removed in a future release of LightGBM. \"\n"
          ]
        },
        {
          "output_type": "stream",
          "name": "stdout",
          "text": [
            "[50]\ttrain_set's binary_error: 0.0794872\tvalid_set's binary_error: 0.162162\n",
            "[100]\ttrain_set's binary_error: 0.0397436\tvalid_set's binary_error: 0.198198\n"
          ]
        },
        {
          "output_type": "stream",
          "name": "stderr",
          "text": [
            "Level 15:autogluon.core.models.abstract.abstract_model:\tFitting S2F5 with 'num_gpus': 0, 'num_cpus': 2\n"
          ]
        },
        {
          "output_type": "stream",
          "name": "stdout",
          "text": [
            "[150]\ttrain_set's binary_error: 0.0217949\tvalid_set's binary_error: 0.207207\n"
          ]
        },
        {
          "output_type": "stream",
          "name": "stderr",
          "text": [
            "Level 15:autogluon.tabular.models.lgb.lgb_model:Training Gradient Boosting Model for 10000 rounds...\n",
            "Level 15:autogluon.tabular.models.lgb.lgb_model:with the following hyperparameter settings:\n",
            "Level 15:autogluon.tabular.models.lgb.lgb_model:{'num_threads': -1, 'learning_rate': 0.03, 'objective': 'binary', 'verbose': -1, 'boosting_type': 'gbdt', 'two_round': True, 'num_leaves': 128, 'feature_fraction': 0.9, 'min_data_in_leaf': 5}\n",
            "/usr/local/lib/python3.7/dist-packages/lightgbm/engine.py:239: UserWarning: 'verbose_eval' argument is deprecated and will be removed in a future release of LightGBM. Pass 'log_evaluation()' callback via 'callbacks' argument instead.\n",
            "  _log_warning(\"'verbose_eval' argument is deprecated and will be removed in a future release of LightGBM. \"\n"
          ]
        },
        {
          "output_type": "stream",
          "name": "stdout",
          "text": [
            "[50]\ttrain_set's binary_error: 0.0653846\tvalid_set's binary_error: 0.198198\n",
            "[100]\ttrain_set's binary_error: 0.0358974\tvalid_set's binary_error: 0.207207\n"
          ]
        },
        {
          "output_type": "stream",
          "name": "stderr",
          "text": [
            "Level 15:autogluon.core.models.abstract.abstract_model:\tFitting S2F6 with 'num_gpus': 0, 'num_cpus': 2\n"
          ]
        },
        {
          "output_type": "stream",
          "name": "stdout",
          "text": [
            "[150]\ttrain_set's binary_error: 0.0205128\tvalid_set's binary_error: 0.216216\n"
          ]
        },
        {
          "output_type": "stream",
          "name": "stderr",
          "text": [
            "Level 15:autogluon.tabular.models.lgb.lgb_model:Training Gradient Boosting Model for 10000 rounds...\n",
            "Level 15:autogluon.tabular.models.lgb.lgb_model:with the following hyperparameter settings:\n",
            "Level 15:autogluon.tabular.models.lgb.lgb_model:{'num_threads': -1, 'learning_rate': 0.03, 'objective': 'binary', 'verbose': -1, 'boosting_type': 'gbdt', 'two_round': True, 'num_leaves': 128, 'feature_fraction': 0.9, 'min_data_in_leaf': 5}\n",
            "/usr/local/lib/python3.7/dist-packages/lightgbm/engine.py:239: UserWarning: 'verbose_eval' argument is deprecated and will be removed in a future release of LightGBM. Pass 'log_evaluation()' callback via 'callbacks' argument instead.\n",
            "  _log_warning(\"'verbose_eval' argument is deprecated and will be removed in a future release of LightGBM. \"\n"
          ]
        },
        {
          "output_type": "stream",
          "name": "stdout",
          "text": [
            "[50]\ttrain_set's binary_error: 0.0679487\tvalid_set's binary_error: 0.144144\n",
            "[100]\ttrain_set's binary_error: 0.0346154\tvalid_set's binary_error: 0.189189\n"
          ]
        },
        {
          "output_type": "stream",
          "name": "stderr",
          "text": [
            "Level 15:autogluon.core.models.abstract.abstract_model:\tFitting S2F7 with 'num_gpus': 0, 'num_cpus': 2\n"
          ]
        },
        {
          "output_type": "stream",
          "name": "stdout",
          "text": [
            "[150]\ttrain_set's binary_error: 0.0192308\tvalid_set's binary_error: 0.207207\n"
          ]
        },
        {
          "output_type": "stream",
          "name": "stderr",
          "text": [
            "Level 15:autogluon.tabular.models.lgb.lgb_model:Training Gradient Boosting Model for 10000 rounds...\n",
            "Level 15:autogluon.tabular.models.lgb.lgb_model:with the following hyperparameter settings:\n",
            "Level 15:autogluon.tabular.models.lgb.lgb_model:{'num_threads': -1, 'learning_rate': 0.03, 'objective': 'binary', 'verbose': -1, 'boosting_type': 'gbdt', 'two_round': True, 'num_leaves': 128, 'feature_fraction': 0.9, 'min_data_in_leaf': 5}\n",
            "/usr/local/lib/python3.7/dist-packages/lightgbm/engine.py:239: UserWarning: 'verbose_eval' argument is deprecated and will be removed in a future release of LightGBM. Pass 'log_evaluation()' callback via 'callbacks' argument instead.\n",
            "  _log_warning(\"'verbose_eval' argument is deprecated and will be removed in a future release of LightGBM. \"\n"
          ]
        },
        {
          "output_type": "stream",
          "name": "stdout",
          "text": [
            "[50]\ttrain_set's binary_error: 0.0666667\tvalid_set's binary_error: 0.18018\n",
            "[100]\ttrain_set's binary_error: 0.025641\tvalid_set's binary_error: 0.225225\n"
          ]
        },
        {
          "output_type": "stream",
          "name": "stderr",
          "text": [
            "Level 15:autogluon.core.models.abstract.abstract_model:\tFitting S2F8 with 'num_gpus': 0, 'num_cpus': 2\n"
          ]
        },
        {
          "output_type": "stream",
          "name": "stdout",
          "text": [
            "[150]\ttrain_set's binary_error: 0.0141026\tvalid_set's binary_error: 0.216216\n"
          ]
        },
        {
          "output_type": "stream",
          "name": "stderr",
          "text": [
            "Level 15:autogluon.tabular.models.lgb.lgb_model:Training Gradient Boosting Model for 10000 rounds...\n",
            "Level 15:autogluon.tabular.models.lgb.lgb_model:with the following hyperparameter settings:\n",
            "Level 15:autogluon.tabular.models.lgb.lgb_model:{'num_threads': -1, 'learning_rate': 0.03, 'objective': 'binary', 'verbose': -1, 'boosting_type': 'gbdt', 'two_round': True, 'num_leaves': 128, 'feature_fraction': 0.9, 'min_data_in_leaf': 5}\n",
            "/usr/local/lib/python3.7/dist-packages/lightgbm/engine.py:239: UserWarning: 'verbose_eval' argument is deprecated and will be removed in a future release of LightGBM. Pass 'log_evaluation()' callback via 'callbacks' argument instead.\n",
            "  _log_warning(\"'verbose_eval' argument is deprecated and will be removed in a future release of LightGBM. \"\n"
          ]
        },
        {
          "output_type": "stream",
          "name": "stdout",
          "text": [
            "[50]\ttrain_set's binary_error: 0.0615385\tvalid_set's binary_error: 0.18018\n",
            "[100]\ttrain_set's binary_error: 0.0346154\tvalid_set's binary_error: 0.189189\n"
          ]
        },
        {
          "output_type": "stream",
          "name": "stderr",
          "text": [
            "Level 15:autogluon.core.utils.savers.save_pkl:Saving /content/drive/MyDrive/輪読/model/agModels_best/models/LightGBMLarge_BAG_L1/utils/oof.pkl\n",
            "Level 15:autogluon.core.utils.savers.save_pkl:Saving /content/drive/MyDrive/輪読/model/agModels_best/models/LightGBMLarge_BAG_L1/model.pkl\n",
            "INFO:autogluon.tabular.trainer.abstract_trainer:\t0.8429\t = Validation score   (accuracy)\n"
          ]
        },
        {
          "output_type": "stream",
          "name": "stdout",
          "text": [
            "[150]\ttrain_set's binary_error: 0.0230769\tvalid_set's binary_error: 0.18018\n"
          ]
        },
        {
          "output_type": "stream",
          "name": "stderr",
          "text": [
            "INFO:autogluon.tabular.trainer.abstract_trainer:\t12.25s\t = Training   runtime\n",
            "INFO:autogluon.tabular.trainer.abstract_trainer:\t0.14s\t = Validation runtime\n",
            "Level 15:autogluon.core.utils.savers.save_pkl:Saving /content/drive/MyDrive/輪読/model/agModels_best/models/trainer.pkl\n",
            "INFO:autogluon.tabular.trainer.abstract_trainer:Repeating k-fold bagging: 3/20\n",
            "Level 15:autogluon.core.utils.loaders.load_pkl:Loading: /content/drive/MyDrive/輪読/model/agModels_best/models/LightGBMXT_BAG_L1/model.pkl\n",
            "INFO:autogluon.tabular.trainer.abstract_trainer:Fitting model: LightGBMXT_BAG_L1 ... Training model for up to 93.74s of the 193.39s of remaining time.\n",
            "Level 15:autogluon.core.utils.loaders.load_pkl:Loading: /content/drive/MyDrive/輪読/model/agModels_best/models/LightGBMXT_BAG_L1/utils/model_template.pkl\n",
            "Level 15:autogluon.core.utils.loaders.load_pkl:Loading: /content/drive/MyDrive/輪読/model/agModels_best/models/LightGBMXT_BAG_L1/utils/oof.pkl\n",
            "Level 15:autogluon.core.models.abstract.abstract_model:\tFitting S3F1 with 'num_gpus': 0, 'num_cpus': 2\n",
            "Level 15:autogluon.tabular.models.lgb.lgb_model:Training Gradient Boosting Model for 10000 rounds...\n",
            "Level 15:autogluon.tabular.models.lgb.lgb_model:with the following hyperparameter settings:\n",
            "Level 15:autogluon.tabular.models.lgb.lgb_model:{'num_threads': -1, 'learning_rate': 0.05, 'objective': 'binary', 'verbose': -1, 'boosting_type': 'gbdt', 'two_round': True, 'extra_trees': True}\n",
            "/usr/local/lib/python3.7/dist-packages/lightgbm/engine.py:239: UserWarning: 'verbose_eval' argument is deprecated and will be removed in a future release of LightGBM. Pass 'log_evaluation()' callback via 'callbacks' argument instead.\n",
            "  _log_warning(\"'verbose_eval' argument is deprecated and will be removed in a future release of LightGBM. \"\n",
            "Level 15:autogluon.core.models.abstract.abstract_model:\tFitting S3F2 with 'num_gpus': 0, 'num_cpus': 2\n",
            "Level 15:autogluon.tabular.models.lgb.lgb_model:Training Gradient Boosting Model for 10000 rounds...\n"
          ]
        },
        {
          "output_type": "stream",
          "name": "stdout",
          "text": [
            "[50]\ttrain_set's binary_error: 0.182285\tvalid_set's binary_error: 0.205357\n",
            "[100]\ttrain_set's binary_error: 0.168164\tvalid_set's binary_error: 0.205357\n",
            "[150]\ttrain_set's binary_error: 0.15276\tvalid_set's binary_error: 0.205357\n"
          ]
        },
        {
          "output_type": "stream",
          "name": "stderr",
          "text": [
            "Level 15:autogluon.tabular.models.lgb.lgb_model:with the following hyperparameter settings:\n",
            "Level 15:autogluon.tabular.models.lgb.lgb_model:{'num_threads': -1, 'learning_rate': 0.05, 'objective': 'binary', 'verbose': -1, 'boosting_type': 'gbdt', 'two_round': True, 'extra_trees': True}\n",
            "/usr/local/lib/python3.7/dist-packages/lightgbm/engine.py:239: UserWarning: 'verbose_eval' argument is deprecated and will be removed in a future release of LightGBM. Pass 'log_evaluation()' callback via 'callbacks' argument instead.\n",
            "  _log_warning(\"'verbose_eval' argument is deprecated and will be removed in a future release of LightGBM. \"\n",
            "Level 15:autogluon.core.models.abstract.abstract_model:\tFitting S3F3 with 'num_gpus': 0, 'num_cpus': 2\n"
          ]
        },
        {
          "output_type": "stream",
          "name": "stdout",
          "text": [
            "[50]\ttrain_set's binary_error: 0.17715\tvalid_set's binary_error: 0.205357\n",
            "[100]\ttrain_set's binary_error: 0.16303\tvalid_set's binary_error: 0.205357\n",
            "[150]\ttrain_set's binary_error: 0.148909\tvalid_set's binary_error: 0.1875\n",
            "[200]\ttrain_set's binary_error: 0.146341\tvalid_set's binary_error: 0.205357\n",
            "[250]\ttrain_set's binary_error: 0.136072\tvalid_set's binary_error: 0.205357\n"
          ]
        },
        {
          "output_type": "stream",
          "name": "stderr",
          "text": [
            "Level 15:autogluon.tabular.models.lgb.lgb_model:Training Gradient Boosting Model for 10000 rounds...\n",
            "Level 15:autogluon.tabular.models.lgb.lgb_model:with the following hyperparameter settings:\n",
            "Level 15:autogluon.tabular.models.lgb.lgb_model:{'num_threads': -1, 'learning_rate': 0.05, 'objective': 'binary', 'verbose': -1, 'boosting_type': 'gbdt', 'two_round': True, 'extra_trees': True}\n",
            "/usr/local/lib/python3.7/dist-packages/lightgbm/engine.py:239: UserWarning: 'verbose_eval' argument is deprecated and will be removed in a future release of LightGBM. Pass 'log_evaluation()' callback via 'callbacks' argument instead.\n",
            "  _log_warning(\"'verbose_eval' argument is deprecated and will be removed in a future release of LightGBM. \"\n",
            "Level 15:autogluon.core.models.abstract.abstract_model:\tFitting S3F4 with 'num_gpus': 0, 'num_cpus': 2\n",
            "Level 15:autogluon.tabular.models.lgb.lgb_model:Training Gradient Boosting Model for 10000 rounds...\n"
          ]
        },
        {
          "output_type": "stream",
          "name": "stdout",
          "text": [
            "[50]\ttrain_set's binary_error: 0.184852\tvalid_set's binary_error: 0.205357\n",
            "[100]\ttrain_set's binary_error: 0.164313\tvalid_set's binary_error: 0.214286\n",
            "[150]\ttrain_set's binary_error: 0.151476\tvalid_set's binary_error: 0.214286\n"
          ]
        },
        {
          "output_type": "stream",
          "name": "stderr",
          "text": [
            "Level 15:autogluon.tabular.models.lgb.lgb_model:with the following hyperparameter settings:\n",
            "Level 15:autogluon.tabular.models.lgb.lgb_model:{'num_threads': -1, 'learning_rate': 0.05, 'objective': 'binary', 'verbose': -1, 'boosting_type': 'gbdt', 'two_round': True, 'extra_trees': True}\n",
            "/usr/local/lib/python3.7/dist-packages/lightgbm/engine.py:239: UserWarning: 'verbose_eval' argument is deprecated and will be removed in a future release of LightGBM. Pass 'log_evaluation()' callback via 'callbacks' argument instead.\n",
            "  _log_warning(\"'verbose_eval' argument is deprecated and will be removed in a future release of LightGBM. \"\n",
            "Level 15:autogluon.core.models.abstract.abstract_model:\tFitting S3F5 with 'num_gpus': 0, 'num_cpus': 2\n"
          ]
        },
        {
          "output_type": "stream",
          "name": "stdout",
          "text": [
            "[50]\ttrain_set's binary_error: 0.187179\tvalid_set's binary_error: 0.162162\n",
            "[100]\ttrain_set's binary_error: 0.162821\tvalid_set's binary_error: 0.162162\n",
            "[150]\ttrain_set's binary_error: 0.158974\tvalid_set's binary_error: 0.153153\n",
            "[200]\ttrain_set's binary_error: 0.142308\tvalid_set's binary_error: 0.162162\n"
          ]
        },
        {
          "output_type": "stream",
          "name": "stderr",
          "text": [
            "Level 15:autogluon.tabular.models.lgb.lgb_model:Training Gradient Boosting Model for 10000 rounds...\n",
            "Level 15:autogluon.tabular.models.lgb.lgb_model:with the following hyperparameter settings:\n",
            "Level 15:autogluon.tabular.models.lgb.lgb_model:{'num_threads': -1, 'learning_rate': 0.05, 'objective': 'binary', 'verbose': -1, 'boosting_type': 'gbdt', 'two_round': True, 'extra_trees': True}\n",
            "/usr/local/lib/python3.7/dist-packages/lightgbm/engine.py:239: UserWarning: 'verbose_eval' argument is deprecated and will be removed in a future release of LightGBM. Pass 'log_evaluation()' callback via 'callbacks' argument instead.\n",
            "  _log_warning(\"'verbose_eval' argument is deprecated and will be removed in a future release of LightGBM. \"\n",
            "Level 15:autogluon.core.models.abstract.abstract_model:\tFitting S3F6 with 'num_gpus': 0, 'num_cpus': 2\n",
            "Level 15:autogluon.tabular.models.lgb.lgb_model:Training Gradient Boosting Model for 10000 rounds...\n"
          ]
        },
        {
          "output_type": "stream",
          "name": "stdout",
          "text": [
            "[50]\ttrain_set's binary_error: 0.184615\tvalid_set's binary_error: 0.18018\n",
            "[100]\ttrain_set's binary_error: 0.164103\tvalid_set's binary_error: 0.171171\n",
            "[150]\ttrain_set's binary_error: 0.153846\tvalid_set's binary_error: 0.18018\n",
            "[200]\ttrain_set's binary_error: 0.146154\tvalid_set's binary_error: 0.198198\n"
          ]
        },
        {
          "output_type": "stream",
          "name": "stderr",
          "text": [
            "Level 15:autogluon.tabular.models.lgb.lgb_model:with the following hyperparameter settings:\n",
            "Level 15:autogluon.tabular.models.lgb.lgb_model:{'num_threads': -1, 'learning_rate': 0.05, 'objective': 'binary', 'verbose': -1, 'boosting_type': 'gbdt', 'two_round': True, 'extra_trees': True}\n",
            "/usr/local/lib/python3.7/dist-packages/lightgbm/engine.py:239: UserWarning: 'verbose_eval' argument is deprecated and will be removed in a future release of LightGBM. Pass 'log_evaluation()' callback via 'callbacks' argument instead.\n",
            "  _log_warning(\"'verbose_eval' argument is deprecated and will be removed in a future release of LightGBM. \"\n",
            "Level 15:autogluon.core.models.abstract.abstract_model:\tFitting S3F7 with 'num_gpus': 0, 'num_cpus': 2\n"
          ]
        },
        {
          "output_type": "stream",
          "name": "stdout",
          "text": [
            "[50]\ttrain_set's binary_error: 0.178205\tvalid_set's binary_error: 0.216216\n",
            "[100]\ttrain_set's binary_error: 0.158974\tvalid_set's binary_error: 0.207207\n",
            "[150]\ttrain_set's binary_error: 0.147436\tvalid_set's binary_error: 0.216216\n",
            "[200]\ttrain_set's binary_error: 0.14359\tvalid_set's binary_error: 0.216216\n"
          ]
        },
        {
          "output_type": "stream",
          "name": "stderr",
          "text": [
            "Level 15:autogluon.tabular.models.lgb.lgb_model:Training Gradient Boosting Model for 10000 rounds...\n",
            "Level 15:autogluon.tabular.models.lgb.lgb_model:with the following hyperparameter settings:\n",
            "Level 15:autogluon.tabular.models.lgb.lgb_model:{'num_threads': -1, 'learning_rate': 0.05, 'objective': 'binary', 'verbose': -1, 'boosting_type': 'gbdt', 'two_round': True, 'extra_trees': True}\n",
            "/usr/local/lib/python3.7/dist-packages/lightgbm/engine.py:239: UserWarning: 'verbose_eval' argument is deprecated and will be removed in a future release of LightGBM. Pass 'log_evaluation()' callback via 'callbacks' argument instead.\n",
            "  _log_warning(\"'verbose_eval' argument is deprecated and will be removed in a future release of LightGBM. \"\n",
            "Level 15:autogluon.core.models.abstract.abstract_model:\tFitting S3F8 with 'num_gpus': 0, 'num_cpus': 2\n"
          ]
        },
        {
          "output_type": "stream",
          "name": "stdout",
          "text": [
            "[50]\ttrain_set's binary_error: 0.182051\tvalid_set's binary_error: 0.171171\n",
            "[100]\ttrain_set's binary_error: 0.158974\tvalid_set's binary_error: 0.153153\n",
            "[150]\ttrain_set's binary_error: 0.15641\tvalid_set's binary_error: 0.162162\n",
            "[200]\ttrain_set's binary_error: 0.151282\tvalid_set's binary_error: 0.153153\n"
          ]
        },
        {
          "output_type": "stream",
          "name": "stderr",
          "text": [
            "Level 15:autogluon.tabular.models.lgb.lgb_model:Training Gradient Boosting Model for 10000 rounds...\n",
            "Level 15:autogluon.tabular.models.lgb.lgb_model:with the following hyperparameter settings:\n",
            "Level 15:autogluon.tabular.models.lgb.lgb_model:{'num_threads': -1, 'learning_rate': 0.05, 'objective': 'binary', 'verbose': -1, 'boosting_type': 'gbdt', 'two_round': True, 'extra_trees': True}\n",
            "/usr/local/lib/python3.7/dist-packages/lightgbm/engine.py:239: UserWarning: 'verbose_eval' argument is deprecated and will be removed in a future release of LightGBM. Pass 'log_evaluation()' callback via 'callbacks' argument instead.\n",
            "  _log_warning(\"'verbose_eval' argument is deprecated and will be removed in a future release of LightGBM. \"\n"
          ]
        },
        {
          "output_type": "stream",
          "name": "stdout",
          "text": [
            "[50]\ttrain_set's binary_error: 0.176923\tvalid_set's binary_error: 0.216216\n",
            "[100]\ttrain_set's binary_error: 0.164103\tvalid_set's binary_error: 0.216216\n",
            "[150]\ttrain_set's binary_error: 0.147436\tvalid_set's binary_error: 0.189189\n",
            "[200]\ttrain_set's binary_error: 0.134615\tvalid_set's binary_error: 0.198198\n",
            "[250]\ttrain_set's binary_error: 0.130769\tvalid_set's binary_error: 0.207207\n"
          ]
        },
        {
          "output_type": "stream",
          "name": "stderr",
          "text": [
            "Level 15:autogluon.core.utils.savers.save_pkl:Saving /content/drive/MyDrive/輪読/model/agModels_best/models/LightGBMXT_BAG_L1/utils/oof.pkl\n",
            "Level 15:autogluon.core.utils.savers.save_pkl:Saving /content/drive/MyDrive/輪読/model/agModels_best/models/LightGBMXT_BAG_L1/model.pkl\n",
            "INFO:autogluon.tabular.trainer.abstract_trainer:\t0.8159\t = Validation score   (accuracy)\n",
            "INFO:autogluon.tabular.trainer.abstract_trainer:\t16.51s\t = Training   runtime\n",
            "INFO:autogluon.tabular.trainer.abstract_trainer:\t0.2s\t = Validation runtime\n",
            "Level 15:autogluon.core.utils.savers.save_pkl:Saving /content/drive/MyDrive/輪読/model/agModels_best/models/trainer.pkl\n",
            "Level 15:autogluon.core.utils.loaders.load_pkl:Loading: /content/drive/MyDrive/輪読/model/agModels_best/models/LightGBM_BAG_L1/model.pkl\n",
            "INFO:autogluon.tabular.trainer.abstract_trainer:Fitting model: LightGBM_BAG_L1 ... Training model for up to 89.81s of the 189.45s of remaining time.\n",
            "Level 15:autogluon.core.utils.loaders.load_pkl:Loading: /content/drive/MyDrive/輪読/model/agModels_best/models/LightGBM_BAG_L1/utils/model_template.pkl\n",
            "Level 15:autogluon.core.utils.loaders.load_pkl:Loading: /content/drive/MyDrive/輪読/model/agModels_best/models/LightGBM_BAG_L1/utils/oof.pkl\n",
            "Level 15:autogluon.core.models.abstract.abstract_model:\tFitting S3F1 with 'num_gpus': 0, 'num_cpus': 2\n",
            "Level 15:autogluon.tabular.models.lgb.lgb_model:Training Gradient Boosting Model for 10000 rounds...\n",
            "Level 15:autogluon.tabular.models.lgb.lgb_model:with the following hyperparameter settings:\n",
            "Level 15:autogluon.tabular.models.lgb.lgb_model:{'num_threads': -1, 'learning_rate': 0.05, 'objective': 'binary', 'verbose': -1, 'boosting_type': 'gbdt', 'two_round': True}\n",
            "/usr/local/lib/python3.7/dist-packages/lightgbm/engine.py:239: UserWarning: 'verbose_eval' argument is deprecated and will be removed in a future release of LightGBM. Pass 'log_evaluation()' callback via 'callbacks' argument instead.\n",
            "  _log_warning(\"'verbose_eval' argument is deprecated and will be removed in a future release of LightGBM. \"\n",
            "Level 15:autogluon.core.models.abstract.abstract_model:\tFitting S3F2 with 'num_gpus': 0, 'num_cpus': 2\n"
          ]
        },
        {
          "output_type": "stream",
          "name": "stdout",
          "text": [
            "[50]\ttrain_set's binary_error: 0.111682\tvalid_set's binary_error: 0.223214\n",
            "[100]\ttrain_set's binary_error: 0.0834403\tvalid_set's binary_error: 0.223214\n",
            "[150]\ttrain_set's binary_error: 0.0641849\tvalid_set's binary_error: 0.205357\n"
          ]
        },
        {
          "output_type": "stream",
          "name": "stderr",
          "text": [
            "Level 15:autogluon.tabular.models.lgb.lgb_model:Training Gradient Boosting Model for 10000 rounds...\n",
            "Level 15:autogluon.tabular.models.lgb.lgb_model:with the following hyperparameter settings:\n",
            "Level 15:autogluon.tabular.models.lgb.lgb_model:{'num_threads': -1, 'learning_rate': 0.05, 'objective': 'binary', 'verbose': -1, 'boosting_type': 'gbdt', 'two_round': True}\n",
            "/usr/local/lib/python3.7/dist-packages/lightgbm/engine.py:239: UserWarning: 'verbose_eval' argument is deprecated and will be removed in a future release of LightGBM. Pass 'log_evaluation()' callback via 'callbacks' argument instead.\n",
            "  _log_warning(\"'verbose_eval' argument is deprecated and will be removed in a future release of LightGBM. \"\n"
          ]
        },
        {
          "output_type": "stream",
          "name": "stdout",
          "text": [
            "[50]\ttrain_set's binary_error: 0.124519\tvalid_set's binary_error: 0.196429\n",
            "[100]\ttrain_set's binary_error: 0.0834403\tvalid_set's binary_error: 0.151786\n",
            "[150]\ttrain_set's binary_error: 0.055199\tvalid_set's binary_error: 0.160714\n",
            "[200]\ttrain_set's binary_error: 0.0372272\tvalid_set's binary_error: 0.1875\n"
          ]
        },
        {
          "output_type": "stream",
          "name": "stderr",
          "text": [
            "Level 15:autogluon.core.models.abstract.abstract_model:\tFitting S3F3 with 'num_gpus': 0, 'num_cpus': 2\n"
          ]
        },
        {
          "output_type": "stream",
          "name": "stdout",
          "text": [
            "[250]\ttrain_set's binary_error: 0.0269576\tvalid_set's binary_error: 0.169643\n"
          ]
        },
        {
          "output_type": "stream",
          "name": "stderr",
          "text": [
            "Level 15:autogluon.tabular.models.lgb.lgb_model:Training Gradient Boosting Model for 10000 rounds...\n",
            "Level 15:autogluon.tabular.models.lgb.lgb_model:with the following hyperparameter settings:\n",
            "Level 15:autogluon.tabular.models.lgb.lgb_model:{'num_threads': -1, 'learning_rate': 0.05, 'objective': 'binary', 'verbose': -1, 'boosting_type': 'gbdt', 'two_round': True}\n",
            "/usr/local/lib/python3.7/dist-packages/lightgbm/engine.py:239: UserWarning: 'verbose_eval' argument is deprecated and will be removed in a future release of LightGBM. Pass 'log_evaluation()' callback via 'callbacks' argument instead.\n",
            "  _log_warning(\"'verbose_eval' argument is deprecated and will be removed in a future release of LightGBM. \"\n",
            "Level 15:autogluon.core.models.abstract.abstract_model:\tFitting S3F4 with 'num_gpus': 0, 'num_cpus': 2\n"
          ]
        },
        {
          "output_type": "stream",
          "name": "stdout",
          "text": [
            "[50]\ttrain_set's binary_error: 0.124519\tvalid_set's binary_error: 0.178571\n",
            "[100]\ttrain_set's binary_error: 0.0783055\tvalid_set's binary_error: 0.1875\n",
            "[150]\ttrain_set's binary_error: 0.0616175\tvalid_set's binary_error: 0.205357\n"
          ]
        },
        {
          "output_type": "stream",
          "name": "stderr",
          "text": [
            "Level 15:autogluon.tabular.models.lgb.lgb_model:Training Gradient Boosting Model for 10000 rounds...\n",
            "Level 15:autogluon.tabular.models.lgb.lgb_model:with the following hyperparameter settings:\n",
            "Level 15:autogluon.tabular.models.lgb.lgb_model:{'num_threads': -1, 'learning_rate': 0.05, 'objective': 'binary', 'verbose': -1, 'boosting_type': 'gbdt', 'two_round': True}\n",
            "/usr/local/lib/python3.7/dist-packages/lightgbm/engine.py:239: UserWarning: 'verbose_eval' argument is deprecated and will be removed in a future release of LightGBM. Pass 'log_evaluation()' callback via 'callbacks' argument instead.\n",
            "  _log_warning(\"'verbose_eval' argument is deprecated and will be removed in a future release of LightGBM. \"\n"
          ]
        },
        {
          "output_type": "stream",
          "name": "stdout",
          "text": [
            "[50]\ttrain_set's binary_error: 0.123077\tvalid_set's binary_error: 0.126126\n",
            "[100]\ttrain_set's binary_error: 0.0884615\tvalid_set's binary_error: 0.135135\n",
            "[150]\ttrain_set's binary_error: 0.0679487\tvalid_set's binary_error: 0.153153\n",
            "[200]\ttrain_set's binary_error: 0.0487179\tvalid_set's binary_error: 0.162162\n"
          ]
        },
        {
          "output_type": "stream",
          "name": "stderr",
          "text": [
            "Level 15:autogluon.core.models.abstract.abstract_model:\tFitting S3F5 with 'num_gpus': 0, 'num_cpus': 2\n",
            "Level 15:autogluon.tabular.models.lgb.lgb_model:Training Gradient Boosting Model for 10000 rounds...\n",
            "Level 15:autogluon.tabular.models.lgb.lgb_model:with the following hyperparameter settings:\n",
            "Level 15:autogluon.tabular.models.lgb.lgb_model:{'num_threads': -1, 'learning_rate': 0.05, 'objective': 'binary', 'verbose': -1, 'boosting_type': 'gbdt', 'two_round': True}\n",
            "/usr/local/lib/python3.7/dist-packages/lightgbm/engine.py:239: UserWarning: 'verbose_eval' argument is deprecated and will be removed in a future release of LightGBM. Pass 'log_evaluation()' callback via 'callbacks' argument instead.\n",
            "  _log_warning(\"'verbose_eval' argument is deprecated and will be removed in a future release of LightGBM. \"\n"
          ]
        },
        {
          "output_type": "stream",
          "name": "stdout",
          "text": [
            "[50]\ttrain_set's binary_error: 0.126923\tvalid_set's binary_error: 0.207207\n",
            "[100]\ttrain_set's binary_error: 0.0935897\tvalid_set's binary_error: 0.144144\n",
            "[150]\ttrain_set's binary_error: 0.0692308\tvalid_set's binary_error: 0.153153\n",
            "[200]\ttrain_set's binary_error: 0.0538462\tvalid_set's binary_error: 0.144144\n",
            "[250]\ttrain_set's binary_error: 0.0423077\tvalid_set's binary_error: 0.135135\n",
            "[300]\ttrain_set's binary_error: 0.0346154\tvalid_set's binary_error: 0.144144\n"
          ]
        },
        {
          "output_type": "stream",
          "name": "stderr",
          "text": [
            "Level 15:autogluon.core.models.abstract.abstract_model:\tFitting S3F6 with 'num_gpus': 0, 'num_cpus': 2\n",
            "Level 15:autogluon.tabular.models.lgb.lgb_model:Training Gradient Boosting Model for 10000 rounds...\n",
            "Level 15:autogluon.tabular.models.lgb.lgb_model:with the following hyperparameter settings:\n",
            "Level 15:autogluon.tabular.models.lgb.lgb_model:{'num_threads': -1, 'learning_rate': 0.05, 'objective': 'binary', 'verbose': -1, 'boosting_type': 'gbdt', 'two_round': True}\n",
            "/usr/local/lib/python3.7/dist-packages/lightgbm/engine.py:239: UserWarning: 'verbose_eval' argument is deprecated and will be removed in a future release of LightGBM. Pass 'log_evaluation()' callback via 'callbacks' argument instead.\n",
            "  _log_warning(\"'verbose_eval' argument is deprecated and will be removed in a future release of LightGBM. \"\n",
            "Level 15:autogluon.core.models.abstract.abstract_model:\tFitting S3F7 with 'num_gpus': 0, 'num_cpus': 2\n"
          ]
        },
        {
          "output_type": "stream",
          "name": "stdout",
          "text": [
            "[50]\ttrain_set's binary_error: 0.124359\tvalid_set's binary_error: 0.189189\n",
            "[100]\ttrain_set's binary_error: 0.0871795\tvalid_set's binary_error: 0.18018\n",
            "[150]\ttrain_set's binary_error: 0.0653846\tvalid_set's binary_error: 0.18018\n"
          ]
        },
        {
          "output_type": "stream",
          "name": "stderr",
          "text": [
            "Level 15:autogluon.tabular.models.lgb.lgb_model:Training Gradient Boosting Model for 10000 rounds...\n",
            "Level 15:autogluon.tabular.models.lgb.lgb_model:with the following hyperparameter settings:\n",
            "Level 15:autogluon.tabular.models.lgb.lgb_model:{'num_threads': -1, 'learning_rate': 0.05, 'objective': 'binary', 'verbose': -1, 'boosting_type': 'gbdt', 'two_round': True}\n",
            "/usr/local/lib/python3.7/dist-packages/lightgbm/engine.py:239: UserWarning: 'verbose_eval' argument is deprecated and will be removed in a future release of LightGBM. Pass 'log_evaluation()' callback via 'callbacks' argument instead.\n",
            "  _log_warning(\"'verbose_eval' argument is deprecated and will be removed in a future release of LightGBM. \"\n",
            "Level 15:autogluon.core.models.abstract.abstract_model:\tFitting S3F8 with 'num_gpus': 0, 'num_cpus': 2\n",
            "Level 15:autogluon.tabular.models.lgb.lgb_model:Training Gradient Boosting Model for 10000 rounds...\n"
          ]
        },
        {
          "output_type": "stream",
          "name": "stdout",
          "text": [
            "[50]\ttrain_set's binary_error: 0.130769\tvalid_set's binary_error: 0.135135\n",
            "[100]\ttrain_set's binary_error: 0.0897436\tvalid_set's binary_error: 0.126126\n",
            "[150]\ttrain_set's binary_error: 0.0730769\tvalid_set's binary_error: 0.126126\n",
            "[200]\ttrain_set's binary_error: 0.0474359\tvalid_set's binary_error: 0.135135\n"
          ]
        },
        {
          "output_type": "stream",
          "name": "stderr",
          "text": [
            "Level 15:autogluon.tabular.models.lgb.lgb_model:with the following hyperparameter settings:\n",
            "Level 15:autogluon.tabular.models.lgb.lgb_model:{'num_threads': -1, 'learning_rate': 0.05, 'objective': 'binary', 'verbose': -1, 'boosting_type': 'gbdt', 'two_round': True}\n",
            "/usr/local/lib/python3.7/dist-packages/lightgbm/engine.py:239: UserWarning: 'verbose_eval' argument is deprecated and will be removed in a future release of LightGBM. Pass 'log_evaluation()' callback via 'callbacks' argument instead.\n",
            "  _log_warning(\"'verbose_eval' argument is deprecated and will be removed in a future release of LightGBM. \"\n",
            "Level 15:autogluon.core.utils.savers.save_pkl:Saving /content/drive/MyDrive/輪読/model/agModels_best/models/LightGBM_BAG_L1/utils/oof.pkl\n",
            "Level 15:autogluon.core.utils.savers.save_pkl:Saving /content/drive/MyDrive/輪読/model/agModels_best/models/LightGBM_BAG_L1/model.pkl\n",
            "INFO:autogluon.tabular.trainer.abstract_trainer:\t0.8361\t = Validation score   (accuracy)\n",
            "INFO:autogluon.tabular.trainer.abstract_trainer:\t11.58s\t = Training   runtime\n",
            "INFO:autogluon.tabular.trainer.abstract_trainer:\t0.22s\t = Validation runtime\n",
            "Level 15:autogluon.core.utils.savers.save_pkl:Saving /content/drive/MyDrive/輪読/model/agModels_best/models/trainer.pkl\n"
          ]
        },
        {
          "output_type": "stream",
          "name": "stdout",
          "text": [
            "[50]\ttrain_set's binary_error: 0.116667\tvalid_set's binary_error: 0.198198\n",
            "[100]\ttrain_set's binary_error: 0.0871795\tvalid_set's binary_error: 0.198198\n",
            "[150]\ttrain_set's binary_error: 0.0705128\tvalid_set's binary_error: 0.207207\n"
          ]
        },
        {
          "output_type": "stream",
          "name": "stderr",
          "text": [
            "Level 15:autogluon.core.utils.loaders.load_pkl:Loading: /content/drive/MyDrive/輪読/model/agModels_best/models/CatBoost_BAG_L1/model.pkl\n",
            "INFO:autogluon.tabular.trainer.abstract_trainer:Fitting model: CatBoost_BAG_L1 ... Training model for up to 85.37s of the 185.02s of remaining time.\n",
            "Level 15:autogluon.core.utils.loaders.load_pkl:Loading: /content/drive/MyDrive/輪読/model/agModels_best/models/CatBoost_BAG_L1/utils/model_template.pkl\n",
            "Level 15:autogluon.core.utils.loaders.load_pkl:Loading: /content/drive/MyDrive/輪読/model/agModels_best/models/CatBoost_BAG_L1/utils/oof.pkl\n",
            "Level 15:autogluon.core.models.abstract.abstract_model:\tFitting S3F1 with 'num_gpus': 0, 'num_cpus': 2\n",
            "Level 15:autogluon.tabular.models.catboost.catboost_model:\tCatboost model hyperparameters: {'iterations': 10000, 'learning_rate': 0.05, 'random_seed': 0, 'allow_writing_files': False, 'eval_metric': 'Accuracy'}\n"
          ]
        },
        {
          "output_type": "stream",
          "name": "stdout",
          "text": [
            "0:\tlearn: 0.8279846\ttest: 0.7410714\tbest: 0.7410714 (0)\ttotal: 1.93ms\tremaining: 94.6ms\n",
            "20:\tlearn: 0.8202824\ttest: 0.7857143\tbest: 0.7857143 (1)\ttotal: 33.1ms\tremaining: 45.7ms\n",
            "40:\tlearn: 0.8279846\ttest: 0.7857143\tbest: 0.7857143 (1)\ttotal: 66.4ms\tremaining: 14.6ms\n",
            "49:\tlearn: 0.8369705\ttest: 0.7946429\tbest: 0.7946429 (46)\ttotal: 82.1ms\tremaining: 0us\n",
            "\n",
            "bestTest = 0.7946428571\n",
            "bestIteration = 46\n",
            "\n",
            "Shrink model to first 47 iterations.\n",
            "0:\tlearn: 0.8356868\ttest: 0.7946429\tbest: 0.7946429 (0)\ttotal: 3.26ms\tremaining: 13.5s\n",
            "20:\tlearn: 0.8472401\ttest: 0.8035714\tbest: 0.8035714 (19)\ttotal: 50.7ms\tremaining: 9.93s\n",
            "40:\tlearn: 0.8562259\ttest: 0.7857143\tbest: 0.8035714 (19)\ttotal: 112ms\tremaining: 11.2s\n",
            "60:\tlearn: 0.8587933\ttest: 0.7767857\tbest: 0.8035714 (19)\ttotal: 155ms\tremaining: 10.4s\n",
            "80:\tlearn: 0.8652118\ttest: 0.7678571\tbest: 0.8035714 (19)\ttotal: 194ms\tremaining: 9.72s\n",
            "100:\tlearn: 0.8716303\ttest: 0.7767857\tbest: 0.8035714 (19)\ttotal: 238ms\tremaining: 9.48s\n",
            "120:\tlearn: 0.8831836\ttest: 0.7678571\tbest: 0.8035714 (19)\ttotal: 280ms\tremaining: 9.3s\n"
          ]
        },
        {
          "output_type": "stream",
          "name": "stderr",
          "text": [
            "Level 15:autogluon.core.models.abstract.abstract_model:\tFitting S3F2 with 'num_gpus': 0, 'num_cpus': 2\n",
            "Level 15:autogluon.tabular.models.catboost.catboost_model:\tCatboost model hyperparameters: {'iterations': 10000, 'learning_rate': 0.05, 'random_seed': 0, 'allow_writing_files': False, 'eval_metric': 'Accuracy'}\n"
          ]
        },
        {
          "output_type": "stream",
          "name": "stdout",
          "text": [
            "140:\tlearn: 0.8883184\ttest: 0.7767857\tbest: 0.8035714 (19)\ttotal: 335ms\tremaining: 9.47s\n",
            "160:\tlearn: 0.9011553\ttest: 0.7678571\tbest: 0.8035714 (19)\ttotal: 383ms\tremaining: 9.44s\n",
            "Stopped by overfitting detector  (150 iterations wait)\n",
            "\n",
            "bestTest = 0.8035714286\n",
            "bestIteration = 19\n",
            "\n",
            "Shrink model to first 20 iterations.\n",
            "0:\tlearn: 0.8164313\ttest: 0.7946429\tbest: 0.7946429 (0)\ttotal: 3.55ms\tremaining: 174ms\n",
            "20:\tlearn: 0.8164313\ttest: 0.8035714\tbest: 0.8035714 (20)\ttotal: 27.4ms\tremaining: 37.8ms\n",
            "40:\tlearn: 0.8267009\ttest: 0.8214286\tbest: 0.8214286 (38)\ttotal: 50.1ms\tremaining: 11ms\n",
            "49:\tlearn: 0.8292683\ttest: 0.8035714\tbest: 0.8214286 (38)\ttotal: 75.8ms\tremaining: 0us\n",
            "\n",
            "bestTest = 0.8214285714\n",
            "bestIteration = 38\n",
            "\n",
            "Shrink model to first 39 iterations.\n",
            "0:\tlearn: 0.8254172\ttest: 0.8214286\tbest: 0.8214286 (0)\ttotal: 8.17ms\tremaining: 37.7s\n",
            "20:\tlearn: 0.8356868\ttest: 0.8125000\tbest: 0.8214286 (0)\ttotal: 55.7ms\tremaining: 12.2s\n",
            "40:\tlearn: 0.8472401\ttest: 0.8214286\tbest: 0.8214286 (0)\ttotal: 106ms\tremaining: 11.8s\n",
            "60:\tlearn: 0.8587933\ttest: 0.8214286\tbest: 0.8214286 (0)\ttotal: 149ms\tremaining: 11.1s\n",
            "80:\tlearn: 0.8652118\ttest: 0.8214286\tbest: 0.8214286 (0)\ttotal: 208ms\tremaining: 11.6s\n",
            "100:\tlearn: 0.8716303\ttest: 0.8214286\tbest: 0.8214286 (0)\ttotal: 249ms\tremaining: 11.1s\n",
            "120:\tlearn: 0.8741977\ttest: 0.8214286\tbest: 0.8214286 (0)\ttotal: 291ms\tremaining: 10.8s\n",
            "140:\tlearn: 0.8908858\ttest: 0.8303571\tbest: 0.8303571 (127)\ttotal: 347ms\tremaining: 11s\n",
            "160:\tlearn: 0.8985879\ttest: 0.8392857\tbest: 0.8392857 (146)\ttotal: 397ms\tremaining: 11s\n",
            "180:\tlearn: 0.8998716\ttest: 0.8482143\tbest: 0.8482143 (167)\ttotal: 457ms\tremaining: 11.2s\n",
            "200:\tlearn: 0.9050064\ttest: 0.8303571\tbest: 0.8482143 (167)\ttotal: 506ms\tremaining: 11.1s\n",
            "220:\tlearn: 0.9127086\ttest: 0.8392857\tbest: 0.8482143 (167)\ttotal: 556ms\tremaining: 11.1s\n",
            "240:\tlearn: 0.9165597\ttest: 0.8303571\tbest: 0.8482143 (167)\ttotal: 608ms\tremaining: 11s\n"
          ]
        },
        {
          "output_type": "stream",
          "name": "stderr",
          "text": [
            "Level 15:autogluon.core.models.abstract.abstract_model:\tFitting S3F3 with 'num_gpus': 0, 'num_cpus': 2\n",
            "Level 15:autogluon.tabular.models.catboost.catboost_model:\tCatboost model hyperparameters: {'iterations': 10000, 'learning_rate': 0.05, 'random_seed': 0, 'allow_writing_files': False, 'eval_metric': 'Accuracy'}\n"
          ]
        },
        {
          "output_type": "stream",
          "name": "stdout",
          "text": [
            "260:\tlearn: 0.9255456\ttest: 0.8303571\tbest: 0.8482143 (167)\ttotal: 666ms\tremaining: 11.1s\n",
            "280:\tlearn: 0.9345315\ttest: 0.8303571\tbest: 0.8482143 (167)\ttotal: 715ms\tremaining: 11s\n",
            "300:\tlearn: 0.9383825\ttest: 0.8214286\tbest: 0.8482143 (167)\ttotal: 760ms\tremaining: 10.9s\n",
            "Stopped by overfitting detector  (150 iterations wait)\n",
            "\n",
            "bestTest = 0.8482142857\n",
            "bestIteration = 167\n",
            "\n",
            "Shrink model to first 168 iterations.\n",
            "0:\tlearn: 0.8228498\ttest: 0.7678571\tbest: 0.7678571 (0)\ttotal: 1.97ms\tremaining: 96.6ms\n",
            "20:\tlearn: 0.8164313\ttest: 0.7857143\tbest: 0.8125000 (9)\ttotal: 33.7ms\tremaining: 46.6ms\n",
            "40:\tlearn: 0.8292683\ttest: 0.8125000\tbest: 0.8214286 (38)\ttotal: 55ms\tremaining: 12.1ms\n",
            "49:\tlearn: 0.8318357\ttest: 0.8214286\tbest: 0.8214286 (38)\ttotal: 66.1ms\tremaining: 0us\n",
            "\n",
            "bestTest = 0.8214285714\n",
            "bestIteration = 38\n",
            "\n",
            "Shrink model to first 39 iterations.\n",
            "0:\tlearn: 0.8267009\ttest: 0.8035714\tbest: 0.8035714 (0)\ttotal: 4.95ms\tremaining: 30.5s\n",
            "20:\tlearn: 0.8395379\ttest: 0.8303571\tbest: 0.8303571 (13)\ttotal: 49.7ms\tremaining: 14.5s\n",
            "40:\tlearn: 0.8549422\ttest: 0.7946429\tbest: 0.8303571 (13)\ttotal: 106ms\tremaining: 15.8s\n",
            "60:\tlearn: 0.8677792\ttest: 0.8035714\tbest: 0.8303571 (13)\ttotal: 159ms\tremaining: 16s\n",
            "80:\tlearn: 0.8703466\ttest: 0.7946429\tbest: 0.8303571 (13)\ttotal: 205ms\tremaining: 15.4s\n",
            "100:\tlearn: 0.8729140\ttest: 0.8035714\tbest: 0.8303571 (13)\ttotal: 250ms\tremaining: 15s\n",
            "120:\tlearn: 0.8767651\ttest: 0.8035714\tbest: 0.8303571 (13)\ttotal: 310ms\tremaining: 15.5s\n",
            "140:\tlearn: 0.8818999\ttest: 0.7857143\tbest: 0.8303571 (13)\ttotal: 353ms\tremaining: 15.1s\n"
          ]
        },
        {
          "output_type": "stream",
          "name": "stderr",
          "text": [
            "Level 15:autogluon.core.models.abstract.abstract_model:\tFitting S3F4 with 'num_gpus': 0, 'num_cpus': 2\n",
            "Level 15:autogluon.tabular.models.catboost.catboost_model:\tCatboost model hyperparameters: {'iterations': 10000, 'learning_rate': 0.05, 'random_seed': 0, 'allow_writing_files': False, 'eval_metric': 'Accuracy'}\n"
          ]
        },
        {
          "output_type": "stream",
          "name": "stdout",
          "text": [
            "160:\tlearn: 0.8908858\ttest: 0.8035714\tbest: 0.8303571 (13)\ttotal: 416ms\tremaining: 15.5s\n",
            "Stopped by overfitting detector  (150 iterations wait)\n",
            "\n",
            "bestTest = 0.8303571429\n",
            "bestIteration = 13\n",
            "\n",
            "Shrink model to first 14 iterations.\n",
            "0:\tlearn: 0.8141026\ttest: 0.8288288\tbest: 0.8288288 (0)\ttotal: 2.4ms\tremaining: 118ms\n",
            "20:\tlearn: 0.8064103\ttest: 0.8288288\tbest: 0.8558559 (2)\ttotal: 28.1ms\tremaining: 38.8ms\n",
            "40:\tlearn: 0.8141026\ttest: 0.8288288\tbest: 0.8558559 (2)\ttotal: 50.1ms\tremaining: 11ms\n",
            "49:\tlearn: 0.8192308\ttest: 0.8378378\tbest: 0.8558559 (2)\ttotal: 60.6ms\tremaining: 0us\n",
            "\n",
            "bestTest = 0.8558558559\n",
            "bestIteration = 2\n",
            "\n",
            "Shrink model to first 3 iterations.\n",
            "0:\tlearn: 0.8128205\ttest: 0.8198198\tbest: 0.8198198 (0)\ttotal: 2.6ms\tremaining: 23.4s\n",
            "20:\tlearn: 0.8076923\ttest: 0.8288288\tbest: 0.8378378 (1)\ttotal: 39.1ms\tremaining: 16.7s\n",
            "40:\tlearn: 0.8294872\ttest: 0.8468468\tbest: 0.8468468 (39)\ttotal: 102ms\tremaining: 22.3s\n",
            "60:\tlearn: 0.8448718\ttest: 0.8468468\tbest: 0.8558559 (46)\ttotal: 158ms\tremaining: 23.1s\n",
            "80:\tlearn: 0.8576923\ttest: 0.8378378\tbest: 0.8558559 (46)\ttotal: 201ms\tremaining: 22.2s\n",
            "100:\tlearn: 0.8705128\ttest: 0.8378378\tbest: 0.8558559 (46)\ttotal: 250ms\tremaining: 22s\n",
            "120:\tlearn: 0.8782051\ttest: 0.8378378\tbest: 0.8558559 (46)\ttotal: 294ms\tremaining: 21.5s\n",
            "140:\tlearn: 0.8923077\ttest: 0.8468468\tbest: 0.8558559 (46)\ttotal: 357ms\tremaining: 22.4s\n",
            "160:\tlearn: 0.8961538\ttest: 0.8648649\tbest: 0.8648649 (151)\ttotal: 402ms\tremaining: 22s\n",
            "180:\tlearn: 0.9000000\ttest: 0.8648649\tbest: 0.8648649 (151)\ttotal: 445ms\tremaining: 21.7s\n",
            "200:\tlearn: 0.9012821\ttest: 0.8468468\tbest: 0.8648649 (151)\ttotal: 490ms\tremaining: 21.4s\n",
            "220:\tlearn: 0.9064103\ttest: 0.8468468\tbest: 0.8648649 (151)\ttotal: 547ms\tremaining: 21.7s\n",
            "240:\tlearn: 0.9128205\ttest: 0.8648649\tbest: 0.8648649 (151)\ttotal: 605ms\tremaining: 22s\n",
            "260:\tlearn: 0.9179487\ttest: 0.8648649\tbest: 0.8648649 (151)\ttotal: 667ms\tremaining: 22.3s\n",
            "280:\tlearn: 0.9243590\ttest: 0.8558559\tbest: 0.8648649 (151)\ttotal: 714ms\tremaining: 22.1s\n",
            "300:\tlearn: 0.9307692\ttest: 0.8558559\tbest: 0.8648649 (151)\ttotal: 762ms\tremaining: 22s\n",
            "Stopped by overfitting detector  (150 iterations wait)\n",
            "\n",
            "bestTest = 0.8648648649\n",
            "bestIteration = 151\n",
            "\n",
            "Shrink model to first 152 iterations.\n"
          ]
        },
        {
          "output_type": "stream",
          "name": "stderr",
          "text": [
            "Level 15:autogluon.core.models.abstract.abstract_model:\tFitting S3F5 with 'num_gpus': 0, 'num_cpus': 2\n",
            "Level 15:autogluon.tabular.models.catboost.catboost_model:\tCatboost model hyperparameters: {'iterations': 10000, 'learning_rate': 0.05, 'random_seed': 0, 'allow_writing_files': False, 'eval_metric': 'Accuracy'}\n"
          ]
        },
        {
          "output_type": "stream",
          "name": "stdout",
          "text": [
            "0:\tlearn: 0.8243590\ttest: 0.8288288\tbest: 0.8288288 (0)\ttotal: 2.7ms\tremaining: 133ms\n",
            "20:\tlearn: 0.8128205\ttest: 0.8108108\tbest: 0.8288288 (0)\ttotal: 39.6ms\tremaining: 54.7ms\n",
            "40:\tlearn: 0.8269231\ttest: 0.8108108\tbest: 0.8288288 (0)\ttotal: 66.2ms\tremaining: 14.5ms\n",
            "49:\tlearn: 0.8320513\ttest: 0.8018018\tbest: 0.8288288 (0)\ttotal: 80.5ms\tremaining: 0us\n",
            "\n",
            "bestTest = 0.8288288288\n",
            "bestIteration = 0\n",
            "\n",
            "Shrink model to first 1 iterations.\n",
            "0:\tlearn: 0.8128205\ttest: 0.8288288\tbest: 0.8288288 (0)\ttotal: 2.75ms\tremaining: 23.9s\n",
            "20:\tlearn: 0.8256410\ttest: 0.8108108\tbest: 0.8288288 (0)\ttotal: 46.5ms\tremaining: 19.2s\n",
            "40:\tlearn: 0.8397436\ttest: 0.8198198\tbest: 0.8288288 (0)\ttotal: 90.4ms\tremaining: 19.1s\n",
            "60:\tlearn: 0.8525641\ttest: 0.8378378\tbest: 0.8378378 (50)\ttotal: 148ms\tremaining: 20.9s\n",
            "80:\tlearn: 0.8641026\ttest: 0.8378378\tbest: 0.8468468 (66)\ttotal: 196ms\tremaining: 20.8s\n",
            "100:\tlearn: 0.8692308\ttest: 0.8558559\tbest: 0.8558559 (84)\ttotal: 243ms\tremaining: 20.7s\n",
            "120:\tlearn: 0.8794872\ttest: 0.8378378\tbest: 0.8558559 (84)\ttotal: 287ms\tremaining: 20.3s\n",
            "140:\tlearn: 0.8833333\ttest: 0.8378378\tbest: 0.8558559 (84)\ttotal: 335ms\tremaining: 20.3s\n",
            "160:\tlearn: 0.8846154\ttest: 0.8288288\tbest: 0.8558559 (84)\ttotal: 390ms\tremaining: 20.7s\n",
            "180:\tlearn: 0.8910256\ttest: 0.8288288\tbest: 0.8558559 (84)\ttotal: 453ms\tremaining: 21.3s\n",
            "200:\tlearn: 0.8935897\ttest: 0.8468468\tbest: 0.8558559 (84)\ttotal: 501ms\tremaining: 21.1s\n",
            "220:\tlearn: 0.9038462\ttest: 0.8648649\tbest: 0.8648649 (213)\ttotal: 546ms\tremaining: 20.9s\n",
            "240:\tlearn: 0.9064103\ttest: 0.8738739\tbest: 0.8738739 (235)\ttotal: 624ms\tremaining: 21.8s\n",
            "260:\tlearn: 0.9115385\ttest: 0.8648649\tbest: 0.8738739 (235)\ttotal: 677ms\tremaining: 21.9s\n",
            "280:\tlearn: 0.9179487\ttest: 0.8558559\tbest: 0.8738739 (235)\ttotal: 728ms\tremaining: 21.8s\n",
            "300:\tlearn: 0.9205128\ttest: 0.8558559\tbest: 0.8738739 (235)\ttotal: 778ms\tremaining: 21.7s\n",
            "320:\tlearn: 0.9230769\ttest: 0.8558559\tbest: 0.8738739 (235)\ttotal: 838ms\tremaining: 21.8s\n",
            "340:\tlearn: 0.9282051\ttest: 0.8648649\tbest: 0.8738739 (235)\ttotal: 887ms\tremaining: 21.7s\n",
            "360:\tlearn: 0.9294872\ttest: 0.8558559\tbest: 0.8738739 (235)\ttotal: 935ms\tremaining: 21.6s\n",
            "380:\tlearn: 0.9346154\ttest: 0.8558559\tbest: 0.8738739 (235)\ttotal: 992ms\tremaining: 21.6s\n",
            "Stopped by overfitting detector  (150 iterations wait)\n",
            "\n",
            "bestTest = 0.8738738739\n",
            "bestIteration = 235\n",
            "\n",
            "Shrink model to first 236 iterations.\n"
          ]
        },
        {
          "output_type": "stream",
          "name": "stderr",
          "text": [
            "Level 15:autogluon.core.models.abstract.abstract_model:\tFitting S3F6 with 'num_gpus': 0, 'num_cpus': 2\n",
            "Level 15:autogluon.tabular.models.catboost.catboost_model:\tCatboost model hyperparameters: {'iterations': 10000, 'learning_rate': 0.05, 'random_seed': 0, 'allow_writing_files': False, 'eval_metric': 'Accuracy'}\n"
          ]
        },
        {
          "output_type": "stream",
          "name": "stdout",
          "text": [
            "0:\tlearn: 0.8269231\ttest: 0.8288288\tbest: 0.8288288 (0)\ttotal: 7.1ms\tremaining: 348ms\n",
            "20:\tlearn: 0.8128205\ttest: 0.8108108\tbest: 0.8378378 (2)\ttotal: 38.8ms\tremaining: 53.6ms\n",
            "40:\tlearn: 0.8307692\ttest: 0.8288288\tbest: 0.8378378 (2)\ttotal: 64.3ms\tremaining: 14.1ms\n",
            "49:\tlearn: 0.8320513\ttest: 0.8288288\tbest: 0.8378378 (2)\ttotal: 78.2ms\tremaining: 0us\n",
            "\n",
            "bestTest = 0.8378378378\n",
            "bestIteration = 2\n",
            "\n",
            "Shrink model to first 3 iterations.\n",
            "0:\tlearn: 0.8269231\ttest: 0.8378378\tbest: 0.8378378 (0)\ttotal: 2.66ms\tremaining: 26.5s\n",
            "20:\tlearn: 0.8358974\ttest: 0.7837838\tbest: 0.8378378 (0)\ttotal: 50.6ms\tremaining: 23.9s\n",
            "40:\tlearn: 0.8397436\ttest: 0.8198198\tbest: 0.8378378 (0)\ttotal: 98.8ms\tremaining: 23.9s\n",
            "60:\tlearn: 0.8500000\ttest: 0.8288288\tbest: 0.8378378 (0)\ttotal: 157ms\tremaining: 25.5s\n",
            "80:\tlearn: 0.8576923\ttest: 0.8198198\tbest: 0.8378378 (0)\ttotal: 201ms\tremaining: 24.5s\n",
            "100:\tlearn: 0.8705128\ttest: 0.8288288\tbest: 0.8378378 (0)\ttotal: 254ms\tremaining: 24.8s\n",
            "120:\tlearn: 0.8820513\ttest: 0.8288288\tbest: 0.8378378 (0)\ttotal: 299ms\tremaining: 24.3s\n",
            "140:\tlearn: 0.8935897\ttest: 0.8198198\tbest: 0.8378378 (0)\ttotal: 339ms\tremaining: 23.6s\n"
          ]
        },
        {
          "output_type": "stream",
          "name": "stderr",
          "text": [
            "Level 15:autogluon.core.models.abstract.abstract_model:\tFitting S3F7 with 'num_gpus': 0, 'num_cpus': 2\n",
            "Level 15:autogluon.tabular.models.catboost.catboost_model:\tCatboost model hyperparameters: {'iterations': 10000, 'learning_rate': 0.05, 'random_seed': 0, 'allow_writing_files': False, 'eval_metric': 'Accuracy'}\n"
          ]
        },
        {
          "output_type": "stream",
          "name": "stdout",
          "text": [
            "Stopped by overfitting detector  (150 iterations wait)\n",
            "\n",
            "bestTest = 0.8378378378\n",
            "bestIteration = 0\n",
            "\n",
            "Shrink model to first 1 iterations.\n",
            "0:\tlearn: 0.8256410\ttest: 0.8198198\tbest: 0.8198198 (0)\ttotal: 2.2ms\tremaining: 108ms\n",
            "20:\tlearn: 0.8089744\ttest: 0.8198198\tbest: 0.8288288 (2)\ttotal: 39.9ms\tremaining: 55.1ms\n",
            "40:\tlearn: 0.8166667\ttest: 0.8288288\tbest: 0.8378378 (35)\ttotal: 72ms\tremaining: 15.8ms\n",
            "49:\tlearn: 0.8294872\ttest: 0.8198198\tbest: 0.8378378 (35)\ttotal: 84.4ms\tremaining: 0us\n",
            "\n",
            "bestTest = 0.8378378378\n",
            "bestIteration = 35\n",
            "\n",
            "Shrink model to first 36 iterations.\n",
            "0:\tlearn: 0.8217949\ttest: 0.8378378\tbest: 0.8378378 (0)\ttotal: 5.06ms\tremaining: 50.3s\n",
            "20:\tlearn: 0.8371795\ttest: 0.8468468\tbest: 0.8468468 (11)\ttotal: 72.2ms\tremaining: 34.1s\n",
            "40:\tlearn: 0.8384615\ttest: 0.8558559\tbest: 0.8648649 (39)\ttotal: 118ms\tremaining: 28.5s\n",
            "60:\tlearn: 0.8551282\ttest: 0.8558559\tbest: 0.8648649 (39)\ttotal: 164ms\tremaining: 26.6s\n",
            "80:\tlearn: 0.8679487\ttest: 0.8468468\tbest: 0.8648649 (39)\ttotal: 209ms\tremaining: 25.5s\n",
            "100:\tlearn: 0.8730769\ttest: 0.8558559\tbest: 0.8648649 (39)\ttotal: 250ms\tremaining: 24.4s\n",
            "120:\tlearn: 0.8782051\ttest: 0.8558559\tbest: 0.8648649 (39)\ttotal: 302ms\tremaining: 24.5s\n",
            "140:\tlearn: 0.8923077\ttest: 0.8378378\tbest: 0.8648649 (39)\ttotal: 343ms\tremaining: 23.9s\n",
            "160:\tlearn: 0.8923077\ttest: 0.8468468\tbest: 0.8648649 (39)\ttotal: 389ms\tremaining: 23.7s\n",
            "180:\tlearn: 0.8974359\ttest: 0.8378378\tbest: 0.8648649 (39)\ttotal: 438ms\tremaining: 23.6s\n",
            "Stopped by overfitting detector  (150 iterations wait)\n",
            "\n",
            "bestTest = 0.8648648649\n",
            "bestIteration = 39\n",
            "\n",
            "Shrink model to first 40 iterations.\n"
          ]
        },
        {
          "output_type": "stream",
          "name": "stderr",
          "text": [
            "Level 15:autogluon.core.models.abstract.abstract_model:\tFitting S3F8 with 'num_gpus': 0, 'num_cpus': 2\n",
            "Level 15:autogluon.tabular.models.catboost.catboost_model:\tCatboost model hyperparameters: {'iterations': 10000, 'learning_rate': 0.05, 'random_seed': 0, 'allow_writing_files': False, 'eval_metric': 'Accuracy'}\n"
          ]
        },
        {
          "output_type": "stream",
          "name": "stdout",
          "text": [
            "0:\tlearn: 0.8269231\ttest: 0.7837838\tbest: 0.7837838 (0)\ttotal: 3.65ms\tremaining: 179ms\n",
            "20:\tlearn: 0.8153846\ttest: 0.7837838\tbest: 0.8018018 (1)\ttotal: 36.3ms\tremaining: 50.2ms\n",
            "40:\tlearn: 0.8294872\ttest: 0.7837838\tbest: 0.8018018 (1)\ttotal: 58.5ms\tremaining: 12.8ms\n",
            "49:\tlearn: 0.8371795\ttest: 0.7927928\tbest: 0.8018018 (1)\ttotal: 71.2ms\tremaining: 0us\n",
            "\n",
            "bestTest = 0.8018018018\n",
            "bestIteration = 1\n",
            "\n",
            "Shrink model to first 2 iterations.\n",
            "0:\tlearn: 0.8294872\ttest: 0.7837838\tbest: 0.7837838 (0)\ttotal: 2.59ms\tremaining: 25.8s\n",
            "20:\tlearn: 0.8410256\ttest: 0.7927928\tbest: 0.8018018 (15)\ttotal: 45ms\tremaining: 21.3s\n",
            "40:\tlearn: 0.8423077\ttest: 0.7927928\tbest: 0.8018018 (15)\ttotal: 89.9ms\tremaining: 21.7s\n",
            "60:\tlearn: 0.8538462\ttest: 0.7927928\tbest: 0.8018018 (15)\ttotal: 147ms\tremaining: 23.8s\n",
            "80:\tlearn: 0.8615385\ttest: 0.7837838\tbest: 0.8018018 (15)\ttotal: 203ms\tremaining: 24.8s\n",
            "100:\tlearn: 0.8705128\ttest: 0.7837838\tbest: 0.8018018 (15)\ttotal: 267ms\tremaining: 26s\n",
            "120:\tlearn: 0.8833333\ttest: 0.7927928\tbest: 0.8018018 (15)\ttotal: 315ms\tremaining: 25.6s\n"
          ]
        },
        {
          "output_type": "stream",
          "name": "stderr",
          "text": [
            "Level 15:autogluon.core.utils.savers.save_pkl:Saving /content/drive/MyDrive/輪読/model/agModels_best/models/CatBoost_BAG_L1/utils/oof.pkl\n"
          ]
        },
        {
          "output_type": "stream",
          "name": "stdout",
          "text": [
            "140:\tlearn: 0.8871795\ttest: 0.7927928\tbest: 0.8018018 (15)\ttotal: 403ms\tremaining: 28s\n",
            "160:\tlearn: 0.8884615\ttest: 0.7837838\tbest: 0.8018018 (15)\ttotal: 513ms\tremaining: 31.2s\n",
            "Stopped by overfitting detector  (150 iterations wait)\n",
            "\n",
            "bestTest = 0.8018018018\n",
            "bestIteration = 15\n",
            "\n",
            "Shrink model to first 16 iterations.\n"
          ]
        },
        {
          "output_type": "stream",
          "name": "stderr",
          "text": [
            "Level 15:autogluon.core.utils.savers.save_pkl:Saving /content/drive/MyDrive/輪読/model/agModels_best/models/CatBoost_BAG_L1/model.pkl\n",
            "INFO:autogluon.tabular.trainer.abstract_trainer:\t0.8316\t = Validation score   (accuracy)\n",
            "INFO:autogluon.tabular.trainer.abstract_trainer:\t17.51s\t = Training   runtime\n",
            "INFO:autogluon.tabular.trainer.abstract_trainer:\t0.14s\t = Validation runtime\n",
            "Level 15:autogluon.core.utils.savers.save_pkl:Saving /content/drive/MyDrive/輪読/model/agModels_best/models/trainer.pkl\n",
            "Level 15:autogluon.core.utils.loaders.load_pkl:Loading: /content/drive/MyDrive/輪読/model/agModels_best/models/NeuralNetFastAI_BAG_L1/model.pkl\n",
            "INFO:autogluon.tabular.trainer.abstract_trainer:Fitting model: NeuralNetFastAI_BAG_L1 ... Training model for up to 78.98s of the 178.62s of remaining time.\n",
            "Level 15:autogluon.core.utils.loaders.load_pkl:Loading: /content/drive/MyDrive/輪読/model/agModels_best/models/NeuralNetFastAI_BAG_L1/utils/model_template.pkl\n",
            "Level 15:autogluon.core.utils.loaders.load_pkl:Loading: /content/drive/MyDrive/輪読/model/agModels_best/models/NeuralNetFastAI_BAG_L1/utils/oof.pkl\n",
            "Level 15:autogluon.core.models.abstract.abstract_model:\tFitting S3F1 with 'num_gpus': 0, 'num_cpus': 2\n",
            "Level 15:autogluon.tabular.models.fastainn.tabular_nn_fastai:Fitting Neural Network with parameters {'layers': None, 'emb_drop': 0.1, 'ps': 0.1, 'bs': 256, 'lr': 0.01, 'epochs': 30, 'early.stopping.min_delta': 0.0001, 'early.stopping.patience': 20, 'smoothing': 0.0}...\n",
            "Level 15:autogluon.tabular.models.fastainn.tabular_nn_fastai:Using 1/1 categorical features\n",
            "Level 15:autogluon.tabular.models.fastainn.tabular_nn_fastai:Using 6 cont features\n",
            "Level 15:autogluon.tabular.models.fastainn.tabular_nn_fastai:TabularModel(\n",
            "  (embeds): ModuleList(\n",
            "    (0): Embedding(5, 4)\n",
            "  )\n",
            "  (emb_drop): Dropout(p=0.1, inplace=False)\n",
            "  (bn_cont): BatchNorm1d(6, eps=1e-05, momentum=0.1, affine=True, track_running_stats=True)\n",
            "  (layers): Sequential(\n",
            "    (0): LinBnDrop(\n",
            "      (0): Linear(in_features=10, out_features=200, bias=False)\n",
            "      (1): ReLU(inplace=True)\n",
            "      (2): BatchNorm1d(200, eps=1e-05, momentum=0.1, affine=True, track_running_stats=True)\n",
            "      (3): Dropout(p=0.1, inplace=False)\n",
            "    )\n",
            "    (1): LinBnDrop(\n",
            "      (0): Linear(in_features=200, out_features=100, bias=False)\n",
            "      (1): ReLU(inplace=True)\n",
            "      (2): BatchNorm1d(100, eps=1e-05, momentum=0.1, affine=True, track_running_stats=True)\n",
            "      (3): Dropout(p=0.1, inplace=False)\n",
            "    )\n",
            "    (2): LinBnDrop(\n",
            "      (0): Linear(in_features=100, out_features=2, bias=True)\n",
            "    )\n",
            "  )\n",
            ")\n",
            "Level 15:autogluon.tabular.models.fastainn.callbacks:Better model found at epoch 0 with accuracy value: 0.4910714328289032.\n",
            "Level 15:autogluon.tabular.models.fastainn.callbacks:Better model found at epoch 1 with accuracy value: 0.75.\n",
            "Level 15:autogluon.tabular.models.fastainn.callbacks:Better model found at epoch 3 with accuracy value: 0.7767857313156128.\n",
            "Level 15:autogluon.tabular.models.fastainn.callbacks:Better model found at epoch 4 with accuracy value: 0.7946428656578064.\n",
            "Level 15:autogluon.tabular.models.fastainn.callbacks:Better model found at epoch 9 with accuracy value: 0.8214285969734192.\n",
            "Level 15:autogluon.tabular.models.fastainn.callbacks:Better model found at epoch 10 with accuracy value: 0.8303571343421936.\n",
            "Level 15:autogluon.tabular.models.fastainn.tabular_nn_fastai:Model validation metrics: 0.8303571343421936\n",
            "Level 15:autogluon.core.models.abstract.abstract_model:\tFitting S3F2 with 'num_gpus': 0, 'num_cpus': 2\n",
            "Level 15:autogluon.tabular.models.fastainn.tabular_nn_fastai:Fitting Neural Network with parameters {'layers': None, 'emb_drop': 0.1, 'ps': 0.1, 'bs': 256, 'lr': 0.01, 'epochs': 30, 'early.stopping.min_delta': 0.0001, 'early.stopping.patience': 20, 'smoothing': 0.0}...\n",
            "Level 15:autogluon.tabular.models.fastainn.tabular_nn_fastai:Using 1/1 categorical features\n",
            "Level 15:autogluon.tabular.models.fastainn.tabular_nn_fastai:Using 6 cont features\n",
            "Level 15:autogluon.tabular.models.fastainn.tabular_nn_fastai:TabularModel(\n",
            "  (embeds): ModuleList(\n",
            "    (0): Embedding(5, 4)\n",
            "  )\n",
            "  (emb_drop): Dropout(p=0.1, inplace=False)\n",
            "  (bn_cont): BatchNorm1d(6, eps=1e-05, momentum=0.1, affine=True, track_running_stats=True)\n",
            "  (layers): Sequential(\n",
            "    (0): LinBnDrop(\n",
            "      (0): Linear(in_features=10, out_features=200, bias=False)\n",
            "      (1): ReLU(inplace=True)\n",
            "      (2): BatchNorm1d(200, eps=1e-05, momentum=0.1, affine=True, track_running_stats=True)\n",
            "      (3): Dropout(p=0.1, inplace=False)\n",
            "    )\n",
            "    (1): LinBnDrop(\n",
            "      (0): Linear(in_features=200, out_features=100, bias=False)\n",
            "      (1): ReLU(inplace=True)\n",
            "      (2): BatchNorm1d(100, eps=1e-05, momentum=0.1, affine=True, track_running_stats=True)\n",
            "      (3): Dropout(p=0.1, inplace=False)\n",
            "    )\n",
            "    (2): LinBnDrop(\n",
            "      (0): Linear(in_features=100, out_features=2, bias=True)\n",
            "    )\n",
            "  )\n",
            ")\n",
            "Level 15:autogluon.tabular.models.fastainn.callbacks:Better model found at epoch 0 with accuracy value: 0.7589285969734192.\n",
            "Level 15:autogluon.tabular.models.fastainn.callbacks:Better model found at epoch 1 with accuracy value: 0.7678571343421936.\n",
            "Level 15:autogluon.tabular.models.fastainn.callbacks:Better model found at epoch 2 with accuracy value: 0.7946428656578064.\n",
            "Level 15:autogluon.tabular.models.fastainn.callbacks:Better model found at epoch 4 with accuracy value: 0.8125.\n",
            "Level 15:autogluon.tabular.models.fastainn.callbacks:Better model found at epoch 5 with accuracy value: 0.8214285969734192.\n",
            "INFO:autogluon.tabular.models.fastainn.callbacks:No improvement since epoch 5: early stopping\n",
            "Level 15:autogluon.tabular.models.fastainn.tabular_nn_fastai:Model validation metrics: 0.8214285969734192\n",
            "Level 15:autogluon.core.models.abstract.abstract_model:\tFitting S3F3 with 'num_gpus': 0, 'num_cpus': 2\n",
            "Level 15:autogluon.tabular.models.fastainn.tabular_nn_fastai:Fitting Neural Network with parameters {'layers': None, 'emb_drop': 0.1, 'ps': 0.1, 'bs': 256, 'lr': 0.01, 'epochs': 30, 'early.stopping.min_delta': 0.0001, 'early.stopping.patience': 20, 'smoothing': 0.0}...\n",
            "Level 15:autogluon.tabular.models.fastainn.tabular_nn_fastai:Using 1/1 categorical features\n",
            "Level 15:autogluon.tabular.models.fastainn.tabular_nn_fastai:Using 6 cont features\n",
            "Level 15:autogluon.tabular.models.fastainn.tabular_nn_fastai:TabularModel(\n",
            "  (embeds): ModuleList(\n",
            "    (0): Embedding(5, 4)\n",
            "  )\n",
            "  (emb_drop): Dropout(p=0.1, inplace=False)\n",
            "  (bn_cont): BatchNorm1d(6, eps=1e-05, momentum=0.1, affine=True, track_running_stats=True)\n",
            "  (layers): Sequential(\n",
            "    (0): LinBnDrop(\n",
            "      (0): Linear(in_features=10, out_features=200, bias=False)\n",
            "      (1): ReLU(inplace=True)\n",
            "      (2): BatchNorm1d(200, eps=1e-05, momentum=0.1, affine=True, track_running_stats=True)\n",
            "      (3): Dropout(p=0.1, inplace=False)\n",
            "    )\n",
            "    (1): LinBnDrop(\n",
            "      (0): Linear(in_features=200, out_features=100, bias=False)\n",
            "      (1): ReLU(inplace=True)\n",
            "      (2): BatchNorm1d(100, eps=1e-05, momentum=0.1, affine=True, track_running_stats=True)\n",
            "      (3): Dropout(p=0.1, inplace=False)\n",
            "    )\n",
            "    (2): LinBnDrop(\n",
            "      (0): Linear(in_features=100, out_features=2, bias=True)\n",
            "    )\n",
            "  )\n",
            ")\n",
            "Level 15:autogluon.tabular.models.fastainn.callbacks:Better model found at epoch 0 with accuracy value: 0.5.\n",
            "Level 15:autogluon.tabular.models.fastainn.callbacks:Better model found at epoch 1 with accuracy value: 0.75.\n",
            "Level 15:autogluon.tabular.models.fastainn.callbacks:Better model found at epoch 2 with accuracy value: 0.7678571343421936.\n",
            "Level 15:autogluon.tabular.models.fastainn.callbacks:Better model found at epoch 6 with accuracy value: 0.8303571343421936.\n",
            "INFO:autogluon.tabular.models.fastainn.callbacks:No improvement since epoch 6: early stopping\n",
            "Level 15:autogluon.tabular.models.fastainn.tabular_nn_fastai:Model validation metrics: 0.8303571343421936\n",
            "Level 15:autogluon.core.models.abstract.abstract_model:\tFitting S3F4 with 'num_gpus': 0, 'num_cpus': 2\n",
            "Level 15:autogluon.tabular.models.fastainn.tabular_nn_fastai:Fitting Neural Network with parameters {'layers': None, 'emb_drop': 0.1, 'ps': 0.1, 'bs': 256, 'lr': 0.01, 'epochs': 30, 'early.stopping.min_delta': 0.0001, 'early.stopping.patience': 20, 'smoothing': 0.0}...\n",
            "Level 15:autogluon.tabular.models.fastainn.tabular_nn_fastai:Using 1/1 categorical features\n",
            "Level 15:autogluon.tabular.models.fastainn.tabular_nn_fastai:Using 6 cont features\n",
            "Level 15:autogluon.tabular.models.fastainn.tabular_nn_fastai:TabularModel(\n",
            "  (embeds): ModuleList(\n",
            "    (0): Embedding(5, 4)\n",
            "  )\n",
            "  (emb_drop): Dropout(p=0.1, inplace=False)\n",
            "  (bn_cont): BatchNorm1d(6, eps=1e-05, momentum=0.1, affine=True, track_running_stats=True)\n",
            "  (layers): Sequential(\n",
            "    (0): LinBnDrop(\n",
            "      (0): Linear(in_features=10, out_features=200, bias=False)\n",
            "      (1): ReLU(inplace=True)\n",
            "      (2): BatchNorm1d(200, eps=1e-05, momentum=0.1, affine=True, track_running_stats=True)\n",
            "      (3): Dropout(p=0.1, inplace=False)\n",
            "    )\n",
            "    (1): LinBnDrop(\n",
            "      (0): Linear(in_features=200, out_features=100, bias=False)\n",
            "      (1): ReLU(inplace=True)\n",
            "      (2): BatchNorm1d(100, eps=1e-05, momentum=0.1, affine=True, track_running_stats=True)\n",
            "      (3): Dropout(p=0.1, inplace=False)\n",
            "    )\n",
            "    (2): LinBnDrop(\n",
            "      (0): Linear(in_features=100, out_features=2, bias=True)\n",
            "    )\n",
            "  )\n",
            ")\n",
            "Level 15:autogluon.tabular.models.fastainn.callbacks:Better model found at epoch 0 with accuracy value: 0.7387387156486511.\n",
            "Level 15:autogluon.tabular.models.fastainn.callbacks:Better model found at epoch 1 with accuracy value: 0.8108108043670654.\n",
            "Level 15:autogluon.tabular.models.fastainn.callbacks:Better model found at epoch 2 with accuracy value: 0.837837815284729.\n",
            "Level 15:autogluon.tabular.models.fastainn.callbacks:Better model found at epoch 5 with accuracy value: 0.8558558821678162.\n",
            "Level 15:autogluon.tabular.models.fastainn.callbacks:Better model found at epoch 6 with accuracy value: 0.8738738894462585.\n",
            "Level 15:autogluon.tabular.models.fastainn.callbacks:Better model found at epoch 18 with accuracy value: 0.8828828930854797.\n",
            "Level 15:autogluon.tabular.models.fastainn.tabular_nn_fastai:Model validation metrics: 0.8828828930854797\n",
            "Level 15:autogluon.core.models.abstract.abstract_model:\tFitting S3F5 with 'num_gpus': 0, 'num_cpus': 2\n",
            "Level 15:autogluon.tabular.models.fastainn.tabular_nn_fastai:Fitting Neural Network with parameters {'layers': None, 'emb_drop': 0.1, 'ps': 0.1, 'bs': 256, 'lr': 0.01, 'epochs': 30, 'early.stopping.min_delta': 0.0001, 'early.stopping.patience': 20, 'smoothing': 0.0}...\n",
            "Level 15:autogluon.tabular.models.fastainn.tabular_nn_fastai:Using 1/1 categorical features\n",
            "Level 15:autogluon.tabular.models.fastainn.tabular_nn_fastai:Using 6 cont features\n",
            "Level 15:autogluon.tabular.models.fastainn.tabular_nn_fastai:TabularModel(\n",
            "  (embeds): ModuleList(\n",
            "    (0): Embedding(5, 4)\n",
            "  )\n",
            "  (emb_drop): Dropout(p=0.1, inplace=False)\n",
            "  (bn_cont): BatchNorm1d(6, eps=1e-05, momentum=0.1, affine=True, track_running_stats=True)\n",
            "  (layers): Sequential(\n",
            "    (0): LinBnDrop(\n",
            "      (0): Linear(in_features=10, out_features=200, bias=False)\n",
            "      (1): ReLU(inplace=True)\n",
            "      (2): BatchNorm1d(200, eps=1e-05, momentum=0.1, affine=True, track_running_stats=True)\n",
            "      (3): Dropout(p=0.1, inplace=False)\n",
            "    )\n",
            "    (1): LinBnDrop(\n",
            "      (0): Linear(in_features=200, out_features=100, bias=False)\n",
            "      (1): ReLU(inplace=True)\n",
            "      (2): BatchNorm1d(100, eps=1e-05, momentum=0.1, affine=True, track_running_stats=True)\n",
            "      (3): Dropout(p=0.1, inplace=False)\n",
            "    )\n",
            "    (2): LinBnDrop(\n",
            "      (0): Linear(in_features=100, out_features=2, bias=True)\n",
            "    )\n",
            "  )\n",
            ")\n",
            "Level 15:autogluon.tabular.models.fastainn.callbacks:Better model found at epoch 0 with accuracy value: 0.6216216087341309.\n",
            "Level 15:autogluon.tabular.models.fastainn.callbacks:Better model found at epoch 1 with accuracy value: 0.7117117047309875.\n",
            "Level 15:autogluon.tabular.models.fastainn.callbacks:Better model found at epoch 2 with accuracy value: 0.792792797088623.\n",
            "Level 15:autogluon.tabular.models.fastainn.callbacks:Better model found at epoch 3 with accuracy value: 0.8288288116455078.\n",
            "Level 15:autogluon.tabular.models.fastainn.callbacks:Better model found at epoch 5 with accuracy value: 0.8558558821678162.\n",
            "INFO:autogluon.tabular.models.fastainn.callbacks:No improvement since epoch 5: early stopping\n",
            "Level 15:autogluon.tabular.models.fastainn.tabular_nn_fastai:Model validation metrics: 0.8558558821678162\n",
            "Level 15:autogluon.core.models.abstract.abstract_model:\tFitting S3F6 with 'num_gpus': 0, 'num_cpus': 2\n",
            "Level 15:autogluon.tabular.models.fastainn.tabular_nn_fastai:Fitting Neural Network with parameters {'layers': None, 'emb_drop': 0.1, 'ps': 0.1, 'bs': 256, 'lr': 0.01, 'epochs': 30, 'early.stopping.min_delta': 0.0001, 'early.stopping.patience': 20, 'smoothing': 0.0}...\n",
            "Level 15:autogluon.tabular.models.fastainn.tabular_nn_fastai:Using 1/1 categorical features\n",
            "Level 15:autogluon.tabular.models.fastainn.tabular_nn_fastai:Using 6 cont features\n",
            "Level 15:autogluon.tabular.models.fastainn.tabular_nn_fastai:TabularModel(\n",
            "  (embeds): ModuleList(\n",
            "    (0): Embedding(5, 4)\n",
            "  )\n",
            "  (emb_drop): Dropout(p=0.1, inplace=False)\n",
            "  (bn_cont): BatchNorm1d(6, eps=1e-05, momentum=0.1, affine=True, track_running_stats=True)\n",
            "  (layers): Sequential(\n",
            "    (0): LinBnDrop(\n",
            "      (0): Linear(in_features=10, out_features=200, bias=False)\n",
            "      (1): ReLU(inplace=True)\n",
            "      (2): BatchNorm1d(200, eps=1e-05, momentum=0.1, affine=True, track_running_stats=True)\n",
            "      (3): Dropout(p=0.1, inplace=False)\n",
            "    )\n",
            "    (1): LinBnDrop(\n",
            "      (0): Linear(in_features=200, out_features=100, bias=False)\n",
            "      (1): ReLU(inplace=True)\n",
            "      (2): BatchNorm1d(100, eps=1e-05, momentum=0.1, affine=True, track_running_stats=True)\n",
            "      (3): Dropout(p=0.1, inplace=False)\n",
            "    )\n",
            "    (2): LinBnDrop(\n",
            "      (0): Linear(in_features=100, out_features=2, bias=True)\n",
            "    )\n",
            "  )\n",
            ")\n",
            "Level 15:autogluon.tabular.models.fastainn.callbacks:Better model found at epoch 0 with accuracy value: 0.7297297120094299.\n",
            "Level 15:autogluon.tabular.models.fastainn.callbacks:Better model found at epoch 1 with accuracy value: 0.8288288116455078.\n",
            "Level 15:autogluon.tabular.models.fastainn.callbacks:Better model found at epoch 6 with accuracy value: 0.837837815284729.\n",
            "INFO:autogluon.tabular.models.fastainn.callbacks:No improvement since epoch 6: early stopping\n",
            "Level 15:autogluon.tabular.models.fastainn.tabular_nn_fastai:Model validation metrics: 0.837837815284729\n",
            "Level 15:autogluon.core.models.abstract.abstract_model:\tFitting S3F7 with 'num_gpus': 0, 'num_cpus': 2\n",
            "Level 15:autogluon.tabular.models.fastainn.tabular_nn_fastai:Fitting Neural Network with parameters {'layers': None, 'emb_drop': 0.1, 'ps': 0.1, 'bs': 256, 'lr': 0.01, 'epochs': 30, 'early.stopping.min_delta': 0.0001, 'early.stopping.patience': 20, 'smoothing': 0.0}...\n",
            "Level 15:autogluon.tabular.models.fastainn.tabular_nn_fastai:Using 1/1 categorical features\n",
            "Level 15:autogluon.tabular.models.fastainn.tabular_nn_fastai:Using 6 cont features\n",
            "Level 15:autogluon.tabular.models.fastainn.tabular_nn_fastai:TabularModel(\n",
            "  (embeds): ModuleList(\n",
            "    (0): Embedding(5, 4)\n",
            "  )\n",
            "  (emb_drop): Dropout(p=0.1, inplace=False)\n",
            "  (bn_cont): BatchNorm1d(6, eps=1e-05, momentum=0.1, affine=True, track_running_stats=True)\n",
            "  (layers): Sequential(\n",
            "    (0): LinBnDrop(\n",
            "      (0): Linear(in_features=10, out_features=200, bias=False)\n",
            "      (1): ReLU(inplace=True)\n",
            "      (2): BatchNorm1d(200, eps=1e-05, momentum=0.1, affine=True, track_running_stats=True)\n",
            "      (3): Dropout(p=0.1, inplace=False)\n",
            "    )\n",
            "    (1): LinBnDrop(\n",
            "      (0): Linear(in_features=200, out_features=100, bias=False)\n",
            "      (1): ReLU(inplace=True)\n",
            "      (2): BatchNorm1d(100, eps=1e-05, momentum=0.1, affine=True, track_running_stats=True)\n",
            "      (3): Dropout(p=0.1, inplace=False)\n",
            "    )\n",
            "    (2): LinBnDrop(\n",
            "      (0): Linear(in_features=100, out_features=2, bias=True)\n",
            "    )\n",
            "  )\n",
            ")\n",
            "Level 15:autogluon.tabular.models.fastainn.callbacks:Better model found at epoch 0 with accuracy value: 0.45945945382118225.\n",
            "Level 15:autogluon.tabular.models.fastainn.callbacks:Better model found at epoch 1 with accuracy value: 0.792792797088623.\n",
            "Level 15:autogluon.tabular.models.fastainn.callbacks:Better model found at epoch 2 with accuracy value: 0.8288288116455078.\n",
            "INFO:autogluon.tabular.models.fastainn.callbacks:No improvement since epoch 2: early stopping\n",
            "Level 15:autogluon.tabular.models.fastainn.tabular_nn_fastai:Model validation metrics: 0.8288288116455078\n",
            "Level 15:autogluon.core.models.abstract.abstract_model:\tFitting S3F8 with 'num_gpus': 0, 'num_cpus': 2\n",
            "Level 15:autogluon.tabular.models.fastainn.tabular_nn_fastai:Fitting Neural Network with parameters {'layers': None, 'emb_drop': 0.1, 'ps': 0.1, 'bs': 256, 'lr': 0.01, 'epochs': 30, 'early.stopping.min_delta': 0.0001, 'early.stopping.patience': 20, 'smoothing': 0.0}...\n",
            "Level 15:autogluon.tabular.models.fastainn.tabular_nn_fastai:Using 1/1 categorical features\n",
            "Level 15:autogluon.tabular.models.fastainn.tabular_nn_fastai:Using 6 cont features\n",
            "Level 15:autogluon.tabular.models.fastainn.tabular_nn_fastai:TabularModel(\n",
            "  (embeds): ModuleList(\n",
            "    (0): Embedding(5, 4)\n",
            "  )\n",
            "  (emb_drop): Dropout(p=0.1, inplace=False)\n",
            "  (bn_cont): BatchNorm1d(6, eps=1e-05, momentum=0.1, affine=True, track_running_stats=True)\n",
            "  (layers): Sequential(\n",
            "    (0): LinBnDrop(\n",
            "      (0): Linear(in_features=10, out_features=200, bias=False)\n",
            "      (1): ReLU(inplace=True)\n",
            "      (2): BatchNorm1d(200, eps=1e-05, momentum=0.1, affine=True, track_running_stats=True)\n",
            "      (3): Dropout(p=0.1, inplace=False)\n",
            "    )\n",
            "    (1): LinBnDrop(\n",
            "      (0): Linear(in_features=200, out_features=100, bias=False)\n",
            "      (1): ReLU(inplace=True)\n",
            "      (2): BatchNorm1d(100, eps=1e-05, momentum=0.1, affine=True, track_running_stats=True)\n",
            "      (3): Dropout(p=0.1, inplace=False)\n",
            "    )\n",
            "    (2): LinBnDrop(\n",
            "      (0): Linear(in_features=100, out_features=2, bias=True)\n",
            "    )\n",
            "  )\n",
            ")\n",
            "Level 15:autogluon.tabular.models.fastainn.callbacks:Better model found at epoch 0 with accuracy value: 0.7387387156486511.\n",
            "Level 15:autogluon.tabular.models.fastainn.callbacks:Better model found at epoch 1 with accuracy value: 0.7837837934494019.\n",
            "Level 15:autogluon.tabular.models.fastainn.callbacks:Better model found at epoch 4 with accuracy value: 0.792792797088623.\n",
            "Level 15:autogluon.tabular.models.fastainn.callbacks:Better model found at epoch 5 with accuracy value: 0.8018018007278442.\n",
            "Level 15:autogluon.tabular.models.fastainn.callbacks:Better model found at epoch 8 with accuracy value: 0.8198198080062866.\n",
            "Level 15:autogluon.tabular.models.fastainn.callbacks:Better model found at epoch 17 with accuracy value: 0.8288288116455078.\n",
            "Level 15:autogluon.tabular.models.fastainn.tabular_nn_fastai:Model validation metrics: 0.8288288116455078\n",
            "Level 15:autogluon.core.utils.savers.save_pkl:Saving /content/drive/MyDrive/輪読/model/agModels_best/models/NeuralNetFastAI_BAG_L1/utils/oof.pkl\n",
            "Level 15:autogluon.core.utils.savers.save_pkl:Saving /content/drive/MyDrive/輪読/model/agModels_best/models/NeuralNetFastAI_BAG_L1/model.pkl\n",
            "INFO:autogluon.tabular.trainer.abstract_trainer:\t0.8485\t = Validation score   (accuracy)\n",
            "INFO:autogluon.tabular.trainer.abstract_trainer:\t57.64s\t = Training   runtime\n",
            "INFO:autogluon.tabular.trainer.abstract_trainer:\t0.82s\t = Validation runtime\n",
            "Level 15:autogluon.core.utils.savers.save_pkl:Saving /content/drive/MyDrive/輪読/model/agModels_best/models/trainer.pkl\n",
            "Level 15:autogluon.core.utils.loaders.load_pkl:Loading: /content/drive/MyDrive/輪読/model/agModels_best/models/XGBoost_BAG_L1/model.pkl\n",
            "INFO:autogluon.tabular.trainer.abstract_trainer:Fitting model: XGBoost_BAG_L1 ... Training model for up to 61.78s of the 161.43s of remaining time.\n",
            "Level 15:autogluon.core.utils.loaders.load_pkl:Loading: /content/drive/MyDrive/輪読/model/agModels_best/models/XGBoost_BAG_L1/utils/model_template.pkl\n",
            "Level 15:autogluon.core.utils.loaders.load_pkl:Loading: /content/drive/MyDrive/輪読/model/agModels_best/models/XGBoost_BAG_L1/utils/oof.pkl\n",
            "Level 15:autogluon.core.models.abstract.abstract_model:\tFitting S3F1 with 'num_gpus': 0, 'num_cpus': 2\n"
          ]
        },
        {
          "output_type": "stream",
          "name": "stdout",
          "text": [
            "[0]\tvalidation_0-error:0.22321\n",
            "[50]\tvalidation_0-error:0.24107\n",
            "[100]\tvalidation_0-error:0.24107\n",
            "[150]\tvalidation_0-error:0.24107\n",
            "[162]\tvalidation_0-error:0.24107\n"
          ]
        },
        {
          "output_type": "stream",
          "name": "stderr",
          "text": [
            "Level 15:autogluon.core.models.abstract.abstract_model:\tFitting S3F2 with 'num_gpus': 0, 'num_cpus': 2\n"
          ]
        },
        {
          "output_type": "stream",
          "name": "stdout",
          "text": [
            "[0]\tvalidation_0-error:0.19643\n",
            "[50]\tvalidation_0-error:0.12500\n",
            "[100]\tvalidation_0-error:0.14286\n",
            "[150]\tvalidation_0-error:0.15179\n",
            "[190]\tvalidation_0-error:0.14286\n"
          ]
        },
        {
          "output_type": "stream",
          "name": "stderr",
          "text": [
            "Level 15:autogluon.core.models.abstract.abstract_model:\tFitting S3F3 with 'num_gpus': 0, 'num_cpus': 2\n"
          ]
        },
        {
          "output_type": "stream",
          "name": "stdout",
          "text": [
            "[0]\tvalidation_0-error:0.19643\n",
            "[50]\tvalidation_0-error:0.18750\n",
            "[100]\tvalidation_0-error:0.20536\n",
            "[150]\tvalidation_0-error:0.21429\n",
            "[191]\tvalidation_0-error:0.21429\n"
          ]
        },
        {
          "output_type": "stream",
          "name": "stderr",
          "text": [
            "Level 15:autogluon.core.models.abstract.abstract_model:\tFitting S3F4 with 'num_gpus': 0, 'num_cpus': 2\n"
          ]
        },
        {
          "output_type": "stream",
          "name": "stdout",
          "text": [
            "[0]\tvalidation_0-error:0.17117\n",
            "[50]\tvalidation_0-error:0.12613\n",
            "[100]\tvalidation_0-error:0.15315\n",
            "[150]\tvalidation_0-error:0.15315\n",
            "[181]\tvalidation_0-error:0.16216\n"
          ]
        },
        {
          "output_type": "stream",
          "name": "stderr",
          "text": [
            "Level 15:autogluon.core.models.abstract.abstract_model:\tFitting S3F5 with 'num_gpus': 0, 'num_cpus': 2\n"
          ]
        },
        {
          "output_type": "stream",
          "name": "stdout",
          "text": [
            "[0]\tvalidation_0-error:0.19820\n",
            "[50]\tvalidation_0-error:0.16216\n",
            "[100]\tvalidation_0-error:0.16216\n",
            "[150]\tvalidation_0-error:0.16216\n",
            "[183]\tvalidation_0-error:0.17117\n"
          ]
        },
        {
          "output_type": "stream",
          "name": "stderr",
          "text": [
            "Level 15:autogluon.core.models.abstract.abstract_model:\tFitting S3F6 with 'num_gpus': 0, 'num_cpus': 2\n"
          ]
        },
        {
          "output_type": "stream",
          "name": "stdout",
          "text": [
            "[0]\tvalidation_0-error:0.21622\n",
            "[50]\tvalidation_0-error:0.17117\n",
            "[100]\tvalidation_0-error:0.18018\n",
            "[150]\tvalidation_0-error:0.18018\n",
            "[200]\tvalidation_0-error:0.18018\n",
            "[236]\tvalidation_0-error:0.18018\n"
          ]
        },
        {
          "output_type": "stream",
          "name": "stderr",
          "text": [
            "Level 15:autogluon.core.models.abstract.abstract_model:\tFitting S3F7 with 'num_gpus': 0, 'num_cpus': 2\n"
          ]
        },
        {
          "output_type": "stream",
          "name": "stdout",
          "text": [
            "[0]\tvalidation_0-error:0.13514\n",
            "[50]\tvalidation_0-error:0.13514\n",
            "[100]\tvalidation_0-error:0.12613\n",
            "[150]\tvalidation_0-error:0.14414\n",
            "[200]\tvalidation_0-error:0.14414\n",
            "[248]\tvalidation_0-error:0.14414\n"
          ]
        },
        {
          "output_type": "stream",
          "name": "stderr",
          "text": [
            "Level 15:autogluon.core.models.abstract.abstract_model:\tFitting S3F8 with 'num_gpus': 0, 'num_cpus': 2\n"
          ]
        },
        {
          "output_type": "stream",
          "name": "stdout",
          "text": [
            "[0]\tvalidation_0-error:0.21622\n",
            "[50]\tvalidation_0-error:0.20721\n",
            "[100]\tvalidation_0-error:0.21622\n",
            "[150]\tvalidation_0-error:0.21622\n",
            "[200]\tvalidation_0-error:0.21622\n",
            "[202]\tvalidation_0-error:0.21622\n"
          ]
        },
        {
          "output_type": "stream",
          "name": "stderr",
          "text": [
            "Level 15:autogluon.core.utils.savers.save_pkl:Saving /content/drive/MyDrive/輪読/model/agModels_best/models/XGBoost_BAG_L1/utils/oof.pkl\n",
            "Level 15:autogluon.core.utils.savers.save_pkl:Saving /content/drive/MyDrive/輪読/model/agModels_best/models/XGBoost_BAG_L1/model.pkl\n",
            "INFO:autogluon.tabular.trainer.abstract_trainer:\t0.8316\t = Validation score   (accuracy)\n",
            "INFO:autogluon.tabular.trainer.abstract_trainer:\t11.26s\t = Training   runtime\n",
            "INFO:autogluon.tabular.trainer.abstract_trainer:\t0.23s\t = Validation runtime\n",
            "Level 15:autogluon.core.utils.savers.save_pkl:Saving /content/drive/MyDrive/輪読/model/agModels_best/models/trainer.pkl\n",
            "Level 15:autogluon.core.utils.loaders.load_pkl:Loading: /content/drive/MyDrive/輪読/model/agModels_best/models/LightGBMLarge_BAG_L1/model.pkl\n",
            "INFO:autogluon.tabular.trainer.abstract_trainer:Fitting model: LightGBMLarge_BAG_L1 ... Training model for up to 57.7s of the 157.35s of remaining time.\n",
            "Level 15:autogluon.core.utils.loaders.load_pkl:Loading: /content/drive/MyDrive/輪読/model/agModels_best/models/LightGBMLarge_BAG_L1/utils/model_template.pkl\n",
            "Level 15:autogluon.core.utils.loaders.load_pkl:Loading: /content/drive/MyDrive/輪読/model/agModels_best/models/LightGBMLarge_BAG_L1/utils/oof.pkl\n",
            "Level 15:autogluon.core.models.abstract.abstract_model:\tFitting S3F1 with 'num_gpus': 0, 'num_cpus': 2\n",
            "Level 15:autogluon.tabular.models.lgb.lgb_model:Training Gradient Boosting Model for 10000 rounds...\n",
            "Level 15:autogluon.tabular.models.lgb.lgb_model:with the following hyperparameter settings:\n",
            "Level 15:autogluon.tabular.models.lgb.lgb_model:{'num_threads': -1, 'learning_rate': 0.03, 'objective': 'binary', 'verbose': -1, 'boosting_type': 'gbdt', 'two_round': True, 'num_leaves': 128, 'feature_fraction': 0.9, 'min_data_in_leaf': 5}\n",
            "/usr/local/lib/python3.7/dist-packages/lightgbm/engine.py:239: UserWarning: 'verbose_eval' argument is deprecated and will be removed in a future release of LightGBM. Pass 'log_evaluation()' callback via 'callbacks' argument instead.\n",
            "  _log_warning(\"'verbose_eval' argument is deprecated and will be removed in a future release of LightGBM. \"\n"
          ]
        },
        {
          "output_type": "stream",
          "name": "stdout",
          "text": [
            "[50]\ttrain_set's binary_error: 0.0693196\tvalid_set's binary_error: 0.169643\n",
            "[100]\ttrain_set's binary_error: 0.0320924\tvalid_set's binary_error: 0.1875\n"
          ]
        },
        {
          "output_type": "stream",
          "name": "stderr",
          "text": [
            "Level 15:autogluon.core.models.abstract.abstract_model:\tFitting S3F2 with 'num_gpus': 0, 'num_cpus': 2\n"
          ]
        },
        {
          "output_type": "stream",
          "name": "stdout",
          "text": [
            "[150]\ttrain_set's binary_error: 0.0192555\tvalid_set's binary_error: 0.223214\n"
          ]
        },
        {
          "output_type": "stream",
          "name": "stderr",
          "text": [
            "Level 15:autogluon.tabular.models.lgb.lgb_model:Training Gradient Boosting Model for 10000 rounds...\n",
            "Level 15:autogluon.tabular.models.lgb.lgb_model:with the following hyperparameter settings:\n",
            "Level 15:autogluon.tabular.models.lgb.lgb_model:{'num_threads': -1, 'learning_rate': 0.03, 'objective': 'binary', 'verbose': -1, 'boosting_type': 'gbdt', 'two_round': True, 'num_leaves': 128, 'feature_fraction': 0.9, 'min_data_in_leaf': 5}\n",
            "/usr/local/lib/python3.7/dist-packages/lightgbm/engine.py:239: UserWarning: 'verbose_eval' argument is deprecated and will be removed in a future release of LightGBM. Pass 'log_evaluation()' callback via 'callbacks' argument instead.\n",
            "  _log_warning(\"'verbose_eval' argument is deprecated and will be removed in a future release of LightGBM. \"\n"
          ]
        },
        {
          "output_type": "stream",
          "name": "stdout",
          "text": [
            "[50]\ttrain_set's binary_error: 0.0654685\tvalid_set's binary_error: 0.160714\n",
            "[100]\ttrain_set's binary_error: 0.0282413\tvalid_set's binary_error: 0.169643\n",
            "[150]\ttrain_set's binary_error: 0.0154044\tvalid_set's binary_error: 0.1875\n"
          ]
        },
        {
          "output_type": "stream",
          "name": "stderr",
          "text": [
            "Level 15:autogluon.core.models.abstract.abstract_model:\tFitting S3F3 with 'num_gpus': 0, 'num_cpus': 2\n",
            "Level 15:autogluon.tabular.models.lgb.lgb_model:Training Gradient Boosting Model for 10000 rounds...\n",
            "Level 15:autogluon.tabular.models.lgb.lgb_model:with the following hyperparameter settings:\n",
            "Level 15:autogluon.tabular.models.lgb.lgb_model:{'num_threads': -1, 'learning_rate': 0.03, 'objective': 'binary', 'verbose': -1, 'boosting_type': 'gbdt', 'two_round': True, 'num_leaves': 128, 'feature_fraction': 0.9, 'min_data_in_leaf': 5}\n",
            "/usr/local/lib/python3.7/dist-packages/lightgbm/engine.py:239: UserWarning: 'verbose_eval' argument is deprecated and will be removed in a future release of LightGBM. Pass 'log_evaluation()' callback via 'callbacks' argument instead.\n",
            "  _log_warning(\"'verbose_eval' argument is deprecated and will be removed in a future release of LightGBM. \"\n"
          ]
        },
        {
          "output_type": "stream",
          "name": "stdout",
          "text": [
            "[50]\ttrain_set's binary_error: 0.0680359\tvalid_set's binary_error: 0.1875\n",
            "[100]\ttrain_set's binary_error: 0.0333761\tvalid_set's binary_error: 0.178571\n"
          ]
        },
        {
          "output_type": "stream",
          "name": "stderr",
          "text": [
            "Level 15:autogluon.core.models.abstract.abstract_model:\tFitting S3F4 with 'num_gpus': 0, 'num_cpus': 2\n",
            "Level 15:autogluon.tabular.models.lgb.lgb_model:Training Gradient Boosting Model for 10000 rounds...\n"
          ]
        },
        {
          "output_type": "stream",
          "name": "stdout",
          "text": [
            "[150]\ttrain_set's binary_error: 0.0243902\tvalid_set's binary_error: 0.178571\n"
          ]
        },
        {
          "output_type": "stream",
          "name": "stderr",
          "text": [
            "Level 15:autogluon.tabular.models.lgb.lgb_model:with the following hyperparameter settings:\n",
            "Level 15:autogluon.tabular.models.lgb.lgb_model:{'num_threads': -1, 'learning_rate': 0.03, 'objective': 'binary', 'verbose': -1, 'boosting_type': 'gbdt', 'two_round': True, 'num_leaves': 128, 'feature_fraction': 0.9, 'min_data_in_leaf': 5}\n",
            "/usr/local/lib/python3.7/dist-packages/lightgbm/engine.py:239: UserWarning: 'verbose_eval' argument is deprecated and will be removed in a future release of LightGBM. Pass 'log_evaluation()' callback via 'callbacks' argument instead.\n",
            "  _log_warning(\"'verbose_eval' argument is deprecated and will be removed in a future release of LightGBM. \"\n"
          ]
        },
        {
          "output_type": "stream",
          "name": "stdout",
          "text": [
            "[50]\ttrain_set's binary_error: 0.0705128\tvalid_set's binary_error: 0.144144\n",
            "[100]\ttrain_set's binary_error: 0.0307692\tvalid_set's binary_error: 0.144144\n"
          ]
        },
        {
          "output_type": "stream",
          "name": "stderr",
          "text": [
            "Level 15:autogluon.core.models.abstract.abstract_model:\tFitting S3F5 with 'num_gpus': 0, 'num_cpus': 2\n"
          ]
        },
        {
          "output_type": "stream",
          "name": "stdout",
          "text": [
            "[150]\ttrain_set's binary_error: 0.0192308\tvalid_set's binary_error: 0.162162\n"
          ]
        },
        {
          "output_type": "stream",
          "name": "stderr",
          "text": [
            "Level 15:autogluon.tabular.models.lgb.lgb_model:Training Gradient Boosting Model for 10000 rounds...\n",
            "Level 15:autogluon.tabular.models.lgb.lgb_model:with the following hyperparameter settings:\n",
            "Level 15:autogluon.tabular.models.lgb.lgb_model:{'num_threads': -1, 'learning_rate': 0.03, 'objective': 'binary', 'verbose': -1, 'boosting_type': 'gbdt', 'two_round': True, 'num_leaves': 128, 'feature_fraction': 0.9, 'min_data_in_leaf': 5}\n",
            "/usr/local/lib/python3.7/dist-packages/lightgbm/engine.py:239: UserWarning: 'verbose_eval' argument is deprecated and will be removed in a future release of LightGBM. Pass 'log_evaluation()' callback via 'callbacks' argument instead.\n",
            "  _log_warning(\"'verbose_eval' argument is deprecated and will be removed in a future release of LightGBM. \"\n"
          ]
        },
        {
          "output_type": "stream",
          "name": "stdout",
          "text": [
            "[50]\ttrain_set's binary_error: 0.074359\tvalid_set's binary_error: 0.171171\n",
            "[100]\ttrain_set's binary_error: 0.0333333\tvalid_set's binary_error: 0.171171\n",
            "[150]\ttrain_set's binary_error: 0.0217949\tvalid_set's binary_error: 0.189189\n"
          ]
        },
        {
          "output_type": "stream",
          "name": "stderr",
          "text": [
            "Level 15:autogluon.core.models.abstract.abstract_model:\tFitting S3F6 with 'num_gpus': 0, 'num_cpus': 2\n",
            "Level 15:autogluon.tabular.models.lgb.lgb_model:Training Gradient Boosting Model for 10000 rounds...\n",
            "Level 15:autogluon.tabular.models.lgb.lgb_model:with the following hyperparameter settings:\n",
            "Level 15:autogluon.tabular.models.lgb.lgb_model:{'num_threads': -1, 'learning_rate': 0.03, 'objective': 'binary', 'verbose': -1, 'boosting_type': 'gbdt', 'two_round': True, 'num_leaves': 128, 'feature_fraction': 0.9, 'min_data_in_leaf': 5}\n",
            "/usr/local/lib/python3.7/dist-packages/lightgbm/engine.py:239: UserWarning: 'verbose_eval' argument is deprecated and will be removed in a future release of LightGBM. Pass 'log_evaluation()' callback via 'callbacks' argument instead.\n",
            "  _log_warning(\"'verbose_eval' argument is deprecated and will be removed in a future release of LightGBM. \"\n"
          ]
        },
        {
          "output_type": "stream",
          "name": "stdout",
          "text": [
            "[50]\ttrain_set's binary_error: 0.0666667\tvalid_set's binary_error: 0.198198\n",
            "[100]\ttrain_set's binary_error: 0.0371795\tvalid_set's binary_error: 0.162162\n",
            "[150]\ttrain_set's binary_error: 0.0230769\tvalid_set's binary_error: 0.18018\n",
            "[200]\ttrain_set's binary_error: 0.0217949\tvalid_set's binary_error: 0.18018\n"
          ]
        },
        {
          "output_type": "stream",
          "name": "stderr",
          "text": [
            "Level 15:autogluon.core.models.abstract.abstract_model:\tFitting S3F7 with 'num_gpus': 0, 'num_cpus': 2\n",
            "Level 15:autogluon.tabular.models.lgb.lgb_model:Training Gradient Boosting Model for 10000 rounds...\n",
            "Level 15:autogluon.tabular.models.lgb.lgb_model:with the following hyperparameter settings:\n",
            "Level 15:autogluon.tabular.models.lgb.lgb_model:{'num_threads': -1, 'learning_rate': 0.03, 'objective': 'binary', 'verbose': -1, 'boosting_type': 'gbdt', 'two_round': True, 'num_leaves': 128, 'feature_fraction': 0.9, 'min_data_in_leaf': 5}\n",
            "/usr/local/lib/python3.7/dist-packages/lightgbm/engine.py:239: UserWarning: 'verbose_eval' argument is deprecated and will be removed in a future release of LightGBM. Pass 'log_evaluation()' callback via 'callbacks' argument instead.\n",
            "  _log_warning(\"'verbose_eval' argument is deprecated and will be removed in a future release of LightGBM. \"\n"
          ]
        },
        {
          "output_type": "stream",
          "name": "stdout",
          "text": [
            "[50]\ttrain_set's binary_error: 0.0679487\tvalid_set's binary_error: 0.144144\n",
            "[100]\ttrain_set's binary_error: 0.0346154\tvalid_set's binary_error: 0.171171\n"
          ]
        },
        {
          "output_type": "stream",
          "name": "stderr",
          "text": [
            "Level 15:autogluon.core.models.abstract.abstract_model:\tFitting S3F8 with 'num_gpus': 0, 'num_cpus': 2\n"
          ]
        },
        {
          "output_type": "stream",
          "name": "stdout",
          "text": [
            "[150]\ttrain_set's binary_error: 0.0205128\tvalid_set's binary_error: 0.171171\n",
            "[200]\ttrain_set's binary_error: 0.0205128\tvalid_set's binary_error: 0.171171\n"
          ]
        },
        {
          "output_type": "stream",
          "name": "stderr",
          "text": [
            "Level 15:autogluon.tabular.models.lgb.lgb_model:Training Gradient Boosting Model for 10000 rounds...\n",
            "Level 15:autogluon.tabular.models.lgb.lgb_model:with the following hyperparameter settings:\n",
            "Level 15:autogluon.tabular.models.lgb.lgb_model:{'num_threads': -1, 'learning_rate': 0.03, 'objective': 'binary', 'verbose': -1, 'boosting_type': 'gbdt', 'two_round': True, 'num_leaves': 128, 'feature_fraction': 0.9, 'min_data_in_leaf': 5}\n",
            "/usr/local/lib/python3.7/dist-packages/lightgbm/engine.py:239: UserWarning: 'verbose_eval' argument is deprecated and will be removed in a future release of LightGBM. Pass 'log_evaluation()' callback via 'callbacks' argument instead.\n",
            "  _log_warning(\"'verbose_eval' argument is deprecated and will be removed in a future release of LightGBM. \"\n"
          ]
        },
        {
          "output_type": "stream",
          "name": "stdout",
          "text": [
            "[50]\ttrain_set's binary_error: 0.0717949\tvalid_set's binary_error: 0.189189\n",
            "[100]\ttrain_set's binary_error: 0.0384615\tvalid_set's binary_error: 0.189189\n"
          ]
        },
        {
          "output_type": "stream",
          "name": "stderr",
          "text": [
            "Level 15:autogluon.core.utils.savers.save_pkl:Saving /content/drive/MyDrive/輪読/model/agModels_best/models/LightGBMLarge_BAG_L1/utils/oof.pkl\n",
            "Level 15:autogluon.core.utils.savers.save_pkl:Saving /content/drive/MyDrive/輪読/model/agModels_best/models/LightGBMLarge_BAG_L1/model.pkl\n",
            "INFO:autogluon.tabular.trainer.abstract_trainer:\t0.8474\t = Validation score   (accuracy)\n",
            "INFO:autogluon.tabular.trainer.abstract_trainer:\t18.35s\t = Training   runtime\n",
            "INFO:autogluon.tabular.trainer.abstract_trainer:\t0.21s\t = Validation runtime\n",
            "Level 15:autogluon.core.utils.savers.save_pkl:Saving /content/drive/MyDrive/輪読/model/agModels_best/models/trainer.pkl\n",
            "Level 15:autogluon.tabular.trainer.abstract_trainer:Not enough time left to finish repeated k-fold bagging, stopping early ...\n",
            "INFO:autogluon.tabular.trainer.abstract_trainer:Completed 3/20 k-fold bagging repeats ...\n",
            "Level 15:autogluon.core.utils.loaders.load_pkl:Loading: /content/drive/MyDrive/輪読/model/agModels_best/models/KNeighborsUnif_BAG_L1/utils/oof.pkl\n",
            "Level 15:autogluon.core.utils.loaders.load_pkl:Loading: /content/drive/MyDrive/輪読/model/agModels_best/models/KNeighborsDist_BAG_L1/utils/oof.pkl\n"
          ]
        },
        {
          "output_type": "stream",
          "name": "stdout",
          "text": [
            "[150]\ttrain_set's binary_error: 0.0217949\tvalid_set's binary_error: 0.207207\n"
          ]
        },
        {
          "output_type": "stream",
          "name": "stderr",
          "text": [
            "Level 15:autogluon.core.utils.loaders.load_pkl:Loading: /content/drive/MyDrive/輪読/model/agModels_best/models/LightGBMXT_BAG_L1/utils/oof.pkl\n",
            "Level 15:autogluon.core.utils.loaders.load_pkl:Loading: /content/drive/MyDrive/輪読/model/agModels_best/models/LightGBM_BAG_L1/utils/oof.pkl\n",
            "Level 15:autogluon.core.utils.loaders.load_pkl:Loading: /content/drive/MyDrive/輪読/model/agModels_best/models/RandomForestGini_BAG_L1/utils/oof.pkl\n",
            "Level 15:autogluon.core.utils.loaders.load_pkl:Loading: /content/drive/MyDrive/輪読/model/agModels_best/models/RandomForestEntr_BAG_L1/utils/oof.pkl\n",
            "Level 15:autogluon.core.utils.loaders.load_pkl:Loading: /content/drive/MyDrive/輪読/model/agModels_best/models/CatBoost_BAG_L1/utils/oof.pkl\n",
            "Level 15:autogluon.core.utils.loaders.load_pkl:Loading: /content/drive/MyDrive/輪読/model/agModels_best/models/ExtraTreesGini_BAG_L1/utils/oof.pkl\n",
            "Level 15:autogluon.core.utils.loaders.load_pkl:Loading: /content/drive/MyDrive/輪読/model/agModels_best/models/ExtraTreesEntr_BAG_L1/utils/oof.pkl\n",
            "Level 15:autogluon.core.utils.loaders.load_pkl:Loading: /content/drive/MyDrive/輪読/model/agModels_best/models/NeuralNetFastAI_BAG_L1/utils/oof.pkl\n",
            "Level 15:autogluon.core.utils.loaders.load_pkl:Loading: /content/drive/MyDrive/輪読/model/agModels_best/models/XGBoost_BAG_L1/utils/oof.pkl\n",
            "Level 15:autogluon.core.utils.loaders.load_pkl:Loading: /content/drive/MyDrive/輪読/model/agModels_best/models/LightGBMLarge_BAG_L1/utils/oof.pkl\n",
            "INFO:autogluon.tabular.trainer.model_presets.presets:Model configs that will be trained (in order):\n",
            "INFO:autogluon.tabular.trainer.model_presets.presets:\tWeightedEnsemble_L2: \t{'ag_args': {'valid_base': False, 'name_bag_suffix': '', 'model_type': <class 'autogluon.core.models.greedy_ensemble.greedy_weighted_ensemble_model.GreedyWeightedEnsembleModel'>, 'priority': 0}, 'ag_args_ensemble': {'save_bag_folds': True}}\n",
            "INFO:autogluon.tabular.trainer.abstract_trainer:Fitting model: WeightedEnsemble_L2 ... Training model for up to 299.23s of the 150.65s of remaining time.\n",
            "Level 15:autogluon.core.utils.savers.save_pkl:Saving /content/drive/MyDrive/輪読/model/agModels_best/models/WeightedEnsemble_L2/utils/model_template.pkl\n",
            "Level 15:autogluon.core.models.abstract.abstract_model:\tFitting S1F1 with 'num_gpus': 0, 'num_cpus': 2\n",
            "Level 15:autogluon.core.models.greedy_ensemble.ensemble_selection:Ensemble size: 33\n",
            "Level 15:autogluon.core.models.greedy_ensemble.ensemble_selection:Ensemble weights: \n",
            "Level 15:autogluon.core.models.greedy_ensemble.ensemble_selection:[0.03030303 0.         0.09090909 0.06060606 0.09090909 0.\n",
            " 0.03030303 0.03030303 0.         0.39393939 0.03030303 0.24242424]\n",
            "Level 15:autogluon.core.utils.savers.save_pkl:Saving /content/drive/MyDrive/輪読/model/agModels_best/models/WeightedEnsemble_L2/utils/oof.pkl\n",
            "Level 15:autogluon.core.utils.savers.save_pkl:Saving /content/drive/MyDrive/輪読/model/agModels_best/models/WeightedEnsemble_L2/model.pkl\n",
            "INFO:autogluon.tabular.trainer.abstract_trainer:\t0.8507\t = Validation score   (accuracy)\n",
            "INFO:autogluon.tabular.trainer.abstract_trainer:\t1.02s\t = Training   runtime\n",
            "INFO:autogluon.tabular.trainer.abstract_trainer:\t0.01s\t = Validation runtime\n",
            "Level 15:autogluon.core.utils.savers.save_pkl:Saving /content/drive/MyDrive/輪読/model/agModels_best/models/trainer.pkl\n",
            "INFO:autogluon.tabular.trainer.model_presets.presets:Model configs that will be trained (in order):\n",
            "INFO:autogluon.tabular.trainer.model_presets.presets:\tLightGBMXT_BAG_L2: \t{'extra_trees': True, 'ag_args': {'name_suffix': 'XT', 'model_type': <class 'autogluon.tabular.models.lgb.lgb_model.LGBModel'>, 'priority': 90}}\n",
            "INFO:autogluon.tabular.trainer.model_presets.presets:\tLightGBM_BAG_L2: \t{'ag_args': {'model_type': <class 'autogluon.tabular.models.lgb.lgb_model.LGBModel'>, 'priority': 90}}\n",
            "INFO:autogluon.tabular.trainer.model_presets.presets:\tRandomForestGini_BAG_L2: \t{'criterion': 'gini', 'ag_args': {'name_suffix': 'Gini', 'problem_types': ['binary', 'multiclass'], 'model_type': <class 'autogluon.tabular.models.rf.rf_model.RFModel'>, 'priority': 80}, 'ag_args_ensemble': {'use_child_oof': True}}\n",
            "INFO:autogluon.tabular.trainer.model_presets.presets:\tRandomForestEntr_BAG_L2: \t{'criterion': 'entropy', 'ag_args': {'name_suffix': 'Entr', 'problem_types': ['binary', 'multiclass'], 'model_type': <class 'autogluon.tabular.models.rf.rf_model.RFModel'>, 'priority': 80}, 'ag_args_ensemble': {'use_child_oof': True}}\n",
            "INFO:autogluon.tabular.trainer.model_presets.presets:\tCatBoost_BAG_L2: \t{'ag_args': {'model_type': <class 'autogluon.tabular.models.catboost.catboost_model.CatBoostModel'>, 'priority': 70}}\n",
            "INFO:autogluon.tabular.trainer.model_presets.presets:\tExtraTreesGini_BAG_L2: \t{'criterion': 'gini', 'ag_args': {'name_suffix': 'Gini', 'problem_types': ['binary', 'multiclass'], 'model_type': <class 'autogluon.tabular.models.xt.xt_model.XTModel'>, 'priority': 60}, 'ag_args_ensemble': {'use_child_oof': True}}\n",
            "INFO:autogluon.tabular.trainer.model_presets.presets:\tExtraTreesEntr_BAG_L2: \t{'criterion': 'entropy', 'ag_args': {'name_suffix': 'Entr', 'problem_types': ['binary', 'multiclass'], 'model_type': <class 'autogluon.tabular.models.xt.xt_model.XTModel'>, 'priority': 60}, 'ag_args_ensemble': {'use_child_oof': True}}\n",
            "INFO:autogluon.tabular.trainer.model_presets.presets:\tNeuralNetFastAI_BAG_L2: \t{'ag_args': {'model_type': <class 'autogluon.tabular.models.fastainn.tabular_nn_fastai.NNFastAiTabularModel'>, 'priority': 50}}\n",
            "INFO:autogluon.tabular.trainer.model_presets.presets:\tXGBoost_BAG_L2: \t{'ag_args': {'model_type': <class 'autogluon.tabular.models.xgboost.xgboost_model.XGBoostModel'>, 'priority': 40}}\n",
            "INFO:autogluon.tabular.trainer.model_presets.presets:\tNeuralNetMXNet_BAG_L2: \t{'ag_args': {'model_type': <class 'autogluon.tabular.models.tabular_nn.tabular_nn_model.TabularNeuralNetModel'>, 'priority': 20}}\n",
            "INFO:autogluon.tabular.trainer.model_presets.presets:\tLightGBMLarge_BAG_L2: \t{'learning_rate': 0.03, 'num_leaves': 128, 'feature_fraction': 0.9, 'min_data_in_leaf': 5, 'ag_args': {'model_type': <class 'autogluon.tabular.models.lgb.lgb_model.LGBModel'>, 'name_suffix': 'Large', 'hyperparameter_tune_kwargs': None, 'priority': 0}}\n",
            "INFO:autogluon.tabular.trainer.abstract_trainer:Fitting 11 L2 models ...\n",
            "Level 15:autogluon.core.utils.loaders.load_pkl:Loading: /content/drive/MyDrive/輪読/model/agModels_best/models/KNeighborsUnif_BAG_L1/utils/oof.pkl\n",
            "Level 15:autogluon.core.utils.loaders.load_pkl:Loading: /content/drive/MyDrive/輪読/model/agModels_best/models/KNeighborsDist_BAG_L1/utils/oof.pkl\n",
            "Level 15:autogluon.core.utils.loaders.load_pkl:Loading: /content/drive/MyDrive/輪読/model/agModels_best/models/LightGBMXT_BAG_L1/utils/oof.pkl\n",
            "Level 15:autogluon.core.utils.loaders.load_pkl:Loading: /content/drive/MyDrive/輪読/model/agModels_best/models/LightGBM_BAG_L1/utils/oof.pkl\n",
            "Level 15:autogluon.core.utils.loaders.load_pkl:Loading: /content/drive/MyDrive/輪読/model/agModels_best/models/RandomForestGini_BAG_L1/utils/oof.pkl\n",
            "Level 15:autogluon.core.utils.loaders.load_pkl:Loading: /content/drive/MyDrive/輪読/model/agModels_best/models/RandomForestEntr_BAG_L1/utils/oof.pkl\n",
            "Level 15:autogluon.core.utils.loaders.load_pkl:Loading: /content/drive/MyDrive/輪読/model/agModels_best/models/CatBoost_BAG_L1/utils/oof.pkl\n",
            "Level 15:autogluon.core.utils.loaders.load_pkl:Loading: /content/drive/MyDrive/輪読/model/agModels_best/models/ExtraTreesGini_BAG_L1/utils/oof.pkl\n",
            "Level 15:autogluon.core.utils.loaders.load_pkl:Loading: /content/drive/MyDrive/輪読/model/agModels_best/models/ExtraTreesEntr_BAG_L1/utils/oof.pkl\n",
            "Level 15:autogluon.core.utils.loaders.load_pkl:Loading: /content/drive/MyDrive/輪読/model/agModels_best/models/NeuralNetFastAI_BAG_L1/utils/oof.pkl\n",
            "Level 15:autogluon.core.utils.loaders.load_pkl:Loading: /content/drive/MyDrive/輪読/model/agModels_best/models/XGBoost_BAG_L1/utils/oof.pkl\n",
            "Level 15:autogluon.core.utils.loaders.load_pkl:Loading: /content/drive/MyDrive/輪読/model/agModels_best/models/LightGBMLarge_BAG_L1/utils/oof.pkl\n",
            "INFO:autogluon.tabular.trainer.abstract_trainer:Fitting model: LightGBMXT_BAG_L2 ... Training model for up to 149.5s of the 149.39s of remaining time.\n",
            "Level 15:autogluon.core.utils.savers.save_pkl:Saving /content/drive/MyDrive/輪読/model/agModels_best/models/LightGBMXT_BAG_L2/utils/model_template.pkl\n",
            "Level 15:autogluon.core.models.abstract.abstract_model:\tFitting S1F1 with 'num_gpus': 0, 'num_cpus': 2\n",
            "Level 15:autogluon.tabular.models.lgb.lgb_model:Training Gradient Boosting Model for 10000 rounds...\n",
            "Level 15:autogluon.tabular.models.lgb.lgb_model:with the following hyperparameter settings:\n",
            "Level 15:autogluon.tabular.models.lgb.lgb_model:{'num_threads': -1, 'learning_rate': 0.05, 'objective': 'binary', 'verbose': -1, 'boosting_type': 'gbdt', 'two_round': True, 'extra_trees': True}\n",
            "/usr/local/lib/python3.7/dist-packages/lightgbm/engine.py:239: UserWarning: 'verbose_eval' argument is deprecated and will be removed in a future release of LightGBM. Pass 'log_evaluation()' callback via 'callbacks' argument instead.\n",
            "  _log_warning(\"'verbose_eval' argument is deprecated and will be removed in a future release of LightGBM. \"\n",
            "Level 15:autogluon.core.models.abstract.abstract_model:\tFitting S1F2 with 'num_gpus': 0, 'num_cpus': 2\n"
          ]
        },
        {
          "output_type": "stream",
          "name": "stdout",
          "text": [
            "[50]\ttrain_set's binary_error: 0.136072\tvalid_set's binary_error: 0.133929\n",
            "[100]\ttrain_set's binary_error: 0.110398\tvalid_set's binary_error: 0.151786\n",
            "[150]\ttrain_set's binary_error: 0.0898588\tvalid_set's binary_error: 0.160714\n"
          ]
        },
        {
          "output_type": "stream",
          "name": "stderr",
          "text": [
            "Level 15:autogluon.tabular.models.lgb.lgb_model:Training Gradient Boosting Model for 10000 rounds...\n",
            "Level 15:autogluon.tabular.models.lgb.lgb_model:with the following hyperparameter settings:\n",
            "Level 15:autogluon.tabular.models.lgb.lgb_model:{'num_threads': -1, 'learning_rate': 0.05, 'objective': 'binary', 'verbose': -1, 'boosting_type': 'gbdt', 'two_round': True, 'extra_trees': True}\n",
            "/usr/local/lib/python3.7/dist-packages/lightgbm/engine.py:239: UserWarning: 'verbose_eval' argument is deprecated and will be removed in a future release of LightGBM. Pass 'log_evaluation()' callback via 'callbacks' argument instead.\n",
            "  _log_warning(\"'verbose_eval' argument is deprecated and will be removed in a future release of LightGBM. \"\n",
            "Level 15:autogluon.core.models.abstract.abstract_model:\tFitting S1F3 with 'num_gpus': 0, 'num_cpus': 2\n",
            "Level 15:autogluon.tabular.models.lgb.lgb_model:Training Gradient Boosting Model for 10000 rounds...\n"
          ]
        },
        {
          "output_type": "stream",
          "name": "stdout",
          "text": [
            "[50]\ttrain_set's binary_error: 0.141207\tvalid_set's binary_error: 0.116071\n",
            "[100]\ttrain_set's binary_error: 0.115533\tvalid_set's binary_error: 0.125\n",
            "[150]\ttrain_set's binary_error: 0.0898588\tvalid_set's binary_error: 0.116071\n"
          ]
        },
        {
          "output_type": "stream",
          "name": "stderr",
          "text": [
            "Level 15:autogluon.tabular.models.lgb.lgb_model:with the following hyperparameter settings:\n",
            "Level 15:autogluon.tabular.models.lgb.lgb_model:{'num_threads': -1, 'learning_rate': 0.05, 'objective': 'binary', 'verbose': -1, 'boosting_type': 'gbdt', 'two_round': True, 'extra_trees': True}\n",
            "/usr/local/lib/python3.7/dist-packages/lightgbm/engine.py:239: UserWarning: 'verbose_eval' argument is deprecated and will be removed in a future release of LightGBM. Pass 'log_evaluation()' callback via 'callbacks' argument instead.\n",
            "  _log_warning(\"'verbose_eval' argument is deprecated and will be removed in a future release of LightGBM. \"\n",
            "Level 15:autogluon.core.models.abstract.abstract_model:\tFitting S1F4 with 'num_gpus': 0, 'num_cpus': 2\n",
            "Level 15:autogluon.tabular.models.lgb.lgb_model:Training Gradient Boosting Model for 10000 rounds...\n"
          ]
        },
        {
          "output_type": "stream",
          "name": "stdout",
          "text": [
            "[50]\ttrain_set's binary_error: 0.138639\tvalid_set's binary_error: 0.142857\n",
            "[100]\ttrain_set's binary_error: 0.109114\tvalid_set's binary_error: 0.142857\n",
            "[150]\ttrain_set's binary_error: 0.0937099\tvalid_set's binary_error: 0.142857\n"
          ]
        },
        {
          "output_type": "stream",
          "name": "stderr",
          "text": [
            "Level 15:autogluon.tabular.models.lgb.lgb_model:with the following hyperparameter settings:\n",
            "Level 15:autogluon.tabular.models.lgb.lgb_model:{'num_threads': -1, 'learning_rate': 0.05, 'objective': 'binary', 'verbose': -1, 'boosting_type': 'gbdt', 'two_round': True, 'extra_trees': True}\n",
            "/usr/local/lib/python3.7/dist-packages/lightgbm/engine.py:239: UserWarning: 'verbose_eval' argument is deprecated and will be removed in a future release of LightGBM. Pass 'log_evaluation()' callback via 'callbacks' argument instead.\n",
            "  _log_warning(\"'verbose_eval' argument is deprecated and will be removed in a future release of LightGBM. \"\n",
            "Level 15:autogluon.core.models.abstract.abstract_model:\tFitting S1F5 with 'num_gpus': 0, 'num_cpus': 2\n",
            "Level 15:autogluon.tabular.models.lgb.lgb_model:Training Gradient Boosting Model for 10000 rounds...\n"
          ]
        },
        {
          "output_type": "stream",
          "name": "stdout",
          "text": [
            "[50]\ttrain_set's binary_error: 0.124359\tvalid_set's binary_error: 0.198198\n",
            "[100]\ttrain_set's binary_error: 0.105128\tvalid_set's binary_error: 0.216216\n",
            "[150]\ttrain_set's binary_error: 0.0910256\tvalid_set's binary_error: 0.207207\n"
          ]
        },
        {
          "output_type": "stream",
          "name": "stderr",
          "text": [
            "Level 15:autogluon.tabular.models.lgb.lgb_model:with the following hyperparameter settings:\n",
            "Level 15:autogluon.tabular.models.lgb.lgb_model:{'num_threads': -1, 'learning_rate': 0.05, 'objective': 'binary', 'verbose': -1, 'boosting_type': 'gbdt', 'two_round': True, 'extra_trees': True}\n",
            "/usr/local/lib/python3.7/dist-packages/lightgbm/engine.py:239: UserWarning: 'verbose_eval' argument is deprecated and will be removed in a future release of LightGBM. Pass 'log_evaluation()' callback via 'callbacks' argument instead.\n",
            "  _log_warning(\"'verbose_eval' argument is deprecated and will be removed in a future release of LightGBM. \"\n"
          ]
        },
        {
          "output_type": "stream",
          "name": "stdout",
          "text": [
            "[50]\ttrain_set's binary_error: 0.135897\tvalid_set's binary_error: 0.171171\n",
            "[100]\ttrain_set's binary_error: 0.108974\tvalid_set's binary_error: 0.171171\n",
            "[150]\ttrain_set's binary_error: 0.0884615\tvalid_set's binary_error: 0.171171\n",
            "[200]\ttrain_set's binary_error: 0.0666667\tvalid_set's binary_error: 0.171171\n"
          ]
        },
        {
          "output_type": "stream",
          "name": "stderr",
          "text": [
            "Level 15:autogluon.core.models.abstract.abstract_model:\tFitting S1F6 with 'num_gpus': 0, 'num_cpus': 2\n",
            "Level 15:autogluon.tabular.models.lgb.lgb_model:Training Gradient Boosting Model for 10000 rounds...\n",
            "Level 15:autogluon.tabular.models.lgb.lgb_model:with the following hyperparameter settings:\n",
            "Level 15:autogluon.tabular.models.lgb.lgb_model:{'num_threads': -1, 'learning_rate': 0.05, 'objective': 'binary', 'verbose': -1, 'boosting_type': 'gbdt', 'two_round': True, 'extra_trees': True}\n",
            "/usr/local/lib/python3.7/dist-packages/lightgbm/engine.py:239: UserWarning: 'verbose_eval' argument is deprecated and will be removed in a future release of LightGBM. Pass 'log_evaluation()' callback via 'callbacks' argument instead.\n",
            "  _log_warning(\"'verbose_eval' argument is deprecated and will be removed in a future release of LightGBM. \"\n",
            "Level 15:autogluon.core.models.abstract.abstract_model:\tFitting S1F7 with 'num_gpus': 0, 'num_cpus': 2\n"
          ]
        },
        {
          "output_type": "stream",
          "name": "stdout",
          "text": [
            "[50]\ttrain_set's binary_error: 0.132051\tvalid_set's binary_error: 0.144144\n",
            "[100]\ttrain_set's binary_error: 0.110256\tvalid_set's binary_error: 0.126126\n",
            "[150]\ttrain_set's binary_error: 0.0897436\tvalid_set's binary_error: 0.126126\n",
            "[200]\ttrain_set's binary_error: 0.0615385\tvalid_set's binary_error: 0.126126\n"
          ]
        },
        {
          "output_type": "stream",
          "name": "stderr",
          "text": [
            "Level 15:autogluon.tabular.models.lgb.lgb_model:Training Gradient Boosting Model for 10000 rounds...\n",
            "Level 15:autogluon.tabular.models.lgb.lgb_model:with the following hyperparameter settings:\n",
            "Level 15:autogluon.tabular.models.lgb.lgb_model:{'num_threads': -1, 'learning_rate': 0.05, 'objective': 'binary', 'verbose': -1, 'boosting_type': 'gbdt', 'two_round': True, 'extra_trees': True}\n",
            "/usr/local/lib/python3.7/dist-packages/lightgbm/engine.py:239: UserWarning: 'verbose_eval' argument is deprecated and will be removed in a future release of LightGBM. Pass 'log_evaluation()' callback via 'callbacks' argument instead.\n",
            "  _log_warning(\"'verbose_eval' argument is deprecated and will be removed in a future release of LightGBM. \"\n",
            "Level 15:autogluon.core.models.abstract.abstract_model:\tFitting S1F8 with 'num_gpus': 0, 'num_cpus': 2\n",
            "Level 15:autogluon.tabular.models.lgb.lgb_model:Training Gradient Boosting Model for 10000 rounds...\n"
          ]
        },
        {
          "output_type": "stream",
          "name": "stdout",
          "text": [
            "[50]\ttrain_set's binary_error: 0.135897\tvalid_set's binary_error: 0.153153\n",
            "[100]\ttrain_set's binary_error: 0.116667\tvalid_set's binary_error: 0.144144\n",
            "[150]\ttrain_set's binary_error: 0.101282\tvalid_set's binary_error: 0.135135\n"
          ]
        },
        {
          "output_type": "stream",
          "name": "stderr",
          "text": [
            "Level 15:autogluon.tabular.models.lgb.lgb_model:with the following hyperparameter settings:\n",
            "Level 15:autogluon.tabular.models.lgb.lgb_model:{'num_threads': -1, 'learning_rate': 0.05, 'objective': 'binary', 'verbose': -1, 'boosting_type': 'gbdt', 'two_round': True, 'extra_trees': True}\n",
            "/usr/local/lib/python3.7/dist-packages/lightgbm/engine.py:239: UserWarning: 'verbose_eval' argument is deprecated and will be removed in a future release of LightGBM. Pass 'log_evaluation()' callback via 'callbacks' argument instead.\n",
            "  _log_warning(\"'verbose_eval' argument is deprecated and will be removed in a future release of LightGBM. \"\n",
            "Level 15:autogluon.core.utils.savers.save_pkl:Saving /content/drive/MyDrive/輪読/model/agModels_best/models/LightGBMXT_BAG_L2/utils/oof.pkl\n",
            "Level 15:autogluon.core.utils.savers.save_pkl:Saving /content/drive/MyDrive/輪読/model/agModels_best/models/LightGBMXT_BAG_L2/model.pkl\n"
          ]
        },
        {
          "output_type": "stream",
          "name": "stdout",
          "text": [
            "[50]\ttrain_set's binary_error: 0.128205\tvalid_set's binary_error: 0.207207\n",
            "[100]\ttrain_set's binary_error: 0.115385\tvalid_set's binary_error: 0.198198\n",
            "[150]\ttrain_set's binary_error: 0.0923077\tvalid_set's binary_error: 0.207207\n"
          ]
        },
        {
          "output_type": "stream",
          "name": "stderr",
          "text": [
            "INFO:autogluon.tabular.trainer.abstract_trainer:\t0.853\t = Validation score   (accuracy)\n",
            "INFO:autogluon.tabular.trainer.abstract_trainer:\t4.19s\t = Training   runtime\n",
            "INFO:autogluon.tabular.trainer.abstract_trainer:\t0.06s\t = Validation runtime\n",
            "Level 15:autogluon.core.utils.savers.save_pkl:Saving /content/drive/MyDrive/輪読/model/agModels_best/models/trainer.pkl\n",
            "INFO:autogluon.tabular.trainer.abstract_trainer:Fitting model: LightGBM_BAG_L2 ... Training model for up to 144.96s of the 144.85s of remaining time.\n",
            "Level 15:autogluon.core.utils.savers.save_pkl:Saving /content/drive/MyDrive/輪読/model/agModels_best/models/LightGBM_BAG_L2/utils/model_template.pkl\n",
            "Level 15:autogluon.core.models.abstract.abstract_model:\tFitting S1F1 with 'num_gpus': 0, 'num_cpus': 2\n",
            "Level 15:autogluon.tabular.models.lgb.lgb_model:Training Gradient Boosting Model for 10000 rounds...\n",
            "Level 15:autogluon.tabular.models.lgb.lgb_model:with the following hyperparameter settings:\n",
            "Level 15:autogluon.tabular.models.lgb.lgb_model:{'num_threads': -1, 'learning_rate': 0.05, 'objective': 'binary', 'verbose': -1, 'boosting_type': 'gbdt', 'two_round': True}\n",
            "/usr/local/lib/python3.7/dist-packages/lightgbm/engine.py:239: UserWarning: 'verbose_eval' argument is deprecated and will be removed in a future release of LightGBM. Pass 'log_evaluation()' callback via 'callbacks' argument instead.\n",
            "  _log_warning(\"'verbose_eval' argument is deprecated and will be removed in a future release of LightGBM. \"\n"
          ]
        },
        {
          "output_type": "stream",
          "name": "stdout",
          "text": [
            "[50]\ttrain_set's binary_error: 0.0731707\tvalid_set's binary_error: 0.169643\n"
          ]
        },
        {
          "output_type": "stream",
          "name": "stderr",
          "text": [
            "Level 15:autogluon.core.models.abstract.abstract_model:\tFitting S1F2 with 'num_gpus': 0, 'num_cpus': 2\n"
          ]
        },
        {
          "output_type": "stream",
          "name": "stdout",
          "text": [
            "[100]\ttrain_set's binary_error: 0.00256739\tvalid_set's binary_error: 0.160714\n",
            "[150]\ttrain_set's binary_error: 0\tvalid_set's binary_error: 0.160714\n"
          ]
        },
        {
          "output_type": "stream",
          "name": "stderr",
          "text": [
            "Level 15:autogluon.tabular.models.lgb.lgb_model:Training Gradient Boosting Model for 10000 rounds...\n",
            "Level 15:autogluon.tabular.models.lgb.lgb_model:with the following hyperparameter settings:\n",
            "Level 15:autogluon.tabular.models.lgb.lgb_model:{'num_threads': -1, 'learning_rate': 0.05, 'objective': 'binary', 'verbose': -1, 'boosting_type': 'gbdt', 'two_round': True}\n",
            "/usr/local/lib/python3.7/dist-packages/lightgbm/engine.py:239: UserWarning: 'verbose_eval' argument is deprecated and will be removed in a future release of LightGBM. Pass 'log_evaluation()' callback via 'callbacks' argument instead.\n",
            "  _log_warning(\"'verbose_eval' argument is deprecated and will be removed in a future release of LightGBM. \"\n"
          ]
        },
        {
          "output_type": "stream",
          "name": "stdout",
          "text": [
            "[50]\ttrain_set's binary_error: 0.0706033\tvalid_set's binary_error: 0.133929\n",
            "[100]\ttrain_set's binary_error: 0.00256739\tvalid_set's binary_error: 0.125\n",
            "[150]\ttrain_set's binary_error: 0\tvalid_set's binary_error: 0.142857\n"
          ]
        },
        {
          "output_type": "stream",
          "name": "stderr",
          "text": [
            "Level 15:autogluon.core.models.abstract.abstract_model:\tFitting S1F3 with 'num_gpus': 0, 'num_cpus': 2\n",
            "Level 15:autogluon.tabular.models.lgb.lgb_model:Training Gradient Boosting Model for 10000 rounds...\n",
            "Level 15:autogluon.tabular.models.lgb.lgb_model:with the following hyperparameter settings:\n",
            "Level 15:autogluon.tabular.models.lgb.lgb_model:{'num_threads': -1, 'learning_rate': 0.05, 'objective': 'binary', 'verbose': -1, 'boosting_type': 'gbdt', 'two_round': True}\n",
            "/usr/local/lib/python3.7/dist-packages/lightgbm/engine.py:239: UserWarning: 'verbose_eval' argument is deprecated and will be removed in a future release of LightGBM. Pass 'log_evaluation()' callback via 'callbacks' argument instead.\n",
            "  _log_warning(\"'verbose_eval' argument is deprecated and will be removed in a future release of LightGBM. \"\n"
          ]
        },
        {
          "output_type": "stream",
          "name": "stdout",
          "text": [
            "[50]\ttrain_set's binary_error: 0.0616175\tvalid_set's binary_error: 0.151786\n",
            "[100]\ttrain_set's binary_error: 0.00256739\tvalid_set's binary_error: 0.178571\n",
            "[150]\ttrain_set's binary_error: 0\tvalid_set's binary_error: 0.178571\n"
          ]
        },
        {
          "output_type": "stream",
          "name": "stderr",
          "text": [
            "Level 15:autogluon.core.models.abstract.abstract_model:\tFitting S1F4 with 'num_gpus': 0, 'num_cpus': 2\n",
            "Level 15:autogluon.tabular.models.lgb.lgb_model:Training Gradient Boosting Model for 10000 rounds...\n",
            "Level 15:autogluon.tabular.models.lgb.lgb_model:with the following hyperparameter settings:\n",
            "Level 15:autogluon.tabular.models.lgb.lgb_model:{'num_threads': -1, 'learning_rate': 0.05, 'objective': 'binary', 'verbose': -1, 'boosting_type': 'gbdt', 'two_round': True}\n",
            "/usr/local/lib/python3.7/dist-packages/lightgbm/engine.py:239: UserWarning: 'verbose_eval' argument is deprecated and will be removed in a future release of LightGBM. Pass 'log_evaluation()' callback via 'callbacks' argument instead.\n",
            "  _log_warning(\"'verbose_eval' argument is deprecated and will be removed in a future release of LightGBM. \"\n"
          ]
        },
        {
          "output_type": "stream",
          "name": "stdout",
          "text": [
            "[50]\ttrain_set's binary_error: 0.0641026\tvalid_set's binary_error: 0.189189\n",
            "[100]\ttrain_set's binary_error: 0.00128205\tvalid_set's binary_error: 0.18018\n",
            "[150]\ttrain_set's binary_error: 0\tvalid_set's binary_error: 0.171171\n",
            "[200]\ttrain_set's binary_error: 0\tvalid_set's binary_error: 0.171171\n",
            "[250]\ttrain_set's binary_error: 0\tvalid_set's binary_error: 0.171171\n",
            "[300]\ttrain_set's binary_error: 0\tvalid_set's binary_error: 0.171171\n"
          ]
        },
        {
          "output_type": "stream",
          "name": "stderr",
          "text": [
            "Level 15:autogluon.core.models.abstract.abstract_model:\tFitting S1F5 with 'num_gpus': 0, 'num_cpus': 2\n",
            "Level 15:autogluon.tabular.models.lgb.lgb_model:Training Gradient Boosting Model for 10000 rounds...\n",
            "Level 15:autogluon.tabular.models.lgb.lgb_model:with the following hyperparameter settings:\n",
            "Level 15:autogluon.tabular.models.lgb.lgb_model:{'num_threads': -1, 'learning_rate': 0.05, 'objective': 'binary', 'verbose': -1, 'boosting_type': 'gbdt', 'two_round': True}\n",
            "/usr/local/lib/python3.7/dist-packages/lightgbm/engine.py:239: UserWarning: 'verbose_eval' argument is deprecated and will be removed in a future release of LightGBM. Pass 'log_evaluation()' callback via 'callbacks' argument instead.\n",
            "  _log_warning(\"'verbose_eval' argument is deprecated and will be removed in a future release of LightGBM. \"\n"
          ]
        },
        {
          "output_type": "stream",
          "name": "stdout",
          "text": [
            "[50]\ttrain_set's binary_error: 0.0602564\tvalid_set's binary_error: 0.18018\n",
            "[100]\ttrain_set's binary_error: 0.0025641\tvalid_set's binary_error: 0.153153\n",
            "[150]\ttrain_set's binary_error: 0\tvalid_set's binary_error: 0.153153\n",
            "[200]\ttrain_set's binary_error: 0\tvalid_set's binary_error: 0.162162\n"
          ]
        },
        {
          "output_type": "stream",
          "name": "stderr",
          "text": [
            "Level 15:autogluon.core.models.abstract.abstract_model:\tFitting S1F6 with 'num_gpus': 0, 'num_cpus': 2\n",
            "Level 15:autogluon.tabular.models.lgb.lgb_model:Training Gradient Boosting Model for 10000 rounds...\n",
            "Level 15:autogluon.tabular.models.lgb.lgb_model:with the following hyperparameter settings:\n",
            "Level 15:autogluon.tabular.models.lgb.lgb_model:{'num_threads': -1, 'learning_rate': 0.05, 'objective': 'binary', 'verbose': -1, 'boosting_type': 'gbdt', 'two_round': True}\n",
            "/usr/local/lib/python3.7/dist-packages/lightgbm/engine.py:239: UserWarning: 'verbose_eval' argument is deprecated and will be removed in a future release of LightGBM. Pass 'log_evaluation()' callback via 'callbacks' argument instead.\n",
            "  _log_warning(\"'verbose_eval' argument is deprecated and will be removed in a future release of LightGBM. \"\n"
          ]
        },
        {
          "output_type": "stream",
          "name": "stdout",
          "text": [
            "[50]\ttrain_set's binary_error: 0.0730769\tvalid_set's binary_error: 0.135135\n",
            "[100]\ttrain_set's binary_error: 0.0025641\tvalid_set's binary_error: 0.117117\n",
            "[150]\ttrain_set's binary_error: 0\tvalid_set's binary_error: 0.117117\n",
            "[200]\ttrain_set's binary_error: 0\tvalid_set's binary_error: 0.117117\n"
          ]
        },
        {
          "output_type": "stream",
          "name": "stderr",
          "text": [
            "Level 15:autogluon.core.models.abstract.abstract_model:\tFitting S1F7 with 'num_gpus': 0, 'num_cpus': 2\n",
            "Level 15:autogluon.tabular.models.lgb.lgb_model:Training Gradient Boosting Model for 10000 rounds...\n",
            "Level 15:autogluon.tabular.models.lgb.lgb_model:with the following hyperparameter settings:\n",
            "Level 15:autogluon.tabular.models.lgb.lgb_model:{'num_threads': -1, 'learning_rate': 0.05, 'objective': 'binary', 'verbose': -1, 'boosting_type': 'gbdt', 'two_round': True}\n",
            "/usr/local/lib/python3.7/dist-packages/lightgbm/engine.py:239: UserWarning: 'verbose_eval' argument is deprecated and will be removed in a future release of LightGBM. Pass 'log_evaluation()' callback via 'callbacks' argument instead.\n",
            "  _log_warning(\"'verbose_eval' argument is deprecated and will be removed in a future release of LightGBM. \"\n"
          ]
        },
        {
          "output_type": "stream",
          "name": "stdout",
          "text": [
            "[50]\ttrain_set's binary_error: 0.0705128\tvalid_set's binary_error: 0.144144\n",
            "[100]\ttrain_set's binary_error: 0.00128205\tvalid_set's binary_error: 0.144144\n",
            "[150]\ttrain_set's binary_error: 0\tvalid_set's binary_error: 0.144144\n",
            "[200]\ttrain_set's binary_error: 0\tvalid_set's binary_error: 0.144144\n"
          ]
        },
        {
          "output_type": "stream",
          "name": "stderr",
          "text": [
            "Level 15:autogluon.core.models.abstract.abstract_model:\tFitting S1F8 with 'num_gpus': 0, 'num_cpus': 2\n",
            "Level 15:autogluon.tabular.models.lgb.lgb_model:Training Gradient Boosting Model for 10000 rounds...\n",
            "Level 15:autogluon.tabular.models.lgb.lgb_model:with the following hyperparameter settings:\n",
            "Level 15:autogluon.tabular.models.lgb.lgb_model:{'num_threads': -1, 'learning_rate': 0.05, 'objective': 'binary', 'verbose': -1, 'boosting_type': 'gbdt', 'two_round': True}\n",
            "/usr/local/lib/python3.7/dist-packages/lightgbm/engine.py:239: UserWarning: 'verbose_eval' argument is deprecated and will be removed in a future release of LightGBM. Pass 'log_evaluation()' callback via 'callbacks' argument instead.\n",
            "  _log_warning(\"'verbose_eval' argument is deprecated and will be removed in a future release of LightGBM. \"\n"
          ]
        },
        {
          "output_type": "stream",
          "name": "stdout",
          "text": [
            "[50]\ttrain_set's binary_error: 0.0666667\tvalid_set's binary_error: 0.198198\n",
            "[100]\ttrain_set's binary_error: 0.00128205\tvalid_set's binary_error: 0.207207\n"
          ]
        },
        {
          "output_type": "stream",
          "name": "stderr",
          "text": [
            "Level 15:autogluon.core.utils.savers.save_pkl:Saving /content/drive/MyDrive/輪読/model/agModels_best/models/LightGBM_BAG_L2/utils/oof.pkl\n",
            "Level 15:autogluon.core.utils.savers.save_pkl:Saving /content/drive/MyDrive/輪読/model/agModels_best/models/LightGBM_BAG_L2/model.pkl\n",
            "INFO:autogluon.tabular.trainer.abstract_trainer:\t0.8586\t = Validation score   (accuracy)\n",
            "INFO:autogluon.tabular.trainer.abstract_trainer:\t11.32s\t = Training   runtime\n",
            "INFO:autogluon.tabular.trainer.abstract_trainer:\t0.09s\t = Validation runtime\n",
            "Level 15:autogluon.core.utils.savers.save_pkl:Saving /content/drive/MyDrive/輪読/model/agModels_best/models/trainer.pkl\n",
            "INFO:autogluon.tabular.trainer.abstract_trainer:Fitting model: RandomForestGini_BAG_L2 ... Training model for up to 133.07s of the 132.97s of remaining time.\n"
          ]
        },
        {
          "output_type": "stream",
          "name": "stdout",
          "text": [
            "[150]\ttrain_set's binary_error: 0\tvalid_set's binary_error: 0.207207\n"
          ]
        },
        {
          "output_type": "stream",
          "name": "stderr",
          "text": [
            "Level 15:autogluon.core.utils.savers.save_pkl:Saving /content/drive/MyDrive/輪読/model/agModels_best/models/RandomForestGini_BAG_L2/utils/model_template.pkl\n",
            "Level 15:autogluon.core.models.abstract.abstract_model:\tFitting S1F1 with 'num_gpus': 0, 'num_cpus': 2\n",
            "Level 15:autogluon.core.models.ensemble.bagged_ensemble_model:\t`use_child_oof` was specified for this model. It will function similarly to a bagged model, but will only fit one child model.\n",
            "Level 15:autogluon.core.utils.savers.save_pkl:Saving /content/drive/MyDrive/輪読/model/agModels_best/models/RandomForestGini_BAG_L2/utils/oof.pkl\n",
            "Level 15:autogluon.core.utils.savers.save_pkl:Saving /content/drive/MyDrive/輪読/model/agModels_best/models/RandomForestGini_BAG_L2/model.pkl\n",
            "INFO:autogluon.tabular.trainer.abstract_trainer:\t0.8361\t = Validation score   (accuracy)\n",
            "INFO:autogluon.tabular.trainer.abstract_trainer:\t1.78s\t = Training   runtime\n",
            "INFO:autogluon.tabular.trainer.abstract_trainer:\t0.23s\t = Validation runtime\n",
            "Level 15:autogluon.core.utils.savers.save_pkl:Saving /content/drive/MyDrive/輪読/model/agModels_best/models/trainer.pkl\n",
            "INFO:autogluon.tabular.trainer.abstract_trainer:Fitting model: RandomForestEntr_BAG_L2 ... Training model for up to 130.83s of the 130.72s of remaining time.\n",
            "Level 15:autogluon.core.utils.savers.save_pkl:Saving /content/drive/MyDrive/輪読/model/agModels_best/models/RandomForestEntr_BAG_L2/utils/model_template.pkl\n",
            "Level 15:autogluon.core.models.abstract.abstract_model:\tFitting S1F1 with 'num_gpus': 0, 'num_cpus': 2\n",
            "Level 15:autogluon.core.models.ensemble.bagged_ensemble_model:\t`use_child_oof` was specified for this model. It will function similarly to a bagged model, but will only fit one child model.\n",
            "Level 15:autogluon.core.utils.savers.save_pkl:Saving /content/drive/MyDrive/輪読/model/agModels_best/models/RandomForestEntr_BAG_L2/utils/oof.pkl\n",
            "Level 15:autogluon.core.utils.savers.save_pkl:Saving /content/drive/MyDrive/輪読/model/agModels_best/models/RandomForestEntr_BAG_L2/model.pkl\n",
            "INFO:autogluon.tabular.trainer.abstract_trainer:\t0.8462\t = Validation score   (accuracy)\n",
            "INFO:autogluon.tabular.trainer.abstract_trainer:\t2.22s\t = Training   runtime\n",
            "INFO:autogluon.tabular.trainer.abstract_trainer:\t0.16s\t = Validation runtime\n",
            "Level 15:autogluon.core.utils.savers.save_pkl:Saving /content/drive/MyDrive/輪読/model/agModels_best/models/trainer.pkl\n",
            "INFO:autogluon.tabular.trainer.abstract_trainer:Fitting model: CatBoost_BAG_L2 ... Training model for up to 128.19s of the 128.08s of remaining time.\n",
            "Level 15:autogluon.core.utils.savers.save_pkl:Saving /content/drive/MyDrive/輪読/model/agModels_best/models/CatBoost_BAG_L2/utils/model_template.pkl\n",
            "Level 15:autogluon.core.models.abstract.abstract_model:\tFitting S1F1 with 'num_gpus': 0, 'num_cpus': 2\n",
            "Level 15:autogluon.tabular.models.catboost.catboost_model:\tCatboost model hyperparameters: {'iterations': 10000, 'learning_rate': 0.05, 'random_seed': 0, 'allow_writing_files': False, 'eval_metric': 'Accuracy'}\n"
          ]
        },
        {
          "output_type": "stream",
          "name": "stdout",
          "text": [
            "0:\tlearn: 0.8485237\ttest: 0.8125000\tbest: 0.8125000 (0)\ttotal: 5.94ms\tremaining: 291ms\n",
            "20:\tlearn: 0.8562259\ttest: 0.8660714\tbest: 0.8660714 (20)\ttotal: 111ms\tremaining: 153ms\n",
            "40:\tlearn: 0.8626444\ttest: 0.8660714\tbest: 0.8660714 (20)\ttotal: 196ms\tremaining: 43.1ms\n",
            "49:\tlearn: 0.8664955\ttest: 0.8660714\tbest: 0.8660714 (20)\ttotal: 243ms\tremaining: 0us\n",
            "\n",
            "bestTest = 0.8660714286\n",
            "bestIteration = 20\n",
            "\n",
            "Shrink model to first 21 iterations.\n",
            "0:\tlearn: 0.8536585\ttest: 0.8571429\tbest: 0.8571429 (0)\ttotal: 5.55ms\tremaining: 13.3s\n",
            "20:\tlearn: 0.8780488\ttest: 0.8571429\tbest: 0.8660714 (1)\ttotal: 163ms\tremaining: 18.5s\n",
            "40:\tlearn: 0.8857510\ttest: 0.8571429\tbest: 0.8660714 (1)\ttotal: 308ms\tremaining: 17.8s\n",
            "60:\tlearn: 0.8870347\ttest: 0.8571429\tbest: 0.8660714 (1)\ttotal: 423ms\tremaining: 16.3s\n",
            "80:\tlearn: 0.9024390\ttest: 0.8571429\tbest: 0.8660714 (1)\ttotal: 540ms\tremaining: 15.5s\n",
            "100:\tlearn: 0.9062901\ttest: 0.8571429\tbest: 0.8660714 (1)\ttotal: 632ms\tremaining: 14.4s\n",
            "120:\tlearn: 0.9088575\ttest: 0.8482143\tbest: 0.8660714 (1)\ttotal: 736ms\tremaining: 13.9s\n"
          ]
        },
        {
          "output_type": "stream",
          "name": "stderr",
          "text": [
            "Level 15:autogluon.core.models.abstract.abstract_model:\tFitting S1F2 with 'num_gpus': 0, 'num_cpus': 2\n",
            "Level 15:autogluon.tabular.models.catboost.catboost_model:\tCatboost model hyperparameters: {'iterations': 10000, 'learning_rate': 0.05, 'random_seed': 0, 'allow_writing_files': False, 'eval_metric': 'Accuracy'}\n"
          ]
        },
        {
          "output_type": "stream",
          "name": "stdout",
          "text": [
            "140:\tlearn: 0.9204108\ttest: 0.8392857\tbest: 0.8660714 (1)\ttotal: 844ms\tremaining: 13.5s\n",
            "Stopped by overfitting detector  (150 iterations wait)\n",
            "\n",
            "bestTest = 0.8660714286\n",
            "bestIteration = 1\n",
            "\n",
            "Shrink model to first 2 iterations.\n",
            "0:\tlearn: 0.8472401\ttest: 0.8571429\tbest: 0.8571429 (0)\ttotal: 5.41ms\tremaining: 265ms\n",
            "20:\tlearn: 0.8562259\ttest: 0.8660714\tbest: 0.8839286 (2)\ttotal: 131ms\tremaining: 181ms\n",
            "40:\tlearn: 0.8562259\ttest: 0.8660714\tbest: 0.8839286 (2)\ttotal: 240ms\tremaining: 52.7ms\n",
            "49:\tlearn: 0.8549422\ttest: 0.8750000\tbest: 0.8839286 (2)\ttotal: 278ms\tremaining: 0us\n",
            "\n",
            "bestTest = 0.8839285714\n",
            "bestIteration = 2\n",
            "\n",
            "Shrink model to first 3 iterations.\n",
            "0:\tlearn: 0.8536585\ttest: 0.8839286\tbest: 0.8839286 (0)\ttotal: 5.41ms\tremaining: 12.9s\n",
            "20:\tlearn: 0.8626444\ttest: 0.8750000\tbest: 0.8839286 (0)\ttotal: 114ms\tremaining: 12.9s\n",
            "40:\tlearn: 0.8716303\ttest: 0.8839286\tbest: 0.8839286 (0)\ttotal: 227ms\tremaining: 13s\n",
            "60:\tlearn: 0.8844673\ttest: 0.8839286\tbest: 0.8839286 (0)\ttotal: 342ms\tremaining: 13.1s\n",
            "80:\tlearn: 0.8934531\ttest: 0.8928571\tbest: 0.8928571 (68)\ttotal: 454ms\tremaining: 12.9s\n",
            "100:\tlearn: 0.8985879\ttest: 0.8928571\tbest: 0.8928571 (68)\ttotal: 581ms\tremaining: 13.2s\n",
            "120:\tlearn: 0.9050064\ttest: 0.8928571\tbest: 0.8928571 (68)\ttotal: 709ms\tremaining: 13.3s\n",
            "140:\tlearn: 0.9114249\ttest: 0.8928571\tbest: 0.8928571 (68)\ttotal: 826ms\tremaining: 13.2s\n",
            "160:\tlearn: 0.9229782\ttest: 0.8928571\tbest: 0.9017857 (142)\ttotal: 948ms\tremaining: 13.1s\n",
            "180:\tlearn: 0.9332478\ttest: 0.8839286\tbest: 0.9017857 (142)\ttotal: 1.07s\tremaining: 13.1s\n",
            "200:\tlearn: 0.9473684\ttest: 0.8839286\tbest: 0.9017857 (142)\ttotal: 1.21s\tremaining: 13.1s\n",
            "220:\tlearn: 0.9589217\ttest: 0.8839286\tbest: 0.9017857 (142)\ttotal: 1.34s\tremaining: 13.1s\n",
            "240:\tlearn: 0.9679076\ttest: 0.8928571\tbest: 0.9017857 (142)\ttotal: 1.45s\tremaining: 12.9s\n",
            "260:\tlearn: 0.9704750\ttest: 0.8928571\tbest: 0.9017857 (142)\ttotal: 1.57s\tremaining: 12.8s\n",
            "280:\tlearn: 0.9756098\ttest: 0.9017857\tbest: 0.9017857 (142)\ttotal: 1.68s\tremaining: 12.6s\n",
            "Stopped by overfitting detector  (150 iterations wait)\n",
            "\n",
            "bestTest = 0.9017857143\n",
            "bestIteration = 142\n",
            "\n",
            "Shrink model to first 143 iterations.\n"
          ]
        },
        {
          "output_type": "stream",
          "name": "stderr",
          "text": [
            "Level 15:autogluon.core.models.abstract.abstract_model:\tFitting S1F3 with 'num_gpus': 0, 'num_cpus': 2\n",
            "Level 15:autogluon.tabular.models.catboost.catboost_model:\tCatboost model hyperparameters: {'iterations': 10000, 'learning_rate': 0.05, 'random_seed': 0, 'allow_writing_files': False, 'eval_metric': 'Accuracy'}\n"
          ]
        },
        {
          "output_type": "stream",
          "name": "stdout",
          "text": [
            "0:\tlearn: 0.8344031\ttest: 0.8303571\tbest: 0.8303571 (0)\ttotal: 6.63ms\tremaining: 325ms\n",
            "20:\tlearn: 0.8575096\ttest: 0.8571429\tbest: 0.8571429 (2)\ttotal: 133ms\tremaining: 183ms\n",
            "40:\tlearn: 0.8600770\ttest: 0.8571429\tbest: 0.8571429 (2)\ttotal: 251ms\tremaining: 55.2ms\n",
            "49:\tlearn: 0.8600770\ttest: 0.8571429\tbest: 0.8571429 (2)\ttotal: 293ms\tremaining: 0us\n",
            "\n",
            "bestTest = 0.8571428571\n",
            "bestIteration = 2\n",
            "\n",
            "Shrink model to first 3 iterations.\n",
            "0:\tlearn: 0.8523748\ttest: 0.8750000\tbest: 0.8750000 (0)\ttotal: 5.83ms\tremaining: 15.3s\n",
            "20:\tlearn: 0.8639281\ttest: 0.8571429\tbest: 0.8750000 (0)\ttotal: 114ms\tremaining: 14.2s\n",
            "40:\tlearn: 0.8754814\ttest: 0.8571429\tbest: 0.8750000 (0)\ttotal: 235ms\tremaining: 14.8s\n",
            "60:\tlearn: 0.8883184\ttest: 0.8660714\tbest: 0.8750000 (0)\ttotal: 340ms\tremaining: 14.4s\n",
            "80:\tlearn: 0.8921694\ttest: 0.8571429\tbest: 0.8750000 (0)\ttotal: 475ms\tremaining: 15s\n",
            "100:\tlearn: 0.8934531\ttest: 0.8571429\tbest: 0.8750000 (0)\ttotal: 580ms\tremaining: 14.5s\n",
            "120:\tlearn: 0.9088575\ttest: 0.8571429\tbest: 0.8750000 (0)\ttotal: 705ms\tremaining: 14.6s\n",
            "140:\tlearn: 0.9204108\ttest: 0.8571429\tbest: 0.8750000 (0)\ttotal: 827ms\tremaining: 14.6s\n",
            "Stopped by overfitting detector  (150 iterations wait)\n",
            "\n",
            "bestTest = 0.875\n",
            "bestIteration = 0\n",
            "\n",
            "Shrink model to first 1 iterations.\n"
          ]
        },
        {
          "output_type": "stream",
          "name": "stderr",
          "text": [
            "Level 15:autogluon.core.models.abstract.abstract_model:\tFitting S1F4 with 'num_gpus': 0, 'num_cpus': 2\n",
            "Level 15:autogluon.tabular.models.catboost.catboost_model:\tCatboost model hyperparameters: {'iterations': 10000, 'learning_rate': 0.05, 'random_seed': 0, 'allow_writing_files': False, 'eval_metric': 'Accuracy'}\n"
          ]
        },
        {
          "output_type": "stream",
          "name": "stdout",
          "text": [
            "0:\tlearn: 0.8576923\ttest: 0.7927928\tbest: 0.7927928 (0)\ttotal: 5.72ms\tremaining: 280ms\n",
            "20:\tlearn: 0.8628205\ttest: 0.8108108\tbest: 0.8288288 (6)\ttotal: 105ms\tremaining: 145ms\n",
            "40:\tlearn: 0.8653846\ttest: 0.8198198\tbest: 0.8288288 (6)\ttotal: 219ms\tremaining: 48.1ms\n",
            "49:\tlearn: 0.8666667\ttest: 0.8288288\tbest: 0.8288288 (6)\ttotal: 268ms\tremaining: 0us\n",
            "\n",
            "bestTest = 0.8288288288\n",
            "bestIteration = 6\n",
            "\n",
            "Shrink model to first 7 iterations.\n",
            "0:\tlearn: 0.8551282\ttest: 0.8288288\tbest: 0.8288288 (0)\ttotal: 5.39ms\tremaining: 18.1s\n",
            "20:\tlearn: 0.8717949\ttest: 0.8288288\tbest: 0.8288288 (0)\ttotal: 125ms\tremaining: 19.9s\n",
            "40:\tlearn: 0.8807692\ttest: 0.8378378\tbest: 0.8378378 (36)\ttotal: 282ms\tremaining: 22.9s\n",
            "60:\tlearn: 0.8884615\ttest: 0.8378378\tbest: 0.8468468 (52)\ttotal: 387ms\tremaining: 21s\n",
            "80:\tlearn: 0.8923077\ttest: 0.8378378\tbest: 0.8468468 (52)\ttotal: 506ms\tremaining: 20.5s\n",
            "100:\tlearn: 0.8948718\ttest: 0.8378378\tbest: 0.8468468 (52)\ttotal: 621ms\tremaining: 20.1s\n",
            "120:\tlearn: 0.9064103\ttest: 0.8288288\tbest: 0.8468468 (52)\ttotal: 743ms\tremaining: 19.9s\n",
            "140:\tlearn: 0.9205128\ttest: 0.8378378\tbest: 0.8468468 (52)\ttotal: 855ms\tremaining: 19.5s\n",
            "160:\tlearn: 0.9320513\ttest: 0.8288288\tbest: 0.8468468 (52)\ttotal: 986ms\tremaining: 19.6s\n",
            "180:\tlearn: 0.9474359\ttest: 0.8288288\tbest: 0.8468468 (52)\ttotal: 1.11s\tremaining: 19.5s\n"
          ]
        },
        {
          "output_type": "stream",
          "name": "stderr",
          "text": [
            "Level 15:autogluon.core.models.abstract.abstract_model:\tFitting S1F5 with 'num_gpus': 0, 'num_cpus': 2\n",
            "Level 15:autogluon.tabular.models.catboost.catboost_model:\tCatboost model hyperparameters: {'iterations': 10000, 'learning_rate': 0.05, 'random_seed': 0, 'allow_writing_files': False, 'eval_metric': 'Accuracy'}\n"
          ]
        },
        {
          "output_type": "stream",
          "name": "stdout",
          "text": [
            "200:\tlearn: 0.9564103\ttest: 0.8198198\tbest: 0.8468468 (52)\ttotal: 1.24s\tremaining: 19.5s\n",
            "Stopped by overfitting detector  (150 iterations wait)\n",
            "\n",
            "bestTest = 0.8468468468\n",
            "bestIteration = 52\n",
            "\n",
            "Shrink model to first 53 iterations.\n",
            "0:\tlearn: 0.8500000\ttest: 0.8108108\tbest: 0.8108108 (0)\ttotal: 10.8ms\tremaining: 529ms\n",
            "20:\tlearn: 0.8564103\ttest: 0.8378378\tbest: 0.8558559 (2)\ttotal: 107ms\tremaining: 148ms\n",
            "40:\tlearn: 0.8615385\ttest: 0.8378378\tbest: 0.8558559 (2)\ttotal: 235ms\tremaining: 51.6ms\n",
            "49:\tlearn: 0.8653846\ttest: 0.8378378\tbest: 0.8558559 (2)\ttotal: 289ms\tremaining: 0us\n",
            "\n",
            "bestTest = 0.8558558559\n",
            "bestIteration = 2\n",
            "\n",
            "Shrink model to first 3 iterations.\n",
            "0:\tlearn: 0.8564103\ttest: 0.8468468\tbest: 0.8468468 (0)\ttotal: 5.45ms\tremaining: 20.9s\n",
            "20:\tlearn: 0.8666667\ttest: 0.8648649\tbest: 0.8648649 (7)\ttotal: 111ms\tremaining: 20.2s\n",
            "40:\tlearn: 0.8833333\ttest: 0.8468468\tbest: 0.8738739 (27)\ttotal: 244ms\tremaining: 22.6s\n",
            "60:\tlearn: 0.8910256\ttest: 0.8468468\tbest: 0.8738739 (27)\ttotal: 356ms\tremaining: 22s\n",
            "80:\tlearn: 0.8961538\ttest: 0.8468468\tbest: 0.8738739 (27)\ttotal: 481ms\tremaining: 22.3s\n",
            "100:\tlearn: 0.9051282\ttest: 0.8558559\tbest: 0.8738739 (27)\ttotal: 582ms\tremaining: 21.5s\n",
            "120:\tlearn: 0.9153846\ttest: 0.8468468\tbest: 0.8738739 (27)\ttotal: 705ms\tremaining: 21.6s\n",
            "140:\tlearn: 0.9205128\ttest: 0.8468468\tbest: 0.8738739 (27)\ttotal: 814ms\tremaining: 21.3s\n"
          ]
        },
        {
          "output_type": "stream",
          "name": "stderr",
          "text": [
            "Level 15:autogluon.core.models.abstract.abstract_model:\tFitting S1F6 with 'num_gpus': 0, 'num_cpus': 2\n",
            "Level 15:autogluon.tabular.models.catboost.catboost_model:\tCatboost model hyperparameters: {'iterations': 10000, 'learning_rate': 0.05, 'random_seed': 0, 'allow_writing_files': False, 'eval_metric': 'Accuracy'}\n"
          ]
        },
        {
          "output_type": "stream",
          "name": "stdout",
          "text": [
            "160:\tlearn: 0.9282051\ttest: 0.8468468\tbest: 0.8738739 (27)\ttotal: 968ms\tremaining: 22.1s\n",
            "Stopped by overfitting detector  (150 iterations wait)\n",
            "\n",
            "bestTest = 0.8738738739\n",
            "bestIteration = 27\n",
            "\n",
            "Shrink model to first 28 iterations.\n",
            "0:\tlearn: 0.8410256\ttest: 0.8468468\tbest: 0.8468468 (0)\ttotal: 5.9ms\tremaining: 289ms\n",
            "20:\tlearn: 0.8538462\ttest: 0.8738739\tbest: 0.8738739 (6)\ttotal: 141ms\tremaining: 195ms\n",
            "40:\tlearn: 0.8589744\ttest: 0.8738739\tbest: 0.8738739 (6)\ttotal: 244ms\tremaining: 53.5ms\n",
            "49:\tlearn: 0.8602564\ttest: 0.8738739\tbest: 0.8738739 (6)\ttotal: 285ms\tremaining: 0us\n",
            "\n",
            "bestTest = 0.8738738739\n",
            "bestIteration = 6\n",
            "\n",
            "Shrink model to first 7 iterations.\n",
            "0:\tlearn: 0.8448718\ttest: 0.8738739\tbest: 0.8738739 (0)\ttotal: 5.44ms\tremaining: 28.2s\n",
            "20:\tlearn: 0.8666667\ttest: 0.8648649\tbest: 0.8738739 (0)\ttotal: 205ms\tremaining: 50.5s\n",
            "40:\tlearn: 0.8833333\ttest: 0.8468468\tbest: 0.8738739 (0)\ttotal: 338ms\tremaining: 42.4s\n",
            "60:\tlearn: 0.8897436\ttest: 0.8468468\tbest: 0.8738739 (0)\ttotal: 461ms\tremaining: 38.7s\n",
            "80:\tlearn: 0.8923077\ttest: 0.8468468\tbest: 0.8738739 (0)\ttotal: 579ms\tremaining: 36.5s\n",
            "100:\tlearn: 0.9038462\ttest: 0.8558559\tbest: 0.8738739 (0)\ttotal: 700ms\tremaining: 35.3s\n",
            "120:\tlearn: 0.9128205\ttest: 0.8648649\tbest: 0.8738739 (0)\ttotal: 800ms\tremaining: 33.5s\n"
          ]
        },
        {
          "output_type": "stream",
          "name": "stderr",
          "text": [
            "Level 15:autogluon.core.models.abstract.abstract_model:\tFitting S1F7 with 'num_gpus': 0, 'num_cpus': 2\n",
            "Level 15:autogluon.tabular.models.catboost.catboost_model:\tCatboost model hyperparameters: {'iterations': 10000, 'learning_rate': 0.05, 'random_seed': 0, 'allow_writing_files': False, 'eval_metric': 'Accuracy'}\n"
          ]
        },
        {
          "output_type": "stream",
          "name": "stdout",
          "text": [
            "140:\tlearn: 0.9230769\ttest: 0.8738739\tbest: 0.8738739 (0)\ttotal: 902ms\tremaining: 32.3s\n",
            "Stopped by overfitting detector  (150 iterations wait)\n",
            "\n",
            "bestTest = 0.8738738739\n",
            "bestIteration = 0\n",
            "\n",
            "Shrink model to first 1 iterations.\n",
            "0:\tlearn: 0.8525641\ttest: 0.8378378\tbest: 0.8378378 (0)\ttotal: 4.83ms\tremaining: 237ms\n",
            "20:\tlearn: 0.8576923\ttest: 0.8468468\tbest: 0.8738739 (2)\ttotal: 104ms\tremaining: 144ms\n",
            "40:\tlearn: 0.8641026\ttest: 0.8468468\tbest: 0.8738739 (2)\ttotal: 195ms\tremaining: 42.8ms\n",
            "49:\tlearn: 0.8653846\ttest: 0.8558559\tbest: 0.8738739 (2)\ttotal: 235ms\tremaining: 0us\n",
            "\n",
            "bestTest = 0.8738738739\n",
            "bestIteration = 2\n",
            "\n",
            "Shrink model to first 3 iterations.\n",
            "0:\tlearn: 0.8384615\ttest: 0.8558559\tbest: 0.8558559 (0)\ttotal: 6.46ms\tremaining: 58.3s\n",
            "20:\tlearn: 0.8653846\ttest: 0.8558559\tbest: 0.8648649 (2)\ttotal: 122ms\tremaining: 52.3s\n",
            "40:\tlearn: 0.8782051\ttest: 0.8648649\tbest: 0.8648649 (2)\ttotal: 271ms\tremaining: 59.5s\n",
            "60:\tlearn: 0.8858974\ttest: 0.8558559\tbest: 0.8648649 (2)\ttotal: 389ms\tremaining: 57.2s\n",
            "80:\tlearn: 0.8935897\ttest: 0.8468468\tbest: 0.8648649 (2)\ttotal: 508ms\tremaining: 56.1s\n",
            "100:\tlearn: 0.9064103\ttest: 0.8468468\tbest: 0.8648649 (2)\ttotal: 657ms\tremaining: 58.1s\n",
            "120:\tlearn: 0.9115385\ttest: 0.8468468\tbest: 0.8648649 (2)\ttotal: 787ms\tremaining: 58s\n"
          ]
        },
        {
          "output_type": "stream",
          "name": "stderr",
          "text": [
            "Level 15:autogluon.core.models.abstract.abstract_model:\tFitting S1F8 with 'num_gpus': 0, 'num_cpus': 2\n",
            "Level 15:autogluon.tabular.models.catboost.catboost_model:\tCatboost model hyperparameters: {'iterations': 10000, 'learning_rate': 0.05, 'random_seed': 0, 'allow_writing_files': False, 'eval_metric': 'Accuracy'}\n"
          ]
        },
        {
          "output_type": "stream",
          "name": "stdout",
          "text": [
            "140:\tlearn: 0.9141026\ttest: 0.8468468\tbest: 0.8648649 (2)\ttotal: 917ms\tremaining: 57.8s\n",
            "Stopped by overfitting detector  (150 iterations wait)\n",
            "\n",
            "bestTest = 0.8648648649\n",
            "bestIteration = 2\n",
            "\n",
            "Shrink model to first 3 iterations.\n",
            "0:\tlearn: 0.8576923\ttest: 0.7837838\tbest: 0.7837838 (0)\ttotal: 6.65ms\tremaining: 326ms\n",
            "20:\tlearn: 0.8615385\ttest: 0.7747748\tbest: 0.7927928 (1)\ttotal: 127ms\tremaining: 175ms\n",
            "40:\tlearn: 0.8641026\ttest: 0.7927928\tbest: 0.7927928 (1)\ttotal: 234ms\tremaining: 51.4ms\n",
            "49:\tlearn: 0.8653846\ttest: 0.7927928\tbest: 0.7927928 (1)\ttotal: 274ms\tremaining: 0us\n",
            "\n",
            "bestTest = 0.7927927928\n",
            "bestIteration = 1\n",
            "\n",
            "Shrink model to first 2 iterations.\n",
            "0:\tlearn: 0.8500000\ttest: 0.7837838\tbest: 0.7837838 (0)\ttotal: 5.42ms\tremaining: 53.9s\n",
            "20:\tlearn: 0.8730769\ttest: 0.7927928\tbest: 0.7927928 (8)\ttotal: 134ms\tremaining: 1m 3s\n",
            "40:\tlearn: 0.8782051\ttest: 0.7927928\tbest: 0.7927928 (8)\ttotal: 257ms\tremaining: 1m 2s\n",
            "60:\tlearn: 0.8833333\ttest: 0.7927928\tbest: 0.7927928 (8)\ttotal: 382ms\tremaining: 1m 1s\n",
            "80:\tlearn: 0.8871795\ttest: 0.7927928\tbest: 0.7927928 (8)\ttotal: 499ms\tremaining: 1m\n",
            "100:\tlearn: 0.8923077\ttest: 0.7927928\tbest: 0.7927928 (8)\ttotal: 620ms\tremaining: 1m\n",
            "120:\tlearn: 0.8987179\ttest: 0.7927928\tbest: 0.7927928 (8)\ttotal: 725ms\tremaining: 58.9s\n",
            "140:\tlearn: 0.9102564\ttest: 0.7927928\tbest: 0.7927928 (8)\ttotal: 852ms\tremaining: 59.2s\n",
            "160:\tlearn: 0.9166667\ttest: 0.8018018\tbest: 0.8018018 (152)\ttotal: 981ms\tremaining: 59.7s\n",
            "180:\tlearn: 0.9320513\ttest: 0.8018018\tbest: 0.8018018 (152)\ttotal: 1.11s\tremaining: 1m\n",
            "200:\tlearn: 0.9410256\ttest: 0.8018018\tbest: 0.8018018 (152)\ttotal: 1.22s\tremaining: 59.1s\n",
            "220:\tlearn: 0.9500000\ttest: 0.7927928\tbest: 0.8018018 (152)\ttotal: 1.35s\tremaining: 59.7s\n",
            "240:\tlearn: 0.9538462\ttest: 0.8108108\tbest: 0.8108108 (234)\ttotal: 1.46s\tremaining: 58.9s\n",
            "260:\tlearn: 0.9653846\ttest: 0.8198198\tbest: 0.8198198 (255)\ttotal: 1.6s\tremaining: 59.3s\n",
            "280:\tlearn: 0.9666667\ttest: 0.8108108\tbest: 0.8198198 (255)\ttotal: 1.71s\tremaining: 58.7s\n",
            "300:\tlearn: 0.9692308\ttest: 0.8108108\tbest: 0.8198198 (255)\ttotal: 1.85s\tremaining: 59.3s\n",
            "320:\tlearn: 0.9782051\ttest: 0.8288288\tbest: 0.8288288 (311)\ttotal: 1.98s\tremaining: 59.4s\n",
            "340:\tlearn: 0.9833333\ttest: 0.8198198\tbest: 0.8288288 (311)\ttotal: 2.1s\tremaining: 59.1s\n",
            "360:\tlearn: 0.9858974\ttest: 0.8198198\tbest: 0.8288288 (311)\ttotal: 2.21s\tremaining: 58.6s\n",
            "380:\tlearn: 0.9884615\ttest: 0.8198198\tbest: 0.8288288 (311)\ttotal: 2.33s\tremaining: 58.4s\n",
            "400:\tlearn: 0.9897436\ttest: 0.8198198\tbest: 0.8288288 (311)\ttotal: 2.44s\tremaining: 58.2s\n",
            "420:\tlearn: 0.9935897\ttest: 0.8198198\tbest: 0.8288288 (311)\ttotal: 2.57s\tremaining: 58.2s\n",
            "440:\tlearn: 0.9935897\ttest: 0.8108108\tbest: 0.8288288 (311)\ttotal: 2.69s\tremaining: 58s\n"
          ]
        },
        {
          "output_type": "stream",
          "name": "stderr",
          "text": [
            "Level 15:autogluon.core.utils.savers.save_pkl:Saving /content/drive/MyDrive/輪読/model/agModels_best/models/CatBoost_BAG_L2/utils/oof.pkl\n",
            "Level 15:autogluon.core.utils.savers.save_pkl:Saving /content/drive/MyDrive/輪読/model/agModels_best/models/CatBoost_BAG_L2/model.pkl\n",
            "INFO:autogluon.tabular.trainer.abstract_trainer:\t0.8676\t = Validation score   (accuracy)\n",
            "INFO:autogluon.tabular.trainer.abstract_trainer:\t13.54s\t = Training   runtime\n",
            "INFO:autogluon.tabular.trainer.abstract_trainer:\t0.05s\t = Validation runtime\n",
            "Level 15:autogluon.core.utils.savers.save_pkl:Saving /content/drive/MyDrive/輪読/model/agModels_best/models/trainer.pkl\n",
            "INFO:autogluon.tabular.trainer.abstract_trainer:Fitting model: ExtraTreesGini_BAG_L2 ... Training model for up to 114.31s of the 114.2s of remaining time.\n",
            "Level 15:autogluon.core.utils.savers.save_pkl:Saving /content/drive/MyDrive/輪読/model/agModels_best/models/ExtraTreesGini_BAG_L2/utils/model_template.pkl\n"
          ]
        },
        {
          "output_type": "stream",
          "name": "stdout",
          "text": [
            "460:\tlearn: 0.9961538\ttest: 0.8108108\tbest: 0.8288288 (311)\ttotal: 2.81s\tremaining: 57.8s\n",
            "Stopped by overfitting detector  (150 iterations wait)\n",
            "\n",
            "bestTest = 0.8288288288\n",
            "bestIteration = 311\n",
            "\n",
            "Shrink model to first 312 iterations.\n"
          ]
        },
        {
          "output_type": "stream",
          "name": "stderr",
          "text": [
            "Level 15:autogluon.core.models.abstract.abstract_model:\tFitting S1F1 with 'num_gpus': 0, 'num_cpus': 2\n",
            "Level 15:autogluon.core.models.ensemble.bagged_ensemble_model:\t`use_child_oof` was specified for this model. It will function similarly to a bagged model, but will only fit one child model.\n",
            "Level 15:autogluon.core.utils.savers.save_pkl:Saving /content/drive/MyDrive/輪読/model/agModels_best/models/ExtraTreesGini_BAG_L2/utils/oof.pkl\n",
            "Level 15:autogluon.core.utils.savers.save_pkl:Saving /content/drive/MyDrive/輪読/model/agModels_best/models/ExtraTreesGini_BAG_L2/model.pkl\n",
            "INFO:autogluon.tabular.trainer.abstract_trainer:\t0.8474\t = Validation score   (accuracy)\n",
            "INFO:autogluon.tabular.trainer.abstract_trainer:\t1.14s\t = Training   runtime\n",
            "INFO:autogluon.tabular.trainer.abstract_trainer:\t0.17s\t = Validation runtime\n",
            "Level 15:autogluon.core.utils.savers.save_pkl:Saving /content/drive/MyDrive/輪読/model/agModels_best/models/trainer.pkl\n",
            "INFO:autogluon.tabular.trainer.abstract_trainer:Fitting model: ExtraTreesEntr_BAG_L2 ... Training model for up to 112.75s of the 112.64s of remaining time.\n",
            "Level 15:autogluon.core.utils.savers.save_pkl:Saving /content/drive/MyDrive/輪読/model/agModels_best/models/ExtraTreesEntr_BAG_L2/utils/model_template.pkl\n",
            "Level 15:autogluon.core.models.abstract.abstract_model:\tFitting S1F1 with 'num_gpus': 0, 'num_cpus': 2\n",
            "Level 15:autogluon.core.models.ensemble.bagged_ensemble_model:\t`use_child_oof` was specified for this model. It will function similarly to a bagged model, but will only fit one child model.\n",
            "Level 15:autogluon.core.utils.savers.save_pkl:Saving /content/drive/MyDrive/輪読/model/agModels_best/models/ExtraTreesEntr_BAG_L2/utils/oof.pkl\n",
            "Level 15:autogluon.core.utils.savers.save_pkl:Saving /content/drive/MyDrive/輪読/model/agModels_best/models/ExtraTreesEntr_BAG_L2/model.pkl\n",
            "INFO:autogluon.tabular.trainer.abstract_trainer:\t0.8496\t = Validation score   (accuracy)\n",
            "INFO:autogluon.tabular.trainer.abstract_trainer:\t1.12s\t = Training   runtime\n",
            "INFO:autogluon.tabular.trainer.abstract_trainer:\t0.16s\t = Validation runtime\n",
            "Level 15:autogluon.core.utils.savers.save_pkl:Saving /content/drive/MyDrive/輪読/model/agModels_best/models/trainer.pkl\n",
            "INFO:autogluon.tabular.trainer.abstract_trainer:Fitting model: NeuralNetFastAI_BAG_L2 ... Training model for up to 111.21s of the 111.1s of remaining time.\n",
            "Level 15:autogluon.core.utils.savers.save_pkl:Saving /content/drive/MyDrive/輪読/model/agModels_best/models/NeuralNetFastAI_BAG_L2/utils/model_template.pkl\n",
            "Level 15:autogluon.core.models.abstract.abstract_model:\tFitting S1F1 with 'num_gpus': 0, 'num_cpus': 2\n",
            "Level 15:autogluon.tabular.models.fastainn.tabular_nn_fastai:Fitting Neural Network with parameters {'layers': None, 'emb_drop': 0.1, 'ps': 0.1, 'bs': 256, 'lr': 0.01, 'epochs': 30, 'early.stopping.min_delta': 0.0001, 'early.stopping.patience': 20, 'smoothing': 0.0}...\n",
            "Level 15:autogluon.tabular.models.fastainn.tabular_nn_fastai:Using 1/1 categorical features\n",
            "Level 15:autogluon.tabular.models.fastainn.tabular_nn_fastai:Using 18 cont features\n",
            "Level 15:autogluon.tabular.models.fastainn.tabular_nn_fastai:TabularModel(\n",
            "  (embeds): ModuleList(\n",
            "    (0): Embedding(5, 4)\n",
            "  )\n",
            "  (emb_drop): Dropout(p=0.1, inplace=False)\n",
            "  (bn_cont): BatchNorm1d(18, eps=1e-05, momentum=0.1, affine=True, track_running_stats=True)\n",
            "  (layers): Sequential(\n",
            "    (0): LinBnDrop(\n",
            "      (0): Linear(in_features=22, out_features=200, bias=False)\n",
            "      (1): ReLU(inplace=True)\n",
            "      (2): BatchNorm1d(200, eps=1e-05, momentum=0.1, affine=True, track_running_stats=True)\n",
            "      (3): Dropout(p=0.1, inplace=False)\n",
            "    )\n",
            "    (1): LinBnDrop(\n",
            "      (0): Linear(in_features=200, out_features=100, bias=False)\n",
            "      (1): ReLU(inplace=True)\n",
            "      (2): BatchNorm1d(100, eps=1e-05, momentum=0.1, affine=True, track_running_stats=True)\n",
            "      (3): Dropout(p=0.1, inplace=False)\n",
            "    )\n",
            "    (2): LinBnDrop(\n",
            "      (0): Linear(in_features=100, out_features=2, bias=True)\n",
            "    )\n",
            "  )\n",
            ")\n",
            "Level 15:autogluon.tabular.models.fastainn.callbacks:Better model found at epoch 0 with accuracy value: 0.8303571343421936.\n",
            "Level 15:autogluon.tabular.models.fastainn.callbacks:Better model found at epoch 2 with accuracy value: 0.8482142686843872.\n",
            "Level 15:autogluon.tabular.models.fastainn.callbacks:Better model found at epoch 3 with accuracy value: 0.8571428656578064.\n",
            "Level 15:autogluon.tabular.models.fastainn.callbacks:Better model found at epoch 6 with accuracy value: 0.8660714030265808.\n",
            "INFO:autogluon.tabular.models.fastainn.callbacks:No improvement since epoch 6: early stopping\n",
            "Level 15:autogluon.tabular.models.fastainn.tabular_nn_fastai:Model validation metrics: 0.8660714030265808\n",
            "Level 15:autogluon.core.models.abstract.abstract_model:\tFitting S1F2 with 'num_gpus': 0, 'num_cpus': 2\n",
            "Level 15:autogluon.tabular.models.fastainn.tabular_nn_fastai:Fitting Neural Network with parameters {'layers': None, 'emb_drop': 0.1, 'ps': 0.1, 'bs': 256, 'lr': 0.01, 'epochs': 30, 'early.stopping.min_delta': 0.0001, 'early.stopping.patience': 20, 'smoothing': 0.0}...\n",
            "Level 15:autogluon.tabular.models.fastainn.tabular_nn_fastai:Using 1/1 categorical features\n",
            "Level 15:autogluon.tabular.models.fastainn.tabular_nn_fastai:Using 18 cont features\n",
            "Level 15:autogluon.tabular.models.fastainn.tabular_nn_fastai:TabularModel(\n",
            "  (embeds): ModuleList(\n",
            "    (0): Embedding(5, 4)\n",
            "  )\n",
            "  (emb_drop): Dropout(p=0.1, inplace=False)\n",
            "  (bn_cont): BatchNorm1d(18, eps=1e-05, momentum=0.1, affine=True, track_running_stats=True)\n",
            "  (layers): Sequential(\n",
            "    (0): LinBnDrop(\n",
            "      (0): Linear(in_features=22, out_features=200, bias=False)\n",
            "      (1): ReLU(inplace=True)\n",
            "      (2): BatchNorm1d(200, eps=1e-05, momentum=0.1, affine=True, track_running_stats=True)\n",
            "      (3): Dropout(p=0.1, inplace=False)\n",
            "    )\n",
            "    (1): LinBnDrop(\n",
            "      (0): Linear(in_features=200, out_features=100, bias=False)\n",
            "      (1): ReLU(inplace=True)\n",
            "      (2): BatchNorm1d(100, eps=1e-05, momentum=0.1, affine=True, track_running_stats=True)\n",
            "      (3): Dropout(p=0.1, inplace=False)\n",
            "    )\n",
            "    (2): LinBnDrop(\n",
            "      (0): Linear(in_features=100, out_features=2, bias=True)\n",
            "    )\n",
            "  )\n",
            ")\n",
            "Level 15:autogluon.tabular.models.fastainn.callbacks:Better model found at epoch 0 with accuracy value: 0.6428571343421936.\n",
            "Level 15:autogluon.tabular.models.fastainn.callbacks:Better model found at epoch 1 with accuracy value: 0.8214285969734192.\n",
            "Level 15:autogluon.tabular.models.fastainn.callbacks:Better model found at epoch 3 with accuracy value: 0.8303571343421936.\n",
            "Level 15:autogluon.tabular.models.fastainn.callbacks:Better model found at epoch 4 with accuracy value: 0.8482142686843872.\n",
            "Level 15:autogluon.tabular.models.fastainn.callbacks:Better model found at epoch 5 with accuracy value: 0.8660714030265808.\n",
            "Level 15:autogluon.tabular.models.fastainn.callbacks:Better model found at epoch 8 with accuracy value: 0.875.\n",
            "Level 15:autogluon.tabular.models.fastainn.callbacks:Better model found at epoch 9 with accuracy value: 0.8839285969734192.\n",
            "INFO:autogluon.tabular.models.fastainn.callbacks:No improvement since epoch 9: early stopping\n",
            "Level 15:autogluon.tabular.models.fastainn.tabular_nn_fastai:Model validation metrics: 0.8839285969734192\n",
            "Level 15:autogluon.core.models.abstract.abstract_model:\tFitting S1F3 with 'num_gpus': 0, 'num_cpus': 2\n",
            "Level 15:autogluon.tabular.models.fastainn.tabular_nn_fastai:Fitting Neural Network with parameters {'layers': None, 'emb_drop': 0.1, 'ps': 0.1, 'bs': 256, 'lr': 0.01, 'epochs': 30, 'early.stopping.min_delta': 0.0001, 'early.stopping.patience': 20, 'smoothing': 0.0}...\n",
            "Level 15:autogluon.tabular.models.fastainn.tabular_nn_fastai:Using 1/1 categorical features\n",
            "Level 15:autogluon.tabular.models.fastainn.tabular_nn_fastai:Using 18 cont features\n",
            "Level 15:autogluon.tabular.models.fastainn.tabular_nn_fastai:TabularModel(\n",
            "  (embeds): ModuleList(\n",
            "    (0): Embedding(5, 4)\n",
            "  )\n",
            "  (emb_drop): Dropout(p=0.1, inplace=False)\n",
            "  (bn_cont): BatchNorm1d(18, eps=1e-05, momentum=0.1, affine=True, track_running_stats=True)\n",
            "  (layers): Sequential(\n",
            "    (0): LinBnDrop(\n",
            "      (0): Linear(in_features=22, out_features=200, bias=False)\n",
            "      (1): ReLU(inplace=True)\n",
            "      (2): BatchNorm1d(200, eps=1e-05, momentum=0.1, affine=True, track_running_stats=True)\n",
            "      (3): Dropout(p=0.1, inplace=False)\n",
            "    )\n",
            "    (1): LinBnDrop(\n",
            "      (0): Linear(in_features=200, out_features=100, bias=False)\n",
            "      (1): ReLU(inplace=True)\n",
            "      (2): BatchNorm1d(100, eps=1e-05, momentum=0.1, affine=True, track_running_stats=True)\n",
            "      (3): Dropout(p=0.1, inplace=False)\n",
            "    )\n",
            "    (2): LinBnDrop(\n",
            "      (0): Linear(in_features=100, out_features=2, bias=True)\n",
            "    )\n",
            "  )\n",
            ")\n",
            "Level 15:autogluon.tabular.models.fastainn.callbacks:Better model found at epoch 0 with accuracy value: 0.7767857313156128.\n",
            "Level 15:autogluon.tabular.models.fastainn.callbacks:Better model found at epoch 1 with accuracy value: 0.8303571343421936.\n",
            "Level 15:autogluon.tabular.models.fastainn.callbacks:Better model found at epoch 2 with accuracy value: 0.8482142686843872.\n",
            "Level 15:autogluon.tabular.models.fastainn.callbacks:Better model found at epoch 3 with accuracy value: 0.875.\n",
            "INFO:autogluon.tabular.models.fastainn.callbacks:No improvement since epoch 3: early stopping\n",
            "Level 15:autogluon.tabular.models.fastainn.tabular_nn_fastai:Model validation metrics: 0.875\n",
            "Level 15:autogluon.core.models.abstract.abstract_model:\tFitting S1F4 with 'num_gpus': 0, 'num_cpus': 2\n",
            "Level 15:autogluon.tabular.models.fastainn.tabular_nn_fastai:Fitting Neural Network with parameters {'layers': None, 'emb_drop': 0.1, 'ps': 0.1, 'bs': 256, 'lr': 0.01, 'epochs': 30, 'early.stopping.min_delta': 0.0001, 'early.stopping.patience': 20, 'smoothing': 0.0}...\n",
            "Level 15:autogluon.tabular.models.fastainn.tabular_nn_fastai:Using 1/1 categorical features\n",
            "Level 15:autogluon.tabular.models.fastainn.tabular_nn_fastai:Using 18 cont features\n",
            "Level 15:autogluon.tabular.models.fastainn.tabular_nn_fastai:TabularModel(\n",
            "  (embeds): ModuleList(\n",
            "    (0): Embedding(5, 4)\n",
            "  )\n",
            "  (emb_drop): Dropout(p=0.1, inplace=False)\n",
            "  (bn_cont): BatchNorm1d(18, eps=1e-05, momentum=0.1, affine=True, track_running_stats=True)\n",
            "  (layers): Sequential(\n",
            "    (0): LinBnDrop(\n",
            "      (0): Linear(in_features=22, out_features=200, bias=False)\n",
            "      (1): ReLU(inplace=True)\n",
            "      (2): BatchNorm1d(200, eps=1e-05, momentum=0.1, affine=True, track_running_stats=True)\n",
            "      (3): Dropout(p=0.1, inplace=False)\n",
            "    )\n",
            "    (1): LinBnDrop(\n",
            "      (0): Linear(in_features=200, out_features=100, bias=False)\n",
            "      (1): ReLU(inplace=True)\n",
            "      (2): BatchNorm1d(100, eps=1e-05, momentum=0.1, affine=True, track_running_stats=True)\n",
            "      (3): Dropout(p=0.1, inplace=False)\n",
            "    )\n",
            "    (2): LinBnDrop(\n",
            "      (0): Linear(in_features=100, out_features=2, bias=True)\n",
            "    )\n",
            "  )\n",
            ")\n",
            "Level 15:autogluon.tabular.models.fastainn.callbacks:Better model found at epoch 0 with accuracy value: 0.7567567825317383.\n",
            "Level 15:autogluon.tabular.models.fastainn.callbacks:Better model found at epoch 2 with accuracy value: 0.7837837934494019.\n",
            "Level 15:autogluon.tabular.models.fastainn.callbacks:Better model found at epoch 5 with accuracy value: 0.8018018007278442.\n",
            "Level 15:autogluon.tabular.models.fastainn.callbacks:Better model found at epoch 6 with accuracy value: 0.8198198080062866.\n",
            "Level 15:autogluon.tabular.models.fastainn.callbacks:Better model found at epoch 14 with accuracy value: 0.837837815284729.\n",
            "Level 15:autogluon.tabular.models.fastainn.tabular_nn_fastai:Model validation metrics: 0.837837815284729\n",
            "Level 15:autogluon.core.models.abstract.abstract_model:\tFitting S1F5 with 'num_gpus': 0, 'num_cpus': 2\n",
            "Level 15:autogluon.tabular.models.fastainn.tabular_nn_fastai:Fitting Neural Network with parameters {'layers': None, 'emb_drop': 0.1, 'ps': 0.1, 'bs': 256, 'lr': 0.01, 'epochs': 30, 'early.stopping.min_delta': 0.0001, 'early.stopping.patience': 20, 'smoothing': 0.0}...\n",
            "Level 15:autogluon.tabular.models.fastainn.tabular_nn_fastai:Using 1/1 categorical features\n",
            "Level 15:autogluon.tabular.models.fastainn.tabular_nn_fastai:Using 18 cont features\n",
            "Level 15:autogluon.tabular.models.fastainn.tabular_nn_fastai:TabularModel(\n",
            "  (embeds): ModuleList(\n",
            "    (0): Embedding(5, 4)\n",
            "  )\n",
            "  (emb_drop): Dropout(p=0.1, inplace=False)\n",
            "  (bn_cont): BatchNorm1d(18, eps=1e-05, momentum=0.1, affine=True, track_running_stats=True)\n",
            "  (layers): Sequential(\n",
            "    (0): LinBnDrop(\n",
            "      (0): Linear(in_features=22, out_features=200, bias=False)\n",
            "      (1): ReLU(inplace=True)\n",
            "      (2): BatchNorm1d(200, eps=1e-05, momentum=0.1, affine=True, track_running_stats=True)\n",
            "      (3): Dropout(p=0.1, inplace=False)\n",
            "    )\n",
            "    (1): LinBnDrop(\n",
            "      (0): Linear(in_features=200, out_features=100, bias=False)\n",
            "      (1): ReLU(inplace=True)\n",
            "      (2): BatchNorm1d(100, eps=1e-05, momentum=0.1, affine=True, track_running_stats=True)\n",
            "      (3): Dropout(p=0.1, inplace=False)\n",
            "    )\n",
            "    (2): LinBnDrop(\n",
            "      (0): Linear(in_features=100, out_features=2, bias=True)\n",
            "    )\n",
            "  )\n",
            ")\n",
            "Level 15:autogluon.tabular.models.fastainn.callbacks:Better model found at epoch 0 with accuracy value: 0.792792797088623.\n",
            "Level 15:autogluon.tabular.models.fastainn.callbacks:Better model found at epoch 1 with accuracy value: 0.8288288116455078.\n",
            "Level 15:autogluon.tabular.models.fastainn.callbacks:Better model found at epoch 2 with accuracy value: 0.8468468189239502.\n",
            "Level 15:autogluon.tabular.models.fastainn.callbacks:Better model found at epoch 5 with accuracy value: 0.8558558821678162.\n",
            "INFO:autogluon.tabular.models.fastainn.callbacks:No improvement since epoch 5: early stopping\n",
            "Level 15:autogluon.tabular.models.fastainn.tabular_nn_fastai:Model validation metrics: 0.8558558821678162\n",
            "Level 15:autogluon.core.models.abstract.abstract_model:\tFitting S1F6 with 'num_gpus': 0, 'num_cpus': 2\n",
            "Level 15:autogluon.tabular.models.fastainn.tabular_nn_fastai:Fitting Neural Network with parameters {'layers': None, 'emb_drop': 0.1, 'ps': 0.1, 'bs': 256, 'lr': 0.01, 'epochs': 30, 'early.stopping.min_delta': 0.0001, 'early.stopping.patience': 20, 'smoothing': 0.0}...\n",
            "Level 15:autogluon.tabular.models.fastainn.tabular_nn_fastai:Using 1/1 categorical features\n",
            "Level 15:autogluon.tabular.models.fastainn.tabular_nn_fastai:Using 18 cont features\n",
            "Level 15:autogluon.tabular.models.fastainn.tabular_nn_fastai:TabularModel(\n",
            "  (embeds): ModuleList(\n",
            "    (0): Embedding(5, 4)\n",
            "  )\n",
            "  (emb_drop): Dropout(p=0.1, inplace=False)\n",
            "  (bn_cont): BatchNorm1d(18, eps=1e-05, momentum=0.1, affine=True, track_running_stats=True)\n",
            "  (layers): Sequential(\n",
            "    (0): LinBnDrop(\n",
            "      (0): Linear(in_features=22, out_features=200, bias=False)\n",
            "      (1): ReLU(inplace=True)\n",
            "      (2): BatchNorm1d(200, eps=1e-05, momentum=0.1, affine=True, track_running_stats=True)\n",
            "      (3): Dropout(p=0.1, inplace=False)\n",
            "    )\n",
            "    (1): LinBnDrop(\n",
            "      (0): Linear(in_features=200, out_features=100, bias=False)\n",
            "      (1): ReLU(inplace=True)\n",
            "      (2): BatchNorm1d(100, eps=1e-05, momentum=0.1, affine=True, track_running_stats=True)\n",
            "      (3): Dropout(p=0.1, inplace=False)\n",
            "    )\n",
            "    (2): LinBnDrop(\n",
            "      (0): Linear(in_features=100, out_features=2, bias=True)\n",
            "    )\n",
            "  )\n",
            ")\n",
            "Level 15:autogluon.tabular.models.fastainn.callbacks:Better model found at epoch 0 with accuracy value: 0.8108108043670654.\n",
            "Level 15:autogluon.tabular.models.fastainn.callbacks:Better model found at epoch 1 with accuracy value: 0.8648648858070374.\n",
            "Level 15:autogluon.tabular.models.fastainn.callbacks:Better model found at epoch 2 with accuracy value: 0.8738738894462585.\n",
            "INFO:autogluon.tabular.models.fastainn.callbacks:No improvement since epoch 2: early stopping\n",
            "Level 15:autogluon.tabular.models.fastainn.tabular_nn_fastai:Model validation metrics: 0.8738738894462585\n",
            "Level 15:autogluon.core.models.abstract.abstract_model:\tFitting S1F7 with 'num_gpus': 0, 'num_cpus': 2\n",
            "Level 15:autogluon.tabular.models.fastainn.tabular_nn_fastai:Fitting Neural Network with parameters {'layers': None, 'emb_drop': 0.1, 'ps': 0.1, 'bs': 256, 'lr': 0.01, 'epochs': 30, 'early.stopping.min_delta': 0.0001, 'early.stopping.patience': 20, 'smoothing': 0.0}...\n",
            "Level 15:autogluon.tabular.models.fastainn.tabular_nn_fastai:Using 1/1 categorical features\n",
            "Level 15:autogluon.tabular.models.fastainn.tabular_nn_fastai:Using 18 cont features\n",
            "Level 15:autogluon.tabular.models.fastainn.tabular_nn_fastai:TabularModel(\n",
            "  (embeds): ModuleList(\n",
            "    (0): Embedding(5, 4)\n",
            "  )\n",
            "  (emb_drop): Dropout(p=0.1, inplace=False)\n",
            "  (bn_cont): BatchNorm1d(18, eps=1e-05, momentum=0.1, affine=True, track_running_stats=True)\n",
            "  (layers): Sequential(\n",
            "    (0): LinBnDrop(\n",
            "      (0): Linear(in_features=22, out_features=200, bias=False)\n",
            "      (1): ReLU(inplace=True)\n",
            "      (2): BatchNorm1d(200, eps=1e-05, momentum=0.1, affine=True, track_running_stats=True)\n",
            "      (3): Dropout(p=0.1, inplace=False)\n",
            "    )\n",
            "    (1): LinBnDrop(\n",
            "      (0): Linear(in_features=200, out_features=100, bias=False)\n",
            "      (1): ReLU(inplace=True)\n",
            "      (2): BatchNorm1d(100, eps=1e-05, momentum=0.1, affine=True, track_running_stats=True)\n",
            "      (3): Dropout(p=0.1, inplace=False)\n",
            "    )\n",
            "    (2): LinBnDrop(\n",
            "      (0): Linear(in_features=100, out_features=2, bias=True)\n",
            "    )\n",
            "  )\n",
            ")\n",
            "Level 15:autogluon.tabular.models.fastainn.callbacks:Better model found at epoch 0 with accuracy value: 0.837837815284729.\n",
            "Level 15:autogluon.tabular.models.fastainn.callbacks:Better model found at epoch 1 with accuracy value: 0.8558558821678162.\n",
            "Level 15:autogluon.tabular.models.fastainn.callbacks:Better model found at epoch 13 with accuracy value: 0.8648648858070374.\n",
            "Level 15:autogluon.tabular.models.fastainn.tabular_nn_fastai:Model validation metrics: 0.8648648858070374\n",
            "Level 15:autogluon.core.models.abstract.abstract_model:\tFitting S1F8 with 'num_gpus': 0, 'num_cpus': 2\n",
            "Level 15:autogluon.tabular.models.fastainn.tabular_nn_fastai:Fitting Neural Network with parameters {'layers': None, 'emb_drop': 0.1, 'ps': 0.1, 'bs': 256, 'lr': 0.01, 'epochs': 30, 'early.stopping.min_delta': 0.0001, 'early.stopping.patience': 20, 'smoothing': 0.0}...\n",
            "Level 15:autogluon.tabular.models.fastainn.tabular_nn_fastai:Using 1/1 categorical features\n",
            "Level 15:autogluon.tabular.models.fastainn.tabular_nn_fastai:Using 18 cont features\n",
            "Level 15:autogluon.tabular.models.fastainn.tabular_nn_fastai:TabularModel(\n",
            "  (embeds): ModuleList(\n",
            "    (0): Embedding(5, 4)\n",
            "  )\n",
            "  (emb_drop): Dropout(p=0.1, inplace=False)\n",
            "  (bn_cont): BatchNorm1d(18, eps=1e-05, momentum=0.1, affine=True, track_running_stats=True)\n",
            "  (layers): Sequential(\n",
            "    (0): LinBnDrop(\n",
            "      (0): Linear(in_features=22, out_features=200, bias=False)\n",
            "      (1): ReLU(inplace=True)\n",
            "      (2): BatchNorm1d(200, eps=1e-05, momentum=0.1, affine=True, track_running_stats=True)\n",
            "      (3): Dropout(p=0.1, inplace=False)\n",
            "    )\n",
            "    (1): LinBnDrop(\n",
            "      (0): Linear(in_features=200, out_features=100, bias=False)\n",
            "      (1): ReLU(inplace=True)\n",
            "      (2): BatchNorm1d(100, eps=1e-05, momentum=0.1, affine=True, track_running_stats=True)\n",
            "      (3): Dropout(p=0.1, inplace=False)\n",
            "    )\n",
            "    (2): LinBnDrop(\n",
            "      (0): Linear(in_features=100, out_features=2, bias=True)\n",
            "    )\n",
            "  )\n",
            ")\n",
            "Level 15:autogluon.tabular.models.fastainn.callbacks:Better model found at epoch 0 with accuracy value: 0.7657657861709595.\n",
            "Level 15:autogluon.tabular.models.fastainn.callbacks:Better model found at epoch 3 with accuracy value: 0.7837837934494019.\n",
            "Level 15:autogluon.tabular.models.fastainn.callbacks:Better model found at epoch 4 with accuracy value: 0.792792797088623.\n",
            "Level 15:autogluon.tabular.models.fastainn.callbacks:Better model found at epoch 7 with accuracy value: 0.8018018007278442.\n",
            "Level 15:autogluon.tabular.models.fastainn.callbacks:Better model found at epoch 8 with accuracy value: 0.8198198080062866.\n",
            "INFO:autogluon.tabular.models.fastainn.callbacks:No improvement since epoch 8: early stopping\n",
            "Level 15:autogluon.tabular.models.fastainn.tabular_nn_fastai:Model validation metrics: 0.8198198080062866\n",
            "Level 15:autogluon.core.utils.savers.save_pkl:Saving /content/drive/MyDrive/輪読/model/agModels_best/models/NeuralNetFastAI_BAG_L2/utils/oof.pkl\n",
            "Level 15:autogluon.core.utils.savers.save_pkl:Saving /content/drive/MyDrive/輪読/model/agModels_best/models/NeuralNetFastAI_BAG_L2/model.pkl\n",
            "INFO:autogluon.tabular.trainer.abstract_trainer:\t0.8597\t = Validation score   (accuracy)\n",
            "INFO:autogluon.tabular.trainer.abstract_trainer:\t16.96s\t = Training   runtime\n",
            "INFO:autogluon.tabular.trainer.abstract_trainer:\t0.33s\t = Validation runtime\n",
            "Level 15:autogluon.core.utils.savers.save_pkl:Saving /content/drive/MyDrive/輪読/model/agModels_best/models/trainer.pkl\n",
            "INFO:autogluon.tabular.trainer.abstract_trainer:Fitting model: XGBoost_BAG_L2 ... Training model for up to 93.45s of the 93.33s of remaining time.\n",
            "Level 15:autogluon.core.utils.savers.save_pkl:Saving /content/drive/MyDrive/輪読/model/agModels_best/models/XGBoost_BAG_L2/utils/model_template.pkl\n",
            "Level 15:autogluon.core.models.abstract.abstract_model:\tFitting S1F1 with 'num_gpus': 0, 'num_cpus': 2\n"
          ]
        },
        {
          "output_type": "stream",
          "name": "stdout",
          "text": [
            "[0]\tvalidation_0-error:0.18750\n",
            "[50]\tvalidation_0-error:0.17857\n",
            "[100]\tvalidation_0-error:0.16964\n",
            "[150]\tvalidation_0-error:0.16964\n",
            "[153]\tvalidation_0-error:0.16964\n"
          ]
        },
        {
          "output_type": "stream",
          "name": "stderr",
          "text": [
            "Level 15:autogluon.core.models.abstract.abstract_model:\tFitting S1F2 with 'num_gpus': 0, 'num_cpus': 2\n"
          ]
        },
        {
          "output_type": "stream",
          "name": "stdout",
          "text": [
            "[0]\tvalidation_0-error:0.16071\n",
            "[50]\tvalidation_0-error:0.12500\n",
            "[100]\tvalidation_0-error:0.12500\n",
            "[150]\tvalidation_0-error:0.12500\n",
            "[166]\tvalidation_0-error:0.12500\n"
          ]
        },
        {
          "output_type": "stream",
          "name": "stderr",
          "text": [
            "Level 15:autogluon.core.models.abstract.abstract_model:\tFitting S1F3 with 'num_gpus': 0, 'num_cpus': 2\n"
          ]
        },
        {
          "output_type": "stream",
          "name": "stdout",
          "text": [
            "[0]\tvalidation_0-error:0.18750\n",
            "[50]\tvalidation_0-error:0.16071\n",
            "[100]\tvalidation_0-error:0.15179\n",
            "[150]\tvalidation_0-error:0.13393\n",
            "[154]\tvalidation_0-error:0.14286\n"
          ]
        },
        {
          "output_type": "stream",
          "name": "stderr",
          "text": [
            "Level 15:autogluon.core.models.abstract.abstract_model:\tFitting S1F4 with 'num_gpus': 0, 'num_cpus': 2\n"
          ]
        },
        {
          "output_type": "stream",
          "name": "stdout",
          "text": [
            "[0]\tvalidation_0-error:0.21622\n",
            "[50]\tvalidation_0-error:0.18919\n",
            "[100]\tvalidation_0-error:0.20721\n",
            "[150]\tvalidation_0-error:0.18919\n",
            "[159]\tvalidation_0-error:0.18919\n"
          ]
        },
        {
          "output_type": "stream",
          "name": "stderr",
          "text": [
            "Level 15:autogluon.core.models.abstract.abstract_model:\tFitting S1F5 with 'num_gpus': 0, 'num_cpus': 2\n"
          ]
        },
        {
          "output_type": "stream",
          "name": "stdout",
          "text": [
            "[0]\tvalidation_0-error:0.16216\n",
            "[50]\tvalidation_0-error:0.17117\n",
            "[100]\tvalidation_0-error:0.17117\n",
            "[150]\tvalidation_0-error:0.18018\n",
            "[152]\tvalidation_0-error:0.18018\n"
          ]
        },
        {
          "output_type": "stream",
          "name": "stderr",
          "text": [
            "Level 15:autogluon.core.models.abstract.abstract_model:\tFitting S1F6 with 'num_gpus': 0, 'num_cpus': 2\n"
          ]
        },
        {
          "output_type": "stream",
          "name": "stdout",
          "text": [
            "[0]\tvalidation_0-error:0.18018\n",
            "[50]\tvalidation_0-error:0.13514\n",
            "[100]\tvalidation_0-error:0.14414\n",
            "[150]\tvalidation_0-error:0.14414\n",
            "[170]\tvalidation_0-error:0.14414\n"
          ]
        },
        {
          "output_type": "stream",
          "name": "stderr",
          "text": [
            "Level 15:autogluon.core.models.abstract.abstract_model:\tFitting S1F7 with 'num_gpus': 0, 'num_cpus': 2\n"
          ]
        },
        {
          "output_type": "stream",
          "name": "stdout",
          "text": [
            "[0]\tvalidation_0-error:0.12613\n",
            "[50]\tvalidation_0-error:0.12613\n",
            "[100]\tvalidation_0-error:0.13514\n",
            "[150]\tvalidation_0-error:0.13514\n",
            "[152]\tvalidation_0-error:0.13514\n"
          ]
        },
        {
          "output_type": "stream",
          "name": "stderr",
          "text": [
            "Level 15:autogluon.core.models.abstract.abstract_model:\tFitting S1F8 with 'num_gpus': 0, 'num_cpus': 2\n"
          ]
        },
        {
          "output_type": "stream",
          "name": "stdout",
          "text": [
            "[0]\tvalidation_0-error:0.18919\n",
            "[50]\tvalidation_0-error:0.18919\n",
            "[100]\tvalidation_0-error:0.18018\n",
            "[150]\tvalidation_0-error:0.18018\n",
            "[167]\tvalidation_0-error:0.18018\n"
          ]
        },
        {
          "output_type": "stream",
          "name": "stderr",
          "text": [
            "Level 15:autogluon.core.utils.savers.save_pkl:Saving /content/drive/MyDrive/輪読/model/agModels_best/models/XGBoost_BAG_L2/utils/oof.pkl\n",
            "Level 15:autogluon.core.utils.savers.save_pkl:Saving /content/drive/MyDrive/輪読/model/agModels_best/models/XGBoost_BAG_L2/model.pkl\n",
            "INFO:autogluon.tabular.trainer.abstract_trainer:\t0.8586\t = Validation score   (accuracy)\n",
            "INFO:autogluon.tabular.trainer.abstract_trainer:\t6.48s\t = Training   runtime\n",
            "INFO:autogluon.tabular.trainer.abstract_trainer:\t0.08s\t = Validation runtime\n",
            "Level 15:autogluon.core.utils.savers.save_pkl:Saving /content/drive/MyDrive/輪読/model/agModels_best/models/trainer.pkl\n",
            "INFO:autogluon.tabular.trainer.abstract_trainer:Fitting model: NeuralNetMXNet_BAG_L2 ... Training model for up to 86.37s of the 86.27s of remaining time.\n",
            "Level 15:autogluon.core.utils.savers.save_pkl:Saving /content/drive/MyDrive/輪読/model/agModels_best/models/NeuralNetMXNet_BAG_L2/utils/model_template.pkl\n",
            "Level 15:autogluon.core.models.abstract.abstract_model:\tFitting S1F1 with 'num_gpus': 0, 'num_cpus': 2\n",
            "ERROR:autogluon.tabular.trainer.abstract_trainer:\tWarning: Exception caused NeuralNetMXNet_BAG_L2 to fail during training (ImportError)... Skipping this model.\n",
            "ERROR:autogluon.tabular.trainer.abstract_trainer:\t\tUnable to import dependency mxnet. A quick tip is to install via `pip install mxnet --upgrade`, or `pip install mxnet_cu101 --upgrade`\n",
            "ERROR:autogluon.tabular.trainer.abstract_trainer:Detailed Traceback:\n",
            "Traceback (most recent call last):\n",
            "  File \"/usr/local/lib/python3.7/dist-packages/autogluon/core/utils/try_import.py\", line 31, in try_import_mxnet\n",
            "    import mxnet as mx\n",
            "ModuleNotFoundError: No module named 'mxnet'\n",
            "\n",
            "During handling of the above exception, another exception occurred:\n",
            "\n",
            "Traceback (most recent call last):\n",
            "  File \"/usr/local/lib/python3.7/dist-packages/autogluon/tabular/trainer/abstract_trainer.py\", line 962, in _train_and_save\n",
            "    model = self._train_single(X, y, model, X_val, y_val, **model_fit_kwargs)\n",
            "  File \"/usr/local/lib/python3.7/dist-packages/autogluon/tabular/trainer/abstract_trainer.py\", line 934, in _train_single\n",
            "    model = model.fit(X=X, y=y, X_val=X_val, y_val=y_val, **model_fit_kwargs)\n",
            "  File \"/usr/local/lib/python3.7/dist-packages/autogluon/core/models/abstract/abstract_model.py\", line 522, in fit\n",
            "    out = self._fit(**kwargs)\n",
            "  File \"/usr/local/lib/python3.7/dist-packages/autogluon/core/models/ensemble/stacker_ensemble_model.py\", line 153, in _fit\n",
            "    return super()._fit(X=X, y=y, time_limit=time_limit, **kwargs)\n",
            "  File \"/usr/local/lib/python3.7/dist-packages/autogluon/core/models/ensemble/bagged_ensemble_model.py\", line 189, in _fit\n",
            "    n_repeats=n_repeats, n_repeat_start=n_repeat_start, save_folds=save_bag_folds, groups=groups, **kwargs)\n",
            "  File \"/usr/local/lib/python3.7/dist-packages/autogluon/core/models/ensemble/bagged_ensemble_model.py\", line 388, in _fit_folds\n",
            "    fold_fitting_strategy.after_all_folds_scheduled()\n",
            "  File \"/usr/local/lib/python3.7/dist-packages/autogluon/core/models/ensemble/fold_fitting_strategy.py\", line 59, in after_all_folds_scheduled\n",
            "    self._fit_fold_model(*job)\n",
            "  File \"/usr/local/lib/python3.7/dist-packages/autogluon/core/models/ensemble/fold_fitting_strategy.py\", line 64, in _fit_fold_model\n",
            "    fold_model = self._fit(model_base, time_start_fold, time_limit_fold, fold_ctx, kwargs)\n",
            "  File \"/usr/local/lib/python3.7/dist-packages/autogluon/core/models/ensemble/fold_fitting_strategy.py\", line 111, in _fit\n",
            "    fold_model.fit(X=X_fold, y=y_fold, X_val=X_val_fold, y_val=y_val_fold, time_limit=time_limit_fold, **kwargs_fold)\n",
            "  File \"/usr/local/lib/python3.7/dist-packages/autogluon/core/models/abstract/abstract_model.py\", line 522, in fit\n",
            "    out = self._fit(**kwargs)\n",
            "  File \"/usr/local/lib/python3.7/dist-packages/autogluon/tabular/models/tabular_nn/tabular_nn_model.py\", line 168, in _fit\n",
            "    try_import_mxnet()\n",
            "  File \"/usr/local/lib/python3.7/dist-packages/autogluon/core/utils/try_import.py\", line 43, in try_import_mxnet\n",
            "    \"Unable to import dependency mxnet. \"\n",
            "ImportError: Unable to import dependency mxnet. A quick tip is to install via `pip install mxnet --upgrade`, or `pip install mxnet_cu101 --upgrade`\n",
            "Level 15:autogluon.core.utils.savers.save_pkl:Saving /content/drive/MyDrive/輪読/model/agModels_best/models/trainer.pkl\n",
            "INFO:autogluon.tabular.trainer.abstract_trainer:Fitting model: LightGBMLarge_BAG_L2 ... Training model for up to 86.26s of the 86.15s of remaining time.\n",
            "Level 15:autogluon.core.utils.savers.save_pkl:Saving /content/drive/MyDrive/輪読/model/agModels_best/models/LightGBMLarge_BAG_L2/utils/model_template.pkl\n",
            "Level 15:autogluon.core.models.abstract.abstract_model:\tFitting S1F1 with 'num_gpus': 0, 'num_cpus': 2\n",
            "Level 15:autogluon.tabular.models.lgb.lgb_model:Training Gradient Boosting Model for 10000 rounds...\n",
            "Level 15:autogluon.tabular.models.lgb.lgb_model:with the following hyperparameter settings:\n",
            "Level 15:autogluon.tabular.models.lgb.lgb_model:{'num_threads': -1, 'learning_rate': 0.03, 'objective': 'binary', 'verbose': -1, 'boosting_type': 'gbdt', 'two_round': True, 'num_leaves': 128, 'feature_fraction': 0.9, 'min_data_in_leaf': 5}\n",
            "/usr/local/lib/python3.7/dist-packages/lightgbm/engine.py:239: UserWarning: 'verbose_eval' argument is deprecated and will be removed in a future release of LightGBM. Pass 'log_evaluation()' callback via 'callbacks' argument instead.\n",
            "  _log_warning(\"'verbose_eval' argument is deprecated and will be removed in a future release of LightGBM. \"\n"
          ]
        },
        {
          "output_type": "stream",
          "name": "stdout",
          "text": [
            "[50]\ttrain_set's binary_error: 0.00385109\tvalid_set's binary_error: 0.142857\n",
            "[100]\ttrain_set's binary_error: 0\tvalid_set's binary_error: 0.142857\n"
          ]
        },
        {
          "output_type": "stream",
          "name": "stderr",
          "text": [
            "Level 15:autogluon.core.models.abstract.abstract_model:\tFitting S1F2 with 'num_gpus': 0, 'num_cpus': 2\n"
          ]
        },
        {
          "output_type": "stream",
          "name": "stdout",
          "text": [
            "[150]\ttrain_set's binary_error: 0\tvalid_set's binary_error: 0.151786\n"
          ]
        },
        {
          "output_type": "stream",
          "name": "stderr",
          "text": [
            "Level 15:autogluon.tabular.models.lgb.lgb_model:Training Gradient Boosting Model for 10000 rounds...\n",
            "Level 15:autogluon.tabular.models.lgb.lgb_model:with the following hyperparameter settings:\n",
            "Level 15:autogluon.tabular.models.lgb.lgb_model:{'num_threads': -1, 'learning_rate': 0.03, 'objective': 'binary', 'verbose': -1, 'boosting_type': 'gbdt', 'two_round': True, 'num_leaves': 128, 'feature_fraction': 0.9, 'min_data_in_leaf': 5}\n",
            "/usr/local/lib/python3.7/dist-packages/lightgbm/engine.py:239: UserWarning: 'verbose_eval' argument is deprecated and will be removed in a future release of LightGBM. Pass 'log_evaluation()' callback via 'callbacks' argument instead.\n",
            "  _log_warning(\"'verbose_eval' argument is deprecated and will be removed in a future release of LightGBM. \"\n"
          ]
        },
        {
          "output_type": "stream",
          "name": "stdout",
          "text": [
            "[50]\ttrain_set's binary_error: 0.00385109\tvalid_set's binary_error: 0.116071\n",
            "[100]\ttrain_set's binary_error: 0\tvalid_set's binary_error: 0.116071\n"
          ]
        },
        {
          "output_type": "stream",
          "name": "stderr",
          "text": [
            "Level 15:autogluon.core.models.abstract.abstract_model:\tFitting S1F3 with 'num_gpus': 0, 'num_cpus': 2\n"
          ]
        },
        {
          "output_type": "stream",
          "name": "stdout",
          "text": [
            "[150]\ttrain_set's binary_error: 0\tvalid_set's binary_error: 0.116071\n"
          ]
        },
        {
          "output_type": "stream",
          "name": "stderr",
          "text": [
            "Level 15:autogluon.tabular.models.lgb.lgb_model:Training Gradient Boosting Model for 10000 rounds...\n",
            "Level 15:autogluon.tabular.models.lgb.lgb_model:with the following hyperparameter settings:\n",
            "Level 15:autogluon.tabular.models.lgb.lgb_model:{'num_threads': -1, 'learning_rate': 0.03, 'objective': 'binary', 'verbose': -1, 'boosting_type': 'gbdt', 'two_round': True, 'num_leaves': 128, 'feature_fraction': 0.9, 'min_data_in_leaf': 5}\n",
            "/usr/local/lib/python3.7/dist-packages/lightgbm/engine.py:239: UserWarning: 'verbose_eval' argument is deprecated and will be removed in a future release of LightGBM. Pass 'log_evaluation()' callback via 'callbacks' argument instead.\n",
            "  _log_warning(\"'verbose_eval' argument is deprecated and will be removed in a future release of LightGBM. \"\n"
          ]
        },
        {
          "output_type": "stream",
          "name": "stdout",
          "text": [
            "[50]\ttrain_set's binary_error: 0.00256739\tvalid_set's binary_error: 0.169643\n",
            "[100]\ttrain_set's binary_error: 0\tvalid_set's binary_error: 0.160714\n"
          ]
        },
        {
          "output_type": "stream",
          "name": "stderr",
          "text": [
            "Level 15:autogluon.core.models.abstract.abstract_model:\tFitting S1F4 with 'num_gpus': 0, 'num_cpus': 2\n"
          ]
        },
        {
          "output_type": "stream",
          "name": "stdout",
          "text": [
            "[150]\ttrain_set's binary_error: 0\tvalid_set's binary_error: 0.169643\n"
          ]
        },
        {
          "output_type": "stream",
          "name": "stderr",
          "text": [
            "Level 15:autogluon.tabular.models.lgb.lgb_model:Training Gradient Boosting Model for 10000 rounds...\n",
            "Level 15:autogluon.tabular.models.lgb.lgb_model:with the following hyperparameter settings:\n",
            "Level 15:autogluon.tabular.models.lgb.lgb_model:{'num_threads': -1, 'learning_rate': 0.03, 'objective': 'binary', 'verbose': -1, 'boosting_type': 'gbdt', 'two_round': True, 'num_leaves': 128, 'feature_fraction': 0.9, 'min_data_in_leaf': 5}\n",
            "/usr/local/lib/python3.7/dist-packages/lightgbm/engine.py:239: UserWarning: 'verbose_eval' argument is deprecated and will be removed in a future release of LightGBM. Pass 'log_evaluation()' callback via 'callbacks' argument instead.\n",
            "  _log_warning(\"'verbose_eval' argument is deprecated and will be removed in a future release of LightGBM. \"\n"
          ]
        },
        {
          "output_type": "stream",
          "name": "stdout",
          "text": [
            "[50]\ttrain_set's binary_error: 0\tvalid_set's binary_error: 0.162162\n",
            "[100]\ttrain_set's binary_error: 0\tvalid_set's binary_error: 0.18018\n",
            "[150]\ttrain_set's binary_error: 0\tvalid_set's binary_error: 0.171171\n"
          ]
        },
        {
          "output_type": "stream",
          "name": "stderr",
          "text": [
            "Level 15:autogluon.core.models.abstract.abstract_model:\tFitting S1F5 with 'num_gpus': 0, 'num_cpus': 2\n",
            "Level 15:autogluon.tabular.models.lgb.lgb_model:Training Gradient Boosting Model for 10000 rounds...\n",
            "Level 15:autogluon.tabular.models.lgb.lgb_model:with the following hyperparameter settings:\n",
            "Level 15:autogluon.tabular.models.lgb.lgb_model:{'num_threads': -1, 'learning_rate': 0.03, 'objective': 'binary', 'verbose': -1, 'boosting_type': 'gbdt', 'two_round': True, 'num_leaves': 128, 'feature_fraction': 0.9, 'min_data_in_leaf': 5}\n",
            "/usr/local/lib/python3.7/dist-packages/lightgbm/engine.py:239: UserWarning: 'verbose_eval' argument is deprecated and will be removed in a future release of LightGBM. Pass 'log_evaluation()' callback via 'callbacks' argument instead.\n",
            "  _log_warning(\"'verbose_eval' argument is deprecated and will be removed in a future release of LightGBM. \"\n"
          ]
        },
        {
          "output_type": "stream",
          "name": "stdout",
          "text": [
            "[50]\ttrain_set's binary_error: 0.00512821\tvalid_set's binary_error: 0.153153\n",
            "[100]\ttrain_set's binary_error: 0\tvalid_set's binary_error: 0.162162\n",
            "[150]\ttrain_set's binary_error: 0\tvalid_set's binary_error: 0.171171\n"
          ]
        },
        {
          "output_type": "stream",
          "name": "stderr",
          "text": [
            "Level 15:autogluon.core.models.abstract.abstract_model:\tFitting S1F6 with 'num_gpus': 0, 'num_cpus': 2\n",
            "Level 15:autogluon.tabular.models.lgb.lgb_model:Training Gradient Boosting Model for 10000 rounds...\n"
          ]
        },
        {
          "output_type": "stream",
          "name": "stdout",
          "text": [
            "[200]\ttrain_set's binary_error: 0\tvalid_set's binary_error: 0.153153\n"
          ]
        },
        {
          "output_type": "stream",
          "name": "stderr",
          "text": [
            "Level 15:autogluon.tabular.models.lgb.lgb_model:with the following hyperparameter settings:\n",
            "Level 15:autogluon.tabular.models.lgb.lgb_model:{'num_threads': -1, 'learning_rate': 0.03, 'objective': 'binary', 'verbose': -1, 'boosting_type': 'gbdt', 'two_round': True, 'num_leaves': 128, 'feature_fraction': 0.9, 'min_data_in_leaf': 5}\n",
            "/usr/local/lib/python3.7/dist-packages/lightgbm/engine.py:239: UserWarning: 'verbose_eval' argument is deprecated and will be removed in a future release of LightGBM. Pass 'log_evaluation()' callback via 'callbacks' argument instead.\n",
            "  _log_warning(\"'verbose_eval' argument is deprecated and will be removed in a future release of LightGBM. \"\n"
          ]
        },
        {
          "output_type": "stream",
          "name": "stdout",
          "text": [
            "[50]\ttrain_set's binary_error: 0.0025641\tvalid_set's binary_error: 0.153153\n",
            "[100]\ttrain_set's binary_error: 0\tvalid_set's binary_error: 0.135135\n",
            "[150]\ttrain_set's binary_error: 0\tvalid_set's binary_error: 0.135135\n"
          ]
        },
        {
          "output_type": "stream",
          "name": "stderr",
          "text": [
            "Level 15:autogluon.core.models.abstract.abstract_model:\tFitting S1F7 with 'num_gpus': 0, 'num_cpus': 2\n",
            "Level 15:autogluon.tabular.models.lgb.lgb_model:Training Gradient Boosting Model for 10000 rounds...\n"
          ]
        },
        {
          "output_type": "stream",
          "name": "stdout",
          "text": [
            "[200]\ttrain_set's binary_error: 0\tvalid_set's binary_error: 0.135135\n"
          ]
        },
        {
          "output_type": "stream",
          "name": "stderr",
          "text": [
            "Level 15:autogluon.tabular.models.lgb.lgb_model:with the following hyperparameter settings:\n",
            "Level 15:autogluon.tabular.models.lgb.lgb_model:{'num_threads': -1, 'learning_rate': 0.03, 'objective': 'binary', 'verbose': -1, 'boosting_type': 'gbdt', 'two_round': True, 'num_leaves': 128, 'feature_fraction': 0.9, 'min_data_in_leaf': 5}\n",
            "/usr/local/lib/python3.7/dist-packages/lightgbm/engine.py:239: UserWarning: 'verbose_eval' argument is deprecated and will be removed in a future release of LightGBM. Pass 'log_evaluation()' callback via 'callbacks' argument instead.\n",
            "  _log_warning(\"'verbose_eval' argument is deprecated and will be removed in a future release of LightGBM. \"\n"
          ]
        },
        {
          "output_type": "stream",
          "name": "stdout",
          "text": [
            "[50]\ttrain_set's binary_error: 0.0025641\tvalid_set's binary_error: 0.126126\n",
            "[100]\ttrain_set's binary_error: 0\tvalid_set's binary_error: 0.135135\n"
          ]
        },
        {
          "output_type": "stream",
          "name": "stderr",
          "text": [
            "Level 15:autogluon.core.models.abstract.abstract_model:\tFitting S1F8 with 'num_gpus': 0, 'num_cpus': 2\n"
          ]
        },
        {
          "output_type": "stream",
          "name": "stdout",
          "text": [
            "[150]\ttrain_set's binary_error: 0\tvalid_set's binary_error: 0.126126\n"
          ]
        },
        {
          "output_type": "stream",
          "name": "stderr",
          "text": [
            "Level 15:autogluon.tabular.models.lgb.lgb_model:Training Gradient Boosting Model for 10000 rounds...\n",
            "Level 15:autogluon.tabular.models.lgb.lgb_model:with the following hyperparameter settings:\n",
            "Level 15:autogluon.tabular.models.lgb.lgb_model:{'num_threads': -1, 'learning_rate': 0.03, 'objective': 'binary', 'verbose': -1, 'boosting_type': 'gbdt', 'two_round': True, 'num_leaves': 128, 'feature_fraction': 0.9, 'min_data_in_leaf': 5}\n",
            "/usr/local/lib/python3.7/dist-packages/lightgbm/engine.py:239: UserWarning: 'verbose_eval' argument is deprecated and will be removed in a future release of LightGBM. Pass 'log_evaluation()' callback via 'callbacks' argument instead.\n",
            "  _log_warning(\"'verbose_eval' argument is deprecated and will be removed in a future release of LightGBM. \"\n"
          ]
        },
        {
          "output_type": "stream",
          "name": "stdout",
          "text": [
            "[50]\ttrain_set's binary_error: 0.00128205\tvalid_set's binary_error: 0.189189\n",
            "[100]\ttrain_set's binary_error: 0\tvalid_set's binary_error: 0.171171\n",
            "[150]\ttrain_set's binary_error: 0\tvalid_set's binary_error: 0.18018\n"
          ]
        },
        {
          "output_type": "stream",
          "name": "stderr",
          "text": [
            "Level 15:autogluon.core.utils.savers.save_pkl:Saving /content/drive/MyDrive/輪読/model/agModels_best/models/LightGBMLarge_BAG_L2/utils/oof.pkl\n",
            "Level 15:autogluon.core.utils.savers.save_pkl:Saving /content/drive/MyDrive/輪読/model/agModels_best/models/LightGBMLarge_BAG_L2/model.pkl\n",
            "INFO:autogluon.tabular.trainer.abstract_trainer:\t0.8608\t = Validation score   (accuracy)\n",
            "INFO:autogluon.tabular.trainer.abstract_trainer:\t11.07s\t = Training   runtime\n",
            "INFO:autogluon.tabular.trainer.abstract_trainer:\t0.06s\t = Validation runtime\n",
            "Level 15:autogluon.core.utils.savers.save_pkl:Saving /content/drive/MyDrive/輪読/model/agModels_best/models/trainer.pkl\n",
            "Level 15:autogluon.tabular.trainer.abstract_trainer:Not enough time left to finish repeated k-fold bagging, stopping early ...\n",
            "INFO:autogluon.tabular.trainer.abstract_trainer:Completed 1/20 k-fold bagging repeats ...\n",
            "Level 15:autogluon.core.utils.loaders.load_pkl:Loading: /content/drive/MyDrive/輪読/model/agModels_best/models/LightGBMXT_BAG_L2/utils/oof.pkl\n",
            "Level 15:autogluon.core.utils.loaders.load_pkl:Loading: /content/drive/MyDrive/輪読/model/agModels_best/models/LightGBM_BAG_L2/utils/oof.pkl\n",
            "Level 15:autogluon.core.utils.loaders.load_pkl:Loading: /content/drive/MyDrive/輪読/model/agModels_best/models/RandomForestGini_BAG_L2/utils/oof.pkl\n",
            "Level 15:autogluon.core.utils.loaders.load_pkl:Loading: /content/drive/MyDrive/輪読/model/agModels_best/models/RandomForestEntr_BAG_L2/utils/oof.pkl\n",
            "Level 15:autogluon.core.utils.loaders.load_pkl:Loading: /content/drive/MyDrive/輪読/model/agModels_best/models/CatBoost_BAG_L2/utils/oof.pkl\n",
            "Level 15:autogluon.core.utils.loaders.load_pkl:Loading: /content/drive/MyDrive/輪読/model/agModels_best/models/ExtraTreesGini_BAG_L2/utils/oof.pkl\n",
            "Level 15:autogluon.core.utils.loaders.load_pkl:Loading: /content/drive/MyDrive/輪読/model/agModels_best/models/ExtraTreesEntr_BAG_L2/utils/oof.pkl\n",
            "Level 15:autogluon.core.utils.loaders.load_pkl:Loading: /content/drive/MyDrive/輪読/model/agModels_best/models/NeuralNetFastAI_BAG_L2/utils/oof.pkl\n",
            "Level 15:autogluon.core.utils.loaders.load_pkl:Loading: /content/drive/MyDrive/輪読/model/agModels_best/models/XGBoost_BAG_L2/utils/oof.pkl\n",
            "Level 15:autogluon.core.utils.loaders.load_pkl:Loading: /content/drive/MyDrive/輪読/model/agModels_best/models/LightGBMLarge_BAG_L2/utils/oof.pkl\n",
            "INFO:autogluon.tabular.trainer.model_presets.presets:Model configs that will be trained (in order):\n",
            "INFO:autogluon.tabular.trainer.model_presets.presets:\tWeightedEnsemble_L3: \t{'ag_args': {'valid_base': False, 'name_bag_suffix': '', 'model_type': <class 'autogluon.core.models.greedy_ensemble.greedy_weighted_ensemble_model.GreedyWeightedEnsembleModel'>, 'priority': 0}, 'ag_args_ensemble': {'save_bag_folds': True}}\n",
            "INFO:autogluon.tabular.trainer.abstract_trainer:Fitting model: WeightedEnsemble_L3 ... Training model for up to 299.23s of the 74.5s of remaining time.\n",
            "Level 15:autogluon.core.utils.savers.save_pkl:Saving /content/drive/MyDrive/輪読/model/agModels_best/models/WeightedEnsemble_L3/utils/model_template.pkl\n",
            "Level 15:autogluon.core.models.abstract.abstract_model:\tFitting S1F1 with 'num_gpus': 0, 'num_cpus': 2\n",
            "Level 15:autogluon.core.models.greedy_ensemble.ensemble_selection:Ensemble size: 1\n",
            "Level 15:autogluon.core.models.greedy_ensemble.ensemble_selection:Ensemble weights: \n",
            "Level 15:autogluon.core.models.greedy_ensemble.ensemble_selection:[0. 0. 0. 0. 1. 0. 0. 0. 0. 0.]\n",
            "Level 15:autogluon.core.utils.savers.save_pkl:Saving /content/drive/MyDrive/輪読/model/agModels_best/models/WeightedEnsemble_L3/utils/oof.pkl\n",
            "Level 15:autogluon.core.utils.savers.save_pkl:Saving /content/drive/MyDrive/輪読/model/agModels_best/models/WeightedEnsemble_L3/model.pkl\n",
            "INFO:autogluon.tabular.trainer.abstract_trainer:\t0.8676\t = Validation score   (accuracy)\n",
            "INFO:autogluon.tabular.trainer.abstract_trainer:\t0.86s\t = Training   runtime\n",
            "INFO:autogluon.tabular.trainer.abstract_trainer:\t0.0s\t = Validation runtime\n",
            "Level 15:autogluon.core.utils.savers.save_pkl:Saving /content/drive/MyDrive/輪読/model/agModels_best/models/trainer.pkl\n",
            "Level 15:autogluon.core.utils.savers.save_pkl:Saving /content/drive/MyDrive/輪読/model/agModels_best/models/trainer.pkl\n",
            "Level 15:autogluon.core.utils.savers.save_pkl:Saving /content/drive/MyDrive/輪読/model/agModels_best/models/trainer.pkl\n",
            "INFO:autogluon.tabular.learner.default_learner:AutoGluon training complete, total runtime = 226.62s ...\n",
            "Level 15:autogluon.core.utils.loaders.load_pkl:Loading: /content/drive/MyDrive/輪読/model/agModels_best/models/trainer.pkl\n",
            "Level 15:autogluon.core.utils.savers.save_pkl:Saving /content/drive/MyDrive/輪読/model/agModels_best/models/trainer.pkl\n",
            "Level 15:autogluon.core.utils.savers.save_pkl:Saving /content/drive/MyDrive/輪読/model/agModels_best/learner.pkl\n",
            "Level 15:autogluon.core.utils.savers.save_pkl:Saving /content/drive/MyDrive/輪読/model/agModels_best/predictor.pkl\n",
            "INFO:root:TabularPredictor saved. To load, use: predictor = TabularPredictor.load(\"/content/drive/MyDrive/輪読/model/agModels_best/\")\n"
          ]
        }
      ]
    },
    {
      "cell_type": "markdown",
      "source": [
        "### 提出"
      ],
      "metadata": {
        "id": "CcaEhaTG6BJN"
      }
    },
    {
      "cell_type": "code",
      "source": [
        "df_sub = pd.read_csv('/content/drive/MyDrive/輪読/titanic/test.csv')\n",
        "sub = pd.read_csv('/content/drive/MyDrive/輪読/titanic/gender_submission.csv')"
      ],
      "metadata": {
        "id": "2zVaesjl57VA"
      },
      "execution_count": null,
      "outputs": []
    },
    {
      "cell_type": "code",
      "source": [
        "X_sub = df_sub.drop(drop_col, axis=1)"
      ],
      "metadata": {
        "id": "juog2hFh6DKI"
      },
      "execution_count": null,
      "outputs": []
    },
    {
      "cell_type": "code",
      "source": [
        "y_pred_sub = predictor.predict(X_sub)"
      ],
      "metadata": {
        "colab": {
          "base_uri": "https://localhost:8080/"
        },
        "id": "2RmkWunl6DQ0",
        "outputId": "1a322f34-18e1-4bf0-f301-eaf74eeacf30"
      },
      "execution_count": null,
      "outputs": [
        {
          "output_type": "stream",
          "name": "stderr",
          "text": [
            "Level 15:autogluon.core.utils.loaders.load_pkl:Loading: /content/drive/MyDrive/輪読/model/agModels_best/models/WeightedEnsemble_L3/model.pkl\n",
            "Level 15:autogluon.core.utils.loaders.load_pkl:Loading: /content/drive/MyDrive/輪読/model/agModels_best/models/CatBoost_BAG_L1/model.pkl\n",
            "Level 15:autogluon.core.utils.loaders.load_pkl:Loading: /content/drive/MyDrive/輪読/model/agModels_best/models/ExtraTreesEntr_BAG_L1/model.pkl\n",
            "Level 15:autogluon.core.utils.loaders.load_pkl:Loading: /content/drive/MyDrive/輪読/model/agModels_best/models/ExtraTreesGini_BAG_L1/model.pkl\n",
            "Level 15:autogluon.core.utils.loaders.load_pkl:Loading: /content/drive/MyDrive/輪読/model/agModels_best/models/KNeighborsDist_BAG_L1/model.pkl\n",
            "Level 15:autogluon.core.utils.loaders.load_pkl:Loading: /content/drive/MyDrive/輪読/model/agModels_best/models/KNeighborsUnif_BAG_L1/model.pkl\n",
            "Level 15:autogluon.core.utils.loaders.load_pkl:Loading: /content/drive/MyDrive/輪読/model/agModels_best/models/LightGBMLarge_BAG_L1/model.pkl\n",
            "Level 15:autogluon.core.utils.loaders.load_pkl:Loading: /content/drive/MyDrive/輪読/model/agModels_best/models/LightGBMXT_BAG_L1/model.pkl\n",
            "Level 15:autogluon.core.utils.loaders.load_pkl:Loading: /content/drive/MyDrive/輪読/model/agModels_best/models/LightGBM_BAG_L1/model.pkl\n",
            "Level 15:autogluon.core.utils.loaders.load_pkl:Loading: /content/drive/MyDrive/輪読/model/agModels_best/models/NeuralNetFastAI_BAG_L1/model.pkl\n",
            "Level 15:autogluon.core.utils.loaders.load_pkl:Loading: /content/drive/MyDrive/輪読/model/agModels_best/models/RandomForestEntr_BAG_L1/model.pkl\n",
            "Level 15:autogluon.core.utils.loaders.load_pkl:Loading: /content/drive/MyDrive/輪読/model/agModels_best/models/RandomForestGini_BAG_L1/model.pkl\n",
            "Level 15:autogluon.core.utils.loaders.load_pkl:Loading: /content/drive/MyDrive/輪読/model/agModels_best/models/XGBoost_BAG_L1/model.pkl\n",
            "Level 15:autogluon.core.utils.loaders.load_pkl:Loading: /content/drive/MyDrive/輪読/model/agModels_best/models/CatBoost_BAG_L2/model.pkl\n"
          ]
        }
      ]
    },
    {
      "cell_type": "code",
      "source": [
        "sub['Survived'] = y_pred_sub\n",
        "sub"
      ],
      "metadata": {
        "colab": {
          "base_uri": "https://localhost:8080/",
          "height": 419
        },
        "id": "s9HdYBtU6Kwo",
        "outputId": "093389d1-d241-48f1-8228-ae94a4e93b39"
      },
      "execution_count": null,
      "outputs": [
        {
          "output_type": "execute_result",
          "data": {
            "text/plain": [
              "     PassengerId  Survived\n",
              "0            892         0\n",
              "1            893         0\n",
              "2            894         0\n",
              "3            895         0\n",
              "4            896         0\n",
              "..           ...       ...\n",
              "413         1305         0\n",
              "414         1306         1\n",
              "415         1307         0\n",
              "416         1308         0\n",
              "417         1309         0\n",
              "\n",
              "[418 rows x 2 columns]"
            ],
            "text/html": [
              "\n",
              "  <div id=\"df-5ba0a437-ec0b-4e19-95e7-1cb776fddce0\">\n",
              "    <div class=\"colab-df-container\">\n",
              "      <div>\n",
              "<style scoped>\n",
              "    .dataframe tbody tr th:only-of-type {\n",
              "        vertical-align: middle;\n",
              "    }\n",
              "\n",
              "    .dataframe tbody tr th {\n",
              "        vertical-align: top;\n",
              "    }\n",
              "\n",
              "    .dataframe thead th {\n",
              "        text-align: right;\n",
              "    }\n",
              "</style>\n",
              "<table border=\"1\" class=\"dataframe\">\n",
              "  <thead>\n",
              "    <tr style=\"text-align: right;\">\n",
              "      <th></th>\n",
              "      <th>PassengerId</th>\n",
              "      <th>Survived</th>\n",
              "    </tr>\n",
              "  </thead>\n",
              "  <tbody>\n",
              "    <tr>\n",
              "      <th>0</th>\n",
              "      <td>892</td>\n",
              "      <td>0</td>\n",
              "    </tr>\n",
              "    <tr>\n",
              "      <th>1</th>\n",
              "      <td>893</td>\n",
              "      <td>0</td>\n",
              "    </tr>\n",
              "    <tr>\n",
              "      <th>2</th>\n",
              "      <td>894</td>\n",
              "      <td>0</td>\n",
              "    </tr>\n",
              "    <tr>\n",
              "      <th>3</th>\n",
              "      <td>895</td>\n",
              "      <td>0</td>\n",
              "    </tr>\n",
              "    <tr>\n",
              "      <th>4</th>\n",
              "      <td>896</td>\n",
              "      <td>0</td>\n",
              "    </tr>\n",
              "    <tr>\n",
              "      <th>...</th>\n",
              "      <td>...</td>\n",
              "      <td>...</td>\n",
              "    </tr>\n",
              "    <tr>\n",
              "      <th>413</th>\n",
              "      <td>1305</td>\n",
              "      <td>0</td>\n",
              "    </tr>\n",
              "    <tr>\n",
              "      <th>414</th>\n",
              "      <td>1306</td>\n",
              "      <td>1</td>\n",
              "    </tr>\n",
              "    <tr>\n",
              "      <th>415</th>\n",
              "      <td>1307</td>\n",
              "      <td>0</td>\n",
              "    </tr>\n",
              "    <tr>\n",
              "      <th>416</th>\n",
              "      <td>1308</td>\n",
              "      <td>0</td>\n",
              "    </tr>\n",
              "    <tr>\n",
              "      <th>417</th>\n",
              "      <td>1309</td>\n",
              "      <td>0</td>\n",
              "    </tr>\n",
              "  </tbody>\n",
              "</table>\n",
              "<p>418 rows × 2 columns</p>\n",
              "</div>\n",
              "      <button class=\"colab-df-convert\" onclick=\"convertToInteractive('df-5ba0a437-ec0b-4e19-95e7-1cb776fddce0')\"\n",
              "              title=\"Convert this dataframe to an interactive table.\"\n",
              "              style=\"display:none;\">\n",
              "        \n",
              "  <svg xmlns=\"http://www.w3.org/2000/svg\" height=\"24px\"viewBox=\"0 0 24 24\"\n",
              "       width=\"24px\">\n",
              "    <path d=\"M0 0h24v24H0V0z\" fill=\"none\"/>\n",
              "    <path d=\"M18.56 5.44l.94 2.06.94-2.06 2.06-.94-2.06-.94-.94-2.06-.94 2.06-2.06.94zm-11 1L8.5 8.5l.94-2.06 2.06-.94-2.06-.94L8.5 2.5l-.94 2.06-2.06.94zm10 10l.94 2.06.94-2.06 2.06-.94-2.06-.94-.94-2.06-.94 2.06-2.06.94z\"/><path d=\"M17.41 7.96l-1.37-1.37c-.4-.4-.92-.59-1.43-.59-.52 0-1.04.2-1.43.59L10.3 9.45l-7.72 7.72c-.78.78-.78 2.05 0 2.83L4 21.41c.39.39.9.59 1.41.59.51 0 1.02-.2 1.41-.59l7.78-7.78 2.81-2.81c.8-.78.8-2.07 0-2.86zM5.41 20L4 18.59l7.72-7.72 1.47 1.35L5.41 20z\"/>\n",
              "  </svg>\n",
              "      </button>\n",
              "      \n",
              "  <style>\n",
              "    .colab-df-container {\n",
              "      display:flex;\n",
              "      flex-wrap:wrap;\n",
              "      gap: 12px;\n",
              "    }\n",
              "\n",
              "    .colab-df-convert {\n",
              "      background-color: #E8F0FE;\n",
              "      border: none;\n",
              "      border-radius: 50%;\n",
              "      cursor: pointer;\n",
              "      display: none;\n",
              "      fill: #1967D2;\n",
              "      height: 32px;\n",
              "      padding: 0 0 0 0;\n",
              "      width: 32px;\n",
              "    }\n",
              "\n",
              "    .colab-df-convert:hover {\n",
              "      background-color: #E2EBFA;\n",
              "      box-shadow: 0px 1px 2px rgba(60, 64, 67, 0.3), 0px 1px 3px 1px rgba(60, 64, 67, 0.15);\n",
              "      fill: #174EA6;\n",
              "    }\n",
              "\n",
              "    [theme=dark] .colab-df-convert {\n",
              "      background-color: #3B4455;\n",
              "      fill: #D2E3FC;\n",
              "    }\n",
              "\n",
              "    [theme=dark] .colab-df-convert:hover {\n",
              "      background-color: #434B5C;\n",
              "      box-shadow: 0px 1px 3px 1px rgba(0, 0, 0, 0.15);\n",
              "      filter: drop-shadow(0px 1px 2px rgba(0, 0, 0, 0.3));\n",
              "      fill: #FFFFFF;\n",
              "    }\n",
              "  </style>\n",
              "\n",
              "      <script>\n",
              "        const buttonEl =\n",
              "          document.querySelector('#df-5ba0a437-ec0b-4e19-95e7-1cb776fddce0 button.colab-df-convert');\n",
              "        buttonEl.style.display =\n",
              "          google.colab.kernel.accessAllowed ? 'block' : 'none';\n",
              "\n",
              "        async function convertToInteractive(key) {\n",
              "          const element = document.querySelector('#df-5ba0a437-ec0b-4e19-95e7-1cb776fddce0');\n",
              "          const dataTable =\n",
              "            await google.colab.kernel.invokeFunction('convertToInteractive',\n",
              "                                                     [key], {});\n",
              "          if (!dataTable) return;\n",
              "\n",
              "          const docLinkHtml = 'Like what you see? Visit the ' +\n",
              "            '<a target=\"_blank\" href=https://colab.research.google.com/notebooks/data_table.ipynb>data table notebook</a>'\n",
              "            + ' to learn more about interactive tables.';\n",
              "          element.innerHTML = '';\n",
              "          dataTable['output_type'] = 'display_data';\n",
              "          await google.colab.output.renderOutput(dataTable, element);\n",
              "          const docLink = document.createElement('div');\n",
              "          docLink.innerHTML = docLinkHtml;\n",
              "          element.appendChild(docLink);\n",
              "        }\n",
              "      </script>\n",
              "    </div>\n",
              "  </div>\n",
              "  "
            ]
          },
          "metadata": {},
          "execution_count": 71
        }
      ]
    },
    {
      "cell_type": "code",
      "source": [
        "sub.to_csv('/content/drive/MyDrive/輪読/submit/submit_agModel_best.csv', index=False)"
      ],
      "metadata": {
        "id": "FtMXqQ6g6K7-"
      },
      "execution_count": null,
      "outputs": []
    },
    {
      "cell_type": "markdown",
      "source": [
        "LBでで0.77511"
      ],
      "metadata": {
        "id": "ZTTTW8hZ7s-K"
      }
    },
    {
      "cell_type": "code",
      "source": [],
      "metadata": {
        "id": "p2dUlB2x7EPX"
      },
      "execution_count": null,
      "outputs": []
    }
  ]
}